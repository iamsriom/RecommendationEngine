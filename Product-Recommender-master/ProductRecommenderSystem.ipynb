{
 "cells": [
  {
   "cell_type": "code",
   "execution_count": 417,
   "id": "50732f38",
   "metadata": {},
   "outputs": [],
   "source": [
    "import pandas as pd\n",
    "import numpy as np"
   ]
  },
  {
   "cell_type": "code",
   "execution_count": 418,
   "id": "a508c4b6",
   "metadata": {},
   "outputs": [],
   "source": [
    "%matplotlib inline\n",
    "import matplotlib.pyplot as plt\n",
    "import seaborn as sns\n",
    "from scipy import stats\n",
    "from ast import literal_eval\n",
    "from sklearn.feature_extraction.text import TfidfVectorizer, CountVectorizer\n",
    "from sklearn.metrics.pairwise import linear_kernel, cosine_similarity\n",
    "from nltk.stem.snowball import SnowballStemmer\n",
    "from nltk.stem.wordnet import WordNetLemmatizer\n",
    "from nltk.corpus import wordnet\n",
    "\n",
    "import warnings; warnings.simplefilter('ignore')"
   ]
  },
  {
   "cell_type": "code",
   "execution_count": 419,
   "id": "8e738f5a",
   "metadata": {},
   "outputs": [],
   "source": [
    "ordersExport = pd.read_csv('orders_export.csv')\n",
    "productsExport = pd.read_csv('products_export.csv')"
   ]
  },
  {
   "cell_type": "code",
   "execution_count": 420,
   "id": "62859bcd",
   "metadata": {},
   "outputs": [],
   "source": [
    "# Name(Customer Id), Lineitem quantity, Lineitem name, lineItem sku(product id)"
   ]
  },
  {
   "cell_type": "code",
   "execution_count": 421,
   "id": "93f9728c",
   "metadata": {},
   "outputs": [
    {
     "name": "stdout",
     "output_type": "stream",
     "text": [
      "(118, 4)\n"
     ]
    },
    {
     "data": {
      "text/html": [
       "<div>\n",
       "<style scoped>\n",
       "    .dataframe tbody tr th:only-of-type {\n",
       "        vertical-align: middle;\n",
       "    }\n",
       "\n",
       "    .dataframe tbody tr th {\n",
       "        vertical-align: top;\n",
       "    }\n",
       "\n",
       "    .dataframe thead th {\n",
       "        text-align: right;\n",
       "    }\n",
       "</style>\n",
       "<table border=\"1\" class=\"dataframe\">\n",
       "  <thead>\n",
       "    <tr style=\"text-align: right;\">\n",
       "      <th></th>\n",
       "      <th>Name</th>\n",
       "      <th>Lineitem quantity</th>\n",
       "      <th>Lineitem name</th>\n",
       "      <th>Lineitem sku</th>\n",
       "    </tr>\n",
       "  </thead>\n",
       "  <tbody>\n",
       "    <tr>\n",
       "      <th>0</th>\n",
       "      <td>#2891</td>\n",
       "      <td>1</td>\n",
       "      <td>Betwa Kurta - XL</td>\n",
       "      <td>HOD0011</td>\n",
       "    </tr>\n",
       "    <tr>\n",
       "      <th>1</th>\n",
       "      <td>#2891</td>\n",
       "      <td>1</td>\n",
       "      <td>Bhagirathi pants - XXL</td>\n",
       "      <td>HOD0444</td>\n",
       "    </tr>\n",
       "    <tr>\n",
       "      <th>2</th>\n",
       "      <td>#2891</td>\n",
       "      <td>1</td>\n",
       "      <td>Kosi Kurta - XL</td>\n",
       "      <td>HOD0005</td>\n",
       "    </tr>\n",
       "    <tr>\n",
       "      <th>3</th>\n",
       "      <td>#2892</td>\n",
       "      <td>1</td>\n",
       "      <td>Panzara kurta - XXL</td>\n",
       "      <td>HOD0126</td>\n",
       "    </tr>\n",
       "    <tr>\n",
       "      <th>4</th>\n",
       "      <td>#2893</td>\n",
       "      <td>1</td>\n",
       "      <td>Betwa Kurta - S</td>\n",
       "      <td>HOD0008</td>\n",
       "    </tr>\n",
       "  </tbody>\n",
       "</table>\n",
       "</div>"
      ],
      "text/plain": [
       "    Name  Lineitem quantity           Lineitem name Lineitem sku\n",
       "0  #2891                  1        Betwa Kurta - XL      HOD0011\n",
       "1  #2891                  1  Bhagirathi pants - XXL      HOD0444\n",
       "2  #2891                  1         Kosi Kurta - XL      HOD0005\n",
       "3  #2892                  1     Panzara kurta - XXL      HOD0126\n",
       "4  #2893                  1         Betwa Kurta - S      HOD0008"
      ]
     },
     "execution_count": 421,
     "metadata": {},
     "output_type": "execute_result"
    }
   ],
   "source": [
    "df_order = ordersExport[['Name', 'Lineitem quantity', 'Lineitem name', 'Lineitem sku']]\n",
    "print(df_order.shape)\n",
    "df_order.head()"
   ]
  },
  {
   "cell_type": "code",
   "execution_count": 422,
   "id": "bdae1821",
   "metadata": {},
   "outputs": [],
   "source": [
    "#Handle, Title, Body (HTML), Custom Product Type, Tags, Variant SKU, SEO Title"
   ]
  },
  {
   "cell_type": "code",
   "execution_count": 423,
   "id": "24c9ba49",
   "metadata": {},
   "outputs": [
    {
     "name": "stdout",
     "output_type": "stream",
     "text": [
      "(874, 5)\n"
     ]
    },
    {
     "data": {
      "text/html": [
       "<div>\n",
       "<style scoped>\n",
       "    .dataframe tbody tr th:only-of-type {\n",
       "        vertical-align: middle;\n",
       "    }\n",
       "\n",
       "    .dataframe tbody tr th {\n",
       "        vertical-align: top;\n",
       "    }\n",
       "\n",
       "    .dataframe thead th {\n",
       "        text-align: right;\n",
       "    }\n",
       "</style>\n",
       "<table border=\"1\" class=\"dataframe\">\n",
       "  <thead>\n",
       "    <tr style=\"text-align: right;\">\n",
       "      <th></th>\n",
       "      <th>Handle</th>\n",
       "      <th>Title</th>\n",
       "      <th>Custom Product Type</th>\n",
       "      <th>Tags</th>\n",
       "      <th>Variant SKU</th>\n",
       "    </tr>\n",
       "  </thead>\n",
       "  <tbody>\n",
       "    <tr>\n",
       "      <th>0</th>\n",
       "      <td>ishya-blockprinted-kurta-set</td>\n",
       "      <td>Ishya Blockprinted Kurta  (Set of 2)</td>\n",
       "      <td>Kurta Sets</td>\n",
       "      <td>Category_Kurta Sets, Category_Women, Collectio...</td>\n",
       "      <td>HOD0772</td>\n",
       "    </tr>\n",
       "    <tr>\n",
       "      <th>1</th>\n",
       "      <td>ishya-blockprinted-kurta-set</td>\n",
       "      <td>NaN</td>\n",
       "      <td>NaN</td>\n",
       "      <td>NaN</td>\n",
       "      <td>HOD0773</td>\n",
       "    </tr>\n",
       "    <tr>\n",
       "      <th>2</th>\n",
       "      <td>ishya-blockprinted-kurta-set</td>\n",
       "      <td>NaN</td>\n",
       "      <td>NaN</td>\n",
       "      <td>NaN</td>\n",
       "      <td>HOD0774</td>\n",
       "    </tr>\n",
       "    <tr>\n",
       "      <th>3</th>\n",
       "      <td>ishya-blockprinted-kurta-set</td>\n",
       "      <td>NaN</td>\n",
       "      <td>NaN</td>\n",
       "      <td>NaN</td>\n",
       "      <td>HOD0775</td>\n",
       "    </tr>\n",
       "    <tr>\n",
       "      <th>4</th>\n",
       "      <td>ishya-blockprinted-kurta-set</td>\n",
       "      <td>NaN</td>\n",
       "      <td>NaN</td>\n",
       "      <td>NaN</td>\n",
       "      <td>HOD0776</td>\n",
       "    </tr>\n",
       "  </tbody>\n",
       "</table>\n",
       "</div>"
      ],
      "text/plain": [
       "                         Handle                                 Title  \\\n",
       "0  ishya-blockprinted-kurta-set  Ishya Blockprinted Kurta  (Set of 2)   \n",
       "1  ishya-blockprinted-kurta-set                                   NaN   \n",
       "2  ishya-blockprinted-kurta-set                                   NaN   \n",
       "3  ishya-blockprinted-kurta-set                                   NaN   \n",
       "4  ishya-blockprinted-kurta-set                                   NaN   \n",
       "\n",
       "  Custom Product Type                                               Tags  \\\n",
       "0          Kurta Sets  Category_Kurta Sets, Category_Women, Collectio...   \n",
       "1                 NaN                                                NaN   \n",
       "2                 NaN                                                NaN   \n",
       "3                 NaN                                                NaN   \n",
       "4                 NaN                                                NaN   \n",
       "\n",
       "  Variant SKU  \n",
       "0     HOD0772  \n",
       "1     HOD0773  \n",
       "2     HOD0774  \n",
       "3     HOD0775  \n",
       "4     HOD0776  "
      ]
     },
     "execution_count": 423,
     "metadata": {},
     "output_type": "execute_result"
    }
   ],
   "source": [
    "df_product = productsExport[['Handle', 'Title', 'Custom Product Type', 'Tags', 'Variant SKU']]\n",
    "print(df_product.shape)\n",
    "df_product.head()"
   ]
  },
  {
   "cell_type": "code",
   "execution_count": 424,
   "id": "cb895c0c",
   "metadata": {},
   "outputs": [
    {
     "name": "stdout",
     "output_type": "stream",
     "text": [
      "(163, 5)\n"
     ]
    },
    {
     "data": {
      "text/html": [
       "<div>\n",
       "<style scoped>\n",
       "    .dataframe tbody tr th:only-of-type {\n",
       "        vertical-align: middle;\n",
       "    }\n",
       "\n",
       "    .dataframe tbody tr th {\n",
       "        vertical-align: top;\n",
       "    }\n",
       "\n",
       "    .dataframe thead th {\n",
       "        text-align: right;\n",
       "    }\n",
       "</style>\n",
       "<table border=\"1\" class=\"dataframe\">\n",
       "  <thead>\n",
       "    <tr style=\"text-align: right;\">\n",
       "      <th></th>\n",
       "      <th>Handle</th>\n",
       "      <th>Title</th>\n",
       "      <th>Custom Product Type</th>\n",
       "      <th>Tags</th>\n",
       "      <th>Variant SKU</th>\n",
       "    </tr>\n",
       "  </thead>\n",
       "  <tbody>\n",
       "    <tr>\n",
       "      <th>0</th>\n",
       "      <td>ishya-blockprinted-kurta-set</td>\n",
       "      <td>Ishya Blockprinted Kurta  (Set of 2)</td>\n",
       "      <td>Kurta Sets</td>\n",
       "      <td>Category_Kurta Sets, Category_Women, Collectio...</td>\n",
       "      <td>HOD0772</td>\n",
       "    </tr>\n",
       "    <tr>\n",
       "      <th>10</th>\n",
       "      <td>ahaana-blockprinted-kurta-set</td>\n",
       "      <td>Ahaana Blockprinted Kurta (Set of 2)</td>\n",
       "      <td>Kurta Sets</td>\n",
       "      <td>Category_Kurta Sets, Category_Women, Collectio...</td>\n",
       "      <td>HOD0766</td>\n",
       "    </tr>\n",
       "    <tr>\n",
       "      <th>21</th>\n",
       "      <td>seher-blockprinted-kurta-set</td>\n",
       "      <td>Seher Blockprinted Kurta (Set of 2)</td>\n",
       "      <td>Kurta Sets</td>\n",
       "      <td>Category_Kurta Sets, Category_Women, Collectio...</td>\n",
       "      <td>HOD0760</td>\n",
       "    </tr>\n",
       "    <tr>\n",
       "      <th>29</th>\n",
       "      <td>mihira-blockprinted-kurta-set</td>\n",
       "      <td>Mihira Blockprinted Kurta (Set of 3)</td>\n",
       "      <td>Kurta Sets</td>\n",
       "      <td>Category_Kurta Sets, Category_Women, Collectio...</td>\n",
       "      <td>HOD0754</td>\n",
       "    </tr>\n",
       "    <tr>\n",
       "      <th>41</th>\n",
       "      <td>bahar-blockprinted-kurta-set</td>\n",
       "      <td>Bahar Blockprinted Kurta (Set of 3)</td>\n",
       "      <td>Kurta Sets</td>\n",
       "      <td>Category_Kurta Sets, Category_Women, Collectio...</td>\n",
       "      <td>HOD0748</td>\n",
       "    </tr>\n",
       "    <tr>\n",
       "      <th>...</th>\n",
       "      <td>...</td>\n",
       "      <td>...</td>\n",
       "      <td>...</td>\n",
       "      <td>...</td>\n",
       "      <td>...</td>\n",
       "    </tr>\n",
       "    <tr>\n",
       "      <th>844</th>\n",
       "      <td>a-line-white-and-blue-kurta</td>\n",
       "      <td>Sutlej Kurta</td>\n",
       "      <td>Kurta</td>\n",
       "      <td>Category_Kurta, Category_Women, Collection_Nad...</td>\n",
       "      <td>HOD0025</td>\n",
       "    </tr>\n",
       "    <tr>\n",
       "      <th>850</th>\n",
       "      <td>long-straight-peach-and-white-kurta</td>\n",
       "      <td>Chenab Kurta</td>\n",
       "      <td>Kurta</td>\n",
       "      <td>Category_Kurta, Category_Women, Collection_Nad...</td>\n",
       "      <td>HOD0019</td>\n",
       "    </tr>\n",
       "    <tr>\n",
       "      <th>856</th>\n",
       "      <td>long-straight-white-kurta</td>\n",
       "      <td>Alaknanda Kurta</td>\n",
       "      <td>Kurta</td>\n",
       "      <td>Category_Kurta, Category_Women, Collection_Nad...</td>\n",
       "      <td>HOD0013</td>\n",
       "    </tr>\n",
       "    <tr>\n",
       "      <th>862</th>\n",
       "      <td>straight-blue-white-kurta</td>\n",
       "      <td>Betwa Kurta</td>\n",
       "      <td>Kurta</td>\n",
       "      <td>Category_Kurta, Category_Women, Collection_Nad...</td>\n",
       "      <td>HOD0007</td>\n",
       "    </tr>\n",
       "    <tr>\n",
       "      <th>868</th>\n",
       "      <td>peachful-desire</td>\n",
       "      <td>Kosi Kurta</td>\n",
       "      <td>Kurta</td>\n",
       "      <td>Category_Kurta, Category_Women, Collection_Nad...</td>\n",
       "      <td>HOD0001</td>\n",
       "    </tr>\n",
       "  </tbody>\n",
       "</table>\n",
       "<p>163 rows × 5 columns</p>\n",
       "</div>"
      ],
      "text/plain": [
       "                                  Handle  \\\n",
       "0           ishya-blockprinted-kurta-set   \n",
       "10         ahaana-blockprinted-kurta-set   \n",
       "21          seher-blockprinted-kurta-set   \n",
       "29         mihira-blockprinted-kurta-set   \n",
       "41          bahar-blockprinted-kurta-set   \n",
       "..                                   ...   \n",
       "844          a-line-white-and-blue-kurta   \n",
       "850  long-straight-peach-and-white-kurta   \n",
       "856            long-straight-white-kurta   \n",
       "862            straight-blue-white-kurta   \n",
       "868                      peachful-desire   \n",
       "\n",
       "                                    Title Custom Product Type  \\\n",
       "0    Ishya Blockprinted Kurta  (Set of 2)          Kurta Sets   \n",
       "10   Ahaana Blockprinted Kurta (Set of 2)          Kurta Sets   \n",
       "21    Seher Blockprinted Kurta (Set of 2)          Kurta Sets   \n",
       "29   Mihira Blockprinted Kurta (Set of 3)          Kurta Sets   \n",
       "41    Bahar Blockprinted Kurta (Set of 3)          Kurta Sets   \n",
       "..                                    ...                 ...   \n",
       "844                          Sutlej Kurta               Kurta   \n",
       "850                          Chenab Kurta               Kurta   \n",
       "856                       Alaknanda Kurta               Kurta   \n",
       "862                           Betwa Kurta               Kurta   \n",
       "868                            Kosi Kurta               Kurta   \n",
       "\n",
       "                                                  Tags Variant SKU  \n",
       "0    Category_Kurta Sets, Category_Women, Collectio...     HOD0772  \n",
       "10   Category_Kurta Sets, Category_Women, Collectio...     HOD0766  \n",
       "21   Category_Kurta Sets, Category_Women, Collectio...     HOD0760  \n",
       "29   Category_Kurta Sets, Category_Women, Collectio...     HOD0754  \n",
       "41   Category_Kurta Sets, Category_Women, Collectio...     HOD0748  \n",
       "..                                                 ...         ...  \n",
       "844  Category_Kurta, Category_Women, Collection_Nad...     HOD0025  \n",
       "850  Category_Kurta, Category_Women, Collection_Nad...     HOD0019  \n",
       "856  Category_Kurta, Category_Women, Collection_Nad...     HOD0013  \n",
       "862  Category_Kurta, Category_Women, Collection_Nad...     HOD0007  \n",
       "868  Category_Kurta, Category_Women, Collection_Nad...     HOD0001  \n",
       "\n",
       "[163 rows x 5 columns]"
      ]
     },
     "execution_count": 424,
     "metadata": {},
     "output_type": "execute_result"
    }
   ],
   "source": [
    "final_product = df_product[df_product['Tags'].isnull() == False]\n",
    "print(final_product.shape)\n",
    "final_product"
   ]
  },
  {
   "cell_type": "markdown",
   "id": "287bda17",
   "metadata": {},
   "source": [
    "## Cleaning Handle"
   ]
  },
  {
   "cell_type": "code",
   "execution_count": 425,
   "id": "46a60031",
   "metadata": {},
   "outputs": [
    {
     "data": {
      "text/plain": [
       "0             ishya-blockprinted-kurta-set\n",
       "10           ahaana-blockprinted-kurta-set\n",
       "21            seher-blockprinted-kurta-set\n",
       "29           mihira-blockprinted-kurta-set\n",
       "41            bahar-blockprinted-kurta-set\n",
       "                      ...                 \n",
       "844            a-line-white-and-blue-kurta\n",
       "850    long-straight-peach-and-white-kurta\n",
       "856              long-straight-white-kurta\n",
       "862              straight-blue-white-kurta\n",
       "868                        peachful-desire\n",
       "Name: Handle, Length: 163, dtype: object"
      ]
     },
     "execution_count": 425,
     "metadata": {},
     "output_type": "execute_result"
    }
   ],
   "source": [
    "final_product['Handle']"
   ]
  },
  {
   "cell_type": "code",
   "execution_count": 426,
   "id": "5acfa039",
   "metadata": {},
   "outputs": [
    {
     "data": {
      "text/plain": [
       "0      [i, s, h, y, a, , b, l, o, c, k, p, r, i, n, t...\n",
       "10     [a, h, a, a, n, a, , b, l, o, c, k, p, r, i, n...\n",
       "21     [s, e, h, e, r, , b, l, o, c, k, p, r, i, n, t...\n",
       "29     [m, i, h, i, r, a, , b, l, o, c, k, p, r, i, n...\n",
       "41     [b, a, h, a, r, , b, l, o, c, k, p, r, i, n, t...\n",
       "                             ...                        \n",
       "844    [a, , l, i, n, e, , w, h, i, t, e, , a, n, d, ...\n",
       "850    [l, o, n, g, , s, t, r, a, i, g, h, t, , p, e,...\n",
       "856    [l, o, n, g, , s, t, r, a, i, g, h, t, , w, h,...\n",
       "862    [s, t, r, a, i, g, h, t, , b, l, u, e, , w, h,...\n",
       "868         [p, e, a, c, h, f, u, l, , d, e, s, i, r, e]\n",
       "Name: Handle, Length: 163, dtype: object"
      ]
     },
     "execution_count": 426,
     "metadata": {},
     "output_type": "execute_result"
    }
   ],
   "source": [
    "final_product['Handle'] = final_product['Handle'].apply(lambda x: [str.lower(i.replace(\"-\", \"\")) for i in x])\n",
    "final_product['Handle']"
   ]
  },
  {
   "cell_type": "code",
   "execution_count": 427,
   "id": "81470f2b",
   "metadata": {},
   "outputs": [],
   "source": [
    "final_product['Handle'] = final_product['Handle'].apply(lambda x: ''.join(x))"
   ]
  },
  {
   "cell_type": "code",
   "execution_count": 428,
   "id": "828be23d",
   "metadata": {},
   "outputs": [
    {
     "data": {
      "text/plain": [
       "0           ishyablockprintedkurtaset\n",
       "10         ahaanablockprintedkurtaset\n",
       "21          seherblockprintedkurtaset\n",
       "29         mihirablockprintedkurtaset\n",
       "41          baharblockprintedkurtaset\n",
       "                    ...              \n",
       "844            alinewhiteandbluekurta\n",
       "850    longstraightpeachandwhitekurta\n",
       "856            longstraightwhitekurta\n",
       "862            straightbluewhitekurta\n",
       "868                    peachfuldesire\n",
       "Name: Handle, Length: 163, dtype: object"
      ]
     },
     "execution_count": 428,
     "metadata": {},
     "output_type": "execute_result"
    }
   ],
   "source": [
    "final_product['Handle']"
   ]
  },
  {
   "cell_type": "markdown",
   "id": "59051c56",
   "metadata": {},
   "source": [
    "## Cleaning Title"
   ]
  },
  {
   "cell_type": "code",
   "execution_count": 429,
   "id": "2c57cbe9",
   "metadata": {},
   "outputs": [
    {
     "data": {
      "text/plain": [
       "0      Ishya Blockprinted Kurta  (Set of 2)\n",
       "10     Ahaana Blockprinted Kurta (Set of 2)\n",
       "21      Seher Blockprinted Kurta (Set of 2)\n",
       "29     Mihira Blockprinted Kurta (Set of 3)\n",
       "41      Bahar Blockprinted Kurta (Set of 3)\n",
       "                       ...                 \n",
       "844                            Sutlej Kurta\n",
       "850                            Chenab Kurta\n",
       "856                         Alaknanda Kurta\n",
       "862                             Betwa Kurta\n",
       "868                              Kosi Kurta\n",
       "Name: Title, Length: 163, dtype: object"
      ]
     },
     "execution_count": 429,
     "metadata": {},
     "output_type": "execute_result"
    }
   ],
   "source": [
    "final_product['Title']"
   ]
  },
  {
   "cell_type": "code",
   "execution_count": 430,
   "id": "a7c3564c",
   "metadata": {
    "scrolled": true
   },
   "outputs": [
    {
     "data": {
      "text/plain": [
       "0      [i, s, h, y, a, , b, l, o, c, k, p, r, i, n, t...\n",
       "10     [a, h, a, a, n, a, , b, l, o, c, k, p, r, i, n...\n",
       "21     [s, e, h, e, r, , b, l, o, c, k, p, r, i, n, t...\n",
       "29     [m, i, h, i, r, a, , b, l, o, c, k, p, r, i, n...\n",
       "41     [b, a, h, a, r, , b, l, o, c, k, p, r, i, n, t...\n",
       "                             ...                        \n",
       "844                  [s, u, t, l, e, j, , k, u, r, t, a]\n",
       "850                  [c, h, e, n, a, b, , k, u, r, t, a]\n",
       "856         [a, l, a, k, n, a, n, d, a, , k, u, r, t, a]\n",
       "862                     [b, e, t, w, a, , k, u, r, t, a]\n",
       "868                        [k, o, s, i, , k, u, r, t, a]\n",
       "Name: Title, Length: 163, dtype: object"
      ]
     },
     "execution_count": 430,
     "metadata": {},
     "output_type": "execute_result"
    }
   ],
   "source": [
    "final_product['Title'] = final_product['Title'].apply(lambda x: [str.lower(i.replace(\" \", \"\")) for i in x])\n",
    "final_product['Title']"
   ]
  },
  {
   "cell_type": "code",
   "execution_count": 431,
   "id": "d422f95b",
   "metadata": {},
   "outputs": [],
   "source": [
    "final_product['Title'] = final_product['Title'].apply(lambda x: ''.join(x))\n",
    "# final_product['Title'] = final_product['Title'].apply(lambda x: [str.lower(i.replace(\"(setof2)\", \"\")) for i in x])\n",
    "# final_product['Title'] = final_product['Title'].apply(lambda x: [str.lower(i.replace(\"(setof3)\", \"\")) for i in x])\n",
    "# final_product['Title'] = final_product['Title'].apply(lambda x: ''.join(x))"
   ]
  },
  {
   "cell_type": "code",
   "execution_count": 432,
   "id": "67172717",
   "metadata": {},
   "outputs": [
    {
     "data": {
      "text/plain": [
       "0      ishyablockprintedkurta(setof2)\n",
       "10    ahaanablockprintedkurta(setof2)\n",
       "21     seherblockprintedkurta(setof2)\n",
       "29    mihirablockprintedkurta(setof3)\n",
       "41     baharblockprintedkurta(setof3)\n",
       "55      keyablockprintedkurta(setof3)\n",
       "70                         ektakaftan\n",
       "76                        barnakaftan\n",
       "82                   saukhayadakaftan\n",
       "88                       chesnakaftan\n",
       "Name: Title, dtype: object"
      ]
     },
     "execution_count": 432,
     "metadata": {},
     "output_type": "execute_result"
    }
   ],
   "source": [
    "final_product['Title'][0:10]"
   ]
  },
  {
   "cell_type": "markdown",
   "id": "585a96fc",
   "metadata": {},
   "source": [
    "## Custom Product Type Cleaning"
   ]
  },
  {
   "cell_type": "code",
   "execution_count": 433,
   "id": "fbedd13d",
   "metadata": {
    "scrolled": true
   },
   "outputs": [],
   "source": [
    "# final_product['Custom Product Type'] = final_product['Custom Product Type'].tolist()\n",
    "# final_product['Custom Product Type']"
   ]
  },
  {
   "cell_type": "code",
   "execution_count": 434,
   "id": "e45c1f5e",
   "metadata": {},
   "outputs": [],
   "source": [
    "# final_product['Custom Product Type'] = final_product['Custom Product Type'].apply(lambda x: [str.lower(i.replace(\" \", \"\")) for i in x])\n",
    "# final_product['Custom Product Type']"
   ]
  },
  {
   "cell_type": "code",
   "execution_count": 435,
   "id": "2d385e63",
   "metadata": {},
   "outputs": [],
   "source": [
    "# final_product['Custom Product Type'] = final_product['Custom Product Type'].apply(lambda x: ''.join(x))"
   ]
  },
  {
   "cell_type": "code",
   "execution_count": 436,
   "id": "e32487ae",
   "metadata": {},
   "outputs": [],
   "source": [
    "# final_product['Custom Product Type']"
   ]
  },
  {
   "cell_type": "code",
   "execution_count": null,
   "id": "c351b813",
   "metadata": {},
   "outputs": [],
   "source": []
  },
  {
   "cell_type": "markdown",
   "id": "a60f0e96",
   "metadata": {},
   "source": [
    "## Cleaning Tags "
   ]
  },
  {
   "cell_type": "code",
   "execution_count": 437,
   "id": "b08c392b",
   "metadata": {},
   "outputs": [
    {
     "data": {
      "text/plain": [
       "'Category_Kurta Sets, Category_Women, Collection_Rozana, kurta for Women, Neck Type_V Neck, Price_3K to 4K'"
      ]
     },
     "execution_count": 437,
     "metadata": {},
     "output_type": "execute_result"
    }
   ],
   "source": [
    "final_product['Tags'][0]"
   ]
  },
  {
   "cell_type": "code",
   "execution_count": 438,
   "id": "204aba4a",
   "metadata": {
    "scrolled": true
   },
   "outputs": [],
   "source": [
    "final_product['Tags'] = final_product['Tags'].apply(lambda x: [str.lower(i.replace(\"_\", \"\")) for i in x])\n",
    "final_product['Tags'] = final_product['Tags'].apply(lambda x: [str.lower(i.replace(\" \", \"\")) for i in x])"
   ]
  },
  {
   "cell_type": "code",
   "execution_count": 439,
   "id": "053e68f5",
   "metadata": {
    "scrolled": false
   },
   "outputs": [
    {
     "data": {
      "text/plain": [
       "0      [c, a, t, e, g, o, r, y, , k, u, r, t, a, , s,...\n",
       "10     [c, a, t, e, g, o, r, y, , k, u, r, t, a, , s,...\n",
       "21     [c, a, t, e, g, o, r, y, , k, u, r, t, a, , s,...\n",
       "29     [c, a, t, e, g, o, r, y, , k, u, r, t, a, , s,...\n",
       "41     [c, a, t, e, g, o, r, y, , k, u, r, t, a, , s,...\n",
       "                             ...                        \n",
       "844    [c, a, t, e, g, o, r, y, , k, u, r, t, a, ,, ,...\n",
       "850    [c, a, t, e, g, o, r, y, , k, u, r, t, a, ,, ,...\n",
       "856    [c, a, t, e, g, o, r, y, , k, u, r, t, a, ,, ,...\n",
       "862    [c, a, t, e, g, o, r, y, , k, u, r, t, a, ,, ,...\n",
       "868    [c, a, t, e, g, o, r, y, , k, u, r, t, a, ,, ,...\n",
       "Name: Tags, Length: 163, dtype: object"
      ]
     },
     "execution_count": 439,
     "metadata": {},
     "output_type": "execute_result"
    }
   ],
   "source": [
    "final_product['Tags']"
   ]
  },
  {
   "cell_type": "code",
   "execution_count": 440,
   "id": "3ad02008",
   "metadata": {
    "scrolled": true
   },
   "outputs": [],
   "source": [
    "final_product['Tags'] = final_product['Tags'].apply(lambda x: ''.join(x))\n",
    "final_product['Tags'] = final_product['Tags'].apply(lambda x: [str.lower(i.replace(\",\", \" \")) for i in x])\n",
    "final_product['Tags'] = final_product['Tags'].apply(lambda x: ''.join(x))"
   ]
  },
  {
   "cell_type": "code",
   "execution_count": 441,
   "id": "e311ccb2",
   "metadata": {},
   "outputs": [
    {
     "data": {
      "text/plain": [
       "'categorykurtasets categorywomen collectionrozana kurtaforwomen necktypevneck price3kto4k'"
      ]
     },
     "execution_count": 441,
     "metadata": {},
     "output_type": "execute_result"
    }
   ],
   "source": [
    "final_product['Tags'][0]"
   ]
  },
  {
   "cell_type": "markdown",
   "id": "f3ac42fd",
   "metadata": {},
   "source": [
    "# Combining the attributes"
   ]
  },
  {
   "cell_type": "code",
   "execution_count": 442,
   "id": "be620e33",
   "metadata": {
    "scrolled": false
   },
   "outputs": [],
   "source": [
    "final_product['description'] = final_product['Handle'] + \" \" + final_product['Title'] + \" \" + final_product['Tags']\n",
    "final_product['description'] = final_product['description'].fillna('')"
   ]
  },
  {
   "cell_type": "code",
   "execution_count": 443,
   "id": "d5b7ec3c",
   "metadata": {},
   "outputs": [
    {
     "data": {
      "text/plain": [
       "'ishyablockprintedkurtaset ishyablockprintedkurta(setof2) categorykurtasets categorywomen collectionrozana kurtaforwomen necktypevneck price3kto4k'"
      ]
     },
     "execution_count": 443,
     "metadata": {},
     "output_type": "execute_result"
    }
   ],
   "source": [
    "final_product['description'][0]"
   ]
  },
  {
   "cell_type": "code",
   "execution_count": 444,
   "id": "d34d3d56",
   "metadata": {},
   "outputs": [
    {
     "data": {
      "text/plain": [
       "'ishyablockprintedkurtaset ishyablockprintedkurta(setof2) categorykurtasets categorywomen collectionrozana kurtaforwomen necktypevneck price3kto4k'"
      ]
     },
     "execution_count": 444,
     "metadata": {},
     "output_type": "execute_result"
    }
   ],
   "source": [
    "import re\n",
    "\n",
    "def clean_description(text):\n",
    "    text = re.sub(\"\\'\", \"\", text)\n",
    "#     text = re.sub(\"[^a-zA-Z]\",\" \",text)\n",
    "    text = ' '.join(text.split())\n",
    "    text = text.lower()\n",
    "    return text\n",
    "\n",
    "final_product['clean_description'] = final_product['description'].apply(lambda x: clean_description(x))\n",
    "final_product['clean_description'][0]"
   ]
  },
  {
   "cell_type": "code",
   "execution_count": 450,
   "id": "4db5bd6d",
   "metadata": {},
   "outputs": [
    {
     "data": {
      "text/html": [
       "<div>\n",
       "<style scoped>\n",
       "    .dataframe tbody tr th:only-of-type {\n",
       "        vertical-align: middle;\n",
       "    }\n",
       "\n",
       "    .dataframe tbody tr th {\n",
       "        vertical-align: top;\n",
       "    }\n",
       "\n",
       "    .dataframe thead th {\n",
       "        text-align: right;\n",
       "    }\n",
       "</style>\n",
       "<table border=\"1\" class=\"dataframe\">\n",
       "  <thead>\n",
       "    <tr style=\"text-align: right;\">\n",
       "      <th></th>\n",
       "      <th>Handle</th>\n",
       "      <th>Title</th>\n",
       "      <th>Custom Product Type</th>\n",
       "      <th>Tags</th>\n",
       "      <th>Variant SKU</th>\n",
       "      <th>description</th>\n",
       "      <th>clean_description</th>\n",
       "    </tr>\n",
       "  </thead>\n",
       "  <tbody>\n",
       "    <tr>\n",
       "      <th>0</th>\n",
       "      <td>ishyablockprintedkurtaset</td>\n",
       "      <td>ishyablockprintedkurta(setof2)</td>\n",
       "      <td>Kurta Sets</td>\n",
       "      <td>categorykurtasets categorywomen collectionroza...</td>\n",
       "      <td>HOD0772</td>\n",
       "      <td>ishyablockprintedkurtaset ishyablockprintedkur...</td>\n",
       "      <td>ishyablockprintedkurtaset ishyablockprintedkur...</td>\n",
       "    </tr>\n",
       "    <tr>\n",
       "      <th>10</th>\n",
       "      <td>ahaanablockprintedkurtaset</td>\n",
       "      <td>ahaanablockprintedkurta(setof2)</td>\n",
       "      <td>Kurta Sets</td>\n",
       "      <td>categorykurtasets categorywomen collectionroza...</td>\n",
       "      <td>HOD0766</td>\n",
       "      <td>ahaanablockprintedkurtaset ahaanablockprintedk...</td>\n",
       "      <td>ahaanablockprintedkurtaset ahaanablockprintedk...</td>\n",
       "    </tr>\n",
       "    <tr>\n",
       "      <th>21</th>\n",
       "      <td>seherblockprintedkurtaset</td>\n",
       "      <td>seherblockprintedkurta(setof2)</td>\n",
       "      <td>Kurta Sets</td>\n",
       "      <td>categorykurtasets categorywomen collectionroza...</td>\n",
       "      <td>HOD0760</td>\n",
       "      <td>seherblockprintedkurtaset seherblockprintedkur...</td>\n",
       "      <td>seherblockprintedkurtaset seherblockprintedkur...</td>\n",
       "    </tr>\n",
       "    <tr>\n",
       "      <th>29</th>\n",
       "      <td>mihirablockprintedkurtaset</td>\n",
       "      <td>mihirablockprintedkurta(setof3)</td>\n",
       "      <td>Kurta Sets</td>\n",
       "      <td>categorykurtasets categorywomen collectionroza...</td>\n",
       "      <td>HOD0754</td>\n",
       "      <td>mihirablockprintedkurtaset mihirablockprintedk...</td>\n",
       "      <td>mihirablockprintedkurtaset mihirablockprintedk...</td>\n",
       "    </tr>\n",
       "    <tr>\n",
       "      <th>41</th>\n",
       "      <td>baharblockprintedkurtaset</td>\n",
       "      <td>baharblockprintedkurta(setof3)</td>\n",
       "      <td>Kurta Sets</td>\n",
       "      <td>categorykurtasets categorywomen collectionroza...</td>\n",
       "      <td>HOD0748</td>\n",
       "      <td>baharblockprintedkurtaset baharblockprintedkur...</td>\n",
       "      <td>baharblockprintedkurtaset baharblockprintedkur...</td>\n",
       "    </tr>\n",
       "  </tbody>\n",
       "</table>\n",
       "</div>"
      ],
      "text/plain": [
       "                        Handle                            Title  \\\n",
       "0    ishyablockprintedkurtaset   ishyablockprintedkurta(setof2)   \n",
       "10  ahaanablockprintedkurtaset  ahaanablockprintedkurta(setof2)   \n",
       "21   seherblockprintedkurtaset   seherblockprintedkurta(setof2)   \n",
       "29  mihirablockprintedkurtaset  mihirablockprintedkurta(setof3)   \n",
       "41   baharblockprintedkurtaset   baharblockprintedkurta(setof3)   \n",
       "\n",
       "   Custom Product Type                                               Tags  \\\n",
       "0           Kurta Sets  categorykurtasets categorywomen collectionroza...   \n",
       "10          Kurta Sets  categorykurtasets categorywomen collectionroza...   \n",
       "21          Kurta Sets  categorykurtasets categorywomen collectionroza...   \n",
       "29          Kurta Sets  categorykurtasets categorywomen collectionroza...   \n",
       "41          Kurta Sets  categorykurtasets categorywomen collectionroza...   \n",
       "\n",
       "   Variant SKU                                        description  \\\n",
       "0      HOD0772  ishyablockprintedkurtaset ishyablockprintedkur...   \n",
       "10     HOD0766  ahaanablockprintedkurtaset ahaanablockprintedk...   \n",
       "21     HOD0760  seherblockprintedkurtaset seherblockprintedkur...   \n",
       "29     HOD0754  mihirablockprintedkurtaset mihirablockprintedk...   \n",
       "41     HOD0748  baharblockprintedkurtaset baharblockprintedkur...   \n",
       "\n",
       "                                    clean_description  \n",
       "0   ishyablockprintedkurtaset ishyablockprintedkur...  \n",
       "10  ahaanablockprintedkurtaset ahaanablockprintedk...  \n",
       "21  seherblockprintedkurtaset seherblockprintedkur...  \n",
       "29  mihirablockprintedkurtaset mihirablockprintedk...  \n",
       "41  baharblockprintedkurtaset baharblockprintedkur...  "
      ]
     },
     "execution_count": 450,
     "metadata": {},
     "output_type": "execute_result"
    }
   ],
   "source": [
    "final_product.head()"
   ]
  },
  {
   "cell_type": "code",
   "execution_count": 446,
   "id": "5459661d",
   "metadata": {},
   "outputs": [],
   "source": [
    "count = CountVectorizer(analyzer='word',ngram_range=(1, 2),min_df=0, stop_words='english')\n",
    "count_matrix = count.fit_transform(final_product['description'])"
   ]
  },
  {
   "cell_type": "code",
   "execution_count": 447,
   "id": "caad8e41",
   "metadata": {},
   "outputs": [],
   "source": [
    "cosine_sim = cosine_similarity(count_matrix, count_matrix)"
   ]
  },
  {
   "cell_type": "code",
   "execution_count": 448,
   "id": "566eb262",
   "metadata": {},
   "outputs": [
    {
     "data": {
      "text/plain": [
       "array([1.        , 0.76470588, 0.76470588, 0.64705882, 0.64705882,\n",
       "       0.64705882, 0.10114435, 0.10114435, 0.10114435, 0.10114435,\n",
       "       0.10114435, 0.10114435, 0.        , 0.        , 0.        ,\n",
       "       0.        , 0.        , 0.        , 0.        , 0.        ,\n",
       "       0.        , 0.10114435, 0.10114435, 0.10114435, 0.10114435,\n",
       "       0.10114435, 0.        , 0.        , 0.        , 0.        ,\n",
       "       0.        , 0.        , 0.        , 0.        , 0.        ,\n",
       "       0.        , 0.        , 0.        , 0.        , 0.        ,\n",
       "       0.        , 0.        , 0.        , 0.        , 0.        ,\n",
       "       0.        , 0.        , 0.        , 0.        , 0.        ,\n",
       "       0.        , 0.        , 0.        , 0.        , 0.05292561,\n",
       "       0.05292561, 0.10585122, 0.11128298, 0.09701425, 0.10114435,\n",
       "       0.10114435, 0.10585122, 0.10114435, 0.11764706, 0.05292561,\n",
       "       0.05292561, 0.05292561, 0.05292561, 0.05057217, 0.05564149,\n",
       "       0.05057217, 0.05564149, 0.05564149, 0.05057217, 0.05292561,\n",
       "       0.05292561, 0.11128298, 0.05292561, 0.05564149, 0.05564149,\n",
       "       0.05564149, 0.05292561, 0.05292561, 0.05882353, 0.05564149,\n",
       "       0.05564149, 0.05057217, 0.05882353, 0.05564149, 0.10585122,\n",
       "       0.06262243, 0.05882353, 0.05882353, 0.10585122, 0.05564149,\n",
       "       0.05292561, 0.10114435, 0.05292561, 0.05564149, 0.05292561,\n",
       "       0.05292561, 0.05564149, 0.05564149, 0.05882353, 0.05564149,\n",
       "       0.05564149, 0.05292561, 0.05564149, 0.05564149, 0.05292561,\n",
       "       0.05564149, 0.05057217, 0.05292561, 0.05057217, 0.05292561,\n",
       "       0.05564149, 0.05882353, 0.05564149, 0.04850713, 0.05057217,\n",
       "       0.05057217, 0.05564149, 0.05882353, 0.05057217, 0.05564149,\n",
       "       0.05292561, 0.05057217, 0.10585122, 0.05564149, 0.10114435,\n",
       "       0.05564149, 0.10114435, 0.05564149, 0.05292561, 0.05564149,\n",
       "       0.05882353, 0.05292561, 0.05057217, 0.05882353, 0.05292561,\n",
       "       0.05564149, 0.05564149, 0.05564149, 0.05564149, 0.05564149,\n",
       "       0.05564149, 0.11128298, 0.05292561, 0.10585122, 0.05564149,\n",
       "       0.11128298, 0.10585122, 0.11764706, 0.11128298, 0.05292561,\n",
       "       0.05292561, 0.05564149, 0.05564149, 0.05564149, 0.05292561,\n",
       "       0.05564149, 0.05292561, 0.05564149])"
      ]
     },
     "execution_count": 448,
     "metadata": {},
     "output_type": "execute_result"
    }
   ],
   "source": [
    "cosine_sim[0]"
   ]
  },
  {
   "cell_type": "code",
   "execution_count": 451,
   "id": "0cbec19d",
   "metadata": {},
   "outputs": [],
   "source": [
    "final_product = final_product.reset_index()"
   ]
  },
  {
   "cell_type": "code",
   "execution_count": 452,
   "id": "661c0ad0",
   "metadata": {},
   "outputs": [
    {
     "data": {
      "text/html": [
       "<div>\n",
       "<style scoped>\n",
       "    .dataframe tbody tr th:only-of-type {\n",
       "        vertical-align: middle;\n",
       "    }\n",
       "\n",
       "    .dataframe tbody tr th {\n",
       "        vertical-align: top;\n",
       "    }\n",
       "\n",
       "    .dataframe thead th {\n",
       "        text-align: right;\n",
       "    }\n",
       "</style>\n",
       "<table border=\"1\" class=\"dataframe\">\n",
       "  <thead>\n",
       "    <tr style=\"text-align: right;\">\n",
       "      <th></th>\n",
       "      <th>index</th>\n",
       "      <th>Handle</th>\n",
       "      <th>Title</th>\n",
       "      <th>Custom Product Type</th>\n",
       "      <th>Tags</th>\n",
       "      <th>Variant SKU</th>\n",
       "      <th>description</th>\n",
       "      <th>clean_description</th>\n",
       "    </tr>\n",
       "  </thead>\n",
       "  <tbody>\n",
       "    <tr>\n",
       "      <th>0</th>\n",
       "      <td>0</td>\n",
       "      <td>ishyablockprintedkurtaset</td>\n",
       "      <td>ishyablockprintedkurta(setof2)</td>\n",
       "      <td>Kurta Sets</td>\n",
       "      <td>categorykurtasets categorywomen collectionroza...</td>\n",
       "      <td>HOD0772</td>\n",
       "      <td>ishyablockprintedkurtaset ishyablockprintedkur...</td>\n",
       "      <td>ishyablockprintedkurtaset ishyablockprintedkur...</td>\n",
       "    </tr>\n",
       "    <tr>\n",
       "      <th>1</th>\n",
       "      <td>10</td>\n",
       "      <td>ahaanablockprintedkurtaset</td>\n",
       "      <td>ahaanablockprintedkurta(setof2)</td>\n",
       "      <td>Kurta Sets</td>\n",
       "      <td>categorykurtasets categorywomen collectionroza...</td>\n",
       "      <td>HOD0766</td>\n",
       "      <td>ahaanablockprintedkurtaset ahaanablockprintedk...</td>\n",
       "      <td>ahaanablockprintedkurtaset ahaanablockprintedk...</td>\n",
       "    </tr>\n",
       "    <tr>\n",
       "      <th>2</th>\n",
       "      <td>21</td>\n",
       "      <td>seherblockprintedkurtaset</td>\n",
       "      <td>seherblockprintedkurta(setof2)</td>\n",
       "      <td>Kurta Sets</td>\n",
       "      <td>categorykurtasets categorywomen collectionroza...</td>\n",
       "      <td>HOD0760</td>\n",
       "      <td>seherblockprintedkurtaset seherblockprintedkur...</td>\n",
       "      <td>seherblockprintedkurtaset seherblockprintedkur...</td>\n",
       "    </tr>\n",
       "    <tr>\n",
       "      <th>3</th>\n",
       "      <td>29</td>\n",
       "      <td>mihirablockprintedkurtaset</td>\n",
       "      <td>mihirablockprintedkurta(setof3)</td>\n",
       "      <td>Kurta Sets</td>\n",
       "      <td>categorykurtasets categorywomen collectionroza...</td>\n",
       "      <td>HOD0754</td>\n",
       "      <td>mihirablockprintedkurtaset mihirablockprintedk...</td>\n",
       "      <td>mihirablockprintedkurtaset mihirablockprintedk...</td>\n",
       "    </tr>\n",
       "    <tr>\n",
       "      <th>4</th>\n",
       "      <td>41</td>\n",
       "      <td>baharblockprintedkurtaset</td>\n",
       "      <td>baharblockprintedkurta(setof3)</td>\n",
       "      <td>Kurta Sets</td>\n",
       "      <td>categorykurtasets categorywomen collectionroza...</td>\n",
       "      <td>HOD0748</td>\n",
       "      <td>baharblockprintedkurtaset baharblockprintedkur...</td>\n",
       "      <td>baharblockprintedkurtaset baharblockprintedkur...</td>\n",
       "    </tr>\n",
       "    <tr>\n",
       "      <th>...</th>\n",
       "      <td>...</td>\n",
       "      <td>...</td>\n",
       "      <td>...</td>\n",
       "      <td>...</td>\n",
       "      <td>...</td>\n",
       "      <td>...</td>\n",
       "      <td>...</td>\n",
       "      <td>...</td>\n",
       "    </tr>\n",
       "    <tr>\n",
       "      <th>158</th>\n",
       "      <td>844</td>\n",
       "      <td>alinewhiteandbluekurta</td>\n",
       "      <td>sutlejkurta</td>\n",
       "      <td>Kurta</td>\n",
       "      <td>categorykurta categorywomen collectionnadiyank...</td>\n",
       "      <td>HOD0025</td>\n",
       "      <td>alinewhiteandbluekurta sutlejkurta categorykur...</td>\n",
       "      <td>alinewhiteandbluekurta sutlejkurta categorykur...</td>\n",
       "    </tr>\n",
       "    <tr>\n",
       "      <th>159</th>\n",
       "      <td>850</td>\n",
       "      <td>longstraightpeachandwhitekurta</td>\n",
       "      <td>chenabkurta</td>\n",
       "      <td>Kurta</td>\n",
       "      <td>categorykurta categorywomen collectionnadiyank...</td>\n",
       "      <td>HOD0019</td>\n",
       "      <td>longstraightpeachandwhitekurta chenabkurta cat...</td>\n",
       "      <td>longstraightpeachandwhitekurta chenabkurta cat...</td>\n",
       "    </tr>\n",
       "    <tr>\n",
       "      <th>160</th>\n",
       "      <td>856</td>\n",
       "      <td>longstraightwhitekurta</td>\n",
       "      <td>alaknandakurta</td>\n",
       "      <td>Kurta</td>\n",
       "      <td>categorykurta categorywomen collectionnadiyank...</td>\n",
       "      <td>HOD0013</td>\n",
       "      <td>longstraightwhitekurta alaknandakurta category...</td>\n",
       "      <td>longstraightwhitekurta alaknandakurta category...</td>\n",
       "    </tr>\n",
       "    <tr>\n",
       "      <th>161</th>\n",
       "      <td>862</td>\n",
       "      <td>straightbluewhitekurta</td>\n",
       "      <td>betwakurta</td>\n",
       "      <td>Kurta</td>\n",
       "      <td>categorykurta categorywomen collectionnadiyank...</td>\n",
       "      <td>HOD0007</td>\n",
       "      <td>straightbluewhitekurta betwakurta categorykurt...</td>\n",
       "      <td>straightbluewhitekurta betwakurta categorykurt...</td>\n",
       "    </tr>\n",
       "    <tr>\n",
       "      <th>162</th>\n",
       "      <td>868</td>\n",
       "      <td>peachfuldesire</td>\n",
       "      <td>kosikurta</td>\n",
       "      <td>Kurta</td>\n",
       "      <td>categorykurta categorywomen collectionnadiyank...</td>\n",
       "      <td>HOD0001</td>\n",
       "      <td>peachfuldesire kosikurta categorykurta categor...</td>\n",
       "      <td>peachfuldesire kosikurta categorykurta categor...</td>\n",
       "    </tr>\n",
       "  </tbody>\n",
       "</table>\n",
       "<p>163 rows × 8 columns</p>\n",
       "</div>"
      ],
      "text/plain": [
       "     index                          Handle                            Title  \\\n",
       "0        0       ishyablockprintedkurtaset   ishyablockprintedkurta(setof2)   \n",
       "1       10      ahaanablockprintedkurtaset  ahaanablockprintedkurta(setof2)   \n",
       "2       21       seherblockprintedkurtaset   seherblockprintedkurta(setof2)   \n",
       "3       29      mihirablockprintedkurtaset  mihirablockprintedkurta(setof3)   \n",
       "4       41       baharblockprintedkurtaset   baharblockprintedkurta(setof3)   \n",
       "..     ...                             ...                              ...   \n",
       "158    844          alinewhiteandbluekurta                      sutlejkurta   \n",
       "159    850  longstraightpeachandwhitekurta                      chenabkurta   \n",
       "160    856          longstraightwhitekurta                   alaknandakurta   \n",
       "161    862          straightbluewhitekurta                       betwakurta   \n",
       "162    868                  peachfuldesire                        kosikurta   \n",
       "\n",
       "    Custom Product Type                                               Tags  \\\n",
       "0            Kurta Sets  categorykurtasets categorywomen collectionroza...   \n",
       "1            Kurta Sets  categorykurtasets categorywomen collectionroza...   \n",
       "2            Kurta Sets  categorykurtasets categorywomen collectionroza...   \n",
       "3            Kurta Sets  categorykurtasets categorywomen collectionroza...   \n",
       "4            Kurta Sets  categorykurtasets categorywomen collectionroza...   \n",
       "..                  ...                                                ...   \n",
       "158               Kurta  categorykurta categorywomen collectionnadiyank...   \n",
       "159               Kurta  categorykurta categorywomen collectionnadiyank...   \n",
       "160               Kurta  categorykurta categorywomen collectionnadiyank...   \n",
       "161               Kurta  categorykurta categorywomen collectionnadiyank...   \n",
       "162               Kurta  categorykurta categorywomen collectionnadiyank...   \n",
       "\n",
       "    Variant SKU                                        description  \\\n",
       "0       HOD0772  ishyablockprintedkurtaset ishyablockprintedkur...   \n",
       "1       HOD0766  ahaanablockprintedkurtaset ahaanablockprintedk...   \n",
       "2       HOD0760  seherblockprintedkurtaset seherblockprintedkur...   \n",
       "3       HOD0754  mihirablockprintedkurtaset mihirablockprintedk...   \n",
       "4       HOD0748  baharblockprintedkurtaset baharblockprintedkur...   \n",
       "..          ...                                                ...   \n",
       "158     HOD0025  alinewhiteandbluekurta sutlejkurta categorykur...   \n",
       "159     HOD0019  longstraightpeachandwhitekurta chenabkurta cat...   \n",
       "160     HOD0013  longstraightwhitekurta alaknandakurta category...   \n",
       "161     HOD0007  straightbluewhitekurta betwakurta categorykurt...   \n",
       "162     HOD0001  peachfuldesire kosikurta categorykurta categor...   \n",
       "\n",
       "                                     clean_description  \n",
       "0    ishyablockprintedkurtaset ishyablockprintedkur...  \n",
       "1    ahaanablockprintedkurtaset ahaanablockprintedk...  \n",
       "2    seherblockprintedkurtaset seherblockprintedkur...  \n",
       "3    mihirablockprintedkurtaset mihirablockprintedk...  \n",
       "4    baharblockprintedkurtaset baharblockprintedkur...  \n",
       "..                                                 ...  \n",
       "158  alinewhiteandbluekurta sutlejkurta categorykur...  \n",
       "159  longstraightpeachandwhitekurta chenabkurta cat...  \n",
       "160  longstraightwhitekurta alaknandakurta category...  \n",
       "161  straightbluewhitekurta betwakurta categorykurt...  \n",
       "162  peachfuldesire kosikurta categorykurta categor...  \n",
       "\n",
       "[163 rows x 8 columns]"
      ]
     },
     "execution_count": 452,
     "metadata": {},
     "output_type": "execute_result"
    }
   ],
   "source": [
    "final_product"
   ]
  },
  {
   "cell_type": "code",
   "execution_count": 462,
   "id": "8dd39c81",
   "metadata": {},
   "outputs": [
    {
     "data": {
      "text/plain": [
       "0      HOD0772\n",
       "1      HOD0766\n",
       "2      HOD0760\n",
       "3      HOD0754\n",
       "4      HOD0748\n",
       "        ...   \n",
       "158    HOD0025\n",
       "159    HOD0019\n",
       "160    HOD0013\n",
       "161    HOD0007\n",
       "162    HOD0001\n",
       "Name: Variant SKU, Length: 163, dtype: object"
      ]
     },
     "execution_count": 462,
     "metadata": {},
     "output_type": "execute_result"
    }
   ],
   "source": [
    "sku = final_product['Variant SKU']\n",
    "sku"
   ]
  },
  {
   "cell_type": "code",
   "execution_count": 455,
   "id": "22972c66",
   "metadata": {},
   "outputs": [
    {
     "data": {
      "text/plain": [
       "Title\n",
       "ishyablockprintedkurta(setof2)       0\n",
       "ahaanablockprintedkurta(setof2)      1\n",
       "seherblockprintedkurta(setof2)       2\n",
       "mihirablockprintedkurta(setof3)      3\n",
       "baharblockprintedkurta(setof3)       4\n",
       "                                  ... \n",
       "sutlejkurta                        158\n",
       "chenabkurta                        159\n",
       "alaknandakurta                     160\n",
       "betwakurta                         161\n",
       "kosikurta                          162\n",
       "Length: 163, dtype: int64"
      ]
     },
     "execution_count": 455,
     "metadata": {},
     "output_type": "execute_result"
    }
   ],
   "source": [
    "indices = pd.Series(final_product.index, index=final_product['Title'])\n",
    "indices"
   ]
  },
  {
   "cell_type": "code",
   "execution_count": 463,
   "id": "10f38cf8",
   "metadata": {},
   "outputs": [],
   "source": [
    "def get_recommendations(title):\n",
    "    idx = indices[title]\n",
    "    \n",
    "    #It will get the title with its index\n",
    "    sim_scores = list(enumerate(cosine_sim[idx]))\n",
    "    \n",
    "    sim_scores = sorted(sim_scores, key=lambda x: x[1], reverse=True)\n",
    "    sim_scores = sim_scores[1:6]\n",
    "    \n",
    "    # [2502, 7535, 4702, 889, 437]\n",
    "    product_indices = [i[0] for i in sim_scores]\n",
    "    \n",
    "    return sku.iloc[product_indices]"
   ]
  },
  {
   "cell_type": "code",
   "execution_count": 464,
   "id": "fb006833",
   "metadata": {},
   "outputs": [
    {
     "data": {
      "text/plain": [
       "1    HOD0766\n",
       "2    HOD0760\n",
       "3    HOD0754\n",
       "4    HOD0748\n",
       "5    HOD0742\n",
       "Name: Variant SKU, dtype: object"
      ]
     },
     "execution_count": 464,
     "metadata": {},
     "output_type": "execute_result"
    }
   ],
   "source": [
    "title_with_index = get_recommendations(\"ishyablockprintedkurta(setof2)\")\n",
    "title_with_index"
   ]
  },
  {
   "cell_type": "code",
   "execution_count": 481,
   "id": "0ebf0210",
   "metadata": {},
   "outputs": [
    {
     "data": {
      "text/plain": [
       "['HOD0001', 'HOD0181', 'HOD0013', 'HOD0145', 'HOD0049']"
      ]
     },
     "execution_count": 481,
     "metadata": {},
     "output_type": "execute_result"
    }
   ],
   "source": [
    "title_with_index = get_recommendations(\"chenabkurta\")\n",
    "skulist = title_with_index.tolist()\n",
    "skulist"
   ]
  },
  {
   "cell_type": "code",
   "execution_count": 482,
   "id": "a71410dd",
   "metadata": {},
   "outputs": [
    {
     "data": {
      "text/plain": [
       "[         Title\n",
       " 162  kosikurta,\n",
       "             Title\n",
       " 99  amravatikurta,\n",
       "               Title\n",
       " 160  alaknandakurta,\n",
       "             Title\n",
       " 126  manjirakurta,\n",
       "          Title\n",
       " 154  beaskurta]"
      ]
     },
     "execution_count": 482,
     "metadata": {},
     "output_type": "execute_result"
    }
   ],
   "source": [
    "titlelist = []\n",
    "for i in skulist:\n",
    "    titlefromsku = final_product[final_product['Variant SKU'] == i][['Title']]\n",
    "    titlelist.append(titlefromsku)\n",
    "titlelist"
   ]
  },
  {
   "cell_type": "code",
   "execution_count": null,
   "id": "8a7c5422",
   "metadata": {},
   "outputs": [],
   "source": []
  }
 ],
 "metadata": {
  "kernelspec": {
   "display_name": "Python 3 (ipykernel)",
   "language": "python",
   "name": "python3"
  },
  "language_info": {
   "codemirror_mode": {
    "name": "ipython",
    "version": 3
   },
   "file_extension": ".py",
   "mimetype": "text/x-python",
   "name": "python",
   "nbconvert_exporter": "python",
   "pygments_lexer": "ipython3",
   "version": "3.9.7"
  }
 },
 "nbformat": 4,
 "nbformat_minor": 5
}
