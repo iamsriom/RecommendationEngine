{
 "cells": [
  {
   "cell_type": "code",
   "execution_count": 128,
   "id": "3f7687c8",
   "metadata": {},
   "outputs": [],
   "source": [
    "#Dependencies\n",
    "import pandas as pd\n",
    "import numpy as np\n",
    "import itertools\n",
    "\n",
    "import logging, os\n",
    "\n",
    "logging.disable(logging.WARNING)\n",
    "os.environ[\"TF_CPP_MIN_LOG_LEVEL\"] = \"3\"\n",
    "\n",
    "import tensorflow as tf\n",
    "\n",
    "import matplotlib.pyplot as plt\n",
    "import plotly.express as px\n",
    "\n",
    "import time\n",
    "import tqdm\n",
    "\n",
    "\n",
    "ROOT_DIR = os.getcwd()\n",
    "DATA_DIR = os.path.join(ROOT_DIR, 'ml-1m/')\n",
    "STATE_SIZE = 10"
   ]
  },
  {
   "cell_type": "code",
   "execution_count": 129,
   "id": "28bce9aa",
   "metadata": {},
   "outputs": [],
   "source": [
    "# we will ignore pandas warning \n",
    "import warnings\n",
    "warnings.filterwarnings('ignore')"
   ]
  },
  {
   "cell_type": "code",
   "execution_count": 130,
   "id": "09846dce",
   "metadata": {},
   "outputs": [],
   "source": [
    "def generate_int_id(dataframe, id_col_name):\n",
    "    new_dataframe=dataframe.assign(\n",
    "        int_id_col_name=np.arange(len(dataframe))\n",
    "        ).reset_index(drop=True)\n",
    "    return new_dataframe.rename(columns={'int_id_col_name': id_col_name})"
   ]
  },
  {
   "cell_type": "code",
   "execution_count": 131,
   "id": "477d5958",
   "metadata": {},
   "outputs": [],
   "source": [
    "ordersExport = pd.read_csv('orders_export.csv')\n",
    "productsExport = pd.read_csv('products_export.csv')"
   ]
  },
  {
   "cell_type": "code",
   "execution_count": 132,
   "id": "f492bc0d",
   "metadata": {},
   "outputs": [
    {
     "name": "stdout",
     "output_type": "stream",
     "text": [
      "(118, 4)\n"
     ]
    },
    {
     "data": {
      "text/html": [
       "<div>\n",
       "<style scoped>\n",
       "    .dataframe tbody tr th:only-of-type {\n",
       "        vertical-align: middle;\n",
       "    }\n",
       "\n",
       "    .dataframe tbody tr th {\n",
       "        vertical-align: top;\n",
       "    }\n",
       "\n",
       "    .dataframe thead th {\n",
       "        text-align: right;\n",
       "    }\n",
       "</style>\n",
       "<table border=\"1\" class=\"dataframe\">\n",
       "  <thead>\n",
       "    <tr style=\"text-align: right;\">\n",
       "      <th></th>\n",
       "      <th>Name</th>\n",
       "      <th>Lineitem quantity</th>\n",
       "      <th>Lineitem name</th>\n",
       "      <th>Lineitem sku</th>\n",
       "    </tr>\n",
       "  </thead>\n",
       "  <tbody>\n",
       "    <tr>\n",
       "      <th>0</th>\n",
       "      <td>#2891</td>\n",
       "      <td>1</td>\n",
       "      <td>Betwa Kurta - XL</td>\n",
       "      <td>HOD0011</td>\n",
       "    </tr>\n",
       "    <tr>\n",
       "      <th>1</th>\n",
       "      <td>#2891</td>\n",
       "      <td>1</td>\n",
       "      <td>Bhagirathi pants - XXL</td>\n",
       "      <td>HOD0444</td>\n",
       "    </tr>\n",
       "    <tr>\n",
       "      <th>2</th>\n",
       "      <td>#2891</td>\n",
       "      <td>1</td>\n",
       "      <td>Kosi Kurta - XL</td>\n",
       "      <td>HOD0005</td>\n",
       "    </tr>\n",
       "    <tr>\n",
       "      <th>3</th>\n",
       "      <td>#2892</td>\n",
       "      <td>1</td>\n",
       "      <td>Panzara kurta - XXL</td>\n",
       "      <td>HOD0126</td>\n",
       "    </tr>\n",
       "    <tr>\n",
       "      <th>4</th>\n",
       "      <td>#2893</td>\n",
       "      <td>1</td>\n",
       "      <td>Betwa Kurta - S</td>\n",
       "      <td>HOD0008</td>\n",
       "    </tr>\n",
       "  </tbody>\n",
       "</table>\n",
       "</div>"
      ],
      "text/plain": [
       "    Name  Lineitem quantity           Lineitem name Lineitem sku\n",
       "0  #2891                  1        Betwa Kurta - XL      HOD0011\n",
       "1  #2891                  1  Bhagirathi pants - XXL      HOD0444\n",
       "2  #2891                  1         Kosi Kurta - XL      HOD0005\n",
       "3  #2892                  1     Panzara kurta - XXL      HOD0126\n",
       "4  #2893                  1         Betwa Kurta - S      HOD0008"
      ]
     },
     "execution_count": 132,
     "metadata": {},
     "output_type": "execute_result"
    }
   ],
   "source": [
    "df_order = ordersExport[['Name', 'Lineitem quantity', 'Lineitem name', 'Lineitem sku']]\n",
    "print(df_order.shape)\n",
    "df_order.head()"
   ]
  },
  {
   "cell_type": "code",
   "execution_count": 133,
   "id": "901286fc",
   "metadata": {},
   "outputs": [
    {
     "name": "stdout",
     "output_type": "stream",
     "text": [
      "(134, 49)\n"
     ]
    },
    {
     "data": {
      "text/html": [
       "<div>\n",
       "<style scoped>\n",
       "    .dataframe tbody tr th:only-of-type {\n",
       "        vertical-align: middle;\n",
       "    }\n",
       "\n",
       "    .dataframe tbody tr th {\n",
       "        vertical-align: top;\n",
       "    }\n",
       "\n",
       "    .dataframe thead th {\n",
       "        text-align: right;\n",
       "    }\n",
       "</style>\n",
       "<table border=\"1\" class=\"dataframe\">\n",
       "  <thead>\n",
       "    <tr style=\"text-align: right;\">\n",
       "      <th></th>\n",
       "      <th>Handle</th>\n",
       "      <th>Title</th>\n",
       "      <th>Body (HTML)</th>\n",
       "      <th>Vendor</th>\n",
       "      <th>Standardized Product Type</th>\n",
       "      <th>Custom Product Type</th>\n",
       "      <th>Tags</th>\n",
       "      <th>Published</th>\n",
       "      <th>Option1 Name</th>\n",
       "      <th>Option1 Value</th>\n",
       "      <th>...</th>\n",
       "      <th>Google Shopping / Custom Label 0</th>\n",
       "      <th>Google Shopping / Custom Label 1</th>\n",
       "      <th>Google Shopping / Custom Label 2</th>\n",
       "      <th>Google Shopping / Custom Label 3</th>\n",
       "      <th>Google Shopping / Custom Label 4</th>\n",
       "      <th>Variant Image</th>\n",
       "      <th>Variant Weight Unit</th>\n",
       "      <th>Variant Tax Code</th>\n",
       "      <th>Cost per item</th>\n",
       "      <th>Status</th>\n",
       "    </tr>\n",
       "  </thead>\n",
       "  <tbody>\n",
       "    <tr>\n",
       "      <th>0</th>\n",
       "      <td>ishya-blockprinted-kurta-set</td>\n",
       "      <td>Ishya Blockprinted Kurta  (Set of 2)</td>\n",
       "      <td>&lt;p data-mce-fragment=\"1\"&gt;&lt;strong data-mce-frag...</td>\n",
       "      <td>House Of Dhaaga</td>\n",
       "      <td>NaN</td>\n",
       "      <td>Kurta Sets</td>\n",
       "      <td>Category_Kurta Sets, Category_Women, Collectio...</td>\n",
       "      <td>True</td>\n",
       "      <td>Size</td>\n",
       "      <td>XS</td>\n",
       "      <td>...</td>\n",
       "      <td>NaN</td>\n",
       "      <td>NaN</td>\n",
       "      <td>NaN</td>\n",
       "      <td>NaN</td>\n",
       "      <td>NaN</td>\n",
       "      <td>NaN</td>\n",
       "      <td>kg</td>\n",
       "      <td>NaN</td>\n",
       "      <td>NaN</td>\n",
       "      <td>active</td>\n",
       "    </tr>\n",
       "    <tr>\n",
       "      <th>10</th>\n",
       "      <td>ahaana-blockprinted-kurta-set</td>\n",
       "      <td>Ahaana Blockprinted Kurta (Set of 2)</td>\n",
       "      <td>&lt;p data-mce-fragment=\"1\"&gt;&lt;strong data-mce-frag...</td>\n",
       "      <td>House Of Dhaaga</td>\n",
       "      <td>NaN</td>\n",
       "      <td>Kurta Sets</td>\n",
       "      <td>Category_Kurta Sets, Category_Women, Collectio...</td>\n",
       "      <td>True</td>\n",
       "      <td>Size</td>\n",
       "      <td>XS</td>\n",
       "      <td>...</td>\n",
       "      <td>NaN</td>\n",
       "      <td>NaN</td>\n",
       "      <td>NaN</td>\n",
       "      <td>NaN</td>\n",
       "      <td>NaN</td>\n",
       "      <td>NaN</td>\n",
       "      <td>kg</td>\n",
       "      <td>NaN</td>\n",
       "      <td>NaN</td>\n",
       "      <td>active</td>\n",
       "    </tr>\n",
       "  </tbody>\n",
       "</table>\n",
       "<p>2 rows × 49 columns</p>\n",
       "</div>"
      ],
      "text/plain": [
       "                           Handle                                 Title  \\\n",
       "0    ishya-blockprinted-kurta-set  Ishya Blockprinted Kurta  (Set of 2)   \n",
       "10  ahaana-blockprinted-kurta-set  Ahaana Blockprinted Kurta (Set of 2)   \n",
       "\n",
       "                                          Body (HTML)           Vendor  \\\n",
       "0   <p data-mce-fragment=\"1\"><strong data-mce-frag...  House Of Dhaaga   \n",
       "10  <p data-mce-fragment=\"1\"><strong data-mce-frag...  House Of Dhaaga   \n",
       "\n",
       "   Standardized Product Type Custom Product Type  \\\n",
       "0                        NaN          Kurta Sets   \n",
       "10                       NaN          Kurta Sets   \n",
       "\n",
       "                                                 Tags Published Option1 Name  \\\n",
       "0   Category_Kurta Sets, Category_Women, Collectio...      True         Size   \n",
       "10  Category_Kurta Sets, Category_Women, Collectio...      True         Size   \n",
       "\n",
       "   Option1 Value  ...  Google Shopping / Custom Label 0  \\\n",
       "0             XS  ...                               NaN   \n",
       "10            XS  ...                               NaN   \n",
       "\n",
       "    Google Shopping / Custom Label 1  Google Shopping / Custom Label 2  \\\n",
       "0                                NaN                               NaN   \n",
       "10                               NaN                               NaN   \n",
       "\n",
       "    Google Shopping / Custom Label 3 Google Shopping / Custom Label 4  \\\n",
       "0                                NaN                              NaN   \n",
       "10                               NaN                              NaN   \n",
       "\n",
       "    Variant Image Variant Weight Unit  Variant Tax Code Cost per item  Status  \n",
       "0             NaN                  kg               NaN           NaN  active  \n",
       "10            NaN                  kg               NaN           NaN  active  \n",
       "\n",
       "[2 rows x 49 columns]"
      ]
     },
     "execution_count": 133,
     "metadata": {},
     "output_type": "execute_result"
    }
   ],
   "source": [
    "productsExport = productsExport[productsExport['Tags'].isnull() == False]\n",
    "productsExport = productsExport[productsExport['Published'] == True]\n",
    "print(productsExport.shape)\n",
    "productsExport.head(2)"
   ]
  },
  {
   "cell_type": "code",
   "execution_count": 134,
   "id": "19a209fe",
   "metadata": {},
   "outputs": [
    {
     "name": "stdout",
     "output_type": "stream",
     "text": [
      "(134, 4)\n"
     ]
    },
    {
     "data": {
      "text/html": [
       "<div>\n",
       "<style scoped>\n",
       "    .dataframe tbody tr th:only-of-type {\n",
       "        vertical-align: middle;\n",
       "    }\n",
       "\n",
       "    .dataframe tbody tr th {\n",
       "        vertical-align: top;\n",
       "    }\n",
       "\n",
       "    .dataframe thead th {\n",
       "        text-align: right;\n",
       "    }\n",
       "</style>\n",
       "<table border=\"1\" class=\"dataframe\">\n",
       "  <thead>\n",
       "    <tr style=\"text-align: right;\">\n",
       "      <th></th>\n",
       "      <th>Handle</th>\n",
       "      <th>Title</th>\n",
       "      <th>Tags</th>\n",
       "      <th>Variant SKU</th>\n",
       "    </tr>\n",
       "  </thead>\n",
       "  <tbody>\n",
       "    <tr>\n",
       "      <th>0</th>\n",
       "      <td>ishya-blockprinted-kurta-set</td>\n",
       "      <td>Ishya Blockprinted Kurta  (Set of 2)</td>\n",
       "      <td>Category_Kurta Sets, Category_Women, Collectio...</td>\n",
       "      <td>HOD0772</td>\n",
       "    </tr>\n",
       "    <tr>\n",
       "      <th>10</th>\n",
       "      <td>ahaana-blockprinted-kurta-set</td>\n",
       "      <td>Ahaana Blockprinted Kurta (Set of 2)</td>\n",
       "      <td>Category_Kurta Sets, Category_Women, Collectio...</td>\n",
       "      <td>HOD0766</td>\n",
       "    </tr>\n",
       "    <tr>\n",
       "      <th>21</th>\n",
       "      <td>seher-blockprinted-kurta-set</td>\n",
       "      <td>Seher Blockprinted Kurta (Set of 2)</td>\n",
       "      <td>Category_Kurta Sets, Category_Women, Collectio...</td>\n",
       "      <td>HOD0760</td>\n",
       "    </tr>\n",
       "    <tr>\n",
       "      <th>29</th>\n",
       "      <td>mihira-blockprinted-kurta-set</td>\n",
       "      <td>Mihira Blockprinted Kurta (Set of 3)</td>\n",
       "      <td>Category_Kurta Sets, Category_Women, Collectio...</td>\n",
       "      <td>HOD0754</td>\n",
       "    </tr>\n",
       "    <tr>\n",
       "      <th>41</th>\n",
       "      <td>bahar-blockprinted-kurta-set</td>\n",
       "      <td>Bahar Blockprinted Kurta (Set of 3)</td>\n",
       "      <td>Category_Kurta Sets, Category_Women, Collectio...</td>\n",
       "      <td>HOD0748</td>\n",
       "    </tr>\n",
       "  </tbody>\n",
       "</table>\n",
       "</div>"
      ],
      "text/plain": [
       "                           Handle                                 Title  \\\n",
       "0    ishya-blockprinted-kurta-set  Ishya Blockprinted Kurta  (Set of 2)   \n",
       "10  ahaana-blockprinted-kurta-set  Ahaana Blockprinted Kurta (Set of 2)   \n",
       "21   seher-blockprinted-kurta-set   Seher Blockprinted Kurta (Set of 2)   \n",
       "29  mihira-blockprinted-kurta-set  Mihira Blockprinted Kurta (Set of 3)   \n",
       "41   bahar-blockprinted-kurta-set   Bahar Blockprinted Kurta (Set of 3)   \n",
       "\n",
       "                                                 Tags Variant SKU  \n",
       "0   Category_Kurta Sets, Category_Women, Collectio...     HOD0772  \n",
       "10  Category_Kurta Sets, Category_Women, Collectio...     HOD0766  \n",
       "21  Category_Kurta Sets, Category_Women, Collectio...     HOD0760  \n",
       "29  Category_Kurta Sets, Category_Women, Collectio...     HOD0754  \n",
       "41  Category_Kurta Sets, Category_Women, Collectio...     HOD0748  "
      ]
     },
     "execution_count": 134,
     "metadata": {},
     "output_type": "execute_result"
    }
   ],
   "source": [
    "df_product = productsExport[['Handle', 'Title', 'Tags', 'Variant SKU']]\n",
    "print(df_product.shape)\n",
    "df_product.head()"
   ]
  },
  {
   "cell_type": "code",
   "execution_count": 138,
   "id": "a0686f95",
   "metadata": {},
   "outputs": [],
   "source": [
    "final_product = df_product"
   ]
  },
  {
   "cell_type": "code",
   "execution_count": 139,
   "id": "55424691",
   "metadata": {},
   "outputs": [
    {
     "data": {
      "text/plain": [
       "0           ishyablockprintedkurtaset\n",
       "10         ahaanablockprintedkurtaset\n",
       "21          seherblockprintedkurtaset\n",
       "29         mihirablockprintedkurtaset\n",
       "41          baharblockprintedkurtaset\n",
       "                    ...              \n",
       "844            alinewhiteandbluekurta\n",
       "850    longstraightpeachandwhitekurta\n",
       "856            longstraightwhitekurta\n",
       "862            straightbluewhitekurta\n",
       "868                    peachfuldesire\n",
       "Name: Handle, Length: 134, dtype: object"
      ]
     },
     "execution_count": 139,
     "metadata": {},
     "output_type": "execute_result"
    }
   ],
   "source": [
    "final_product['Handle'] = final_product['Handle'].apply(lambda x: [str.lower(i.replace(\"-\", \"\")) for i in x])\n",
    "final_product['Handle'] = final_product['Handle'].apply(lambda x: ''.join(x))\n",
    "final_product['Handle']"
   ]
  },
  {
   "cell_type": "code",
   "execution_count": 140,
   "id": "070b5717",
   "metadata": {},
   "outputs": [
    {
     "data": {
      "text/plain": [
       "0      ishyablockprintedkurta(setof2)\n",
       "10    ahaanablockprintedkurta(setof2)\n",
       "21     seherblockprintedkurta(setof2)\n",
       "29    mihirablockprintedkurta(setof3)\n",
       "41     baharblockprintedkurta(setof3)\n",
       "55      keyablockprintedkurta(setof3)\n",
       "70                         ektakaftan\n",
       "76                        barnakaftan\n",
       "82                   saukhayadakaftan\n",
       "88                       chesnakaftan\n",
       "Name: Title, dtype: object"
      ]
     },
     "execution_count": 140,
     "metadata": {},
     "output_type": "execute_result"
    }
   ],
   "source": [
    "final_product['Title'] = final_product['Title'].apply(lambda x: [str.lower(i.replace(\" \", \"\")) for i in x])\n",
    "final_product['Title'] = final_product['Title'].apply(lambda x: ''.join(x))\n",
    "final_product['Title'][0:10]"
   ]
  },
  {
   "cell_type": "code",
   "execution_count": 141,
   "id": "e146ffe1",
   "metadata": {},
   "outputs": [
    {
     "data": {
      "text/plain": [
       "'categorykurtasets,categorywomen,collectionrozana,kurtaforwomen,necktypevneck,price3kto4k'"
      ]
     },
     "execution_count": 141,
     "metadata": {},
     "output_type": "execute_result"
    }
   ],
   "source": [
    "final_product['Tags'] = final_product['Tags'].apply(lambda x: [str.lower(i.replace(\"_\", \"\")) for i in x])\n",
    "final_product['Tags'] = final_product['Tags'].apply(lambda x: [str.lower(i.replace(\" \", \"\")) for i in x])\n",
    "final_product['Tags'] = final_product['Tags'].apply(lambda x: ''.join(x))\n",
    "# final_product['Tags'] = final_product['Tags'].apply(lambda x: [str.lower(i.replace(\",\", \" \")) for i in x])\n",
    "# final_product['Tags'] = final_product['Tags'].apply(lambda x: ''.join(x))\n",
    "final_product['Tags'][0]"
   ]
  },
  {
   "cell_type": "code",
   "execution_count": 142,
   "id": "81057781",
   "metadata": {},
   "outputs": [
    {
     "data": {
      "text/plain": [
       "'ishyablockprintedkurtaset ishyablockprintedkurta(setof2) categorykurtasets,categorywomen,collectionrozana,kurtaforwomen,necktypevneck,price3kto4k'"
      ]
     },
     "execution_count": 142,
     "metadata": {},
     "output_type": "execute_result"
    }
   ],
   "source": [
    "final_product['description'] = final_product['Handle'] + \" \" + final_product['Title'] + \" \" + final_product['Tags']\n",
    "final_product['description'] = final_product['description'].fillna('')\n",
    "final_product['description'][0]"
   ]
  },
  {
   "cell_type": "code",
   "execution_count": 143,
   "id": "04d98ea8",
   "metadata": {},
   "outputs": [
    {
     "data": {
      "text/plain": [
       "'ishyablockprintedkurtaset,ishyablockprintedkurta(setof2),categorykurtasets,categorywomen,collectionrozana,kurtaforwomen,necktypevneck,price3kto4k'"
      ]
     },
     "execution_count": 143,
     "metadata": {},
     "output_type": "execute_result"
    }
   ],
   "source": [
    "final_product['description'] = final_product['description'].apply(lambda x: [str.lower(i.replace(\" \", \",\")) for i in x])\n",
    "final_product['description'] = final_product['description'].apply(lambda x: ''.join(x))\n",
    "final_product['description'][0]"
   ]
  },
  {
   "cell_type": "code",
   "execution_count": 214,
   "id": "ceb7893f",
   "metadata": {},
   "outputs": [],
   "source": [
    "tagslistoflist = []\n",
    "for i in final_product['description']:\n",
    "    singlelinetag = i.split(\",\")\n",
    "    tagslistoflist.append(singlelinetag)\n",
    "# print(tagslistoflist)"
   ]
  },
  {
   "cell_type": "code",
   "execution_count": 215,
   "id": "c14ee0b6",
   "metadata": {},
   "outputs": [],
   "source": [
    "tags = []\n",
    "for xs in tagslistoflist:\n",
    "    for x in xs:\n",
    "        tags.append(x)\n",
    "# print(tags)"
   ]
  },
  {
   "cell_type": "code",
   "execution_count": 216,
   "id": "01f416c7",
   "metadata": {},
   "outputs": [],
   "source": [
    "final_tags = []\n",
    "for x in tags:\n",
    "    if x not in final_tags:\n",
    "        final_tags.append(x)\n",
    "# print(final_tags)"
   ]
  },
  {
   "cell_type": "code",
   "execution_count": 147,
   "id": "b603abe9",
   "metadata": {
    "scrolled": true
   },
   "outputs": [
    {
     "data": {
      "text/html": [
       "<div>\n",
       "<style scoped>\n",
       "    .dataframe tbody tr th:only-of-type {\n",
       "        vertical-align: middle;\n",
       "    }\n",
       "\n",
       "    .dataframe tbody tr th {\n",
       "        vertical-align: top;\n",
       "    }\n",
       "\n",
       "    .dataframe thead th {\n",
       "        text-align: right;\n",
       "    }\n",
       "</style>\n",
       "<table border=\"1\" class=\"dataframe\">\n",
       "  <thead>\n",
       "    <tr style=\"text-align: right;\">\n",
       "      <th></th>\n",
       "      <th>Variant SKU</th>\n",
       "      <th>description</th>\n",
       "    </tr>\n",
       "  </thead>\n",
       "  <tbody>\n",
       "    <tr>\n",
       "      <th>0</th>\n",
       "      <td>HOD0772</td>\n",
       "      <td>ishyablockprintedkurtaset,ishyablockprintedkur...</td>\n",
       "    </tr>\n",
       "    <tr>\n",
       "      <th>10</th>\n",
       "      <td>HOD0766</td>\n",
       "      <td>ahaanablockprintedkurtaset,ahaanablockprintedk...</td>\n",
       "    </tr>\n",
       "    <tr>\n",
       "      <th>21</th>\n",
       "      <td>HOD0760</td>\n",
       "      <td>seherblockprintedkurtaset,seherblockprintedkur...</td>\n",
       "    </tr>\n",
       "    <tr>\n",
       "      <th>29</th>\n",
       "      <td>HOD0754</td>\n",
       "      <td>mihirablockprintedkurtaset,mihirablockprintedk...</td>\n",
       "    </tr>\n",
       "    <tr>\n",
       "      <th>41</th>\n",
       "      <td>HOD0748</td>\n",
       "      <td>baharblockprintedkurtaset,baharblockprintedkur...</td>\n",
       "    </tr>\n",
       "  </tbody>\n",
       "</table>\n",
       "</div>"
      ],
      "text/plain": [
       "   Variant SKU                                        description\n",
       "0      HOD0772  ishyablockprintedkurtaset,ishyablockprintedkur...\n",
       "10     HOD0766  ahaanablockprintedkurtaset,ahaanablockprintedk...\n",
       "21     HOD0760  seherblockprintedkurtaset,seherblockprintedkur...\n",
       "29     HOD0754  mihirablockprintedkurtaset,mihirablockprintedk...\n",
       "41     HOD0748  baharblockprintedkurtaset,baharblockprintedkur..."
      ]
     },
     "execution_count": 147,
     "metadata": {},
     "output_type": "execute_result"
    }
   ],
   "source": [
    "products_tags_df = final_product[['Variant SKU', 'description']]\n",
    "products_tags_df.head()"
   ]
  },
  {
   "cell_type": "code",
   "execution_count": 148,
   "id": "cb4f27f8",
   "metadata": {},
   "outputs": [
    {
     "data": {
      "text/html": [
       "<div>\n",
       "<style scoped>\n",
       "    .dataframe tbody tr th:only-of-type {\n",
       "        vertical-align: middle;\n",
       "    }\n",
       "\n",
       "    .dataframe tbody tr th {\n",
       "        vertical-align: top;\n",
       "    }\n",
       "\n",
       "    .dataframe thead th {\n",
       "        text-align: right;\n",
       "    }\n",
       "</style>\n",
       "<table border=\"1\" class=\"dataframe\">\n",
       "  <thead>\n",
       "    <tr style=\"text-align: right;\">\n",
       "      <th></th>\n",
       "      <th>Variant SKU</th>\n",
       "      <th>description</th>\n",
       "      <th>product_id_num</th>\n",
       "    </tr>\n",
       "  </thead>\n",
       "  <tbody>\n",
       "    <tr>\n",
       "      <th>0</th>\n",
       "      <td>HOD0772</td>\n",
       "      <td>ishyablockprintedkurtaset,ishyablockprintedkur...</td>\n",
       "      <td>0</td>\n",
       "    </tr>\n",
       "    <tr>\n",
       "      <th>1</th>\n",
       "      <td>HOD0766</td>\n",
       "      <td>ahaanablockprintedkurtaset,ahaanablockprintedk...</td>\n",
       "      <td>1</td>\n",
       "    </tr>\n",
       "    <tr>\n",
       "      <th>2</th>\n",
       "      <td>HOD0760</td>\n",
       "      <td>seherblockprintedkurtaset,seherblockprintedkur...</td>\n",
       "      <td>2</td>\n",
       "    </tr>\n",
       "    <tr>\n",
       "      <th>3</th>\n",
       "      <td>HOD0754</td>\n",
       "      <td>mihirablockprintedkurtaset,mihirablockprintedk...</td>\n",
       "      <td>3</td>\n",
       "    </tr>\n",
       "    <tr>\n",
       "      <th>4</th>\n",
       "      <td>HOD0748</td>\n",
       "      <td>baharblockprintedkurtaset,baharblockprintedkur...</td>\n",
       "      <td>4</td>\n",
       "    </tr>\n",
       "  </tbody>\n",
       "</table>\n",
       "</div>"
      ],
      "text/plain": [
       "  Variant SKU                                        description  \\\n",
       "0     HOD0772  ishyablockprintedkurtaset,ishyablockprintedkur...   \n",
       "1     HOD0766  ahaanablockprintedkurtaset,ahaanablockprintedk...   \n",
       "2     HOD0760  seherblockprintedkurtaset,seherblockprintedkur...   \n",
       "3     HOD0754  mihirablockprintedkurtaset,mihirablockprintedk...   \n",
       "4     HOD0748  baharblockprintedkurtaset,baharblockprintedkur...   \n",
       "\n",
       "   product_id_num  \n",
       "0               0  \n",
       "1               1  \n",
       "2               2  \n",
       "3               3  \n",
       "4               4  "
      ]
     },
     "execution_count": 148,
     "metadata": {},
     "output_type": "execute_result"
    }
   ],
   "source": [
    "products_tags_df = generate_int_id(products_tags_df, 'product_id_num')\n",
    "products_tags_df.head()"
   ]
  },
  {
   "cell_type": "code",
   "execution_count": 149,
   "id": "5f1e7d4b",
   "metadata": {},
   "outputs": [],
   "source": [
    "def _split_and_index(string):\n",
    "    string = string.split(',')\n",
    "    for i, s in enumerate(string):\n",
    "        string[i] = final_tags.index(s)\n",
    "    return string\n",
    "\n",
    "products_tags_df['tags'] = products_tags_df['description'].map(lambda x : _split_and_index(x))"
   ]
  },
  {
   "cell_type": "code",
   "execution_count": 150,
   "id": "916d90cc",
   "metadata": {},
   "outputs": [
    {
     "data": {
      "text/html": [
       "<div>\n",
       "<style scoped>\n",
       "    .dataframe tbody tr th:only-of-type {\n",
       "        vertical-align: middle;\n",
       "    }\n",
       "\n",
       "    .dataframe tbody tr th {\n",
       "        vertical-align: top;\n",
       "    }\n",
       "\n",
       "    .dataframe thead th {\n",
       "        text-align: right;\n",
       "    }\n",
       "</style>\n",
       "<table border=\"1\" class=\"dataframe\">\n",
       "  <thead>\n",
       "    <tr style=\"text-align: right;\">\n",
       "      <th></th>\n",
       "      <th>Variant SKU</th>\n",
       "      <th>description</th>\n",
       "      <th>product_id_num</th>\n",
       "      <th>tags</th>\n",
       "    </tr>\n",
       "  </thead>\n",
       "  <tbody>\n",
       "    <tr>\n",
       "      <th>0</th>\n",
       "      <td>HOD0772</td>\n",
       "      <td>ishyablockprintedkurtaset,ishyablockprintedkur...</td>\n",
       "      <td>0</td>\n",
       "      <td>[0, 1, 2, 3, 4, 5, 6, 7]</td>\n",
       "    </tr>\n",
       "    <tr>\n",
       "      <th>1</th>\n",
       "      <td>HOD0766</td>\n",
       "      <td>ahaanablockprintedkurtaset,ahaanablockprintedk...</td>\n",
       "      <td>1</td>\n",
       "      <td>[8, 9, 2, 3, 4, 5, 6, 7]</td>\n",
       "    </tr>\n",
       "    <tr>\n",
       "      <th>2</th>\n",
       "      <td>HOD0760</td>\n",
       "      <td>seherblockprintedkurtaset,seherblockprintedkur...</td>\n",
       "      <td>2</td>\n",
       "      <td>[10, 11, 2, 3, 4, 5, 6, 7]</td>\n",
       "    </tr>\n",
       "    <tr>\n",
       "      <th>3</th>\n",
       "      <td>HOD0754</td>\n",
       "      <td>mihirablockprintedkurtaset,mihirablockprintedk...</td>\n",
       "      <td>3</td>\n",
       "      <td>[12, 13, 2, 3, 4, 5, 6, 7]</td>\n",
       "    </tr>\n",
       "    <tr>\n",
       "      <th>4</th>\n",
       "      <td>HOD0748</td>\n",
       "      <td>baharblockprintedkurtaset,baharblockprintedkur...</td>\n",
       "      <td>4</td>\n",
       "      <td>[14, 15, 2, 3, 4, 5, 6, 7]</td>\n",
       "    </tr>\n",
       "    <tr>\n",
       "      <th>...</th>\n",
       "      <td>...</td>\n",
       "      <td>...</td>\n",
       "      <td>...</td>\n",
       "      <td>...</td>\n",
       "    </tr>\n",
       "    <tr>\n",
       "      <th>129</th>\n",
       "      <td>HOD0025</td>\n",
       "      <td>alinewhiteandbluekurta,sutlejkurta,categorykur...</td>\n",
       "      <td>129</td>\n",
       "      <td>[244, 245, 20, 3, 49, 31, 23, 107, 24, 114]</td>\n",
       "    </tr>\n",
       "    <tr>\n",
       "      <th>130</th>\n",
       "      <td>HOD0019</td>\n",
       "      <td>longstraightpeachandwhitekurta,chenabkurta,cat...</td>\n",
       "      <td>130</td>\n",
       "      <td>[246, 247, 20, 3, 49, 42, 23, 248, 24, 51, 108]</td>\n",
       "    </tr>\n",
       "    <tr>\n",
       "      <th>131</th>\n",
       "      <td>HOD0013</td>\n",
       "      <td>longstraightwhitekurta,alaknandakurta,category...</td>\n",
       "      <td>131</td>\n",
       "      <td>[249, 250, 20, 3, 49, 23, 251, 24, 51, 108]</td>\n",
       "    </tr>\n",
       "    <tr>\n",
       "      <th>132</th>\n",
       "      <td>HOD0007</td>\n",
       "      <td>straightbluewhitekurta,betwakurta,categorykurt...</td>\n",
       "      <td>132</td>\n",
       "      <td>[252, 253, 20, 3, 49, 31, 23, 251, 24, 51, 108]</td>\n",
       "    </tr>\n",
       "    <tr>\n",
       "      <th>133</th>\n",
       "      <td>HOD0001</td>\n",
       "      <td>peachfuldesire,kosikurta,categorykurta,categor...</td>\n",
       "      <td>133</td>\n",
       "      <td>[254, 255, 20, 3, 49, 42, 251, 24, 51, 108]</td>\n",
       "    </tr>\n",
       "  </tbody>\n",
       "</table>\n",
       "<p>134 rows × 4 columns</p>\n",
       "</div>"
      ],
      "text/plain": [
       "    Variant SKU                                        description  \\\n",
       "0       HOD0772  ishyablockprintedkurtaset,ishyablockprintedkur...   \n",
       "1       HOD0766  ahaanablockprintedkurtaset,ahaanablockprintedk...   \n",
       "2       HOD0760  seherblockprintedkurtaset,seherblockprintedkur...   \n",
       "3       HOD0754  mihirablockprintedkurtaset,mihirablockprintedk...   \n",
       "4       HOD0748  baharblockprintedkurtaset,baharblockprintedkur...   \n",
       "..          ...                                                ...   \n",
       "129     HOD0025  alinewhiteandbluekurta,sutlejkurta,categorykur...   \n",
       "130     HOD0019  longstraightpeachandwhitekurta,chenabkurta,cat...   \n",
       "131     HOD0013  longstraightwhitekurta,alaknandakurta,category...   \n",
       "132     HOD0007  straightbluewhitekurta,betwakurta,categorykurt...   \n",
       "133     HOD0001  peachfuldesire,kosikurta,categorykurta,categor...   \n",
       "\n",
       "     product_id_num                                             tags  \n",
       "0                 0                         [0, 1, 2, 3, 4, 5, 6, 7]  \n",
       "1                 1                         [8, 9, 2, 3, 4, 5, 6, 7]  \n",
       "2                 2                       [10, 11, 2, 3, 4, 5, 6, 7]  \n",
       "3                 3                       [12, 13, 2, 3, 4, 5, 6, 7]  \n",
       "4                 4                       [14, 15, 2, 3, 4, 5, 6, 7]  \n",
       "..              ...                                              ...  \n",
       "129             129      [244, 245, 20, 3, 49, 31, 23, 107, 24, 114]  \n",
       "130             130  [246, 247, 20, 3, 49, 42, 23, 248, 24, 51, 108]  \n",
       "131             131      [249, 250, 20, 3, 49, 23, 251, 24, 51, 108]  \n",
       "132             132  [252, 253, 20, 3, 49, 31, 23, 251, 24, 51, 108]  \n",
       "133             133      [254, 255, 20, 3, 49, 42, 251, 24, 51, 108]  \n",
       "\n",
       "[134 rows x 4 columns]"
      ]
     },
     "execution_count": 150,
     "metadata": {},
     "output_type": "execute_result"
    }
   ],
   "source": [
    "products_tags_df"
   ]
  },
  {
   "cell_type": "code",
   "execution_count": 151,
   "id": "41ade784",
   "metadata": {},
   "outputs": [],
   "source": [
    "from tensorflow.keras.layers import InputLayer, Embedding, Dot, Reshape, Dense\n",
    "from tensorflow.keras.models import Model"
   ]
  },
  {
   "cell_type": "code",
   "execution_count": 152,
   "id": "8e65631d",
   "metadata": {},
   "outputs": [],
   "source": [
    "class ProductTagsEmbedding(tf.keras.Model):\n",
    "    def __init__(self, len_products, len_tags, embedding_size):\n",
    "        super(ProductTagsEmbedding, self).__init__()\n",
    "        self.p_t_input = InputLayer(name='input_layer', input_shape=(2,))\n",
    "        # embedding\n",
    "        self.p_embedding = Embedding(name='product_id_num', input_dim=len_products, output_dim=embedding_size)\n",
    "        self.t_embedding = Embedding(name='tags_embedding', input_dim=len_tags, output_dim=embedding_size)\n",
    "        # dot product\n",
    "        self.p_t_merge = Dot(name='products_tags_dot', normalize=True, axes=1)\n",
    "        # output\n",
    "        self.p_t_fc = Dense(1, activation='sigmoid')\n",
    "        \n",
    "    def call(self, x):\n",
    "        x = self.p_t_input(x)\n",
    "        pemb = self.p_embedding(x[0])\n",
    "        temb = self.t_embedding(x[1])\n",
    "        p_t = self.p_t_merge([pemb, temb])\n",
    "#         m_g = self.reshape(m_g)\n",
    "        return self.p_t_fc(p_t)"
   ]
  },
  {
   "cell_type": "code",
   "execution_count": 153,
   "id": "fe8cd580",
   "metadata": {},
   "outputs": [
    {
     "data": {
      "text/html": [
       "<div>\n",
       "<style scoped>\n",
       "    .dataframe tbody tr th:only-of-type {\n",
       "        vertical-align: middle;\n",
       "    }\n",
       "\n",
       "    .dataframe tbody tr th {\n",
       "        vertical-align: top;\n",
       "    }\n",
       "\n",
       "    .dataframe thead th {\n",
       "        text-align: right;\n",
       "    }\n",
       "</style>\n",
       "<table border=\"1\" class=\"dataframe\">\n",
       "  <thead>\n",
       "    <tr style=\"text-align: right;\">\n",
       "      <th></th>\n",
       "      <th>Variant SKU</th>\n",
       "      <th>description</th>\n",
       "      <th>product_id_num</th>\n",
       "      <th>tags</th>\n",
       "    </tr>\n",
       "  </thead>\n",
       "  <tbody>\n",
       "    <tr>\n",
       "      <th>0</th>\n",
       "      <td>HOD0772</td>\n",
       "      <td>ishyablockprintedkurtaset,ishyablockprintedkur...</td>\n",
       "      <td>0</td>\n",
       "      <td>[0, 1, 2, 3, 4, 5, 6, 7]</td>\n",
       "    </tr>\n",
       "    <tr>\n",
       "      <th>1</th>\n",
       "      <td>HOD0766</td>\n",
       "      <td>ahaanablockprintedkurtaset,ahaanablockprintedk...</td>\n",
       "      <td>1</td>\n",
       "      <td>[8, 9, 2, 3, 4, 5, 6, 7]</td>\n",
       "    </tr>\n",
       "    <tr>\n",
       "      <th>2</th>\n",
       "      <td>HOD0760</td>\n",
       "      <td>seherblockprintedkurtaset,seherblockprintedkur...</td>\n",
       "      <td>2</td>\n",
       "      <td>[10, 11, 2, 3, 4, 5, 6, 7]</td>\n",
       "    </tr>\n",
       "    <tr>\n",
       "      <th>3</th>\n",
       "      <td>HOD0754</td>\n",
       "      <td>mihirablockprintedkurtaset,mihirablockprintedk...</td>\n",
       "      <td>3</td>\n",
       "      <td>[12, 13, 2, 3, 4, 5, 6, 7]</td>\n",
       "    </tr>\n",
       "    <tr>\n",
       "      <th>4</th>\n",
       "      <td>HOD0748</td>\n",
       "      <td>baharblockprintedkurtaset,baharblockprintedkur...</td>\n",
       "      <td>4</td>\n",
       "      <td>[14, 15, 2, 3, 4, 5, 6, 7]</td>\n",
       "    </tr>\n",
       "  </tbody>\n",
       "</table>\n",
       "</div>"
      ],
      "text/plain": [
       "  Variant SKU                                        description  \\\n",
       "0     HOD0772  ishyablockprintedkurtaset,ishyablockprintedkur...   \n",
       "1     HOD0766  ahaanablockprintedkurtaset,ahaanablockprintedk...   \n",
       "2     HOD0760  seherblockprintedkurtaset,seherblockprintedkur...   \n",
       "3     HOD0754  mihirablockprintedkurtaset,mihirablockprintedk...   \n",
       "4     HOD0748  baharblockprintedkurtaset,baharblockprintedkur...   \n",
       "\n",
       "   product_id_num                        tags  \n",
       "0               0    [0, 1, 2, 3, 4, 5, 6, 7]  \n",
       "1               1    [8, 9, 2, 3, 4, 5, 6, 7]  \n",
       "2               2  [10, 11, 2, 3, 4, 5, 6, 7]  \n",
       "3               3  [12, 13, 2, 3, 4, 5, 6, 7]  \n",
       "4               4  [14, 15, 2, 3, 4, 5, 6, 7]  "
      ]
     },
     "execution_count": 153,
     "metadata": {},
     "output_type": "execute_result"
    }
   ],
   "source": [
    "products_tags_df.head()"
   ]
  },
  {
   "cell_type": "code",
   "execution_count": 217,
   "id": "637b8129",
   "metadata": {},
   "outputs": [
    {
     "name": "stdout",
     "output_type": "stream",
     "text": [
      "[8, 9, 2, 3, 4, 5, 6, 7]\n"
     ]
    }
   ],
   "source": [
    "products_tags_dict = {p : t for p, t in zip(products_tags_df[\"product_id_num\"],products_tags_df[\"tags\"])}\n",
    "# print(products_tags_dict['HOD0772'])\n",
    "print(products_tags_dict[1])\n",
    "# products_tags_dict"
   ]
  },
  {
   "cell_type": "code",
   "execution_count": 158,
   "id": "2f07fbbb",
   "metadata": {},
   "outputs": [],
   "source": [
    "positive_p_t_pairs = []\n",
    "negative_p_t_pairs = []\n",
    "for products in products_tags_df[\"product_id_num\"]:\n",
    "    for i in range(len(final_tags)):\n",
    "        if i in products_tags_dict[products]:\n",
    "            positive_p_t_pairs.append((products, i, 1))\n",
    "        else:\n",
    "            negative_p_t_pairs.append((products, i, 0))"
   ]
  },
  {
   "cell_type": "code",
   "execution_count": 218,
   "id": "d922f168",
   "metadata": {},
   "outputs": [],
   "source": [
    "# positive_p_t_pairs"
   ]
  },
  {
   "cell_type": "code",
   "execution_count": 219,
   "id": "31b572d1",
   "metadata": {},
   "outputs": [],
   "source": [
    "# negative_p_t_pairs"
   ]
  },
  {
   "cell_type": "code",
   "execution_count": 161,
   "id": "8565a07d",
   "metadata": {},
   "outputs": [],
   "source": [
    "def generate_products_tags_batch(positive_pairs, negative_pairs, batch_size, negative_ratio=0.5):\n",
    "    \n",
    "    batch = np.zeros((batch_size, 3))\n",
    "    num_of_positive = batch_size-int(batch_size*negative_ratio)\n",
    "    \n",
    "    while True:\n",
    "        idx = np.random.choice(len(positive_pairs), num_of_positive)\n",
    "        positive_data = np.array(positive_pairs)[idx]\n",
    "        for i, data in enumerate(positive_data):\n",
    "            batch[i] = data\n",
    "        \n",
    "        idx = np.random.choice(len(negative_pairs), int(batch_size*negative_ratio))\n",
    "        negative_data = np.array(negative_pairs)[idx]\n",
    "        for i, data in enumerate(negative_data):\n",
    "            batch[num_of_positive+i] = data\n",
    "        \n",
    "        np.random.shuffle(batch)\n",
    "        yield batch[:,0], batch[:,1], batch[:,2]"
   ]
  },
  {
   "cell_type": "code",
   "execution_count": 162,
   "id": "674d8a29",
   "metadata": {},
   "outputs": [],
   "source": [
    "LEN_PRODUCTS = len(products_tags_df)\n",
    "LEN_TAGS = len(final_tags)\n",
    "EMBEDDING_SIZE = 100\n",
    "\n",
    "MAX_EPOCH = 100\n",
    "PRODUCTS_BATCH_SIZE = 128\n",
    "PRODUCTS_STEP_PER_EPOCH = len(positive_p_t_pairs)//PRODUCTS_BATCH_SIZE"
   ]
  },
  {
   "cell_type": "code",
   "execution_count": 163,
   "id": "78293911",
   "metadata": {},
   "outputs": [],
   "source": [
    "p_t_model = ProductTagsEmbedding(LEN_PRODUCTS, LEN_TAGS, EMBEDDING_SIZE)"
   ]
  },
  {
   "cell_type": "code",
   "execution_count": 164,
   "id": "cc40094e",
   "metadata": {},
   "outputs": [
    {
     "name": "stdout",
     "output_type": "stream",
     "text": [
      "Model: \"product_tags_embedding_3\"\n",
      "_________________________________________________________________\n",
      " Layer (type)                Output Shape              Param #   \n",
      "=================================================================\n",
      " input_layer (InputLayer)    [(None, 2)]               0         \n",
      "                                                                 \n",
      " product_embedding (Embeddin  multiple                 13400     \n",
      " g)                                                              \n",
      "                                                                 \n",
      " tags_embedding (Embedding)  multiple                  25600     \n",
      "                                                                 \n",
      " products_tags_dot (Dot)     multiple                  0         \n",
      "                                                                 \n",
      " dense_3 (Dense)             multiple                  2         \n",
      "                                                                 \n",
      "=================================================================\n",
      "Total params: 39,002\n",
      "Trainable params: 39,002\n",
      "Non-trainable params: 0\n",
      "_________________________________________________________________\n"
     ]
    }
   ],
   "source": [
    "p_t_model([np.zeros((1)),np.zeros((1))])\n",
    "p_t_model.summary()"
   ]
  },
  {
   "cell_type": "code",
   "execution_count": 165,
   "id": "7eb826ba",
   "metadata": {},
   "outputs": [],
   "source": [
    "# optimizer\n",
    "optimizer = tf.keras.optimizers.Adam()\n",
    "# loss\n",
    "bce = tf.keras.losses.BinaryCrossentropy()"
   ]
  },
  {
   "cell_type": "code",
   "execution_count": 171,
   "id": "dc157927",
   "metadata": {},
   "outputs": [],
   "source": [
    "p_t_train_loss = tf.keras.metrics.Mean(name='train_loss')\n",
    "p_t_train_accuracy = tf.keras.metrics.BinaryAccuracy(name='train_accuracy')\n",
    "\n",
    "@tf.function\n",
    "def p_t_train_step(p_t_inputs, labels):\n",
    "    with tf.GradientTape() as tape:\n",
    "        # training=True is only needed if there are layers with different\n",
    "        # behavior during training versus inference (e.g. Dropout).\n",
    "        predictions = p_t_model(p_t_inputs, training=True)\n",
    "        loss = bce(labels, predictions)\n",
    "    gradients = tape.gradient(loss, p_t_model.trainable_variables)\n",
    "    optimizer.apply_gradients(zip(gradients, p_t_model.trainable_variables))\n",
    "\n",
    "    p_t_train_loss(loss)\n",
    "    p_t_train_accuracy(labels, predictions)"
   ]
  },
  {
   "cell_type": "code",
   "execution_count": 172,
   "id": "28e3d2f7",
   "metadata": {},
   "outputs": [],
   "source": [
    "p_t_generator = generate_products_tags_batch(positive_p_t_pairs, negative_p_t_pairs, PRODUCTS_BATCH_SIZE, negative_ratio=0.5)\n",
    "p_batch, t_batch, p_t_label_batch = next(p_t_generator)"
   ]
  },
  {
   "cell_type": "code",
   "execution_count": 173,
   "id": "c38783b1",
   "metadata": {},
   "outputs": [
    {
     "name": "stdout",
     "output_type": "stream",
     "text": [
      "99 epoch, 8 steps, Loss: 0.3999, Accuracy: 87.9\r"
     ]
    }
   ],
   "source": [
    "# for log\n",
    "p_t_losses = []\n",
    "\n",
    "for epoch in range(MAX_EPOCH):\n",
    "    \n",
    "    p_t_generator = generate_products_tags_batch(positive_p_t_pairs, negative_p_t_pairs, PRODUCTS_BATCH_SIZE, negative_ratio=0.5)\n",
    "    \n",
    "    for step in range(PRODUCTS_STEP_PER_EPOCH):\n",
    "        # embedding layer update\n",
    "        p_batch, t_batch, p_t_label_batch = next(p_t_generator)\n",
    "        p_t_train_step([p_batch, t_batch], p_t_label_batch)\n",
    "        \n",
    "        print(f'{epoch} epoch, {step} steps, Loss: {p_t_train_loss.result():0.4f}, Accuracy: {p_t_train_accuracy.result() * 100:0.1f}', end='\\r')\n",
    "\n",
    "    p_t_losses.append(p_t_train_loss.result())"
   ]
  },
  {
   "cell_type": "code",
   "execution_count": 174,
   "id": "33d2f479",
   "metadata": {},
   "outputs": [
    {
     "data": {
      "text/plain": [
       "[<matplotlib.lines.Line2D at 0x26ff80e4490>]"
      ]
     },
     "execution_count": 174,
     "metadata": {},
     "output_type": "execute_result"
    },
    {
     "data": {
      "image/png": "[encoded data removed]",
      "text/plain": [
       "<Figure size 432x288 with 1 Axes>"
      ]
     },
     "metadata": {
      "needs_background": "light"
     },
     "output_type": "display_data"
    }
   ],
   "source": [
    "plt.plot(p_t_losses)"
   ]
  },
  {
   "cell_type": "code",
   "execution_count": 181,
   "id": "2a334b13",
   "metadata": {},
   "outputs": [
    {
     "name": "stdout",
     "output_type": "stream",
     "text": [
      "(134, 100)\n"
     ]
    },
    {
     "data": {
      "text/html": [
       "<div>\n",
       "<style scoped>\n",
       "    .dataframe tbody tr th:only-of-type {\n",
       "        vertical-align: middle;\n",
       "    }\n",
       "\n",
       "    .dataframe tbody tr th {\n",
       "        vertical-align: top;\n",
       "    }\n",
       "\n",
       "    .dataframe thead th {\n",
       "        text-align: right;\n",
       "    }\n",
       "</style>\n",
       "<table border=\"1\" class=\"dataframe\">\n",
       "  <thead>\n",
       "    <tr style=\"text-align: right;\">\n",
       "      <th></th>\n",
       "      <th>0</th>\n",
       "      <th>1</th>\n",
       "      <th>2</th>\n",
       "      <th>3</th>\n",
       "      <th>4</th>\n",
       "      <th>5</th>\n",
       "      <th>6</th>\n",
       "      <th>7</th>\n",
       "      <th>8</th>\n",
       "      <th>9</th>\n",
       "      <th>...</th>\n",
       "      <th>90</th>\n",
       "      <th>91</th>\n",
       "      <th>92</th>\n",
       "      <th>93</th>\n",
       "      <th>94</th>\n",
       "      <th>95</th>\n",
       "      <th>96</th>\n",
       "      <th>97</th>\n",
       "      <th>98</th>\n",
       "      <th>99</th>\n",
       "    </tr>\n",
       "  </thead>\n",
       "  <tbody>\n",
       "    <tr>\n",
       "      <th>0</th>\n",
       "      <td>0.035222</td>\n",
       "      <td>-0.059087</td>\n",
       "      <td>0.038357</td>\n",
       "      <td>0.027650</td>\n",
       "      <td>0.094477</td>\n",
       "      <td>0.059201</td>\n",
       "      <td>-0.075424</td>\n",
       "      <td>-0.036322</td>\n",
       "      <td>0.022002</td>\n",
       "      <td>-0.038110</td>\n",
       "      <td>...</td>\n",
       "      <td>-0.008468</td>\n",
       "      <td>-0.025874</td>\n",
       "      <td>-0.042911</td>\n",
       "      <td>0.010439</td>\n",
       "      <td>-0.033132</td>\n",
       "      <td>-0.031016</td>\n",
       "      <td>0.029759</td>\n",
       "      <td>0.038564</td>\n",
       "      <td>-0.073929</td>\n",
       "      <td>0.009071</td>\n",
       "    </tr>\n",
       "    <tr>\n",
       "      <th>1</th>\n",
       "      <td>0.036589</td>\n",
       "      <td>-0.067077</td>\n",
       "      <td>0.050892</td>\n",
       "      <td>0.031023</td>\n",
       "      <td>0.101525</td>\n",
       "      <td>0.064526</td>\n",
       "      <td>-0.085934</td>\n",
       "      <td>-0.049003</td>\n",
       "      <td>0.026737</td>\n",
       "      <td>-0.044802</td>\n",
       "      <td>...</td>\n",
       "      <td>-0.003399</td>\n",
       "      <td>-0.030882</td>\n",
       "      <td>-0.044675</td>\n",
       "      <td>0.014224</td>\n",
       "      <td>-0.038155</td>\n",
       "      <td>-0.045197</td>\n",
       "      <td>0.046021</td>\n",
       "      <td>0.035039</td>\n",
       "      <td>-0.063537</td>\n",
       "      <td>0.016889</td>\n",
       "    </tr>\n",
       "    <tr>\n",
       "      <th>2</th>\n",
       "      <td>0.044763</td>\n",
       "      <td>-0.067353</td>\n",
       "      <td>0.050986</td>\n",
       "      <td>0.039486</td>\n",
       "      <td>0.095362</td>\n",
       "      <td>0.067101</td>\n",
       "      <td>-0.078520</td>\n",
       "      <td>-0.034535</td>\n",
       "      <td>0.025908</td>\n",
       "      <td>-0.043142</td>\n",
       "      <td>...</td>\n",
       "      <td>-0.000950</td>\n",
       "      <td>-0.026337</td>\n",
       "      <td>-0.039987</td>\n",
       "      <td>0.016985</td>\n",
       "      <td>-0.032305</td>\n",
       "      <td>-0.025377</td>\n",
       "      <td>0.034128</td>\n",
       "      <td>0.045063</td>\n",
       "      <td>-0.070129</td>\n",
       "      <td>0.010135</td>\n",
       "    </tr>\n",
       "    <tr>\n",
       "      <th>3</th>\n",
       "      <td>0.039460</td>\n",
       "      <td>-0.058528</td>\n",
       "      <td>0.044722</td>\n",
       "      <td>0.012729</td>\n",
       "      <td>0.092120</td>\n",
       "      <td>0.060373</td>\n",
       "      <td>-0.067339</td>\n",
       "      <td>-0.052277</td>\n",
       "      <td>0.028999</td>\n",
       "      <td>-0.048381</td>\n",
       "      <td>...</td>\n",
       "      <td>0.002088</td>\n",
       "      <td>-0.025905</td>\n",
       "      <td>-0.046753</td>\n",
       "      <td>0.017722</td>\n",
       "      <td>-0.049769</td>\n",
       "      <td>-0.041569</td>\n",
       "      <td>0.045628</td>\n",
       "      <td>0.048033</td>\n",
       "      <td>-0.052095</td>\n",
       "      <td>0.001780</td>\n",
       "    </tr>\n",
       "    <tr>\n",
       "      <th>4</th>\n",
       "      <td>0.027345</td>\n",
       "      <td>-0.062885</td>\n",
       "      <td>0.040597</td>\n",
       "      <td>0.018152</td>\n",
       "      <td>0.100246</td>\n",
       "      <td>0.085339</td>\n",
       "      <td>-0.076238</td>\n",
       "      <td>-0.057028</td>\n",
       "      <td>0.025378</td>\n",
       "      <td>-0.047179</td>\n",
       "      <td>...</td>\n",
       "      <td>0.000063</td>\n",
       "      <td>-0.040924</td>\n",
       "      <td>-0.044672</td>\n",
       "      <td>0.002764</td>\n",
       "      <td>-0.046315</td>\n",
       "      <td>-0.041714</td>\n",
       "      <td>0.025870</td>\n",
       "      <td>0.044414</td>\n",
       "      <td>-0.062306</td>\n",
       "      <td>0.002915</td>\n",
       "    </tr>\n",
       "    <tr>\n",
       "      <th>...</th>\n",
       "      <td>...</td>\n",
       "      <td>...</td>\n",
       "      <td>...</td>\n",
       "      <td>...</td>\n",
       "      <td>...</td>\n",
       "      <td>...</td>\n",
       "      <td>...</td>\n",
       "      <td>...</td>\n",
       "      <td>...</td>\n",
       "      <td>...</td>\n",
       "      <td>...</td>\n",
       "      <td>...</td>\n",
       "      <td>...</td>\n",
       "      <td>...</td>\n",
       "      <td>...</td>\n",
       "      <td>...</td>\n",
       "      <td>...</td>\n",
       "      <td>...</td>\n",
       "      <td>...</td>\n",
       "      <td>...</td>\n",
       "      <td>...</td>\n",
       "    </tr>\n",
       "    <tr>\n",
       "      <th>129</th>\n",
       "      <td>0.010009</td>\n",
       "      <td>-0.028330</td>\n",
       "      <td>0.074850</td>\n",
       "      <td>-0.012853</td>\n",
       "      <td>0.091097</td>\n",
       "      <td>-0.030209</td>\n",
       "      <td>-0.093241</td>\n",
       "      <td>-0.054770</td>\n",
       "      <td>0.046184</td>\n",
       "      <td>0.021672</td>\n",
       "      <td>...</td>\n",
       "      <td>0.001891</td>\n",
       "      <td>0.006727</td>\n",
       "      <td>-0.063092</td>\n",
       "      <td>0.023970</td>\n",
       "      <td>0.005977</td>\n",
       "      <td>-0.000917</td>\n",
       "      <td>0.010586</td>\n",
       "      <td>0.082324</td>\n",
       "      <td>-0.023301</td>\n",
       "      <td>0.105981</td>\n",
       "    </tr>\n",
       "    <tr>\n",
       "      <th>130</th>\n",
       "      <td>-0.025865</td>\n",
       "      <td>-0.085571</td>\n",
       "      <td>0.071962</td>\n",
       "      <td>0.011713</td>\n",
       "      <td>0.091908</td>\n",
       "      <td>0.002216</td>\n",
       "      <td>-0.026303</td>\n",
       "      <td>-0.014709</td>\n",
       "      <td>0.064864</td>\n",
       "      <td>-0.019219</td>\n",
       "      <td>...</td>\n",
       "      <td>0.010486</td>\n",
       "      <td>-0.019986</td>\n",
       "      <td>-0.035715</td>\n",
       "      <td>0.066344</td>\n",
       "      <td>-0.020311</td>\n",
       "      <td>-0.065059</td>\n",
       "      <td>0.006659</td>\n",
       "      <td>-0.001099</td>\n",
       "      <td>0.048853</td>\n",
       "      <td>-0.026401</td>\n",
       "    </tr>\n",
       "    <tr>\n",
       "      <th>131</th>\n",
       "      <td>-0.018267</td>\n",
       "      <td>-0.012675</td>\n",
       "      <td>-0.005366</td>\n",
       "      <td>0.020980</td>\n",
       "      <td>0.055920</td>\n",
       "      <td>0.024276</td>\n",
       "      <td>-0.042721</td>\n",
       "      <td>-0.039959</td>\n",
       "      <td>0.021090</td>\n",
       "      <td>-0.015239</td>\n",
       "      <td>...</td>\n",
       "      <td>0.042577</td>\n",
       "      <td>-0.063601</td>\n",
       "      <td>-0.039437</td>\n",
       "      <td>-0.002193</td>\n",
       "      <td>-0.034028</td>\n",
       "      <td>-0.030071</td>\n",
       "      <td>0.042929</td>\n",
       "      <td>0.007711</td>\n",
       "      <td>-0.029000</td>\n",
       "      <td>0.027680</td>\n",
       "    </tr>\n",
       "    <tr>\n",
       "      <th>132</th>\n",
       "      <td>0.002134</td>\n",
       "      <td>-0.050103</td>\n",
       "      <td>0.036887</td>\n",
       "      <td>0.018229</td>\n",
       "      <td>0.032676</td>\n",
       "      <td>0.000772</td>\n",
       "      <td>-0.057225</td>\n",
       "      <td>-0.047597</td>\n",
       "      <td>0.033977</td>\n",
       "      <td>-0.038330</td>\n",
       "      <td>...</td>\n",
       "      <td>0.049079</td>\n",
       "      <td>-0.042000</td>\n",
       "      <td>-0.059939</td>\n",
       "      <td>0.032303</td>\n",
       "      <td>-0.017632</td>\n",
       "      <td>-0.043536</td>\n",
       "      <td>0.055813</td>\n",
       "      <td>0.022489</td>\n",
       "      <td>-0.049462</td>\n",
       "      <td>0.069193</td>\n",
       "    </tr>\n",
       "    <tr>\n",
       "      <th>133</th>\n",
       "      <td>0.015610</td>\n",
       "      <td>-0.095007</td>\n",
       "      <td>0.013727</td>\n",
       "      <td>0.044787</td>\n",
       "      <td>0.027072</td>\n",
       "      <td>0.041472</td>\n",
       "      <td>-0.032911</td>\n",
       "      <td>-0.011113</td>\n",
       "      <td>0.043970</td>\n",
       "      <td>-0.057077</td>\n",
       "      <td>...</td>\n",
       "      <td>0.078376</td>\n",
       "      <td>-0.065285</td>\n",
       "      <td>-0.056093</td>\n",
       "      <td>0.033670</td>\n",
       "      <td>0.011124</td>\n",
       "      <td>-0.017338</td>\n",
       "      <td>0.042461</td>\n",
       "      <td>0.011624</td>\n",
       "      <td>-0.022269</td>\n",
       "      <td>0.005291</td>\n",
       "    </tr>\n",
       "  </tbody>\n",
       "</table>\n",
       "<p>134 rows × 100 columns</p>\n",
       "</div>"
      ],
      "text/plain": [
       "           0         1         2         3         4         5         6   \\\n",
       "0    0.035222 -0.059087  0.038357  0.027650  0.094477  0.059201 -0.075424   \n",
       "1    0.036589 -0.067077  0.050892  0.031023  0.101525  0.064526 -0.085934   \n",
       "2    0.044763 -0.067353  0.050986  0.039486  0.095362  0.067101 -0.078520   \n",
       "3    0.039460 -0.058528  0.044722  0.012729  0.092120  0.060373 -0.067339   \n",
       "4    0.027345 -0.062885  0.040597  0.018152  0.100246  0.085339 -0.076238   \n",
       "..        ...       ...       ...       ...       ...       ...       ...   \n",
       "129  0.010009 -0.028330  0.074850 -0.012853  0.091097 -0.030209 -0.093241   \n",
       "130 -0.025865 -0.085571  0.071962  0.011713  0.091908  0.002216 -0.026303   \n",
       "131 -0.018267 -0.012675 -0.005366  0.020980  0.055920  0.024276 -0.042721   \n",
       "132  0.002134 -0.050103  0.036887  0.018229  0.032676  0.000772 -0.057225   \n",
       "133  0.015610 -0.095007  0.013727  0.044787  0.027072  0.041472 -0.032911   \n",
       "\n",
       "           7         8         9   ...        90        91        92  \\\n",
       "0   -0.036322  0.022002 -0.038110  ... -0.008468 -0.025874 -0.042911   \n",
       "1   -0.049003  0.026737 -0.044802  ... -0.003399 -0.030882 -0.044675   \n",
       "2   -0.034535  0.025908 -0.043142  ... -0.000950 -0.026337 -0.039987   \n",
       "3   -0.052277  0.028999 -0.048381  ...  0.002088 -0.025905 -0.046753   \n",
       "4   -0.057028  0.025378 -0.047179  ...  0.000063 -0.040924 -0.044672   \n",
       "..        ...       ...       ...  ...       ...       ...       ...   \n",
       "129 -0.054770  0.046184  0.021672  ...  0.001891  0.006727 -0.063092   \n",
       "130 -0.014709  0.064864 -0.019219  ...  0.010486 -0.019986 -0.035715   \n",
       "131 -0.039959  0.021090 -0.015239  ...  0.042577 -0.063601 -0.039437   \n",
       "132 -0.047597  0.033977 -0.038330  ...  0.049079 -0.042000 -0.059939   \n",
       "133 -0.011113  0.043970 -0.057077  ...  0.078376 -0.065285 -0.056093   \n",
       "\n",
       "           93        94        95        96        97        98        99  \n",
       "0    0.010439 -0.033132 -0.031016  0.029759  0.038564 -0.073929  0.009071  \n",
       "1    0.014224 -0.038155 -0.045197  0.046021  0.035039 -0.063537  0.016889  \n",
       "2    0.016985 -0.032305 -0.025377  0.034128  0.045063 -0.070129  0.010135  \n",
       "3    0.017722 -0.049769 -0.041569  0.045628  0.048033 -0.052095  0.001780  \n",
       "4    0.002764 -0.046315 -0.041714  0.025870  0.044414 -0.062306  0.002915  \n",
       "..        ...       ...       ...       ...       ...       ...       ...  \n",
       "129  0.023970  0.005977 -0.000917  0.010586  0.082324 -0.023301  0.105981  \n",
       "130  0.066344 -0.020311 -0.065059  0.006659 -0.001099  0.048853 -0.026401  \n",
       "131 -0.002193 -0.034028 -0.030071  0.042929  0.007711 -0.029000  0.027680  \n",
       "132  0.032303 -0.017632 -0.043536  0.055813  0.022489 -0.049462  0.069193  \n",
       "133  0.033670  0.011124 -0.017338  0.042461  0.011624 -0.022269  0.005291  \n",
       "\n",
       "[134 rows x 100 columns]"
      ]
     },
     "execution_count": 181,
     "metadata": {},
     "output_type": "execute_result"
    }
   ],
   "source": [
    "embedded_products = products_tags_df['product_id_num'].apply(p_t_model.get_layer('product_embedding'))\n",
    "# columns = [x for x in range(100)]\n",
    "# embedded_movie_df = pd.DataFrame(columns = columns)\n",
    "embedded_products_df = pd.DataFrame()\n",
    "for data in embedded_products:\n",
    "    embedded_products_df = embedded_products_df.append(pd.Series(data), ignore_index=True)\n",
    "print(embedded_products_df.shape)\n",
    "embedded_products_df"
   ]
  },
  {
   "cell_type": "code",
   "execution_count": 182,
   "id": "9f41c042",
   "metadata": {},
   "outputs": [
    {
     "data": {
      "text/html": [
       "<div>\n",
       "<style scoped>\n",
       "    .dataframe tbody tr th:only-of-type {\n",
       "        vertical-align: middle;\n",
       "    }\n",
       "\n",
       "    .dataframe tbody tr th {\n",
       "        vertical-align: top;\n",
       "    }\n",
       "\n",
       "    .dataframe thead th {\n",
       "        text-align: right;\n",
       "    }\n",
       "</style>\n",
       "<table border=\"1\" class=\"dataframe\">\n",
       "  <thead>\n",
       "    <tr style=\"text-align: right;\">\n",
       "      <th></th>\n",
       "      <th>0</th>\n",
       "      <th>1</th>\n",
       "      <th>Variant SKU</th>\n",
       "      <th>description</th>\n",
       "    </tr>\n",
       "  </thead>\n",
       "  <tbody>\n",
       "    <tr>\n",
       "      <th>0</th>\n",
       "      <td>3.967932</td>\n",
       "      <td>-2.419495</td>\n",
       "      <td>HOD0772</td>\n",
       "      <td>ishyablockprintedkurtaset,ishyablockprintedkur...</td>\n",
       "    </tr>\n",
       "    <tr>\n",
       "      <th>1</th>\n",
       "      <td>4.028965</td>\n",
       "      <td>-2.323223</td>\n",
       "      <td>HOD0766</td>\n",
       "      <td>ahaanablockprintedkurtaset,ahaanablockprintedk...</td>\n",
       "    </tr>\n",
       "    <tr>\n",
       "      <th>2</th>\n",
       "      <td>4.799432</td>\n",
       "      <td>-1.786871</td>\n",
       "      <td>HOD0760</td>\n",
       "      <td>seherblockprintedkurtaset,seherblockprintedkur...</td>\n",
       "    </tr>\n",
       "    <tr>\n",
       "      <th>3</th>\n",
       "      <td>3.325000</td>\n",
       "      <td>-1.958223</td>\n",
       "      <td>HOD0754</td>\n",
       "      <td>mihirablockprintedkurtaset,mihirablockprintedk...</td>\n",
       "    </tr>\n",
       "    <tr>\n",
       "      <th>4</th>\n",
       "      <td>5.329153</td>\n",
       "      <td>-2.671635</td>\n",
       "      <td>HOD0748</td>\n",
       "      <td>baharblockprintedkurtaset,baharblockprintedkur...</td>\n",
       "    </tr>\n",
       "  </tbody>\n",
       "</table>\n",
       "</div>"
      ],
      "text/plain": [
       "          0         1 Variant SKU  \\\n",
       "0  3.967932 -2.419495     HOD0772   \n",
       "1  4.028965 -2.323223     HOD0766   \n",
       "2  4.799432 -1.786871     HOD0760   \n",
       "3  3.325000 -1.958223     HOD0754   \n",
       "4  5.329153 -2.671635     HOD0748   \n",
       "\n",
       "                                         description  \n",
       "0  ishyablockprintedkurtaset,ishyablockprintedkur...  \n",
       "1  ahaanablockprintedkurtaset,ahaanablockprintedk...  \n",
       "2  seherblockprintedkurtaset,seherblockprintedkur...  \n",
       "3  mihirablockprintedkurtaset,mihirablockprintedk...  \n",
       "4  baharblockprintedkurtaset,baharblockprintedkur...  "
      ]
     },
     "execution_count": 182,
     "metadata": {},
     "output_type": "execute_result"
    }
   ],
   "source": [
    "# PCA를 이용한 차원 축소\n",
    "from sklearn.preprocessing import StandardScaler\n",
    "from sklearn.decomposition import PCA\n",
    "\n",
    "product_scaled = StandardScaler().fit_transform(embedded_products_df)\n",
    "pca = PCA(n_components=2)\n",
    "pca.fit(product_scaled)\n",
    "product_pca = pca.transform(product_scaled)\n",
    "pca_columns=[f'{n}' for n in range(2)]\n",
    "product_df_pca = pd.DataFrame(product_pca,columns=pca_columns)\n",
    "product_df_pca = pd.concat([product_df_pca, products_tags_df[\"Variant SKU\"]], axis=1)\n",
    "product_df_pca = pd.concat([product_df_pca, products_tags_df[\"description\"]], axis=1)\n",
    "product_df_pca.head()"
   ]
  },
  {
   "cell_type": "code",
   "execution_count": 186,
   "id": "ad10d9da",
   "metadata": {
    "scrolled": true
   },
   "outputs": [
    {
     "data": {
      "application/vnd.plotly.v1+json": {
       "config": {
        "plotlyServerURL": "https://plot.ly"
       },
       "data": [
        {
         "hovertemplate": "Variant SKU=HOD0772<br>0=%{x}<br>1=%{y}<extra></extra>",
         "legendgroup": "HOD0772",
         "marker": {
          "color": "#636efa",
          "symbol": "circle"
         },
         "mode": "markers",
         "name": "HOD0772",
         "orientation": "v",
         "showlegend": true,
         "type": "scatter",
         "x": [
          3.9679324626922607
         ],
         "xaxis": "x",
         "y": [
          -2.419494867324829
         ],
         "yaxis": "y"
        },
        {
         "hovertemplate": "Variant SKU=HOD0766<br>0=%{x}<br>1=%{y}<extra></extra>",
         "legendgroup": "HOD0766",
         "marker": {
          "color": "#EF553B",
          "symbol": "circle"
         },
         "mode": "markers",
         "name": "HOD0766",
         "orientation": "v",
         "showlegend": true,
         "type": "scatter",
         "x": [
          4.028965473175049
         ],
         "xaxis": "x",
         "y": [
          -2.3232228755950928
         ],
         "yaxis": "y"
        },
        {
         "hovertemplate": "Variant SKU=HOD0760<br>0=%{x}<br>1=%{y}<extra></extra>",
         "legendgroup": "HOD0760",
         "marker": {
          "color": "#00cc96",
          "symbol": "circle"
         },
         "mode": "markers",
         "name": "HOD0760",
         "orientation": "v",
         "showlegend": true,
         "type": "scatter",
         "x": [
          4.799431800842285
         ],
         "xaxis": "x",
         "y": [
          -1.7868714332580566
         ],
         "yaxis": "y"
        },
        {
         "hovertemplate": "Variant SKU=HOD0754<br>0=%{x}<br>1=%{y}<extra></extra>",
         "legendgroup": "HOD0754",
         "marker": {
          "color": "#ab63fa",
          "symbol": "circle"
         },
         "mode": "markers",
         "name": "HOD0754",
         "orientation": "v",
         "showlegend": true,
         "type": "scatter",
         "x": [
          3.3249995708465576
         ],
         "xaxis": "x",
         "y": [
          -1.9582234621047974
         ],
         "yaxis": "y"
        },
        {
         "hovertemplate": "Variant SKU=HOD0748<br>0=%{x}<br>1=%{y}<extra></extra>",
         "legendgroup": "HOD0748",
         "marker": {
          "color": "#FFA15A",
          "symbol": "circle"
         },
         "mode": "markers",
         "name": "HOD0748",
         "orientation": "v",
         "showlegend": true,
         "type": "scatter",
         "x": [
          5.329153060913086
         ],
         "xaxis": "x",
         "y": [
          -2.671635389328003
         ],
         "yaxis": "y"
        },
        {
         "hovertemplate": "Variant SKU=HOD0742<br>0=%{x}<br>1=%{y}<extra></extra>",
         "legendgroup": "HOD0742",
         "marker": {
          "color": "#19d3f3",
          "symbol": "circle"
         },
         "mode": "markers",
         "name": "HOD0742",
         "orientation": "v",
         "showlegend": true,
         "type": "scatter",
         "x": [
          4.014037609100342
         ],
         "xaxis": "x",
         "y": [
          -2.474416971206665
         ],
         "yaxis": "y"
        },
        {
         "hovertemplate": "Variant SKU=HOD0727<br>0=%{x}<br>1=%{y}<extra></extra>",
         "legendgroup": "HOD0727",
         "marker": {
          "color": "#FF6692",
          "symbol": "circle"
         },
         "mode": "markers",
         "name": "HOD0727",
         "orientation": "v",
         "showlegend": true,
         "type": "scatter",
         "x": [
          4.862817287445068
         ],
         "xaxis": "x",
         "y": [
          -2.094735860824585
         ],
         "yaxis": "y"
        },
        {
         "hovertemplate": "Variant SKU=HOD0721<br>0=%{x}<br>1=%{y}<extra></extra>",
         "legendgroup": "HOD0721",
         "marker": {
          "color": "#B6E880",
          "symbol": "circle"
         },
         "mode": "markers",
         "name": "HOD0721",
         "orientation": "v",
         "showlegend": true,
         "type": "scatter",
         "x": [
          7.212925434112549
         ],
         "xaxis": "x",
         "y": [
          -1.2550032138824463
         ],
         "yaxis": "y"
        },
        {
         "hovertemplate": "Variant SKU=HOD0715<br>0=%{x}<br>1=%{y}<extra></extra>",
         "legendgroup": "HOD0715",
         "marker": {
          "color": "#FF97FF",
          "symbol": "circle"
         },
         "mode": "markers",
         "name": "HOD0715",
         "orientation": "v",
         "showlegend": true,
         "type": "scatter",
         "x": [
          7.013342380523682
         ],
         "xaxis": "x",
         "y": [
          -2.582336187362671
         ],
         "yaxis": "y"
        },
        {
         "hovertemplate": "Variant SKU=HOD0709<br>0=%{x}<br>1=%{y}<extra></extra>",
         "legendgroup": "HOD0709",
         "marker": {
          "color": "#FECB52",
          "symbol": "circle"
         },
         "mode": "markers",
         "name": "HOD0709",
         "orientation": "v",
         "showlegend": true,
         "type": "scatter",
         "x": [
          6.970489978790283
         ],
         "xaxis": "x",
         "y": [
          -1.8049931526184082
         ],
         "yaxis": "y"
        },
        {
         "hovertemplate": "Variant SKU=HOD0703<br>0=%{x}<br>1=%{y}<extra></extra>",
         "legendgroup": "HOD0703",
         "marker": {
          "color": "#636efa",
          "symbol": "circle"
         },
         "mode": "markers",
         "name": "HOD0703",
         "orientation": "v",
         "showlegend": true,
         "type": "scatter",
         "x": [
          7.864948749542236
         ],
         "xaxis": "x",
         "y": [
          -3.00844669342041
         ],
         "yaxis": "y"
        },
        {
         "hovertemplate": "Variant SKU=HOD0697<br>0=%{x}<br>1=%{y}<extra></extra>",
         "legendgroup": "HOD0697",
         "marker": {
          "color": "#EF553B",
          "symbol": "circle"
         },
         "mode": "markers",
         "name": "HOD0697",
         "orientation": "v",
         "showlegend": true,
         "type": "scatter",
         "x": [
          6.993408679962158
         ],
         "xaxis": "x",
         "y": [
          0.3040299117565155
         ],
         "yaxis": "y"
        },
        {
         "hovertemplate": "Variant SKU=HOD0691<br>0=%{x}<br>1=%{y}<extra></extra>",
         "legendgroup": "HOD0691",
         "marker": {
          "color": "#00cc96",
          "symbol": "circle"
         },
         "mode": "markers",
         "name": "HOD0691",
         "orientation": "v",
         "showlegend": true,
         "type": "scatter",
         "x": [
          6.988264560699463
         ],
         "xaxis": "x",
         "y": [
          -2.3329052925109863
         ],
         "yaxis": "y"
        },
        {
         "hovertemplate": "Variant SKU=HOD0685<br>0=%{x}<br>1=%{y}<extra></extra>",
         "legendgroup": "HOD0685",
         "marker": {
          "color": "#ab63fa",
          "symbol": "circle"
         },
         "mode": "markers",
         "name": "HOD0685",
         "orientation": "v",
         "showlegend": true,
         "type": "scatter",
         "x": [
          6.388253688812256
         ],
         "xaxis": "x",
         "y": [
          -2.8386893272399902
         ],
         "yaxis": "y"
        },
        {
         "hovertemplate": "Variant SKU=HOD0679<br>0=%{x}<br>1=%{y}<extra></extra>",
         "legendgroup": "HOD0679",
         "marker": {
          "color": "#FFA15A",
          "symbol": "circle"
         },
         "mode": "markers",
         "name": "HOD0679",
         "orientation": "v",
         "showlegend": true,
         "type": "scatter",
         "x": [
          7.17818546295166
         ],
         "xaxis": "x",
         "y": [
          -0.8043975234031677
         ],
         "yaxis": "y"
        },
        {
         "hovertemplate": "Variant SKU=HOD0673<br>0=%{x}<br>1=%{y}<extra></extra>",
         "legendgroup": "HOD0673",
         "marker": {
          "color": "#19d3f3",
          "symbol": "circle"
         },
         "mode": "markers",
         "name": "HOD0673",
         "orientation": "v",
         "showlegend": true,
         "type": "scatter",
         "x": [
          5.254006862640381
         ],
         "xaxis": "x",
         "y": [
          -3.2667572498321533
         ],
         "yaxis": "y"
        },
        {
         "hovertemplate": "Variant SKU=HOD0667<br>0=%{x}<br>1=%{y}<extra></extra>",
         "legendgroup": "HOD0667",
         "marker": {
          "color": "#FF6692",
          "symbol": "circle"
         },
         "mode": "markers",
         "name": "HOD0667",
         "orientation": "v",
         "showlegend": true,
         "type": "scatter",
         "x": [
          8.337307929992676
         ],
         "xaxis": "x",
         "y": [
          -2.01765513420105
         ],
         "yaxis": "y"
        },
        {
         "hovertemplate": "Variant SKU=HOD0663<br>0=%{x}<br>1=%{y}<extra></extra>",
         "legendgroup": "HOD0663",
         "marker": {
          "color": "#B6E880",
          "symbol": "circle"
         },
         "mode": "markers",
         "name": "HOD0663",
         "orientation": "v",
         "showlegend": true,
         "type": "scatter",
         "x": [
          -2.3816118240356445
         ],
         "xaxis": "x",
         "y": [
          9.557395935058594
         ],
         "yaxis": "y"
        },
        {
         "hovertemplate": "Variant SKU=HOD0659<br>0=%{x}<br>1=%{y}<extra></extra>",
         "legendgroup": "HOD0659",
         "marker": {
          "color": "#FF97FF",
          "symbol": "circle"
         },
         "mode": "markers",
         "name": "HOD0659",
         "orientation": "v",
         "showlegend": true,
         "type": "scatter",
         "x": [
          -2.7893991470336914
         ],
         "xaxis": "x",
         "y": [
          7.904911994934082
         ],
         "yaxis": "y"
        },
        {
         "hovertemplate": "Variant SKU=HOD0655<br>0=%{x}<br>1=%{y}<extra></extra>",
         "legendgroup": "HOD0655",
         "marker": {
          "color": "#FECB52",
          "symbol": "circle"
         },
         "mode": "markers",
         "name": "HOD0655",
         "orientation": "v",
         "showlegend": true,
         "type": "scatter",
         "x": [
          -3.528017520904541
         ],
         "xaxis": "x",
         "y": [
          7.353113174438477
         ],
         "yaxis": "y"
        },
        {
         "hovertemplate": "Variant SKU=HOD0651<br>0=%{x}<br>1=%{y}<extra></extra>",
         "legendgroup": "HOD0651",
         "marker": {
          "color": "#636efa",
          "symbol": "circle"
         },
         "mode": "markers",
         "name": "HOD0651",
         "orientation": "v",
         "showlegend": true,
         "type": "scatter",
         "x": [
          -3.980325937271118
         ],
         "xaxis": "x",
         "y": [
          2.614922285079956
         ],
         "yaxis": "y"
        },
        {
         "hovertemplate": "Variant SKU=HOD0647<br>0=%{x}<br>1=%{y}<extra></extra>",
         "legendgroup": "HOD0647",
         "marker": {
          "color": "#EF553B",
          "symbol": "circle"
         },
         "mode": "markers",
         "name": "HOD0647",
         "orientation": "v",
         "showlegend": true,
         "type": "scatter",
         "x": [
          -2.38836407661438
         ],
         "xaxis": "x",
         "y": [
          5.590141773223877
         ],
         "yaxis": "y"
        },
        {
         "hovertemplate": "Variant SKU=HOD0643<br>0=%{x}<br>1=%{y}<extra></extra>",
         "legendgroup": "HOD0643",
         "marker": {
          "color": "#00cc96",
          "symbol": "circle"
         },
         "mode": "markers",
         "name": "HOD0643",
         "orientation": "v",
         "showlegend": true,
         "type": "scatter",
         "x": [
          -1.9913684129714966
         ],
         "xaxis": "x",
         "y": [
          6.155217170715332
         ],
         "yaxis": "y"
        },
        {
         "hovertemplate": "Variant SKU=HOD0639<br>0=%{x}<br>1=%{y}<extra></extra>",
         "legendgroup": "HOD0639",
         "marker": {
          "color": "#ab63fa",
          "symbol": "circle"
         },
         "mode": "markers",
         "name": "HOD0639",
         "orientation": "v",
         "showlegend": true,
         "type": "scatter",
         "x": [
          -2.028975486755371
         ],
         "xaxis": "x",
         "y": [
          6.2793660163879395
         ],
         "yaxis": "y"
        },
        {
         "hovertemplate": "Variant SKU=HOD0635<br>0=%{x}<br>1=%{y}<extra></extra>",
         "legendgroup": "HOD0635",
         "marker": {
          "color": "#FFA15A",
          "symbol": "circle"
         },
         "mode": "markers",
         "name": "HOD0635",
         "orientation": "v",
         "showlegend": true,
         "type": "scatter",
         "x": [
          -0.6819325089454651
         ],
         "xaxis": "x",
         "y": [
          7.09114933013916
         ],
         "yaxis": "y"
        },
        {
         "hovertemplate": "Variant SKU=HOD0631<br>0=%{x}<br>1=%{y}<extra></extra>",
         "legendgroup": "HOD0631",
         "marker": {
          "color": "#19d3f3",
          "symbol": "circle"
         },
         "mode": "markers",
         "name": "HOD0631",
         "orientation": "v",
         "showlegend": true,
         "type": "scatter",
         "x": [
          -2.1191766262054443
         ],
         "xaxis": "x",
         "y": [
          5.737884998321533
         ],
         "yaxis": "y"
        },
        {
         "hovertemplate": "Variant SKU=HOD0627<br>0=%{x}<br>1=%{y}<extra></extra>",
         "legendgroup": "HOD0627",
         "marker": {
          "color": "#FF6692",
          "symbol": "circle"
         },
         "mode": "markers",
         "name": "HOD0627",
         "orientation": "v",
         "showlegend": true,
         "type": "scatter",
         "x": [
          -2.5640318393707275
         ],
         "xaxis": "x",
         "y": [
          5.780664443969727
         ],
         "yaxis": "y"
        },
        {
         "hovertemplate": "Variant SKU=HOD0623<br>0=%{x}<br>1=%{y}<extra></extra>",
         "legendgroup": "HOD0623",
         "marker": {
          "color": "#B6E880",
          "symbol": "circle"
         },
         "mode": "markers",
         "name": "HOD0623",
         "orientation": "v",
         "showlegend": true,
         "type": "scatter",
         "x": [
          -1.7565776109695435
         ],
         "xaxis": "x",
         "y": [
          4.887216091156006
         ],
         "yaxis": "y"
        },
        {
         "hovertemplate": "Variant SKU=HOD0619<br>0=%{x}<br>1=%{y}<extra></extra>",
         "legendgroup": "HOD0619",
         "marker": {
          "color": "#FF97FF",
          "symbol": "circle"
         },
         "mode": "markers",
         "name": "HOD0619",
         "orientation": "v",
         "showlegend": true,
         "type": "scatter",
         "x": [
          -3.2643985748291016
         ],
         "xaxis": "x",
         "y": [
          8.471121788024902
         ],
         "yaxis": "y"
        },
        {
         "hovertemplate": "Variant SKU=HOD0615<br>0=%{x}<br>1=%{y}<extra></extra>",
         "legendgroup": "HOD0615",
         "marker": {
          "color": "#FECB52",
          "symbol": "circle"
         },
         "mode": "markers",
         "name": "HOD0615",
         "orientation": "v",
         "showlegend": true,
         "type": "scatter",
         "x": [
          -2.4622268676757812
         ],
         "xaxis": "x",
         "y": [
          5.481412887573242
         ],
         "yaxis": "y"
        },
        {
         "hovertemplate": "Variant SKU=HOD0611<br>0=%{x}<br>1=%{y}<extra></extra>",
         "legendgroup": "HOD0611",
         "marker": {
          "color": "#636efa",
          "symbol": "circle"
         },
         "mode": "markers",
         "name": "HOD0611",
         "orientation": "v",
         "showlegend": true,
         "type": "scatter",
         "x": [
          -1.225698471069336
         ],
         "xaxis": "x",
         "y": [
          6.617658615112305
         ],
         "yaxis": "y"
        },
        {
         "hovertemplate": "Variant SKU=HOD0607<br>0=%{x}<br>1=%{y}<extra></extra>",
         "legendgroup": "HOD0607",
         "marker": {
          "color": "#EF553B",
          "symbol": "circle"
         },
         "mode": "markers",
         "name": "HOD0607",
         "orientation": "v",
         "showlegend": true,
         "type": "scatter",
         "x": [
          -3.199296236038208
         ],
         "xaxis": "x",
         "y": [
          6.583909511566162
         ],
         "yaxis": "y"
        },
        {
         "hovertemplate": "Variant SKU=HOD0603<br>0=%{x}<br>1=%{y}<extra></extra>",
         "legendgroup": "HOD0603",
         "marker": {
          "color": "#00cc96",
          "symbol": "circle"
         },
         "mode": "markers",
         "name": "HOD0603",
         "orientation": "v",
         "showlegend": true,
         "type": "scatter",
         "x": [
          -1.3375344276428223
         ],
         "xaxis": "x",
         "y": [
          5.6597819328308105
         ],
         "yaxis": "y"
        },
        {
         "hovertemplate": "Variant SKU=HOD0599<br>0=%{x}<br>1=%{y}<extra></extra>",
         "legendgroup": "HOD0599",
         "marker": {
          "color": "#ab63fa",
          "symbol": "circle"
         },
         "mode": "markers",
         "name": "HOD0599",
         "orientation": "v",
         "showlegend": true,
         "type": "scatter",
         "x": [
          -3.9213054180145264
         ],
         "xaxis": "x",
         "y": [
          5.6281819343566895
         ],
         "yaxis": "y"
        },
        {
         "hovertemplate": "Variant SKU=HOD0591<br>0=%{x}<br>1=%{y}<extra></extra>",
         "legendgroup": "HOD0591",
         "marker": {
          "color": "#FFA15A",
          "symbol": "circle"
         },
         "mode": "markers",
         "name": "HOD0591",
         "orientation": "v",
         "showlegend": true,
         "type": "scatter",
         "x": [
          -3.9473843574523926
         ],
         "xaxis": "x",
         "y": [
          6.800642490386963
         ],
         "yaxis": "y"
        },
        {
         "hovertemplate": "Variant SKU=HOD0587<br>0=%{x}<br>1=%{y}<extra></extra>",
         "legendgroup": "HOD0587",
         "marker": {
          "color": "#19d3f3",
          "symbol": "circle"
         },
         "mode": "markers",
         "name": "HOD0587",
         "orientation": "v",
         "showlegend": true,
         "type": "scatter",
         "x": [
          -2.544739007949829
         ],
         "xaxis": "x",
         "y": [
          6.291837692260742
         ],
         "yaxis": "y"
        },
        {
         "hovertemplate": "Variant SKU=HOD0583<br>0=%{x}<br>1=%{y}<extra></extra>",
         "legendgroup": "HOD0583",
         "marker": {
          "color": "#FF6692",
          "symbol": "circle"
         },
         "mode": "markers",
         "name": "HOD0583",
         "orientation": "v",
         "showlegend": true,
         "type": "scatter",
         "x": [
          -3.50219464302063
         ],
         "xaxis": "x",
         "y": [
          7.594549655914307
         ],
         "yaxis": "y"
        },
        {
         "hovertemplate": "Variant SKU=HOD0579<br>0=%{x}<br>1=%{y}<extra></extra>",
         "legendgroup": "HOD0579",
         "marker": {
          "color": "#B6E880",
          "symbol": "circle"
         },
         "mode": "markers",
         "name": "HOD0579",
         "orientation": "v",
         "showlegend": true,
         "type": "scatter",
         "x": [
          -0.9907866716384888
         ],
         "xaxis": "x",
         "y": [
          7.614912033081055
         ],
         "yaxis": "y"
        },
        {
         "hovertemplate": "Variant SKU=HOD0575<br>0=%{x}<br>1=%{y}<extra></extra>",
         "legendgroup": "HOD0575",
         "marker": {
          "color": "#FF97FF",
          "symbol": "circle"
         },
         "mode": "markers",
         "name": "HOD0575",
         "orientation": "v",
         "showlegend": true,
         "type": "scatter",
         "x": [
          -1.4008277654647827
         ],
         "xaxis": "x",
         "y": [
          7.150444984436035
         ],
         "yaxis": "y"
        },
        {
         "hovertemplate": "Variant SKU=HOD0571<br>0=%{x}<br>1=%{y}<extra></extra>",
         "legendgroup": "HOD0571",
         "marker": {
          "color": "#FECB52",
          "symbol": "circle"
         },
         "mode": "markers",
         "name": "HOD0571",
         "orientation": "v",
         "showlegend": true,
         "type": "scatter",
         "x": [
          -1.244449257850647
         ],
         "xaxis": "x",
         "y": [
          7.889472484588623
         ],
         "yaxis": "y"
        },
        {
         "hovertemplate": "Variant SKU=HOD0567<br>0=%{x}<br>1=%{y}<extra></extra>",
         "legendgroup": "HOD0567",
         "marker": {
          "color": "#636efa",
          "symbol": "circle"
         },
         "mode": "markers",
         "name": "HOD0567",
         "orientation": "v",
         "showlegend": true,
         "type": "scatter",
         "x": [
          -0.1286010444164276
         ],
         "xaxis": "x",
         "y": [
          6.006269931793213
         ],
         "yaxis": "y"
        },
        {
         "hovertemplate": "Variant SKU=HOD0563<br>0=%{x}<br>1=%{y}<extra></extra>",
         "legendgroup": "HOD0563",
         "marker": {
          "color": "#EF553B",
          "symbol": "circle"
         },
         "mode": "markers",
         "name": "HOD0563",
         "orientation": "v",
         "showlegend": true,
         "type": "scatter",
         "x": [
          -2.2592921257019043
         ],
         "xaxis": "x",
         "y": [
          6.922704696655273
         ],
         "yaxis": "y"
        },
        {
         "hovertemplate": "Variant SKU=HOD0555<br>0=%{x}<br>1=%{y}<extra></extra>",
         "legendgroup": "HOD0555",
         "marker": {
          "color": "#00cc96",
          "symbol": "circle"
         },
         "mode": "markers",
         "name": "HOD0555",
         "orientation": "v",
         "showlegend": true,
         "type": "scatter",
         "x": [
          -1.9089897871017456
         ],
         "xaxis": "x",
         "y": [
          6.410842418670654
         ],
         "yaxis": "y"
        },
        {
         "hovertemplate": "Variant SKU=HOD0529<br>0=%{x}<br>1=%{y}<extra></extra>",
         "legendgroup": "HOD0529",
         "marker": {
          "color": "#ab63fa",
          "symbol": "circle"
         },
         "mode": "markers",
         "name": "HOD0529",
         "orientation": "v",
         "showlegend": true,
         "type": "scatter",
         "x": [
          4.856169700622559
         ],
         "xaxis": "x",
         "y": [
          -1.8975032567977905
         ],
         "yaxis": "y"
        },
        {
         "hovertemplate": "Variant SKU=HOD0523<br>0=%{x}<br>1=%{y}<extra></extra>",
         "legendgroup": "HOD0523",
         "marker": {
          "color": "#FFA15A",
          "symbol": "circle"
         },
         "mode": "markers",
         "name": "HOD0523",
         "orientation": "v",
         "showlegend": true,
         "type": "scatter",
         "x": [
          3.600318193435669
         ],
         "xaxis": "x",
         "y": [
          -1.7366136312484741
         ],
         "yaxis": "y"
        },
        {
         "hovertemplate": "Variant SKU=HOD0517<br>0=%{x}<br>1=%{y}<extra></extra>",
         "legendgroup": "HOD0517",
         "marker": {
          "color": "#19d3f3",
          "symbol": "circle"
         },
         "mode": "markers",
         "name": "HOD0517",
         "orientation": "v",
         "showlegend": true,
         "type": "scatter",
         "x": [
          3.395266056060791
         ],
         "xaxis": "x",
         "y": [
          -1.4114521741867065
         ],
         "yaxis": "y"
        },
        {
         "hovertemplate": "Variant SKU=HOD0511<br>0=%{x}<br>1=%{y}<extra></extra>",
         "legendgroup": "HOD0511",
         "marker": {
          "color": "#FF6692",
          "symbol": "circle"
         },
         "mode": "markers",
         "name": "HOD0511",
         "orientation": "v",
         "showlegend": true,
         "type": "scatter",
         "x": [
          3.9268829822540283
         ],
         "xaxis": "x",
         "y": [
          -0.764501690864563
         ],
         "yaxis": "y"
        },
        {
         "hovertemplate": "Variant SKU=HOD0505<br>0=%{x}<br>1=%{y}<extra></extra>",
         "legendgroup": "HOD0505",
         "marker": {
          "color": "#B6E880",
          "symbol": "circle"
         },
         "mode": "markers",
         "name": "HOD0505",
         "orientation": "v",
         "showlegend": true,
         "type": "scatter",
         "x": [
          4.065436840057373
         ],
         "xaxis": "x",
         "y": [
          -2.31421160697937
         ],
         "yaxis": "y"
        },
        {
         "hovertemplate": "Variant SKU=HOD0493<br>0=%{x}<br>1=%{y}<extra></extra>",
         "legendgroup": "HOD0493",
         "marker": {
          "color": "#FF97FF",
          "symbol": "circle"
         },
         "mode": "markers",
         "name": "HOD0493",
         "orientation": "v",
         "showlegend": true,
         "type": "scatter",
         "x": [
          3.085273504257202
         ],
         "xaxis": "x",
         "y": [
          -1.563555121421814
         ],
         "yaxis": "y"
        },
        {
         "hovertemplate": "Variant SKU=HOD0487<br>0=%{x}<br>1=%{y}<extra></extra>",
         "legendgroup": "HOD0487",
         "marker": {
          "color": "#FECB52",
          "symbol": "circle"
         },
         "mode": "markers",
         "name": "HOD0487",
         "orientation": "v",
         "showlegend": true,
         "type": "scatter",
         "x": [
          1.794392704963684
         ],
         "xaxis": "x",
         "y": [
          -1.2602132558822632
         ],
         "yaxis": "y"
        },
        {
         "hovertemplate": "Variant SKU=HOD0481<br>0=%{x}<br>1=%{y}<extra></extra>",
         "legendgroup": "HOD0481",
         "marker": {
          "color": "#636efa",
          "symbol": "circle"
         },
         "mode": "markers",
         "name": "HOD0481",
         "orientation": "v",
         "showlegend": true,
         "type": "scatter",
         "x": [
          2.542804479598999
         ],
         "xaxis": "x",
         "y": [
          -1.6452950239181519
         ],
         "yaxis": "y"
        },
        {
         "hovertemplate": "Variant SKU=HOD0475<br>0=%{x}<br>1=%{y}<extra></extra>",
         "legendgroup": "HOD0475",
         "marker": {
          "color": "#EF553B",
          "symbol": "circle"
         },
         "mode": "markers",
         "name": "HOD0475",
         "orientation": "v",
         "showlegend": true,
         "type": "scatter",
         "x": [
          2.254621744155884
         ],
         "xaxis": "x",
         "y": [
          -1.7610374689102173
         ],
         "yaxis": "y"
        },
        {
         "hovertemplate": "Variant SKU=HOD0277<br>0=%{x}<br>1=%{y}<extra></extra>",
         "legendgroup": "HOD0277",
         "marker": {
          "color": "#00cc96",
          "symbol": "circle"
         },
         "mode": "markers",
         "name": "HOD0277",
         "orientation": "v",
         "showlegend": true,
         "type": "scatter",
         "x": [
          -0.25614988803863525
         ],
         "xaxis": "x",
         "y": [
          -0.75645911693573
         ],
         "yaxis": "y"
        },
        {
         "hovertemplate": "Variant SKU=HOD0271<br>0=%{x}<br>1=%{y}<extra></extra>",
         "legendgroup": "HOD0271",
         "marker": {
          "color": "#ab63fa",
          "symbol": "circle"
         },
         "mode": "markers",
         "name": "HOD0271",
         "orientation": "v",
         "showlegend": true,
         "type": "scatter",
         "x": [
          1.6227487325668335
         ],
         "xaxis": "x",
         "y": [
          -2.628342628479004
         ],
         "yaxis": "y"
        },
        {
         "hovertemplate": "Variant SKU=HOD0265<br>0=%{x}<br>1=%{y}<extra></extra>",
         "legendgroup": "HOD0265",
         "marker": {
          "color": "#FFA15A",
          "symbol": "circle"
         },
         "mode": "markers",
         "name": "HOD0265",
         "orientation": "v",
         "showlegend": true,
         "type": "scatter",
         "x": [
          -1.6243544816970825
         ],
         "xaxis": "x",
         "y": [
          -2.8036651611328125
         ],
         "yaxis": "y"
        },
        {
         "hovertemplate": "Variant SKU=HOD0259<br>0=%{x}<br>1=%{y}<extra></extra>",
         "legendgroup": "HOD0259",
         "marker": {
          "color": "#19d3f3",
          "symbol": "circle"
         },
         "mode": "markers",
         "name": "HOD0259",
         "orientation": "v",
         "showlegend": true,
         "type": "scatter",
         "x": [
          2.5168087482452393
         ],
         "xaxis": "x",
         "y": [
          -0.2610321342945099
         ],
         "yaxis": "y"
        },
        {
         "hovertemplate": "Variant SKU=HOD0253<br>0=%{x}<br>1=%{y}<extra></extra>",
         "legendgroup": "HOD0253",
         "marker": {
          "color": "#FF6692",
          "symbol": "circle"
         },
         "mode": "markers",
         "name": "HOD0253",
         "orientation": "v",
         "showlegend": true,
         "type": "scatter",
         "x": [
          1.079759955406189
         ],
         "xaxis": "x",
         "y": [
          0.708254337310791
         ],
         "yaxis": "y"
        },
        {
         "hovertemplate": "Variant SKU=HOD0247<br>0=%{x}<br>1=%{y}<extra></extra>",
         "legendgroup": "HOD0247",
         "marker": {
          "color": "#B6E880",
          "symbol": "circle"
         },
         "mode": "markers",
         "name": "HOD0247",
         "orientation": "v",
         "showlegend": true,
         "type": "scatter",
         "x": [
          3.2057671546936035
         ],
         "xaxis": "x",
         "y": [
          0.47384291887283325
         ],
         "yaxis": "y"
        },
        {
         "hovertemplate": "Variant SKU=HOD0552<br>0=%{x}<br>1=%{y}<extra></extra>",
         "legendgroup": "HOD0552",
         "marker": {
          "color": "#FF97FF",
          "symbol": "circle"
         },
         "mode": "markers",
         "name": "HOD0552",
         "orientation": "v",
         "showlegend": true,
         "type": "scatter",
         "x": [
          0.42627525329589844
         ],
         "xaxis": "x",
         "y": [
          3.0433621406555176
         ],
         "yaxis": "y"
        },
        {
         "hovertemplate": "Variant SKU=HOD0241<br>0=%{x}<br>1=%{y}<extra></extra>",
         "legendgroup": "HOD0241",
         "marker": {
          "color": "#FECB52",
          "symbol": "circle"
         },
         "mode": "markers",
         "name": "HOD0241",
         "orientation": "v",
         "showlegend": true,
         "type": "scatter",
         "x": [
          1.415710210800171
         ],
         "xaxis": "x",
         "y": [
          -1.3642195463180542
         ],
         "yaxis": "y"
        },
        {
         "hovertemplate": "Variant SKU=HOD0551<br>0=%{x}<br>1=%{y}<extra></extra>",
         "legendgroup": "HOD0551",
         "marker": {
          "color": "#636efa",
          "symbol": "circle"
         },
         "mode": "markers",
         "name": "HOD0551",
         "orientation": "v",
         "showlegend": true,
         "type": "scatter",
         "x": [
          0.3626669943332672
         ],
         "xaxis": "x",
         "y": [
          3.1656606197357178
         ],
         "yaxis": "y"
        },
        {
         "hovertemplate": "Variant SKU=HOD0550<br>0=%{x}<br>1=%{y}<extra></extra>",
         "legendgroup": "HOD0550",
         "marker": {
          "color": "#EF553B",
          "symbol": "circle"
         },
         "mode": "markers",
         "name": "HOD0550",
         "orientation": "v",
         "showlegend": true,
         "type": "scatter",
         "x": [
          0.26646631956100464
         ],
         "xaxis": "x",
         "y": [
          3.03267765045166
         ],
         "yaxis": "y"
        },
        {
         "hovertemplate": "Variant SKU=HOD0235<br>0=%{x}<br>1=%{y}<extra></extra>",
         "legendgroup": "HOD0235",
         "marker": {
          "color": "#00cc96",
          "symbol": "circle"
         },
         "mode": "markers",
         "name": "HOD0235",
         "orientation": "v",
         "showlegend": true,
         "type": "scatter",
         "x": [
          5.888155937194824
         ],
         "xaxis": "x",
         "y": [
          -0.349142462015152
         ],
         "yaxis": "y"
        },
        {
         "hovertemplate": "Variant SKU=HOD0548<br>0=%{x}<br>1=%{y}<extra></extra>",
         "legendgroup": "HOD0548",
         "marker": {
          "color": "#ab63fa",
          "symbol": "circle"
         },
         "mode": "markers",
         "name": "HOD0548",
         "orientation": "v",
         "showlegend": true,
         "type": "scatter",
         "x": [
          -1.1618214845657349
         ],
         "xaxis": "x",
         "y": [
          4.751272201538086
         ],
         "yaxis": "y"
        },
        {
         "hovertemplate": "Variant SKU=HOD0547<br>0=%{x}<br>1=%{y}<extra></extra>",
         "legendgroup": "HOD0547",
         "marker": {
          "color": "#FFA15A",
          "symbol": "circle"
         },
         "mode": "markers",
         "name": "HOD0547",
         "orientation": "v",
         "showlegend": true,
         "type": "scatter",
         "x": [
          -0.6111360788345337
         ],
         "xaxis": "x",
         "y": [
          4.425596714019775
         ],
         "yaxis": "y"
        },
        {
         "hovertemplate": "Variant SKU=HOD0229<br>0=%{x}<br>1=%{y}<extra></extra>",
         "legendgroup": "HOD0229",
         "marker": {
          "color": "#19d3f3",
          "symbol": "circle"
         },
         "mode": "markers",
         "name": "HOD0229",
         "orientation": "v",
         "showlegend": true,
         "type": "scatter",
         "x": [
          3.1988470554351807
         ],
         "xaxis": "x",
         "y": [
          -0.8396100997924805
         ],
         "yaxis": "y"
        },
        {
         "hovertemplate": "Variant SKU=HOD0223<br>0=%{x}<br>1=%{y}<extra></extra>",
         "legendgroup": "HOD0223",
         "marker": {
          "color": "#FF6692",
          "symbol": "circle"
         },
         "mode": "markers",
         "name": "HOD0223",
         "orientation": "v",
         "showlegend": true,
         "type": "scatter",
         "x": [
          1.9379183053970337
         ],
         "xaxis": "x",
         "y": [
          -1.2030054330825806
         ],
         "yaxis": "y"
        },
        {
         "hovertemplate": "Variant SKU=HOD0545<br>0=%{x}<br>1=%{y}<extra></extra>",
         "legendgroup": "HOD0545",
         "marker": {
          "color": "#B6E880",
          "symbol": "circle"
         },
         "mode": "markers",
         "name": "HOD0545",
         "orientation": "v",
         "showlegend": true,
         "type": "scatter",
         "x": [
          -1.3778232336044312
         ],
         "xaxis": "x",
         "y": [
          5.682319164276123
         ],
         "yaxis": "y"
        },
        {
         "hovertemplate": "Variant SKU=HOD0544<br>0=%{x}<br>1=%{y}<extra></extra>",
         "legendgroup": "HOD0544",
         "marker": {
          "color": "#FF97FF",
          "symbol": "circle"
         },
         "mode": "markers",
         "name": "HOD0544",
         "orientation": "v",
         "showlegend": true,
         "type": "scatter",
         "x": [
          0.08895865082740784
         ],
         "xaxis": "x",
         "y": [
          3.3217990398406982
         ],
         "yaxis": "y"
        },
        {
         "hovertemplate": "Variant SKU=HOD0543<br>0=%{x}<br>1=%{y}<extra></extra>",
         "legendgroup": "HOD0543",
         "marker": {
          "color": "#FECB52",
          "symbol": "circle"
         },
         "mode": "markers",
         "name": "HOD0543",
         "orientation": "v",
         "showlegend": true,
         "type": "scatter",
         "x": [
          -1.1414498090744019
         ],
         "xaxis": "x",
         "y": [
          2.590524196624756
         ],
         "yaxis": "y"
        },
        {
         "hovertemplate": "Variant SKU=HOD0217<br>0=%{x}<br>1=%{y}<extra></extra>",
         "legendgroup": "HOD0217",
         "marker": {
          "color": "#636efa",
          "symbol": "circle"
         },
         "mode": "markers",
         "name": "HOD0217",
         "orientation": "v",
         "showlegend": true,
         "type": "scatter",
         "x": [
          2.253591537475586
         ],
         "xaxis": "x",
         "y": [
          0.9857511520385742
         ],
         "yaxis": "y"
        },
        {
         "hovertemplate": "Variant SKU=HOD0542<br>0=%{x}<br>1=%{y}<extra></extra>",
         "legendgroup": "HOD0542",
         "marker": {
          "color": "#EF553B",
          "symbol": "circle"
         },
         "mode": "markers",
         "name": "HOD0542",
         "orientation": "v",
         "showlegend": true,
         "type": "scatter",
         "x": [
          -0.6524646878242493
         ],
         "xaxis": "x",
         "y": [
          1.733711838722229
         ],
         "yaxis": "y"
        },
        {
         "hovertemplate": "Variant SKU=HOD0211<br>0=%{x}<br>1=%{y}<extra></extra>",
         "legendgroup": "HOD0211",
         "marker": {
          "color": "#00cc96",
          "symbol": "circle"
         },
         "mode": "markers",
         "name": "HOD0211",
         "orientation": "v",
         "showlegend": true,
         "type": "scatter",
         "x": [
          2.5467324256896973
         ],
         "xaxis": "x",
         "y": [
          -0.9164548516273499
         ],
         "yaxis": "y"
        },
        {
         "hovertemplate": "Variant SKU=HOD0538<br>0=%{x}<br>1=%{y}<extra></extra>",
         "legendgroup": "HOD0538",
         "marker": {
          "color": "#ab63fa",
          "symbol": "circle"
         },
         "mode": "markers",
         "name": "HOD0538",
         "orientation": "v",
         "showlegend": true,
         "type": "scatter",
         "x": [
          1.4150047302246094
         ],
         "xaxis": "x",
         "y": [
          3.2388839721679688
         ],
         "yaxis": "y"
        },
        {
         "hovertemplate": "Variant SKU=HOD0205<br>0=%{x}<br>1=%{y}<extra></extra>",
         "legendgroup": "HOD0205",
         "marker": {
          "color": "#FFA15A",
          "symbol": "circle"
         },
         "mode": "markers",
         "name": "HOD0205",
         "orientation": "v",
         "showlegend": true,
         "type": "scatter",
         "x": [
          4.979842662811279
         ],
         "xaxis": "x",
         "y": [
          -0.20450109243392944
         ],
         "yaxis": "y"
        },
        {
         "hovertemplate": "Variant SKU=HOD0537<br>0=%{x}<br>1=%{y}<extra></extra>",
         "legendgroup": "HOD0537",
         "marker": {
          "color": "#19d3f3",
          "symbol": "circle"
         },
         "mode": "markers",
         "name": "HOD0537",
         "orientation": "v",
         "showlegend": true,
         "type": "scatter",
         "x": [
          -2.130598545074463
         ],
         "xaxis": "x",
         "y": [
          1.8037526607513428
         ],
         "yaxis": "y"
        },
        {
         "hovertemplate": "Variant SKU=HOD0536<br>0=%{x}<br>1=%{y}<extra></extra>",
         "legendgroup": "HOD0536",
         "marker": {
          "color": "#FF6692",
          "symbol": "circle"
         },
         "mode": "markers",
         "name": "HOD0536",
         "orientation": "v",
         "showlegend": true,
         "type": "scatter",
         "x": [
          -1.552048683166504
         ],
         "xaxis": "x",
         "y": [
          1.656002402305603
         ],
         "yaxis": "y"
        },
        {
         "hovertemplate": "Variant SKU=HOD0199<br>0=%{x}<br>1=%{y}<extra></extra>",
         "legendgroup": "HOD0199",
         "marker": {
          "color": "#B6E880",
          "symbol": "circle"
         },
         "mode": "markers",
         "name": "HOD0199",
         "orientation": "v",
         "showlegend": true,
         "type": "scatter",
         "x": [
          3.1568257808685303
         ],
         "xaxis": "x",
         "y": [
          0.028927121311426163
         ],
         "yaxis": "y"
        },
        {
         "hovertemplate": "Variant SKU=HOD0193<br>0=%{x}<br>1=%{y}<extra></extra>",
         "legendgroup": "HOD0193",
         "marker": {
          "color": "#FF97FF",
          "symbol": "circle"
         },
         "mode": "markers",
         "name": "HOD0193",
         "orientation": "v",
         "showlegend": true,
         "type": "scatter",
         "x": [
          -0.23072518408298492
         ],
         "xaxis": "x",
         "y": [
          -0.8955919146537781
         ],
         "yaxis": "y"
        },
        {
         "hovertemplate": "Variant SKU=HOD0187<br>0=%{x}<br>1=%{y}<extra></extra>",
         "legendgroup": "HOD0187",
         "marker": {
          "color": "#FECB52",
          "symbol": "circle"
         },
         "mode": "markers",
         "name": "HOD0187",
         "orientation": "v",
         "showlegend": true,
         "type": "scatter",
         "x": [
          1.4410243034362793
         ],
         "xaxis": "x",
         "y": [
          -0.6392336487770081
         ],
         "yaxis": "y"
        },
        {
         "hovertemplate": "Variant SKU=HOD0181<br>0=%{x}<br>1=%{y}<extra></extra>",
         "legendgroup": "HOD0181",
         "marker": {
          "color": "#636efa",
          "symbol": "circle"
         },
         "mode": "markers",
         "name": "HOD0181",
         "orientation": "v",
         "showlegend": true,
         "type": "scatter",
         "x": [
          -0.25150126218795776
         ],
         "xaxis": "x",
         "y": [
          -1.9358506202697754
         ],
         "yaxis": "y"
        },
        {
         "hovertemplate": "Variant SKU=HOD0469<br>0=%{x}<br>1=%{y}<extra></extra>",
         "legendgroup": "HOD0469",
         "marker": {
          "color": "#EF553B",
          "symbol": "circle"
         },
         "mode": "markers",
         "name": "HOD0469",
         "orientation": "v",
         "showlegend": true,
         "type": "scatter",
         "x": [
          -7.43151330947876
         ],
         "xaxis": "x",
         "y": [
          -5.831932067871094
         ],
         "yaxis": "y"
        },
        {
         "hovertemplate": "Variant SKU=HOD0463<br>0=%{x}<br>1=%{y}<extra></extra>",
         "legendgroup": "HOD0463",
         "marker": {
          "color": "#00cc96",
          "symbol": "circle"
         },
         "mode": "markers",
         "name": "HOD0463",
         "orientation": "v",
         "showlegend": true,
         "type": "scatter",
         "x": [
          -6.935987949371338
         ],
         "xaxis": "x",
         "y": [
          -3.911008596420288
         ],
         "yaxis": "y"
        },
        {
         "hovertemplate": "Variant SKU=HOD0457<br>0=%{x}<br>1=%{y}<extra></extra>",
         "legendgroup": "HOD0457",
         "marker": {
          "color": "#ab63fa",
          "symbol": "circle"
         },
         "mode": "markers",
         "name": "HOD0457",
         "orientation": "v",
         "showlegend": true,
         "type": "scatter",
         "x": [
          -8.093640327453613
         ],
         "xaxis": "x",
         "y": [
          -5.537360191345215
         ],
         "yaxis": "y"
        },
        {
         "hovertemplate": "Variant SKU=HOD0451<br>0=%{x}<br>1=%{y}<extra></extra>",
         "legendgroup": "HOD0451",
         "marker": {
          "color": "#FFA15A",
          "symbol": "circle"
         },
         "mode": "markers",
         "name": "HOD0451",
         "orientation": "v",
         "showlegend": true,
         "type": "scatter",
         "x": [
          -7.303506374359131
         ],
         "xaxis": "x",
         "y": [
          -3.372853994369507
         ],
         "yaxis": "y"
        },
        {
         "hovertemplate": "Variant SKU=HOD0445<br>0=%{x}<br>1=%{y}<extra></extra>",
         "legendgroup": "HOD0445",
         "marker": {
          "color": "#19d3f3",
          "symbol": "circle"
         },
         "mode": "markers",
         "name": "HOD0445",
         "orientation": "v",
         "showlegend": true,
         "type": "scatter",
         "x": [
          -6.569800853729248
         ],
         "xaxis": "x",
         "y": [
          -4.117812156677246
         ],
         "yaxis": "y"
        },
        {
         "hovertemplate": "Variant SKU=HOD0439<br>0=%{x}<br>1=%{y}<extra></extra>",
         "legendgroup": "HOD0439",
         "marker": {
          "color": "#FF6692",
          "symbol": "circle"
         },
         "mode": "markers",
         "name": "HOD0439",
         "orientation": "v",
         "showlegend": true,
         "type": "scatter",
         "x": [
          -7.730699062347412
         ],
         "xaxis": "x",
         "y": [
          -5.603899002075195
         ],
         "yaxis": "y"
        },
        {
         "hovertemplate": "Variant SKU=HOD0433<br>0=%{x}<br>1=%{y}<extra></extra>",
         "legendgroup": "HOD0433",
         "marker": {
          "color": "#B6E880",
          "symbol": "circle"
         },
         "mode": "markers",
         "name": "HOD0433",
         "orientation": "v",
         "showlegend": true,
         "type": "scatter",
         "x": [
          -6.049648761749268
         ],
         "xaxis": "x",
         "y": [
          -5.573651313781738
         ],
         "yaxis": "y"
        },
        {
         "hovertemplate": "Variant SKU=HOD0427<br>0=%{x}<br>1=%{y}<extra></extra>",
         "legendgroup": "HOD0427",
         "marker": {
          "color": "#FF97FF",
          "symbol": "circle"
         },
         "mode": "markers",
         "name": "HOD0427",
         "orientation": "v",
         "showlegend": true,
         "type": "scatter",
         "x": [
          -8.0936861038208
         ],
         "xaxis": "x",
         "y": [
          -5.810539722442627
         ],
         "yaxis": "y"
        },
        {
         "hovertemplate": "Variant SKU=HOD0421<br>0=%{x}<br>1=%{y}<extra></extra>",
         "legendgroup": "HOD0421",
         "marker": {
          "color": "#FECB52",
          "symbol": "circle"
         },
         "mode": "markers",
         "name": "HOD0421",
         "orientation": "v",
         "showlegend": true,
         "type": "scatter",
         "x": [
          -5.6552042961120605
         ],
         "xaxis": "x",
         "y": [
          -4.250026702880859
         ],
         "yaxis": "y"
        },
        {
         "hovertemplate": "Variant SKU=HOD0415<br>0=%{x}<br>1=%{y}<extra></extra>",
         "legendgroup": "HOD0415",
         "marker": {
          "color": "#636efa",
          "symbol": "circle"
         },
         "mode": "markers",
         "name": "HOD0415",
         "orientation": "v",
         "showlegend": true,
         "type": "scatter",
         "x": [
          -7.539798736572266
         ],
         "xaxis": "x",
         "y": [
          -4.657323360443115
         ],
         "yaxis": "y"
        },
        {
         "hovertemplate": "Variant SKU=HOD0397<br>0=%{x}<br>1=%{y}<extra></extra>",
         "legendgroup": "HOD0397",
         "marker": {
          "color": "#EF553B",
          "symbol": "circle"
         },
         "mode": "markers",
         "name": "HOD0397",
         "orientation": "v",
         "showlegend": true,
         "type": "scatter",
         "x": [
          -4.377814769744873
         ],
         "xaxis": "x",
         "y": [
          -4.569854259490967
         ],
         "yaxis": "y"
        },
        {
         "hovertemplate": "Variant SKU=HOD0391<br>0=%{x}<br>1=%{y}<extra></extra>",
         "legendgroup": "HOD0391",
         "marker": {
          "color": "#00cc96",
          "symbol": "circle"
         },
         "mode": "markers",
         "name": "HOD0391",
         "orientation": "v",
         "showlegend": true,
         "type": "scatter",
         "x": [
          -5.134886264801025
         ],
         "xaxis": "x",
         "y": [
          -2.343169689178467
         ],
         "yaxis": "y"
        },
        {
         "hovertemplate": "Variant SKU=HOD0385<br>0=%{x}<br>1=%{y}<extra></extra>",
         "legendgroup": "HOD0385",
         "marker": {
          "color": "#ab63fa",
          "symbol": "circle"
         },
         "mode": "markers",
         "name": "HOD0385",
         "orientation": "v",
         "showlegend": true,
         "type": "scatter",
         "x": [
          -7.84429931640625
         ],
         "xaxis": "x",
         "y": [
          -5.1334991455078125
         ],
         "yaxis": "y"
        },
        {
         "hovertemplate": "Variant SKU=HOD0373<br>0=%{x}<br>1=%{y}<extra></extra>",
         "legendgroup": "HOD0373",
         "marker": {
          "color": "#FFA15A",
          "symbol": "circle"
         },
         "mode": "markers",
         "name": "HOD0373",
         "orientation": "v",
         "showlegend": true,
         "type": "scatter",
         "x": [
          -6.921707630157471
         ],
         "xaxis": "x",
         "y": [
          -2.697955846786499
         ],
         "yaxis": "y"
        },
        {
         "hovertemplate": "Variant SKU=HOD0175<br>0=%{x}<br>1=%{y}<extra></extra>",
         "legendgroup": "HOD0175",
         "marker": {
          "color": "#19d3f3",
          "symbol": "circle"
         },
         "mode": "markers",
         "name": "HOD0175",
         "orientation": "v",
         "showlegend": true,
         "type": "scatter",
         "x": [
          3.6871213912963867
         ],
         "xaxis": "x",
         "y": [
          -2.3515465259552
         ],
         "yaxis": "y"
        },
        {
         "hovertemplate": "Variant SKU=HOD0169<br>0=%{x}<br>1=%{y}<extra></extra>",
         "legendgroup": "HOD0169",
         "marker": {
          "color": "#FF6692",
          "symbol": "circle"
         },
         "mode": "markers",
         "name": "HOD0169",
         "orientation": "v",
         "showlegend": true,
         "type": "scatter",
         "x": [
          4.215437412261963
         ],
         "xaxis": "x",
         "y": [
          -1.1423355340957642
         ],
         "yaxis": "y"
        },
        {
         "hovertemplate": "Variant SKU=HOD0163<br>0=%{x}<br>1=%{y}<extra></extra>",
         "legendgroup": "HOD0163",
         "marker": {
          "color": "#B6E880",
          "symbol": "circle"
         },
         "mode": "markers",
         "name": "HOD0163",
         "orientation": "v",
         "showlegend": true,
         "type": "scatter",
         "x": [
          5.03923225402832
         ],
         "xaxis": "x",
         "y": [
          -0.9673327207565308
         ],
         "yaxis": "y"
        },
        {
         "hovertemplate": "Variant SKU=HOD0367<br>0=%{x}<br>1=%{y}<extra></extra>",
         "legendgroup": "HOD0367",
         "marker": {
          "color": "#FF97FF",
          "symbol": "circle"
         },
         "mode": "markers",
         "name": "HOD0367",
         "orientation": "v",
         "showlegend": true,
         "type": "scatter",
         "x": [
          -6.483160495758057
         ],
         "xaxis": "x",
         "y": [
          -4.179596424102783
         ],
         "yaxis": "y"
        },
        {
         "hovertemplate": "Variant SKU=HOD0157<br>0=%{x}<br>1=%{y}<extra></extra>",
         "legendgroup": "HOD0157",
         "marker": {
          "color": "#FECB52",
          "symbol": "circle"
         },
         "mode": "markers",
         "name": "HOD0157",
         "orientation": "v",
         "showlegend": true,
         "type": "scatter",
         "x": [
          1.782507300376892
         ],
         "xaxis": "x",
         "y": [
          -0.30263566970825195
         ],
         "yaxis": "y"
        },
        {
         "hovertemplate": "Variant SKU=HOD0355<br>0=%{x}<br>1=%{y}<extra></extra>",
         "legendgroup": "HOD0355",
         "marker": {
          "color": "#636efa",
          "symbol": "circle"
         },
         "mode": "markers",
         "name": "HOD0355",
         "orientation": "v",
         "showlegend": true,
         "type": "scatter",
         "x": [
          -6.064789772033691
         ],
         "xaxis": "x",
         "y": [
          -5.02669095993042
         ],
         "yaxis": "y"
        },
        {
         "hovertemplate": "Variant SKU=HOD0151<br>0=%{x}<br>1=%{y}<extra></extra>",
         "legendgroup": "HOD0151",
         "marker": {
          "color": "#EF553B",
          "symbol": "circle"
         },
         "mode": "markers",
         "name": "HOD0151",
         "orientation": "v",
         "showlegend": true,
         "type": "scatter",
         "x": [
          0.554754376411438
         ],
         "xaxis": "x",
         "y": [
          -0.7841313481330872
         ],
         "yaxis": "y"
        },
        {
         "hovertemplate": "Variant SKU=HOD0145<br>0=%{x}<br>1=%{y}<extra></extra>",
         "legendgroup": "HOD0145",
         "marker": {
          "color": "#00cc96",
          "symbol": "circle"
         },
         "mode": "markers",
         "name": "HOD0145",
         "orientation": "v",
         "showlegend": true,
         "type": "scatter",
         "x": [
          0.1789395660161972
         ],
         "xaxis": "x",
         "y": [
          -1.8614569902420044
         ],
         "yaxis": "y"
        },
        {
         "hovertemplate": "Variant SKU=HOD0139<br>0=%{x}<br>1=%{y}<extra></extra>",
         "legendgroup": "HOD0139",
         "marker": {
          "color": "#ab63fa",
          "symbol": "circle"
         },
         "mode": "markers",
         "name": "HOD0139",
         "orientation": "v",
         "showlegend": true,
         "type": "scatter",
         "x": [
          1.48434317111969
         ],
         "xaxis": "x",
         "y": [
          -2.7734696865081787
         ],
         "yaxis": "y"
        },
        {
         "hovertemplate": "Variant SKU=HOD0349<br>0=%{x}<br>1=%{y}<extra></extra>",
         "legendgroup": "HOD0349",
         "marker": {
          "color": "#FFA15A",
          "symbol": "circle"
         },
         "mode": "markers",
         "name": "HOD0349",
         "orientation": "v",
         "showlegend": true,
         "type": "scatter",
         "x": [
          -7.78318452835083
         ],
         "xaxis": "x",
         "y": [
          -5.485198497772217
         ],
         "yaxis": "y"
        },
        {
         "hovertemplate": "Variant SKU=HOD0133<br>0=%{x}<br>1=%{y}<extra></extra>",
         "legendgroup": "HOD0133",
         "marker": {
          "color": "#19d3f3",
          "symbol": "circle"
         },
         "mode": "markers",
         "name": "HOD0133",
         "orientation": "v",
         "showlegend": true,
         "type": "scatter",
         "x": [
          2.383652448654175
         ],
         "xaxis": "x",
         "y": [
          -1.1781846284866333
         ],
         "yaxis": "y"
        },
        {
         "hovertemplate": "Variant SKU=HOD0127<br>0=%{x}<br>1=%{y}<extra></extra>",
         "legendgroup": "HOD0127",
         "marker": {
          "color": "#FF6692",
          "symbol": "circle"
         },
         "mode": "markers",
         "name": "HOD0127",
         "orientation": "v",
         "showlegend": true,
         "type": "scatter",
         "x": [
          1.4037171602249146
         ],
         "xaxis": "x",
         "y": [
          -1.7158920764923096
         ],
         "yaxis": "y"
        },
        {
         "hovertemplate": "Variant SKU=HOD0337<br>0=%{x}<br>1=%{y}<extra></extra>",
         "legendgroup": "HOD0337",
         "marker": {
          "color": "#B6E880",
          "symbol": "circle"
         },
         "mode": "markers",
         "name": "HOD0337",
         "orientation": "v",
         "showlegend": true,
         "type": "scatter",
         "x": [
          -7.527550220489502
         ],
         "xaxis": "x",
         "y": [
          -4.904236316680908
         ],
         "yaxis": "y"
        },
        {
         "hovertemplate": "Variant SKU=HOD0121<br>0=%{x}<br>1=%{y}<extra></extra>",
         "legendgroup": "HOD0121",
         "marker": {
          "color": "#FF97FF",
          "symbol": "circle"
         },
         "mode": "markers",
         "name": "HOD0121",
         "orientation": "v",
         "showlegend": true,
         "type": "scatter",
         "x": [
          0.86998051404953
         ],
         "xaxis": "x",
         "y": [
          -0.5915140509605408
         ],
         "yaxis": "y"
        },
        {
         "hovertemplate": "Variant SKU=HOD0325<br>0=%{x}<br>1=%{y}<extra></extra>",
         "legendgroup": "HOD0325",
         "marker": {
          "color": "#FECB52",
          "symbol": "circle"
         },
         "mode": "markers",
         "name": "HOD0325",
         "orientation": "v",
         "showlegend": true,
         "type": "scatter",
         "x": [
          -5.775307655334473
         ],
         "xaxis": "x",
         "y": [
          -4.3292059898376465
         ],
         "yaxis": "y"
        },
        {
         "hovertemplate": "Variant SKU=HOD0115<br>0=%{x}<br>1=%{y}<extra></extra>",
         "legendgroup": "HOD0115",
         "marker": {
          "color": "#636efa",
          "symbol": "circle"
         },
         "mode": "markers",
         "name": "HOD0115",
         "orientation": "v",
         "showlegend": true,
         "type": "scatter",
         "x": [
          0.09678322076797485
         ],
         "xaxis": "x",
         "y": [
          -0.17100369930267334
         ],
         "yaxis": "y"
        },
        {
         "hovertemplate": "Variant SKU=HOD0109<br>0=%{x}<br>1=%{y}<extra></extra>",
         "legendgroup": "HOD0109",
         "marker": {
          "color": "#EF553B",
          "symbol": "circle"
         },
         "mode": "markers",
         "name": "HOD0109",
         "orientation": "v",
         "showlegend": true,
         "type": "scatter",
         "x": [
          0.29915863275527954
         ],
         "xaxis": "x",
         "y": [
          -2.697871208190918
         ],
         "yaxis": "y"
        },
        {
         "hovertemplate": "Variant SKU=HOD0103<br>0=%{x}<br>1=%{y}<extra></extra>",
         "legendgroup": "HOD0103",
         "marker": {
          "color": "#00cc96",
          "symbol": "circle"
         },
         "mode": "markers",
         "name": "HOD0103",
         "orientation": "v",
         "showlegend": true,
         "type": "scatter",
         "x": [
          1.8642632961273193
         ],
         "xaxis": "x",
         "y": [
          -2.985578775405884
         ],
         "yaxis": "y"
        },
        {
         "hovertemplate": "Variant SKU=HOD0097<br>0=%{x}<br>1=%{y}<extra></extra>",
         "legendgroup": "HOD0097",
         "marker": {
          "color": "#ab63fa",
          "symbol": "circle"
         },
         "mode": "markers",
         "name": "HOD0097",
         "orientation": "v",
         "showlegend": true,
         "type": "scatter",
         "x": [
          2.9444375038146973
         ],
         "xaxis": "x",
         "y": [
          -1.1930804252624512
         ],
         "yaxis": "y"
        },
        {
         "hovertemplate": "Variant SKU=HOD0307<br>0=%{x}<br>1=%{y}<extra></extra>",
         "legendgroup": "HOD0307",
         "marker": {
          "color": "#FFA15A",
          "symbol": "circle"
         },
         "mode": "markers",
         "name": "HOD0307",
         "orientation": "v",
         "showlegend": true,
         "type": "scatter",
         "x": [
          -4.826602458953857
         ],
         "xaxis": "x",
         "y": [
          -3.1269190311431885
         ],
         "yaxis": "y"
        },
        {
         "hovertemplate": "Variant SKU=HOD0091<br>0=%{x}<br>1=%{y}<extra></extra>",
         "legendgroup": "HOD0091",
         "marker": {
          "color": "#19d3f3",
          "symbol": "circle"
         },
         "mode": "markers",
         "name": "HOD0091",
         "orientation": "v",
         "showlegend": true,
         "type": "scatter",
         "x": [
          1.9628883600234985
         ],
         "xaxis": "x",
         "y": [
          -2.5817201137542725
         ],
         "yaxis": "y"
        },
        {
         "hovertemplate": "Variant SKU=HOD0301<br>0=%{x}<br>1=%{y}<extra></extra>",
         "legendgroup": "HOD0301",
         "marker": {
          "color": "#FF6692",
          "symbol": "circle"
         },
         "mode": "markers",
         "name": "HOD0301",
         "orientation": "v",
         "showlegend": true,
         "type": "scatter",
         "x": [
          -6.388149738311768
         ],
         "xaxis": "x",
         "y": [
          -5.119034767150879
         ],
         "yaxis": "y"
        },
        {
         "hovertemplate": "Variant SKU=HOD0295<br>0=%{x}<br>1=%{y}<extra></extra>",
         "legendgroup": "HOD0295",
         "marker": {
          "color": "#B6E880",
          "symbol": "circle"
         },
         "mode": "markers",
         "name": "HOD0295",
         "orientation": "v",
         "showlegend": true,
         "type": "scatter",
         "x": [
          -6.2560648918151855
         ],
         "xaxis": "x",
         "y": [
          -4.896394729614258
         ],
         "yaxis": "y"
        },
        {
         "hovertemplate": "Variant SKU=HOD0085<br>0=%{x}<br>1=%{y}<extra></extra>",
         "legendgroup": "HOD0085",
         "marker": {
          "color": "#FF97FF",
          "symbol": "circle"
         },
         "mode": "markers",
         "name": "HOD0085",
         "orientation": "v",
         "showlegend": true,
         "type": "scatter",
         "x": [
          4.22192907333374
         ],
         "xaxis": "x",
         "y": [
          -1.1939994096755981
         ],
         "yaxis": "y"
        },
        {
         "hovertemplate": "Variant SKU=HOD0289<br>0=%{x}<br>1=%{y}<extra></extra>",
         "legendgroup": "HOD0289",
         "marker": {
          "color": "#FECB52",
          "symbol": "circle"
         },
         "mode": "markers",
         "name": "HOD0289",
         "orientation": "v",
         "showlegend": true,
         "type": "scatter",
         "x": [
          -8.011000633239746
         ],
         "xaxis": "x",
         "y": [
          -4.336683750152588
         ],
         "yaxis": "y"
        },
        {
         "hovertemplate": "Variant SKU=HOD0079<br>0=%{x}<br>1=%{y}<extra></extra>",
         "legendgroup": "HOD0079",
         "marker": {
          "color": "#636efa",
          "symbol": "circle"
         },
         "mode": "markers",
         "name": "HOD0079",
         "orientation": "v",
         "showlegend": true,
         "type": "scatter",
         "x": [
          3.6372272968292236
         ],
         "xaxis": "x",
         "y": [
          0.0294659286737442
         ],
         "yaxis": "y"
        },
        {
         "hovertemplate": "Variant SKU=HOD0073<br>0=%{x}<br>1=%{y}<extra></extra>",
         "legendgroup": "HOD0073",
         "marker": {
          "color": "#EF553B",
          "symbol": "circle"
         },
         "mode": "markers",
         "name": "HOD0073",
         "orientation": "v",
         "showlegend": true,
         "type": "scatter",
         "x": [
          1.8701821565628052
         ],
         "xaxis": "x",
         "y": [
          -2.0825254917144775
         ],
         "yaxis": "y"
        },
        {
         "hovertemplate": "Variant SKU=HOD0067<br>0=%{x}<br>1=%{y}<extra></extra>",
         "legendgroup": "HOD0067",
         "marker": {
          "color": "#00cc96",
          "symbol": "circle"
         },
         "mode": "markers",
         "name": "HOD0067",
         "orientation": "v",
         "showlegend": true,
         "type": "scatter",
         "x": [
          4.047370910644531
         ],
         "xaxis": "x",
         "y": [
          1.4718587398529053
         ],
         "yaxis": "y"
        },
        {
         "hovertemplate": "Variant SKU=HOD0061<br>0=%{x}<br>1=%{y}<extra></extra>",
         "legendgroup": "HOD0061",
         "marker": {
          "color": "#ab63fa",
          "symbol": "circle"
         },
         "mode": "markers",
         "name": "HOD0061",
         "orientation": "v",
         "showlegend": true,
         "type": "scatter",
         "x": [
          7.084655284881592
         ],
         "xaxis": "x",
         "y": [
          -1.0370533466339111
         ],
         "yaxis": "y"
        },
        {
         "hovertemplate": "Variant SKU=HOD0055<br>0=%{x}<br>1=%{y}<extra></extra>",
         "legendgroup": "HOD0055",
         "marker": {
          "color": "#FFA15A",
          "symbol": "circle"
         },
         "mode": "markers",
         "name": "HOD0055",
         "orientation": "v",
         "showlegend": true,
         "type": "scatter",
         "x": [
          3.860945224761963
         ],
         "xaxis": "x",
         "y": [
          -0.615688681602478
         ],
         "yaxis": "y"
        },
        {
         "hovertemplate": "Variant SKU=HOD0049<br>0=%{x}<br>1=%{y}<extra></extra>",
         "legendgroup": "HOD0049",
         "marker": {
          "color": "#19d3f3",
          "symbol": "circle"
         },
         "mode": "markers",
         "name": "HOD0049",
         "orientation": "v",
         "showlegend": true,
         "type": "scatter",
         "x": [
          2.9134161472320557
         ],
         "xaxis": "x",
         "y": [
          0.28152328729629517
         ],
         "yaxis": "y"
        },
        {
         "hovertemplate": "Variant SKU=HOD0043<br>0=%{x}<br>1=%{y}<extra></extra>",
         "legendgroup": "HOD0043",
         "marker": {
          "color": "#FF6692",
          "symbol": "circle"
         },
         "mode": "markers",
         "name": "HOD0043",
         "orientation": "v",
         "showlegend": true,
         "type": "scatter",
         "x": [
          0.899848461151123
         ],
         "xaxis": "x",
         "y": [
          0.23291443288326263
         ],
         "yaxis": "y"
        },
        {
         "hovertemplate": "Variant SKU=HOD0037<br>0=%{x}<br>1=%{y}<extra></extra>",
         "legendgroup": "HOD0037",
         "marker": {
          "color": "#B6E880",
          "symbol": "circle"
         },
         "mode": "markers",
         "name": "HOD0037",
         "orientation": "v",
         "showlegend": true,
         "type": "scatter",
         "x": [
          0.6900476813316345
         ],
         "xaxis": "x",
         "y": [
          -0.7054110765457153
         ],
         "yaxis": "y"
        },
        {
         "hovertemplate": "Variant SKU=HOD0031<br>0=%{x}<br>1=%{y}<extra></extra>",
         "legendgroup": "HOD0031",
         "marker": {
          "color": "#FF97FF",
          "symbol": "circle"
         },
         "mode": "markers",
         "name": "HOD0031",
         "orientation": "v",
         "showlegend": true,
         "type": "scatter",
         "x": [
          0.3955126106739044
         ],
         "xaxis": "x",
         "y": [
          -2.0307233333587646
         ],
         "yaxis": "y"
        },
        {
         "hovertemplate": "Variant SKU=HOD0025<br>0=%{x}<br>1=%{y}<extra></extra>",
         "legendgroup": "HOD0025",
         "marker": {
          "color": "#FECB52",
          "symbol": "circle"
         },
         "mode": "markers",
         "name": "HOD0025",
         "orientation": "v",
         "showlegend": true,
         "type": "scatter",
         "x": [
          2.2029385566711426
         ],
         "xaxis": "x",
         "y": [
          -2.376790761947632
         ],
         "yaxis": "y"
        },
        {
         "hovertemplate": "Variant SKU=HOD0019<br>0=%{x}<br>1=%{y}<extra></extra>",
         "legendgroup": "HOD0019",
         "marker": {
          "color": "#636efa",
          "symbol": "circle"
         },
         "mode": "markers",
         "name": "HOD0019",
         "orientation": "v",
         "showlegend": true,
         "type": "scatter",
         "x": [
          -1.9392849206924438
         ],
         "xaxis": "x",
         "y": [
          -3.5962717533111572
         ],
         "yaxis": "y"
        },
        {
         "hovertemplate": "Variant SKU=HOD0013<br>0=%{x}<br>1=%{y}<extra></extra>",
         "legendgroup": "HOD0013",
         "marker": {
          "color": "#EF553B",
          "symbol": "circle"
         },
         "mode": "markers",
         "name": "HOD0013",
         "orientation": "v",
         "showlegend": true,
         "type": "scatter",
         "x": [
          -0.41577261686325073
         ],
         "xaxis": "x",
         "y": [
          -2.0875630378723145
         ],
         "yaxis": "y"
        },
        {
         "hovertemplate": "Variant SKU=HOD0007<br>0=%{x}<br>1=%{y}<extra></extra>",
         "legendgroup": "HOD0007",
         "marker": {
          "color": "#00cc96",
          "symbol": "circle"
         },
         "mode": "markers",
         "name": "HOD0007",
         "orientation": "v",
         "showlegend": true,
         "type": "scatter",
         "x": [
          -0.7379193305969238
         ],
         "xaxis": "x",
         "y": [
          -2.591902017593384
         ],
         "yaxis": "y"
        },
        {
         "hovertemplate": "Variant SKU=HOD0001<br>0=%{x}<br>1=%{y}<extra></extra>",
         "legendgroup": "HOD0001",
         "marker": {
          "color": "#ab63fa",
          "symbol": "circle"
         },
         "mode": "markers",
         "name": "HOD0001",
         "orientation": "v",
         "showlegend": true,
         "type": "scatter",
         "x": [
          -0.015459361486136913
         ],
         "xaxis": "x",
         "y": [
          -1.8160501718521118
         ],
         "yaxis": "y"
        }
       ],
       "layout": {
        "legend": {
         "title": {
          "text": "Variant SKU"
         },
         "tracegroupgap": 0
        },
        "margin": {
         "t": 60
        },
        "template": {
         "data": {
          "bar": [
           {
            "error_x": {
             "color": "#2a3f5f"
            },
            "error_y": {
             "color": "#2a3f5f"
            },
            "marker": {
             "line": {
              "color": "#E5ECF6",
              "width": 0.5
             },
             "pattern": {
              "fillmode": "overlay",
              "size": 10,
              "solidity": 0.2
             }
            },
            "type": "bar"
           }
          ],
          "barpolar": [
           {
            "marker": {
             "line": {
              "color": "#E5ECF6",
              "width": 0.5
             },
             "pattern": {
              "fillmode": "overlay",
              "size": 10,
              "solidity": 0.2
             }
            },
            "type": "barpolar"
           }
          ],
          "carpet": [
           {
            "aaxis": {
             "endlinecolor": "#2a3f5f",
             "gridcolor": "white",
             "linecolor": "white",
             "minorgridcolor": "white",
             "startlinecolor": "#2a3f5f"
            },
            "baxis": {
             "endlinecolor": "#2a3f5f",
             "gridcolor": "white",
             "linecolor": "white",
             "minorgridcolor": "white",
             "startlinecolor": "#2a3f5f"
            },
            "type": "carpet"
           }
          ],
          "choropleth": [
           {
            "colorbar": {
             "outlinewidth": 0,
             "ticks": ""
            },
            "type": "choropleth"
           }
          ],
          "contour": [
           {
            "colorbar": {
             "outlinewidth": 0,
             "ticks": ""
            },
            "colorscale": [
             [
              0,
              "#0d0887"
             ],
             [
              0.1111111111111111,
              "#46039f"
             ],
             [
              0.2222222222222222,
              "#7201a8"
             ],
             [
              0.3333333333333333,
              "#9c179e"
             ],
             [
              0.4444444444444444,
              "#bd3786"
             ],
             [
              0.5555555555555556,
              "#d8576b"
             ],
             [
              0.6666666666666666,
              "#ed7953"
             ],
             [
              0.7777777777777778,
              "#fb9f3a"
             ],
             [
              0.8888888888888888,
              "#fdca26"
             ],
             [
              1,
              "#f0f921"
             ]
            ],
            "type": "contour"
           }
          ],
          "contourcarpet": [
           {
            "colorbar": {
             "outlinewidth": 0,
             "ticks": ""
            },
            "type": "contourcarpet"
           }
          ],
          "heatmap": [
           {
            "colorbar": {
             "outlinewidth": 0,
             "ticks": ""
            },
            "colorscale": [
             [
              0,
              "#0d0887"
             ],
             [
              0.1111111111111111,
              "#46039f"
             ],
             [
              0.2222222222222222,
              "#7201a8"
             ],
             [
              0.3333333333333333,
              "#9c179e"
             ],
             [
              0.4444444444444444,
              "#bd3786"
             ],
             [
              0.5555555555555556,
              "#d8576b"
             ],
             [
              0.6666666666666666,
              "#ed7953"
             ],
             [
              0.7777777777777778,
              "#fb9f3a"
             ],
             [
              0.8888888888888888,
              "#fdca26"
             ],
             [
              1,
              "#f0f921"
             ]
            ],
            "type": "heatmap"
           }
          ],
          "heatmapgl": [
           {
            "colorbar": {
             "outlinewidth": 0,
             "ticks": ""
            },
            "colorscale": [
             [
              0,
              "#0d0887"
             ],
             [
              0.1111111111111111,
              "#46039f"
             ],
             [
              0.2222222222222222,
              "#7201a8"
             ],
             [
              0.3333333333333333,
              "#9c179e"
             ],
             [
              0.4444444444444444,
              "#bd3786"
             ],
             [
              0.5555555555555556,
              "#d8576b"
             ],
             [
              0.6666666666666666,
              "#ed7953"
             ],
             [
              0.7777777777777778,
              "#fb9f3a"
             ],
             [
              0.8888888888888888,
              "#fdca26"
             ],
             [
              1,
              "#f0f921"
             ]
            ],
            "type": "heatmapgl"
           }
          ],
          "histogram": [
           {
            "marker": {
             "pattern": {
              "fillmode": "overlay",
              "size": 10,
              "solidity": 0.2
             }
            },
            "type": "histogram"
           }
          ],
          "histogram2d": [
           {
            "colorbar": {
             "outlinewidth": 0,
             "ticks": ""
            },
            "colorscale": [
             [
              0,
              "#0d0887"
             ],
             [
              0.1111111111111111,
              "#46039f"
             ],
             [
              0.2222222222222222,
              "#7201a8"
             ],
             [
              0.3333333333333333,
              "#9c179e"
             ],
             [
              0.4444444444444444,
              "#bd3786"
             ],
             [
              0.5555555555555556,
              "#d8576b"
             ],
             [
              0.6666666666666666,
              "#ed7953"
             ],
             [
              0.7777777777777778,
              "#fb9f3a"
             ],
             [
              0.8888888888888888,
              "#fdca26"
             ],
             [
              1,
              "#f0f921"
             ]
            ],
            "type": "histogram2d"
           }
          ],
          "histogram2dcontour": [
           {
            "colorbar": {
             "outlinewidth": 0,
             "ticks": ""
            },
            "colorscale": [
             [
              0,
              "#0d0887"
             ],
             [
              0.1111111111111111,
              "#46039f"
             ],
             [
              0.2222222222222222,
              "#7201a8"
             ],
             [
              0.3333333333333333,
              "#9c179e"
             ],
             [
              0.4444444444444444,
              "#bd3786"
             ],
             [
              0.5555555555555556,
              "#d8576b"
             ],
             [
              0.6666666666666666,
              "#ed7953"
             ],
             [
              0.7777777777777778,
              "#fb9f3a"
             ],
             [
              0.8888888888888888,
              "#fdca26"
             ],
             [
              1,
              "#f0f921"
             ]
            ],
            "type": "histogram2dcontour"
           }
          ],
          "mesh3d": [
           {
            "colorbar": {
             "outlinewidth": 0,
             "ticks": ""
            },
            "type": "mesh3d"
           }
          ],
          "parcoords": [
           {
            "line": {
             "colorbar": {
              "outlinewidth": 0,
              "ticks": ""
             }
            },
            "type": "parcoords"
           }
          ],
          "pie": [
           {
            "automargin": true,
            "type": "pie"
           }
          ],
          "scatter": [
           {
            "marker": {
             "colorbar": {
              "outlinewidth": 0,
              "ticks": ""
             }
            },
            "type": "scatter"
           }
          ],
          "scatter3d": [
           {
            "line": {
             "colorbar": {
              "outlinewidth": 0,
              "ticks": ""
             }
            },
            "marker": {
             "colorbar": {
              "outlinewidth": 0,
              "ticks": ""
             }
            },
            "type": "scatter3d"
           }
          ],
          "scattercarpet": [
           {
            "marker": {
             "colorbar": {
              "outlinewidth": 0,
              "ticks": ""
             }
            },
            "type": "scattercarpet"
           }
          ],
          "scattergeo": [
           {
            "marker": {
             "colorbar": {
              "outlinewidth": 0,
              "ticks": ""
             }
            },
            "type": "scattergeo"
           }
          ],
          "scattergl": [
           {
            "marker": {
             "colorbar": {
              "outlinewidth": 0,
              "ticks": ""
             }
            },
            "type": "scattergl"
           }
          ],
          "scattermapbox": [
           {
            "marker": {
             "colorbar": {
              "outlinewidth": 0,
              "ticks": ""
             }
            },
            "type": "scattermapbox"
           }
          ],
          "scatterpolar": [
           {
            "marker": {
             "colorbar": {
              "outlinewidth": 0,
              "ticks": ""
             }
            },
            "type": "scatterpolar"
           }
          ],
          "scatterpolargl": [
           {
            "marker": {
             "colorbar": {
              "outlinewidth": 0,
              "ticks": ""
             }
            },
            "type": "scatterpolargl"
           }
          ],
          "scatterternary": [
           {
            "marker": {
             "colorbar": {
              "outlinewidth": 0,
              "ticks": ""
             }
            },
            "type": "scatterternary"
           }
          ],
          "surface": [
           {
            "colorbar": {
             "outlinewidth": 0,
             "ticks": ""
            },
            "colorscale": [
             [
              0,
              "#0d0887"
             ],
             [
              0.1111111111111111,
              "#46039f"
             ],
             [
              0.2222222222222222,
              "#7201a8"
             ],
             [
              0.3333333333333333,
              "#9c179e"
             ],
             [
              0.4444444444444444,
              "#bd3786"
             ],
             [
              0.5555555555555556,
              "#d8576b"
             ],
             [
              0.6666666666666666,
              "#ed7953"
             ],
             [
              0.7777777777777778,
              "#fb9f3a"
             ],
             [
              0.8888888888888888,
              "#fdca26"
             ],
             [
              1,
              "#f0f921"
             ]
            ],
            "type": "surface"
           }
          ],
          "table": [
           {
            "cells": {
             "fill": {
              "color": "#EBF0F8"
             },
             "line": {
              "color": "white"
             }
            },
            "header": {
             "fill": {
              "color": "#C8D4E3"
             },
             "line": {
              "color": "white"
             }
            },
            "type": "table"
           }
          ]
         },
         "layout": {
          "annotationdefaults": {
           "arrowcolor": "#2a3f5f",
           "arrowhead": 0,
           "arrowwidth": 1
          },
          "autotypenumbers": "strict",
          "coloraxis": {
           "colorbar": {
            "outlinewidth": 0,
            "ticks": ""
           }
          },
          "colorscale": {
           "diverging": [
            [
             0,
             "#8e0152"
            ],
            [
             0.1,
             "#c51b7d"
            ],
            [
             0.2,
             "#de77ae"
            ],
            [
             0.3,
             "#f1b6da"
            ],
            [
             0.4,
             "#fde0ef"
            ],
            [
             0.5,
             "#f7f7f7"
            ],
            [
             0.6,
             "#e6f5d0"
            ],
            [
             0.7,
             "#b8e186"
            ],
            [
             0.8,
             "#7fbc41"
            ],
            [
             0.9,
             "#4d9221"
            ],
            [
             1,
             "#276419"
            ]
           ],
           "sequential": [
            [
             0,
             "#0d0887"
            ],
            [
             0.1111111111111111,
             "#46039f"
            ],
            [
             0.2222222222222222,
             "#7201a8"
            ],
            [
             0.3333333333333333,
             "#9c179e"
            ],
            [
             0.4444444444444444,
             "#bd3786"
            ],
            [
             0.5555555555555556,
             "#d8576b"
            ],
            [
             0.6666666666666666,
             "#ed7953"
            ],
            [
             0.7777777777777778,
             "#fb9f3a"
            ],
            [
             0.8888888888888888,
             "#fdca26"
            ],
            [
             1,
             "#f0f921"
            ]
           ],
           "sequentialminus": [
            [
             0,
             "#0d0887"
            ],
            [
             0.1111111111111111,
             "#46039f"
            ],
            [
             0.2222222222222222,
             "#7201a8"
            ],
            [
             0.3333333333333333,
             "#9c179e"
            ],
            [
             0.4444444444444444,
             "#bd3786"
            ],
            [
             0.5555555555555556,
             "#d8576b"
            ],
            [
             0.6666666666666666,
             "#ed7953"
            ],
            [
             0.7777777777777778,
             "#fb9f3a"
            ],
            [
             0.8888888888888888,
             "#fdca26"
            ],
            [
             1,
             "#f0f921"
            ]
           ]
          },
          "colorway": [
           "#636efa",
           "#EF553B",
           "#00cc96",
           "#ab63fa",
           "#FFA15A",
           "#19d3f3",
           "#FF6692",
           "#B6E880",
           "#FF97FF",
           "#FECB52"
          ],
          "font": {
           "color": "#2a3f5f"
          },
          "geo": {
           "bgcolor": "white",
           "lakecolor": "white",
           "landcolor": "#E5ECF6",
           "showlakes": true,
           "showland": true,
           "subunitcolor": "white"
          },
          "hoverlabel": {
           "align": "left"
          },
          "hovermode": "closest",
          "mapbox": {
           "style": "light"
          },
          "paper_bgcolor": "white",
          "plot_bgcolor": "#E5ECF6",
          "polar": {
           "angularaxis": {
            "gridcolor": "white",
            "linecolor": "white",
            "ticks": ""
           },
           "bgcolor": "#E5ECF6",
           "radialaxis": {
            "gridcolor": "white",
            "linecolor": "white",
            "ticks": ""
           }
          },
          "scene": {
           "xaxis": {
            "backgroundcolor": "#E5ECF6",
            "gridcolor": "white",
            "gridwidth": 2,
            "linecolor": "white",
            "showbackground": true,
            "ticks": "",
            "zerolinecolor": "white"
           },
           "yaxis": {
            "backgroundcolor": "#E5ECF6",
            "gridcolor": "white",
            "gridwidth": 2,
            "linecolor": "white",
            "showbackground": true,
            "ticks": "",
            "zerolinecolor": "white"
           },
           "zaxis": {
            "backgroundcolor": "#E5ECF6",
            "gridcolor": "white",
            "gridwidth": 2,
            "linecolor": "white",
            "showbackground": true,
            "ticks": "",
            "zerolinecolor": "white"
           }
          },
          "shapedefaults": {
           "line": {
            "color": "#2a3f5f"
           }
          },
          "ternary": {
           "aaxis": {
            "gridcolor": "white",
            "linecolor": "white",
            "ticks": ""
           },
           "baxis": {
            "gridcolor": "white",
            "linecolor": "white",
            "ticks": ""
           },
           "bgcolor": "#E5ECF6",
           "caxis": {
            "gridcolor": "white",
            "linecolor": "white",
            "ticks": ""
           }
          },
          "title": {
           "x": 0.05
          },
          "xaxis": {
           "automargin": true,
           "gridcolor": "white",
           "linecolor": "white",
           "ticks": "",
           "title": {
            "standoff": 15
           },
           "zerolinecolor": "white",
           "zerolinewidth": 2
          },
          "yaxis": {
           "automargin": true,
           "gridcolor": "white",
           "linecolor": "white",
           "ticks": "",
           "title": {
            "standoff": 15
           },
           "zerolinecolor": "white",
           "zerolinewidth": 2
          }
         }
        },
        "xaxis": {
         "anchor": "y",
         "domain": [
          0,
          1
         ],
         "title": {
          "text": "0"
         }
        },
        "yaxis": {
         "anchor": "x",
         "domain": [
          0,
          1
         ],
         "title": {
          "text": "1"
         }
        }
       }
      },
      "text/html": [
       "<div>                            <div id=\"79747b94-d23d-4c90-bb82-493387332787\" class=\"plotly-graph-div\" style=\"height:525px; width:100%;\"></div>            <script type=\"text/javascript\">                require([\"plotly\"], function(Plotly) {                    window.PLOTLYENV=window.PLOTLYENV || {};                                    if (document.getElementById(\"79747b94-d23d-4c90-bb82-493387332787\")) {                    Plotly.newPlot(                        \"79747b94-d23d-4c90-bb82-493387332787\",                        [{\"hovertemplate\":\"Variant SKU=HOD0772<br>0=%{x}<br>1=%{y}<extra></extra>\",\"legendgroup\":\"HOD0772\",\"marker\":{\"color\":\"#636efa\",\"symbol\":\"circle\"},\"mode\":\"markers\",\"name\":\"HOD0772\",\"orientation\":\"v\",\"showlegend\":true,\"x\":[3.9679324626922607],\"xaxis\":\"x\",\"y\":[-2.419494867324829],\"yaxis\":\"y\",\"type\":\"scatter\"},{\"hovertemplate\":\"Variant SKU=HOD0766<br>0=%{x}<br>1=%{y}<extra></extra>\",\"legendgroup\":\"HOD0766\",\"marker\":{\"color\":\"#EF553B\",\"symbol\":\"circle\"},\"mode\":\"markers\",\"name\":\"HOD0766\",\"orientation\":\"v\",\"showlegend\":true,\"x\":[4.028965473175049],\"xaxis\":\"x\",\"y\":[-2.3232228755950928],\"yaxis\":\"y\",\"type\":\"scatter\"},{\"hovertemplate\":\"Variant SKU=HOD0760<br>0=%{x}<br>1=%{y}<extra></extra>\",\"legendgroup\":\"HOD0760\",\"marker\":{\"color\":\"#00cc96\",\"symbol\":\"circle\"},\"mode\":\"markers\",\"name\":\"HOD0760\",\"orientation\":\"v\",\"showlegend\":true,\"x\":[4.799431800842285],\"xaxis\":\"x\",\"y\":[-1.7868714332580566],\"yaxis\":\"y\",\"type\":\"scatter\"},{\"hovertemplate\":\"Variant SKU=HOD0754<br>0=%{x}<br>1=%{y}<extra></extra>\",\"legendgroup\":\"HOD0754\",\"marker\":{\"color\":\"#ab63fa\",\"symbol\":\"circle\"},\"mode\":\"markers\",\"name\":\"HOD0754\",\"orientation\":\"v\",\"showlegend\":true,\"x\":[3.3249995708465576],\"xaxis\":\"x\",\"y\":[-1.9582234621047974],\"yaxis\":\"y\",\"type\":\"scatter\"},{\"hovertemplate\":\"Variant SKU=HOD0748<br>0=%{x}<br>1=%{y}<extra></extra>\",\"legendgroup\":\"HOD0748\",\"marker\":{\"color\":\"#FFA15A\",\"symbol\":\"circle\"},\"mode\":\"markers\",\"name\":\"HOD0748\",\"orientation\":\"v\",\"showlegend\":true,\"x\":[5.329153060913086],\"xaxis\":\"x\",\"y\":[-2.671635389328003],\"yaxis\":\"y\",\"type\":\"scatter\"},{\"hovertemplate\":\"Variant SKU=HOD0742<br>0=%{x}<br>1=%{y}<extra></extra>\",\"legendgroup\":\"HOD0742\",\"marker\":{\"color\":\"#19d3f3\",\"symbol\":\"circle\"},\"mode\":\"markers\",\"name\":\"HOD0742\",\"orientation\":\"v\",\"showlegend\":true,\"x\":[4.014037609100342],\"xaxis\":\"x\",\"y\":[-2.474416971206665],\"yaxis\":\"y\",\"type\":\"scatter\"},{\"hovertemplate\":\"Variant SKU=HOD0727<br>0=%{x}<br>1=%{y}<extra></extra>\",\"legendgroup\":\"HOD0727\",\"marker\":{\"color\":\"#FF6692\",\"symbol\":\"circle\"},\"mode\":\"markers\",\"name\":\"HOD0727\",\"orientation\":\"v\",\"showlegend\":true,\"x\":[4.862817287445068],\"xaxis\":\"x\",\"y\":[-2.094735860824585],\"yaxis\":\"y\",\"type\":\"scatter\"},{\"hovertemplate\":\"Variant SKU=HOD0721<br>0=%{x}<br>1=%{y}<extra></extra>\",\"legendgroup\":\"HOD0721\",\"marker\":{\"color\":\"#B6E880\",\"symbol\":\"circle\"},\"mode\":\"markers\",\"name\":\"HOD0721\",\"orientation\":\"v\",\"showlegend\":true,\"x\":[7.212925434112549],\"xaxis\":\"x\",\"y\":[-1.2550032138824463],\"yaxis\":\"y\",\"type\":\"scatter\"},{\"hovertemplate\":\"Variant SKU=HOD0715<br>0=%{x}<br>1=%{y}<extra></extra>\",\"legendgroup\":\"HOD0715\",\"marker\":{\"color\":\"#FF97FF\",\"symbol\":\"circle\"},\"mode\":\"markers\",\"name\":\"HOD0715\",\"orientation\":\"v\",\"showlegend\":true,\"x\":[7.013342380523682],\"xaxis\":\"x\",\"y\":[-2.582336187362671],\"yaxis\":\"y\",\"type\":\"scatter\"},{\"hovertemplate\":\"Variant SKU=HOD0709<br>0=%{x}<br>1=%{y}<extra></extra>\",\"legendgroup\":\"HOD0709\",\"marker\":{\"color\":\"#FECB52\",\"symbol\":\"circle\"},\"mode\":\"markers\",\"name\":\"HOD0709\",\"orientation\":\"v\",\"showlegend\":true,\"x\":[6.970489978790283],\"xaxis\":\"x\",\"y\":[-1.8049931526184082],\"yaxis\":\"y\",\"type\":\"scatter\"},{\"hovertemplate\":\"Variant SKU=HOD0703<br>0=%{x}<br>1=%{y}<extra></extra>\",\"legendgroup\":\"HOD0703\",\"marker\":{\"color\":\"#636efa\",\"symbol\":\"circle\"},\"mode\":\"markers\",\"name\":\"HOD0703\",\"orientation\":\"v\",\"showlegend\":true,\"x\":[7.864948749542236],\"xaxis\":\"x\",\"y\":[-3.00844669342041],\"yaxis\":\"y\",\"type\":\"scatter\"},{\"hovertemplate\":\"Variant SKU=HOD0697<br>0=%{x}<br>1=%{y}<extra></extra>\",\"legendgroup\":\"HOD0697\",\"marker\":{\"color\":\"#EF553B\",\"symbol\":\"circle\"},\"mode\":\"markers\",\"name\":\"HOD0697\",\"orientation\":\"v\",\"showlegend\":true,\"x\":[6.993408679962158],\"xaxis\":\"x\",\"y\":[0.3040299117565155],\"yaxis\":\"y\",\"type\":\"scatter\"},{\"hovertemplate\":\"Variant SKU=HOD0691<br>0=%{x}<br>1=%{y}<extra></extra>\",\"legendgroup\":\"HOD0691\",\"marker\":{\"color\":\"#00cc96\",\"symbol\":\"circle\"},\"mode\":\"markers\",\"name\":\"HOD0691\",\"orientation\":\"v\",\"showlegend\":true,\"x\":[6.988264560699463],\"xaxis\":\"x\",\"y\":[-2.3329052925109863],\"yaxis\":\"y\",\"type\":\"scatter\"},{\"hovertemplate\":\"Variant SKU=HOD0685<br>0=%{x}<br>1=%{y}<extra></extra>\",\"legendgroup\":\"HOD0685\",\"marker\":{\"color\":\"#ab63fa\",\"symbol\":\"circle\"},\"mode\":\"markers\",\"name\":\"HOD0685\",\"orientation\":\"v\",\"showlegend\":true,\"x\":[6.388253688812256],\"xaxis\":\"x\",\"y\":[-2.8386893272399902],\"yaxis\":\"y\",\"type\":\"scatter\"},{\"hovertemplate\":\"Variant SKU=HOD0679<br>0=%{x}<br>1=%{y}<extra></extra>\",\"legendgroup\":\"HOD0679\",\"marker\":{\"color\":\"#FFA15A\",\"symbol\":\"circle\"},\"mode\":\"markers\",\"name\":\"HOD0679\",\"orientation\":\"v\",\"showlegend\":true,\"x\":[7.17818546295166],\"xaxis\":\"x\",\"y\":[-0.8043975234031677],\"yaxis\":\"y\",\"type\":\"scatter\"},{\"hovertemplate\":\"Variant SKU=HOD0673<br>0=%{x}<br>1=%{y}<extra></extra>\",\"legendgroup\":\"HOD0673\",\"marker\":{\"color\":\"#19d3f3\",\"symbol\":\"circle\"},\"mode\":\"markers\",\"name\":\"HOD0673\",\"orientation\":\"v\",\"showlegend\":true,\"x\":[5.254006862640381],\"xaxis\":\"x\",\"y\":[-3.2667572498321533],\"yaxis\":\"y\",\"type\":\"scatter\"},{\"hovertemplate\":\"Variant SKU=HOD0667<br>0=%{x}<br>1=%{y}<extra></extra>\",\"legendgroup\":\"HOD0667\",\"marker\":{\"color\":\"#FF6692\",\"symbol\":\"circle\"},\"mode\":\"markers\",\"name\":\"HOD0667\",\"orientation\":\"v\",\"showlegend\":true,\"x\":[8.337307929992676],\"xaxis\":\"x\",\"y\":[-2.01765513420105],\"yaxis\":\"y\",\"type\":\"scatter\"},{\"hovertemplate\":\"Variant SKU=HOD0663<br>0=%{x}<br>1=%{y}<extra></extra>\",\"legendgroup\":\"HOD0663\",\"marker\":{\"color\":\"#B6E880\",\"symbol\":\"circle\"},\"mode\":\"markers\",\"name\":\"HOD0663\",\"orientation\":\"v\",\"showlegend\":true,\"x\":[-2.3816118240356445],\"xaxis\":\"x\",\"y\":[9.557395935058594],\"yaxis\":\"y\",\"type\":\"scatter\"},{\"hovertemplate\":\"Variant SKU=HOD0659<br>0=%{x}<br>1=%{y}<extra></extra>\",\"legendgroup\":\"HOD0659\",\"marker\":{\"color\":\"#FF97FF\",\"symbol\":\"circle\"},\"mode\":\"markers\",\"name\":\"HOD0659\",\"orientation\":\"v\",\"showlegend\":true,\"x\":[-2.7893991470336914],\"xaxis\":\"x\",\"y\":[7.904911994934082],\"yaxis\":\"y\",\"type\":\"scatter\"},{\"hovertemplate\":\"Variant SKU=HOD0655<br>0=%{x}<br>1=%{y}<extra></extra>\",\"legendgroup\":\"HOD0655\",\"marker\":{\"color\":\"#FECB52\",\"symbol\":\"circle\"},\"mode\":\"markers\",\"name\":\"HOD0655\",\"orientation\":\"v\",\"showlegend\":true,\"x\":[-3.528017520904541],\"xaxis\":\"x\",\"y\":[7.353113174438477],\"yaxis\":\"y\",\"type\":\"scatter\"},{\"hovertemplate\":\"Variant SKU=HOD0651<br>0=%{x}<br>1=%{y}<extra></extra>\",\"legendgroup\":\"HOD0651\",\"marker\":{\"color\":\"#636efa\",\"symbol\":\"circle\"},\"mode\":\"markers\",\"name\":\"HOD0651\",\"orientation\":\"v\",\"showlegend\":true,\"x\":[-3.980325937271118],\"xaxis\":\"x\",\"y\":[2.614922285079956],\"yaxis\":\"y\",\"type\":\"scatter\"},{\"hovertemplate\":\"Variant SKU=HOD0647<br>0=%{x}<br>1=%{y}<extra></extra>\",\"legendgroup\":\"HOD0647\",\"marker\":{\"color\":\"#EF553B\",\"symbol\":\"circle\"},\"mode\":\"markers\",\"name\":\"HOD0647\",\"orientation\":\"v\",\"showlegend\":true,\"x\":[-2.38836407661438],\"xaxis\":\"x\",\"y\":[5.590141773223877],\"yaxis\":\"y\",\"type\":\"scatter\"},{\"hovertemplate\":\"Variant SKU=HOD0643<br>0=%{x}<br>1=%{y}<extra></extra>\",\"legendgroup\":\"HOD0643\",\"marker\":{\"color\":\"#00cc96\",\"symbol\":\"circle\"},\"mode\":\"markers\",\"name\":\"HOD0643\",\"orientation\":\"v\",\"showlegend\":true,\"x\":[-1.9913684129714966],\"xaxis\":\"x\",\"y\":[6.155217170715332],\"yaxis\":\"y\",\"type\":\"scatter\"},{\"hovertemplate\":\"Variant SKU=HOD0639<br>0=%{x}<br>1=%{y}<extra></extra>\",\"legendgroup\":\"HOD0639\",\"marker\":{\"color\":\"#ab63fa\",\"symbol\":\"circle\"},\"mode\":\"markers\",\"name\":\"HOD0639\",\"orientation\":\"v\",\"showlegend\":true,\"x\":[-2.028975486755371],\"xaxis\":\"x\",\"y\":[6.2793660163879395],\"yaxis\":\"y\",\"type\":\"scatter\"},{\"hovertemplate\":\"Variant SKU=HOD0635<br>0=%{x}<br>1=%{y}<extra></extra>\",\"legendgroup\":\"HOD0635\",\"marker\":{\"color\":\"#FFA15A\",\"symbol\":\"circle\"},\"mode\":\"markers\",\"name\":\"HOD0635\",\"orientation\":\"v\",\"showlegend\":true,\"x\":[-0.6819325089454651],\"xaxis\":\"x\",\"y\":[7.09114933013916],\"yaxis\":\"y\",\"type\":\"scatter\"},{\"hovertemplate\":\"Variant SKU=HOD0631<br>0=%{x}<br>1=%{y}<extra></extra>\",\"legendgroup\":\"HOD0631\",\"marker\":{\"color\":\"#19d3f3\",\"symbol\":\"circle\"},\"mode\":\"markers\",\"name\":\"HOD0631\",\"orientation\":\"v\",\"showlegend\":true,\"x\":[-2.1191766262054443],\"xaxis\":\"x\",\"y\":[5.737884998321533],\"yaxis\":\"y\",\"type\":\"scatter\"},{\"hovertemplate\":\"Variant SKU=HOD0627<br>0=%{x}<br>1=%{y}<extra></extra>\",\"legendgroup\":\"HOD0627\",\"marker\":{\"color\":\"#FF6692\",\"symbol\":\"circle\"},\"mode\":\"markers\",\"name\":\"HOD0627\",\"orientation\":\"v\",\"showlegend\":true,\"x\":[-2.5640318393707275],\"xaxis\":\"x\",\"y\":[5.780664443969727],\"yaxis\":\"y\",\"type\":\"scatter\"},{\"hovertemplate\":\"Variant SKU=HOD0623<br>0=%{x}<br>1=%{y}<extra></extra>\",\"legendgroup\":\"HOD0623\",\"marker\":{\"color\":\"#B6E880\",\"symbol\":\"circle\"},\"mode\":\"markers\",\"name\":\"HOD0623\",\"orientation\":\"v\",\"showlegend\":true,\"x\":[-1.7565776109695435],\"xaxis\":\"x\",\"y\":[4.887216091156006],\"yaxis\":\"y\",\"type\":\"scatter\"},{\"hovertemplate\":\"Variant SKU=HOD0619<br>0=%{x}<br>1=%{y}<extra></extra>\",\"legendgroup\":\"HOD0619\",\"marker\":{\"color\":\"#FF97FF\",\"symbol\":\"circle\"},\"mode\":\"markers\",\"name\":\"HOD0619\",\"orientation\":\"v\",\"showlegend\":true,\"x\":[-3.2643985748291016],\"xaxis\":\"x\",\"y\":[8.471121788024902],\"yaxis\":\"y\",\"type\":\"scatter\"},{\"hovertemplate\":\"Variant SKU=HOD0615<br>0=%{x}<br>1=%{y}<extra></extra>\",\"legendgroup\":\"HOD0615\",\"marker\":{\"color\":\"#FECB52\",\"symbol\":\"circle\"},\"mode\":\"markers\",\"name\":\"HOD0615\",\"orientation\":\"v\",\"showlegend\":true,\"x\":[-2.4622268676757812],\"xaxis\":\"x\",\"y\":[5.481412887573242],\"yaxis\":\"y\",\"type\":\"scatter\"},{\"hovertemplate\":\"Variant SKU=HOD0611<br>0=%{x}<br>1=%{y}<extra></extra>\",\"legendgroup\":\"HOD0611\",\"marker\":{\"color\":\"#636efa\",\"symbol\":\"circle\"},\"mode\":\"markers\",\"name\":\"HOD0611\",\"orientation\":\"v\",\"showlegend\":true,\"x\":[-1.225698471069336],\"xaxis\":\"x\",\"y\":[6.617658615112305],\"yaxis\":\"y\",\"type\":\"scatter\"},{\"hovertemplate\":\"Variant SKU=HOD0607<br>0=%{x}<br>1=%{y}<extra></extra>\",\"legendgroup\":\"HOD0607\",\"marker\":{\"color\":\"#EF553B\",\"symbol\":\"circle\"},\"mode\":\"markers\",\"name\":\"HOD0607\",\"orientation\":\"v\",\"showlegend\":true,\"x\":[-3.199296236038208],\"xaxis\":\"x\",\"y\":[6.583909511566162],\"yaxis\":\"y\",\"type\":\"scatter\"},{\"hovertemplate\":\"Variant SKU=HOD0603<br>0=%{x}<br>1=%{y}<extra></extra>\",\"legendgroup\":\"HOD0603\",\"marker\":{\"color\":\"#00cc96\",\"symbol\":\"circle\"},\"mode\":\"markers\",\"name\":\"HOD0603\",\"orientation\":\"v\",\"showlegend\":true,\"x\":[-1.3375344276428223],\"xaxis\":\"x\",\"y\":[5.6597819328308105],\"yaxis\":\"y\",\"type\":\"scatter\"},{\"hovertemplate\":\"Variant SKU=HOD0599<br>0=%{x}<br>1=%{y}<extra></extra>\",\"legendgroup\":\"HOD0599\",\"marker\":{\"color\":\"#ab63fa\",\"symbol\":\"circle\"},\"mode\":\"markers\",\"name\":\"HOD0599\",\"orientation\":\"v\",\"showlegend\":true,\"x\":[-3.9213054180145264],\"xaxis\":\"x\",\"y\":[5.6281819343566895],\"yaxis\":\"y\",\"type\":\"scatter\"},{\"hovertemplate\":\"Variant SKU=HOD0591<br>0=%{x}<br>1=%{y}<extra></extra>\",\"legendgroup\":\"HOD0591\",\"marker\":{\"color\":\"#FFA15A\",\"symbol\":\"circle\"},\"mode\":\"markers\",\"name\":\"HOD0591\",\"orientation\":\"v\",\"showlegend\":true,\"x\":[-3.9473843574523926],\"xaxis\":\"x\",\"y\":[6.800642490386963],\"yaxis\":\"y\",\"type\":\"scatter\"},{\"hovertemplate\":\"Variant SKU=HOD0587<br>0=%{x}<br>1=%{y}<extra></extra>\",\"legendgroup\":\"HOD0587\",\"marker\":{\"color\":\"#19d3f3\",\"symbol\":\"circle\"},\"mode\":\"markers\",\"name\":\"HOD0587\",\"orientation\":\"v\",\"showlegend\":true,\"x\":[-2.544739007949829],\"xaxis\":\"x\",\"y\":[6.291837692260742],\"yaxis\":\"y\",\"type\":\"scatter\"},{\"hovertemplate\":\"Variant SKU=HOD0583<br>0=%{x}<br>1=%{y}<extra></extra>\",\"legendgroup\":\"HOD0583\",\"marker\":{\"color\":\"#FF6692\",\"symbol\":\"circle\"},\"mode\":\"markers\",\"name\":\"HOD0583\",\"orientation\":\"v\",\"showlegend\":true,\"x\":[-3.50219464302063],\"xaxis\":\"x\",\"y\":[7.594549655914307],\"yaxis\":\"y\",\"type\":\"scatter\"},{\"hovertemplate\":\"Variant SKU=HOD0579<br>0=%{x}<br>1=%{y}<extra></extra>\",\"legendgroup\":\"HOD0579\",\"marker\":{\"color\":\"#B6E880\",\"symbol\":\"circle\"},\"mode\":\"markers\",\"name\":\"HOD0579\",\"orientation\":\"v\",\"showlegend\":true,\"x\":[-0.9907866716384888],\"xaxis\":\"x\",\"y\":[7.614912033081055],\"yaxis\":\"y\",\"type\":\"scatter\"},{\"hovertemplate\":\"Variant SKU=HOD0575<br>0=%{x}<br>1=%{y}<extra></extra>\",\"legendgroup\":\"HOD0575\",\"marker\":{\"color\":\"#FF97FF\",\"symbol\":\"circle\"},\"mode\":\"markers\",\"name\":\"HOD0575\",\"orientation\":\"v\",\"showlegend\":true,\"x\":[-1.4008277654647827],\"xaxis\":\"x\",\"y\":[7.150444984436035],\"yaxis\":\"y\",\"type\":\"scatter\"},{\"hovertemplate\":\"Variant SKU=HOD0571<br>0=%{x}<br>1=%{y}<extra></extra>\",\"legendgroup\":\"HOD0571\",\"marker\":{\"color\":\"#FECB52\",\"symbol\":\"circle\"},\"mode\":\"markers\",\"name\":\"HOD0571\",\"orientation\":\"v\",\"showlegend\":true,\"x\":[-1.244449257850647],\"xaxis\":\"x\",\"y\":[7.889472484588623],\"yaxis\":\"y\",\"type\":\"scatter\"},{\"hovertemplate\":\"Variant SKU=HOD0567<br>0=%{x}<br>1=%{y}<extra></extra>\",\"legendgroup\":\"HOD0567\",\"marker\":{\"color\":\"#636efa\",\"symbol\":\"circle\"},\"mode\":\"markers\",\"name\":\"HOD0567\",\"orientation\":\"v\",\"showlegend\":true,\"x\":[-0.1286010444164276],\"xaxis\":\"x\",\"y\":[6.006269931793213],\"yaxis\":\"y\",\"type\":\"scatter\"},{\"hovertemplate\":\"Variant SKU=HOD0563<br>0=%{x}<br>1=%{y}<extra></extra>\",\"legendgroup\":\"HOD0563\",\"marker\":{\"color\":\"#EF553B\",\"symbol\":\"circle\"},\"mode\":\"markers\",\"name\":\"HOD0563\",\"orientation\":\"v\",\"showlegend\":true,\"x\":[-2.2592921257019043],\"xaxis\":\"x\",\"y\":[6.922704696655273],\"yaxis\":\"y\",\"type\":\"scatter\"},{\"hovertemplate\":\"Variant SKU=HOD0555<br>0=%{x}<br>1=%{y}<extra></extra>\",\"legendgroup\":\"HOD0555\",\"marker\":{\"color\":\"#00cc96\",\"symbol\":\"circle\"},\"mode\":\"markers\",\"name\":\"HOD0555\",\"orientation\":\"v\",\"showlegend\":true,\"x\":[-1.9089897871017456],\"xaxis\":\"x\",\"y\":[6.410842418670654],\"yaxis\":\"y\",\"type\":\"scatter\"},{\"hovertemplate\":\"Variant SKU=HOD0529<br>0=%{x}<br>1=%{y}<extra></extra>\",\"legendgroup\":\"HOD0529\",\"marker\":{\"color\":\"#ab63fa\",\"symbol\":\"circle\"},\"mode\":\"markers\",\"name\":\"HOD0529\",\"orientation\":\"v\",\"showlegend\":true,\"x\":[4.856169700622559],\"xaxis\":\"x\",\"y\":[-1.8975032567977905],\"yaxis\":\"y\",\"type\":\"scatter\"},{\"hovertemplate\":\"Variant SKU=HOD0523<br>0=%{x}<br>1=%{y}<extra></extra>\",\"legendgroup\":\"HOD0523\",\"marker\":{\"color\":\"#FFA15A\",\"symbol\":\"circle\"},\"mode\":\"markers\",\"name\":\"HOD0523\",\"orientation\":\"v\",\"showlegend\":true,\"x\":[3.600318193435669],\"xaxis\":\"x\",\"y\":[-1.7366136312484741],\"yaxis\":\"y\",\"type\":\"scatter\"},{\"hovertemplate\":\"Variant SKU=HOD0517<br>0=%{x}<br>1=%{y}<extra></extra>\",\"legendgroup\":\"HOD0517\",\"marker\":{\"color\":\"#19d3f3\",\"symbol\":\"circle\"},\"mode\":\"markers\",\"name\":\"HOD0517\",\"orientation\":\"v\",\"showlegend\":true,\"x\":[3.395266056060791],\"xaxis\":\"x\",\"y\":[-1.4114521741867065],\"yaxis\":\"y\",\"type\":\"scatter\"},{\"hovertemplate\":\"Variant SKU=HOD0511<br>0=%{x}<br>1=%{y}<extra></extra>\",\"legendgroup\":\"HOD0511\",\"marker\":{\"color\":\"#FF6692\",\"symbol\":\"circle\"},\"mode\":\"markers\",\"name\":\"HOD0511\",\"orientation\":\"v\",\"showlegend\":true,\"x\":[3.9268829822540283],\"xaxis\":\"x\",\"y\":[-0.764501690864563],\"yaxis\":\"y\",\"type\":\"scatter\"},{\"hovertemplate\":\"Variant SKU=HOD0505<br>0=%{x}<br>1=%{y}<extra></extra>\",\"legendgroup\":\"HOD0505\",\"marker\":{\"color\":\"#B6E880\",\"symbol\":\"circle\"},\"mode\":\"markers\",\"name\":\"HOD0505\",\"orientation\":\"v\",\"showlegend\":true,\"x\":[4.065436840057373],\"xaxis\":\"x\",\"y\":[-2.31421160697937],\"yaxis\":\"y\",\"type\":\"scatter\"},{\"hovertemplate\":\"Variant SKU=HOD0493<br>0=%{x}<br>1=%{y}<extra></extra>\",\"legendgroup\":\"HOD0493\",\"marker\":{\"color\":\"#FF97FF\",\"symbol\":\"circle\"},\"mode\":\"markers\",\"name\":\"HOD0493\",\"orientation\":\"v\",\"showlegend\":true,\"x\":[3.085273504257202],\"xaxis\":\"x\",\"y\":[-1.563555121421814],\"yaxis\":\"y\",\"type\":\"scatter\"},{\"hovertemplate\":\"Variant SKU=HOD0487<br>0=%{x}<br>1=%{y}<extra></extra>\",\"legendgroup\":\"HOD0487\",\"marker\":{\"color\":\"#FECB52\",\"symbol\":\"circle\"},\"mode\":\"markers\",\"name\":\"HOD0487\",\"orientation\":\"v\",\"showlegend\":true,\"x\":[1.794392704963684],\"xaxis\":\"x\",\"y\":[-1.2602132558822632],\"yaxis\":\"y\",\"type\":\"scatter\"},{\"hovertemplate\":\"Variant SKU=HOD0481<br>0=%{x}<br>1=%{y}<extra></extra>\",\"legendgroup\":\"HOD0481\",\"marker\":{\"color\":\"#636efa\",\"symbol\":\"circle\"},\"mode\":\"markers\",\"name\":\"HOD0481\",\"orientation\":\"v\",\"showlegend\":true,\"x\":[2.542804479598999],\"xaxis\":\"x\",\"y\":[-1.6452950239181519],\"yaxis\":\"y\",\"type\":\"scatter\"},{\"hovertemplate\":\"Variant SKU=HOD0475<br>0=%{x}<br>1=%{y}<extra></extra>\",\"legendgroup\":\"HOD0475\",\"marker\":{\"color\":\"#EF553B\",\"symbol\":\"circle\"},\"mode\":\"markers\",\"name\":\"HOD0475\",\"orientation\":\"v\",\"showlegend\":true,\"x\":[2.254621744155884],\"xaxis\":\"x\",\"y\":[-1.7610374689102173],\"yaxis\":\"y\",\"type\":\"scatter\"},{\"hovertemplate\":\"Variant SKU=HOD0277<br>0=%{x}<br>1=%{y}<extra></extra>\",\"legendgroup\":\"HOD0277\",\"marker\":{\"color\":\"#00cc96\",\"symbol\":\"circle\"},\"mode\":\"markers\",\"name\":\"HOD0277\",\"orientation\":\"v\",\"showlegend\":true,\"x\":[-0.25614988803863525],\"xaxis\":\"x\",\"y\":[-0.75645911693573],\"yaxis\":\"y\",\"type\":\"scatter\"},{\"hovertemplate\":\"Variant SKU=HOD0271<br>0=%{x}<br>1=%{y}<extra></extra>\",\"legendgroup\":\"HOD0271\",\"marker\":{\"color\":\"#ab63fa\",\"symbol\":\"circle\"},\"mode\":\"markers\",\"name\":\"HOD0271\",\"orientation\":\"v\",\"showlegend\":true,\"x\":[1.6227487325668335],\"xaxis\":\"x\",\"y\":[-2.628342628479004],\"yaxis\":\"y\",\"type\":\"scatter\"},{\"hovertemplate\":\"Variant SKU=HOD0265<br>0=%{x}<br>1=%{y}<extra></extra>\",\"legendgroup\":\"HOD0265\",\"marker\":{\"color\":\"#FFA15A\",\"symbol\":\"circle\"},\"mode\":\"markers\",\"name\":\"HOD0265\",\"orientation\":\"v\",\"showlegend\":true,\"x\":[-1.6243544816970825],\"xaxis\":\"x\",\"y\":[-2.8036651611328125],\"yaxis\":\"y\",\"type\":\"scatter\"},{\"hovertemplate\":\"Variant SKU=HOD0259<br>0=%{x}<br>1=%{y}<extra></extra>\",\"legendgroup\":\"HOD0259\",\"marker\":{\"color\":\"#19d3f3\",\"symbol\":\"circle\"},\"mode\":\"markers\",\"name\":\"HOD0259\",\"orientation\":\"v\",\"showlegend\":true,\"x\":[2.5168087482452393],\"xaxis\":\"x\",\"y\":[-0.2610321342945099],\"yaxis\":\"y\",\"type\":\"scatter\"},{\"hovertemplate\":\"Variant SKU=HOD0253<br>0=%{x}<br>1=%{y}<extra></extra>\",\"legendgroup\":\"HOD0253\",\"marker\":{\"color\":\"#FF6692\",\"symbol\":\"circle\"},\"mode\":\"markers\",\"name\":\"HOD0253\",\"orientation\":\"v\",\"showlegend\":true,\"x\":[1.079759955406189],\"xaxis\":\"x\",\"y\":[0.708254337310791],\"yaxis\":\"y\",\"type\":\"scatter\"},{\"hovertemplate\":\"Variant SKU=HOD0247<br>0=%{x}<br>1=%{y}<extra></extra>\",\"legendgroup\":\"HOD0247\",\"marker\":{\"color\":\"#B6E880\",\"symbol\":\"circle\"},\"mode\":\"markers\",\"name\":\"HOD0247\",\"orientation\":\"v\",\"showlegend\":true,\"x\":[3.2057671546936035],\"xaxis\":\"x\",\"y\":[0.47384291887283325],\"yaxis\":\"y\",\"type\":\"scatter\"},{\"hovertemplate\":\"Variant SKU=HOD0552<br>0=%{x}<br>1=%{y}<extra></extra>\",\"legendgroup\":\"HOD0552\",\"marker\":{\"color\":\"#FF97FF\",\"symbol\":\"circle\"},\"mode\":\"markers\",\"name\":\"HOD0552\",\"orientation\":\"v\",\"showlegend\":true,\"x\":[0.42627525329589844],\"xaxis\":\"x\",\"y\":[3.0433621406555176],\"yaxis\":\"y\",\"type\":\"scatter\"},{\"hovertemplate\":\"Variant SKU=HOD0241<br>0=%{x}<br>1=%{y}<extra></extra>\",\"legendgroup\":\"HOD0241\",\"marker\":{\"color\":\"#FECB52\",\"symbol\":\"circle\"},\"mode\":\"markers\",\"name\":\"HOD0241\",\"orientation\":\"v\",\"showlegend\":true,\"x\":[1.415710210800171],\"xaxis\":\"x\",\"y\":[-1.3642195463180542],\"yaxis\":\"y\",\"type\":\"scatter\"},{\"hovertemplate\":\"Variant SKU=HOD0551<br>0=%{x}<br>1=%{y}<extra></extra>\",\"legendgroup\":\"HOD0551\",\"marker\":{\"color\":\"#636efa\",\"symbol\":\"circle\"},\"mode\":\"markers\",\"name\":\"HOD0551\",\"orientation\":\"v\",\"showlegend\":true,\"x\":[0.3626669943332672],\"xaxis\":\"x\",\"y\":[3.1656606197357178],\"yaxis\":\"y\",\"type\":\"scatter\"},{\"hovertemplate\":\"Variant SKU=HOD0550<br>0=%{x}<br>1=%{y}<extra></extra>\",\"legendgroup\":\"HOD0550\",\"marker\":{\"color\":\"#EF553B\",\"symbol\":\"circle\"},\"mode\":\"markers\",\"name\":\"HOD0550\",\"orientation\":\"v\",\"showlegend\":true,\"x\":[0.26646631956100464],\"xaxis\":\"x\",\"y\":[3.03267765045166],\"yaxis\":\"y\",\"type\":\"scatter\"},{\"hovertemplate\":\"Variant SKU=HOD0235<br>0=%{x}<br>1=%{y}<extra></extra>\",\"legendgroup\":\"HOD0235\",\"marker\":{\"color\":\"#00cc96\",\"symbol\":\"circle\"},\"mode\":\"markers\",\"name\":\"HOD0235\",\"orientation\":\"v\",\"showlegend\":true,\"x\":[5.888155937194824],\"xaxis\":\"x\",\"y\":[-0.349142462015152],\"yaxis\":\"y\",\"type\":\"scatter\"},{\"hovertemplate\":\"Variant SKU=HOD0548<br>0=%{x}<br>1=%{y}<extra></extra>\",\"legendgroup\":\"HOD0548\",\"marker\":{\"color\":\"#ab63fa\",\"symbol\":\"circle\"},\"mode\":\"markers\",\"name\":\"HOD0548\",\"orientation\":\"v\",\"showlegend\":true,\"x\":[-1.1618214845657349],\"xaxis\":\"x\",\"y\":[4.751272201538086],\"yaxis\":\"y\",\"type\":\"scatter\"},{\"hovertemplate\":\"Variant SKU=HOD0547<br>0=%{x}<br>1=%{y}<extra></extra>\",\"legendgroup\":\"HOD0547\",\"marker\":{\"color\":\"#FFA15A\",\"symbol\":\"circle\"},\"mode\":\"markers\",\"name\":\"HOD0547\",\"orientation\":\"v\",\"showlegend\":true,\"x\":[-0.6111360788345337],\"xaxis\":\"x\",\"y\":[4.425596714019775],\"yaxis\":\"y\",\"type\":\"scatter\"},{\"hovertemplate\":\"Variant SKU=HOD0229<br>0=%{x}<br>1=%{y}<extra></extra>\",\"legendgroup\":\"HOD0229\",\"marker\":{\"color\":\"#19d3f3\",\"symbol\":\"circle\"},\"mode\":\"markers\",\"name\":\"HOD0229\",\"orientation\":\"v\",\"showlegend\":true,\"x\":[3.1988470554351807],\"xaxis\":\"x\",\"y\":[-0.8396100997924805],\"yaxis\":\"y\",\"type\":\"scatter\"},{\"hovertemplate\":\"Variant SKU=HOD0223<br>0=%{x}<br>1=%{y}<extra></extra>\",\"legendgroup\":\"HOD0223\",\"marker\":{\"color\":\"#FF6692\",\"symbol\":\"circle\"},\"mode\":\"markers\",\"name\":\"HOD0223\",\"orientation\":\"v\",\"showlegend\":true,\"x\":[1.9379183053970337],\"xaxis\":\"x\",\"y\":[-1.2030054330825806],\"yaxis\":\"y\",\"type\":\"scatter\"},{\"hovertemplate\":\"Variant SKU=HOD0545<br>0=%{x}<br>1=%{y}<extra></extra>\",\"legendgroup\":\"HOD0545\",\"marker\":{\"color\":\"#B6E880\",\"symbol\":\"circle\"},\"mode\":\"markers\",\"name\":\"HOD0545\",\"orientation\":\"v\",\"showlegend\":true,\"x\":[-1.3778232336044312],\"xaxis\":\"x\",\"y\":[5.682319164276123],\"yaxis\":\"y\",\"type\":\"scatter\"},{\"hovertemplate\":\"Variant SKU=HOD0544<br>0=%{x}<br>1=%{y}<extra></extra>\",\"legendgroup\":\"HOD0544\",\"marker\":{\"color\":\"#FF97FF\",\"symbol\":\"circle\"},\"mode\":\"markers\",\"name\":\"HOD0544\",\"orientation\":\"v\",\"showlegend\":true,\"x\":[0.08895865082740784],\"xaxis\":\"x\",\"y\":[3.3217990398406982],\"yaxis\":\"y\",\"type\":\"scatter\"},{\"hovertemplate\":\"Variant SKU=HOD0543<br>0=%{x}<br>1=%{y}<extra></extra>\",\"legendgroup\":\"HOD0543\",\"marker\":{\"color\":\"#FECB52\",\"symbol\":\"circle\"},\"mode\":\"markers\",\"name\":\"HOD0543\",\"orientation\":\"v\",\"showlegend\":true,\"x\":[-1.1414498090744019],\"xaxis\":\"x\",\"y\":[2.590524196624756],\"yaxis\":\"y\",\"type\":\"scatter\"},{\"hovertemplate\":\"Variant SKU=HOD0217<br>0=%{x}<br>1=%{y}<extra></extra>\",\"legendgroup\":\"HOD0217\",\"marker\":{\"color\":\"#636efa\",\"symbol\":\"circle\"},\"mode\":\"markers\",\"name\":\"HOD0217\",\"orientation\":\"v\",\"showlegend\":true,\"x\":[2.253591537475586],\"xaxis\":\"x\",\"y\":[0.9857511520385742],\"yaxis\":\"y\",\"type\":\"scatter\"},{\"hovertemplate\":\"Variant SKU=HOD0542<br>0=%{x}<br>1=%{y}<extra></extra>\",\"legendgroup\":\"HOD0542\",\"marker\":{\"color\":\"#EF553B\",\"symbol\":\"circle\"},\"mode\":\"markers\",\"name\":\"HOD0542\",\"orientation\":\"v\",\"showlegend\":true,\"x\":[-0.6524646878242493],\"xaxis\":\"x\",\"y\":[1.733711838722229],\"yaxis\":\"y\",\"type\":\"scatter\"},{\"hovertemplate\":\"Variant SKU=HOD0211<br>0=%{x}<br>1=%{y}<extra></extra>\",\"legendgroup\":\"HOD0211\",\"marker\":{\"color\":\"#00cc96\",\"symbol\":\"circle\"},\"mode\":\"markers\",\"name\":\"HOD0211\",\"orientation\":\"v\",\"showlegend\":true,\"x\":[2.5467324256896973],\"xaxis\":\"x\",\"y\":[-0.9164548516273499],\"yaxis\":\"y\",\"type\":\"scatter\"},{\"hovertemplate\":\"Variant SKU=HOD0538<br>0=%{x}<br>1=%{y}<extra></extra>\",\"legendgroup\":\"HOD0538\",\"marker\":{\"color\":\"#ab63fa\",\"symbol\":\"circle\"},\"mode\":\"markers\",\"name\":\"HOD0538\",\"orientation\":\"v\",\"showlegend\":true,\"x\":[1.4150047302246094],\"xaxis\":\"x\",\"y\":[3.2388839721679688],\"yaxis\":\"y\",\"type\":\"scatter\"},{\"hovertemplate\":\"Variant SKU=HOD0205<br>0=%{x}<br>1=%{y}<extra></extra>\",\"legendgroup\":\"HOD0205\",\"marker\":{\"color\":\"#FFA15A\",\"symbol\":\"circle\"},\"mode\":\"markers\",\"name\":\"HOD0205\",\"orientation\":\"v\",\"showlegend\":true,\"x\":[4.979842662811279],\"xaxis\":\"x\",\"y\":[-0.20450109243392944],\"yaxis\":\"y\",\"type\":\"scatter\"},{\"hovertemplate\":\"Variant SKU=HOD0537<br>0=%{x}<br>1=%{y}<extra></extra>\",\"legendgroup\":\"HOD0537\",\"marker\":{\"color\":\"#19d3f3\",\"symbol\":\"circle\"},\"mode\":\"markers\",\"name\":\"HOD0537\",\"orientation\":\"v\",\"showlegend\":true,\"x\":[-2.130598545074463],\"xaxis\":\"x\",\"y\":[1.8037526607513428],\"yaxis\":\"y\",\"type\":\"scatter\"},{\"hovertemplate\":\"Variant SKU=HOD0536<br>0=%{x}<br>1=%{y}<extra></extra>\",\"legendgroup\":\"HOD0536\",\"marker\":{\"color\":\"#FF6692\",\"symbol\":\"circle\"},\"mode\":\"markers\",\"name\":\"HOD0536\",\"orientation\":\"v\",\"showlegend\":true,\"x\":[-1.552048683166504],\"xaxis\":\"x\",\"y\":[1.656002402305603],\"yaxis\":\"y\",\"type\":\"scatter\"},{\"hovertemplate\":\"Variant SKU=HOD0199<br>0=%{x}<br>1=%{y}<extra></extra>\",\"legendgroup\":\"HOD0199\",\"marker\":{\"color\":\"#B6E880\",\"symbol\":\"circle\"},\"mode\":\"markers\",\"name\":\"HOD0199\",\"orientation\":\"v\",\"showlegend\":true,\"x\":[3.1568257808685303],\"xaxis\":\"x\",\"y\":[0.028927121311426163],\"yaxis\":\"y\",\"type\":\"scatter\"},{\"hovertemplate\":\"Variant SKU=HOD0193<br>0=%{x}<br>1=%{y}<extra></extra>\",\"legendgroup\":\"HOD0193\",\"marker\":{\"color\":\"#FF97FF\",\"symbol\":\"circle\"},\"mode\":\"markers\",\"name\":\"HOD0193\",\"orientation\":\"v\",\"showlegend\":true,\"x\":[-0.23072518408298492],\"xaxis\":\"x\",\"y\":[-0.8955919146537781],\"yaxis\":\"y\",\"type\":\"scatter\"},{\"hovertemplate\":\"Variant SKU=HOD0187<br>0=%{x}<br>1=%{y}<extra></extra>\",\"legendgroup\":\"HOD0187\",\"marker\":{\"color\":\"#FECB52\",\"symbol\":\"circle\"},\"mode\":\"markers\",\"name\":\"HOD0187\",\"orientation\":\"v\",\"showlegend\":true,\"x\":[1.4410243034362793],\"xaxis\":\"x\",\"y\":[-0.6392336487770081],\"yaxis\":\"y\",\"type\":\"scatter\"},{\"hovertemplate\":\"Variant SKU=HOD0181<br>0=%{x}<br>1=%{y}<extra></extra>\",\"legendgroup\":\"HOD0181\",\"marker\":{\"color\":\"#636efa\",\"symbol\":\"circle\"},\"mode\":\"markers\",\"name\":\"HOD0181\",\"orientation\":\"v\",\"showlegend\":true,\"x\":[-0.25150126218795776],\"xaxis\":\"x\",\"y\":[-1.9358506202697754],\"yaxis\":\"y\",\"type\":\"scatter\"},{\"hovertemplate\":\"Variant SKU=HOD0469<br>0=%{x}<br>1=%{y}<extra></extra>\",\"legendgroup\":\"HOD0469\",\"marker\":{\"color\":\"#EF553B\",\"symbol\":\"circle\"},\"mode\":\"markers\",\"name\":\"HOD0469\",\"orientation\":\"v\",\"showlegend\":true,\"x\":[-7.43151330947876],\"xaxis\":\"x\",\"y\":[-5.831932067871094],\"yaxis\":\"y\",\"type\":\"scatter\"},{\"hovertemplate\":\"Variant SKU=HOD0463<br>0=%{x}<br>1=%{y}<extra></extra>\",\"legendgroup\":\"HOD0463\",\"marker\":{\"color\":\"#00cc96\",\"symbol\":\"circle\"},\"mode\":\"markers\",\"name\":\"HOD0463\",\"orientation\":\"v\",\"showlegend\":true,\"x\":[-6.935987949371338],\"xaxis\":\"x\",\"y\":[-3.911008596420288],\"yaxis\":\"y\",\"type\":\"scatter\"},{\"hovertemplate\":\"Variant SKU=HOD0457<br>0=%{x}<br>1=%{y}<extra></extra>\",\"legendgroup\":\"HOD0457\",\"marker\":{\"color\":\"#ab63fa\",\"symbol\":\"circle\"},\"mode\":\"markers\",\"name\":\"HOD0457\",\"orientation\":\"v\",\"showlegend\":true,\"x\":[-8.093640327453613],\"xaxis\":\"x\",\"y\":[-5.537360191345215],\"yaxis\":\"y\",\"type\":\"scatter\"},{\"hovertemplate\":\"Variant SKU=HOD0451<br>0=%{x}<br>1=%{y}<extra></extra>\",\"legendgroup\":\"HOD0451\",\"marker\":{\"color\":\"#FFA15A\",\"symbol\":\"circle\"},\"mode\":\"markers\",\"name\":\"HOD0451\",\"orientation\":\"v\",\"showlegend\":true,\"x\":[-7.303506374359131],\"xaxis\":\"x\",\"y\":[-3.372853994369507],\"yaxis\":\"y\",\"type\":\"scatter\"},{\"hovertemplate\":\"Variant SKU=HOD0445<br>0=%{x}<br>1=%{y}<extra></extra>\",\"legendgroup\":\"HOD0445\",\"marker\":{\"color\":\"#19d3f3\",\"symbol\":\"circle\"},\"mode\":\"markers\",\"name\":\"HOD0445\",\"orientation\":\"v\",\"showlegend\":true,\"x\":[-6.569800853729248],\"xaxis\":\"x\",\"y\":[-4.117812156677246],\"yaxis\":\"y\",\"type\":\"scatter\"},{\"hovertemplate\":\"Variant SKU=HOD0439<br>0=%{x}<br>1=%{y}<extra></extra>\",\"legendgroup\":\"HOD0439\",\"marker\":{\"color\":\"#FF6692\",\"symbol\":\"circle\"},\"mode\":\"markers\",\"name\":\"HOD0439\",\"orientation\":\"v\",\"showlegend\":true,\"x\":[-7.730699062347412],\"xaxis\":\"x\",\"y\":[-5.603899002075195],\"yaxis\":\"y\",\"type\":\"scatter\"},{\"hovertemplate\":\"Variant SKU=HOD0433<br>0=%{x}<br>1=%{y}<extra></extra>\",\"legendgroup\":\"HOD0433\",\"marker\":{\"color\":\"#B6E880\",\"symbol\":\"circle\"},\"mode\":\"markers\",\"name\":\"HOD0433\",\"orientation\":\"v\",\"showlegend\":true,\"x\":[-6.049648761749268],\"xaxis\":\"x\",\"y\":[-5.573651313781738],\"yaxis\":\"y\",\"type\":\"scatter\"},{\"hovertemplate\":\"Variant SKU=HOD0427<br>0=%{x}<br>1=%{y}<extra></extra>\",\"legendgroup\":\"HOD0427\",\"marker\":{\"color\":\"#FF97FF\",\"symbol\":\"circle\"},\"mode\":\"markers\",\"name\":\"HOD0427\",\"orientation\":\"v\",\"showlegend\":true,\"x\":[-8.0936861038208],\"xaxis\":\"x\",\"y\":[-5.810539722442627],\"yaxis\":\"y\",\"type\":\"scatter\"},{\"hovertemplate\":\"Variant SKU=HOD0421<br>0=%{x}<br>1=%{y}<extra></extra>\",\"legendgroup\":\"HOD0421\",\"marker\":{\"color\":\"#FECB52\",\"symbol\":\"circle\"},\"mode\":\"markers\",\"name\":\"HOD0421\",\"orientation\":\"v\",\"showlegend\":true,\"x\":[-5.6552042961120605],\"xaxis\":\"x\",\"y\":[-4.250026702880859],\"yaxis\":\"y\",\"type\":\"scatter\"},{\"hovertemplate\":\"Variant SKU=HOD0415<br>0=%{x}<br>1=%{y}<extra></extra>\",\"legendgroup\":\"HOD0415\",\"marker\":{\"color\":\"#636efa\",\"symbol\":\"circle\"},\"mode\":\"markers\",\"name\":\"HOD0415\",\"orientation\":\"v\",\"showlegend\":true,\"x\":[-7.539798736572266],\"xaxis\":\"x\",\"y\":[-4.657323360443115],\"yaxis\":\"y\",\"type\":\"scatter\"},{\"hovertemplate\":\"Variant SKU=HOD0397<br>0=%{x}<br>1=%{y}<extra></extra>\",\"legendgroup\":\"HOD0397\",\"marker\":{\"color\":\"#EF553B\",\"symbol\":\"circle\"},\"mode\":\"markers\",\"name\":\"HOD0397\",\"orientation\":\"v\",\"showlegend\":true,\"x\":[-4.377814769744873],\"xaxis\":\"x\",\"y\":[-4.569854259490967],\"yaxis\":\"y\",\"type\":\"scatter\"},{\"hovertemplate\":\"Variant SKU=HOD0391<br>0=%{x}<br>1=%{y}<extra></extra>\",\"legendgroup\":\"HOD0391\",\"marker\":{\"color\":\"#00cc96\",\"symbol\":\"circle\"},\"mode\":\"markers\",\"name\":\"HOD0391\",\"orientation\":\"v\",\"showlegend\":true,\"x\":[-5.134886264801025],\"xaxis\":\"x\",\"y\":[-2.343169689178467],\"yaxis\":\"y\",\"type\":\"scatter\"},{\"hovertemplate\":\"Variant SKU=HOD0385<br>0=%{x}<br>1=%{y}<extra></extra>\",\"legendgroup\":\"HOD0385\",\"marker\":{\"color\":\"#ab63fa\",\"symbol\":\"circle\"},\"mode\":\"markers\",\"name\":\"HOD0385\",\"orientation\":\"v\",\"showlegend\":true,\"x\":[-7.84429931640625],\"xaxis\":\"x\",\"y\":[-5.1334991455078125],\"yaxis\":\"y\",\"type\":\"scatter\"},{\"hovertemplate\":\"Variant SKU=HOD0373<br>0=%{x}<br>1=%{y}<extra></extra>\",\"legendgroup\":\"HOD0373\",\"marker\":{\"color\":\"#FFA15A\",\"symbol\":\"circle\"},\"mode\":\"markers\",\"name\":\"HOD0373\",\"orientation\":\"v\",\"showlegend\":true,\"x\":[-6.921707630157471],\"xaxis\":\"x\",\"y\":[-2.697955846786499],\"yaxis\":\"y\",\"type\":\"scatter\"},{\"hovertemplate\":\"Variant SKU=HOD0175<br>0=%{x}<br>1=%{y}<extra></extra>\",\"legendgroup\":\"HOD0175\",\"marker\":{\"color\":\"#19d3f3\",\"symbol\":\"circle\"},\"mode\":\"markers\",\"name\":\"HOD0175\",\"orientation\":\"v\",\"showlegend\":true,\"x\":[3.6871213912963867],\"xaxis\":\"x\",\"y\":[-2.3515465259552],\"yaxis\":\"y\",\"type\":\"scatter\"},{\"hovertemplate\":\"Variant SKU=HOD0169<br>0=%{x}<br>1=%{y}<extra></extra>\",\"legendgroup\":\"HOD0169\",\"marker\":{\"color\":\"#FF6692\",\"symbol\":\"circle\"},\"mode\":\"markers\",\"name\":\"HOD0169\",\"orientation\":\"v\",\"showlegend\":true,\"x\":[4.215437412261963],\"xaxis\":\"x\",\"y\":[-1.1423355340957642],\"yaxis\":\"y\",\"type\":\"scatter\"},{\"hovertemplate\":\"Variant SKU=HOD0163<br>0=%{x}<br>1=%{y}<extra></extra>\",\"legendgroup\":\"HOD0163\",\"marker\":{\"color\":\"#B6E880\",\"symbol\":\"circle\"},\"mode\":\"markers\",\"name\":\"HOD0163\",\"orientation\":\"v\",\"showlegend\":true,\"x\":[5.03923225402832],\"xaxis\":\"x\",\"y\":[-0.9673327207565308],\"yaxis\":\"y\",\"type\":\"scatter\"},{\"hovertemplate\":\"Variant SKU=HOD0367<br>0=%{x}<br>1=%{y}<extra></extra>\",\"legendgroup\":\"HOD0367\",\"marker\":{\"color\":\"#FF97FF\",\"symbol\":\"circle\"},\"mode\":\"markers\",\"name\":\"HOD0367\",\"orientation\":\"v\",\"showlegend\":true,\"x\":[-6.483160495758057],\"xaxis\":\"x\",\"y\":[-4.179596424102783],\"yaxis\":\"y\",\"type\":\"scatter\"},{\"hovertemplate\":\"Variant SKU=HOD0157<br>0=%{x}<br>1=%{y}<extra></extra>\",\"legendgroup\":\"HOD0157\",\"marker\":{\"color\":\"#FECB52\",\"symbol\":\"circle\"},\"mode\":\"markers\",\"name\":\"HOD0157\",\"orientation\":\"v\",\"showlegend\":true,\"x\":[1.782507300376892],\"xaxis\":\"x\",\"y\":[-0.30263566970825195],\"yaxis\":\"y\",\"type\":\"scatter\"},{\"hovertemplate\":\"Variant SKU=HOD0355<br>0=%{x}<br>1=%{y}<extra></extra>\",\"legendgroup\":\"HOD0355\",\"marker\":{\"color\":\"#636efa\",\"symbol\":\"circle\"},\"mode\":\"markers\",\"name\":\"HOD0355\",\"orientation\":\"v\",\"showlegend\":true,\"x\":[-6.064789772033691],\"xaxis\":\"x\",\"y\":[-5.02669095993042],\"yaxis\":\"y\",\"type\":\"scatter\"},{\"hovertemplate\":\"Variant SKU=HOD0151<br>0=%{x}<br>1=%{y}<extra></extra>\",\"legendgroup\":\"HOD0151\",\"marker\":{\"color\":\"#EF553B\",\"symbol\":\"circle\"},\"mode\":\"markers\",\"name\":\"HOD0151\",\"orientation\":\"v\",\"showlegend\":true,\"x\":[0.554754376411438],\"xaxis\":\"x\",\"y\":[-0.7841313481330872],\"yaxis\":\"y\",\"type\":\"scatter\"},{\"hovertemplate\":\"Variant SKU=HOD0145<br>0=%{x}<br>1=%{y}<extra></extra>\",\"legendgroup\":\"HOD0145\",\"marker\":{\"color\":\"#00cc96\",\"symbol\":\"circle\"},\"mode\":\"markers\",\"name\":\"HOD0145\",\"orientation\":\"v\",\"showlegend\":true,\"x\":[0.1789395660161972],\"xaxis\":\"x\",\"y\":[-1.8614569902420044],\"yaxis\":\"y\",\"type\":\"scatter\"},{\"hovertemplate\":\"Variant SKU=HOD0139<br>0=%{x}<br>1=%{y}<extra></extra>\",\"legendgroup\":\"HOD0139\",\"marker\":{\"color\":\"#ab63fa\",\"symbol\":\"circle\"},\"mode\":\"markers\",\"name\":\"HOD0139\",\"orientation\":\"v\",\"showlegend\":true,\"x\":[1.48434317111969],\"xaxis\":\"x\",\"y\":[-2.7734696865081787],\"yaxis\":\"y\",\"type\":\"scatter\"},{\"hovertemplate\":\"Variant SKU=HOD0349<br>0=%{x}<br>1=%{y}<extra></extra>\",\"legendgroup\":\"HOD0349\",\"marker\":{\"color\":\"#FFA15A\",\"symbol\":\"circle\"},\"mode\":\"markers\",\"name\":\"HOD0349\",\"orientation\":\"v\",\"showlegend\":true,\"x\":[-7.78318452835083],\"xaxis\":\"x\",\"y\":[-5.485198497772217],\"yaxis\":\"y\",\"type\":\"scatter\"},{\"hovertemplate\":\"Variant SKU=HOD0133<br>0=%{x}<br>1=%{y}<extra></extra>\",\"legendgroup\":\"HOD0133\",\"marker\":{\"color\":\"#19d3f3\",\"symbol\":\"circle\"},\"mode\":\"markers\",\"name\":\"HOD0133\",\"orientation\":\"v\",\"showlegend\":true,\"x\":[2.383652448654175],\"xaxis\":\"x\",\"y\":[-1.1781846284866333],\"yaxis\":\"y\",\"type\":\"scatter\"},{\"hovertemplate\":\"Variant SKU=HOD0127<br>0=%{x}<br>1=%{y}<extra></extra>\",\"legendgroup\":\"HOD0127\",\"marker\":{\"color\":\"#FF6692\",\"symbol\":\"circle\"},\"mode\":\"markers\",\"name\":\"HOD0127\",\"orientation\":\"v\",\"showlegend\":true,\"x\":[1.4037171602249146],\"xaxis\":\"x\",\"y\":[-1.7158920764923096],\"yaxis\":\"y\",\"type\":\"scatter\"},{\"hovertemplate\":\"Variant SKU=HOD0337<br>0=%{x}<br>1=%{y}<extra></extra>\",\"legendgroup\":\"HOD0337\",\"marker\":{\"color\":\"#B6E880\",\"symbol\":\"circle\"},\"mode\":\"markers\",\"name\":\"HOD0337\",\"orientation\":\"v\",\"showlegend\":true,\"x\":[-7.527550220489502],\"xaxis\":\"x\",\"y\":[-4.904236316680908],\"yaxis\":\"y\",\"type\":\"scatter\"},{\"hovertemplate\":\"Variant SKU=HOD0121<br>0=%{x}<br>1=%{y}<extra></extra>\",\"legendgroup\":\"HOD0121\",\"marker\":{\"color\":\"#FF97FF\",\"symbol\":\"circle\"},\"mode\":\"markers\",\"name\":\"HOD0121\",\"orientation\":\"v\",\"showlegend\":true,\"x\":[0.86998051404953],\"xaxis\":\"x\",\"y\":[-0.5915140509605408],\"yaxis\":\"y\",\"type\":\"scatter\"},{\"hovertemplate\":\"Variant SKU=HOD0325<br>0=%{x}<br>1=%{y}<extra></extra>\",\"legendgroup\":\"HOD0325\",\"marker\":{\"color\":\"#FECB52\",\"symbol\":\"circle\"},\"mode\":\"markers\",\"name\":\"HOD0325\",\"orientation\":\"v\",\"showlegend\":true,\"x\":[-5.775307655334473],\"xaxis\":\"x\",\"y\":[-4.3292059898376465],\"yaxis\":\"y\",\"type\":\"scatter\"},{\"hovertemplate\":\"Variant SKU=HOD0115<br>0=%{x}<br>1=%{y}<extra></extra>\",\"legendgroup\":\"HOD0115\",\"marker\":{\"color\":\"#636efa\",\"symbol\":\"circle\"},\"mode\":\"markers\",\"name\":\"HOD0115\",\"orientation\":\"v\",\"showlegend\":true,\"x\":[0.09678322076797485],\"xaxis\":\"x\",\"y\":[-0.17100369930267334],\"yaxis\":\"y\",\"type\":\"scatter\"},{\"hovertemplate\":\"Variant SKU=HOD0109<br>0=%{x}<br>1=%{y}<extra></extra>\",\"legendgroup\":\"HOD0109\",\"marker\":{\"color\":\"#EF553B\",\"symbol\":\"circle\"},\"mode\":\"markers\",\"name\":\"HOD0109\",\"orientation\":\"v\",\"showlegend\":true,\"x\":[0.29915863275527954],\"xaxis\":\"x\",\"y\":[-2.697871208190918],\"yaxis\":\"y\",\"type\":\"scatter\"},{\"hovertemplate\":\"Variant SKU=HOD0103<br>0=%{x}<br>1=%{y}<extra></extra>\",\"legendgroup\":\"HOD0103\",\"marker\":{\"color\":\"#00cc96\",\"symbol\":\"circle\"},\"mode\":\"markers\",\"name\":\"HOD0103\",\"orientation\":\"v\",\"showlegend\":true,\"x\":[1.8642632961273193],\"xaxis\":\"x\",\"y\":[-2.985578775405884],\"yaxis\":\"y\",\"type\":\"scatter\"},{\"hovertemplate\":\"Variant SKU=HOD0097<br>0=%{x}<br>1=%{y}<extra></extra>\",\"legendgroup\":\"HOD0097\",\"marker\":{\"color\":\"#ab63fa\",\"symbol\":\"circle\"},\"mode\":\"markers\",\"name\":\"HOD0097\",\"orientation\":\"v\",\"showlegend\":true,\"x\":[2.9444375038146973],\"xaxis\":\"x\",\"y\":[-1.1930804252624512],\"yaxis\":\"y\",\"type\":\"scatter\"},{\"hovertemplate\":\"Variant SKU=HOD0307<br>0=%{x}<br>1=%{y}<extra></extra>\",\"legendgroup\":\"HOD0307\",\"marker\":{\"color\":\"#FFA15A\",\"symbol\":\"circle\"},\"mode\":\"markers\",\"name\":\"HOD0307\",\"orientation\":\"v\",\"showlegend\":true,\"x\":[-4.826602458953857],\"xaxis\":\"x\",\"y\":[-3.1269190311431885],\"yaxis\":\"y\",\"type\":\"scatter\"},{\"hovertemplate\":\"Variant SKU=HOD0091<br>0=%{x}<br>1=%{y}<extra></extra>\",\"legendgroup\":\"HOD0091\",\"marker\":{\"color\":\"#19d3f3\",\"symbol\":\"circle\"},\"mode\":\"markers\",\"name\":\"HOD0091\",\"orientation\":\"v\",\"showlegend\":true,\"x\":[1.9628883600234985],\"xaxis\":\"x\",\"y\":[-2.5817201137542725],\"yaxis\":\"y\",\"type\":\"scatter\"},{\"hovertemplate\":\"Variant SKU=HOD0301<br>0=%{x}<br>1=%{y}<extra></extra>\",\"legendgroup\":\"HOD0301\",\"marker\":{\"color\":\"#FF6692\",\"symbol\":\"circle\"},\"mode\":\"markers\",\"name\":\"HOD0301\",\"orientation\":\"v\",\"showlegend\":true,\"x\":[-6.388149738311768],\"xaxis\":\"x\",\"y\":[-5.119034767150879],\"yaxis\":\"y\",\"type\":\"scatter\"},{\"hovertemplate\":\"Variant SKU=HOD0295<br>0=%{x}<br>1=%{y}<extra></extra>\",\"legendgroup\":\"HOD0295\",\"marker\":{\"color\":\"#B6E880\",\"symbol\":\"circle\"},\"mode\":\"markers\",\"name\":\"HOD0295\",\"orientation\":\"v\",\"showlegend\":true,\"x\":[-6.2560648918151855],\"xaxis\":\"x\",\"y\":[-4.896394729614258],\"yaxis\":\"y\",\"type\":\"scatter\"},{\"hovertemplate\":\"Variant SKU=HOD0085<br>0=%{x}<br>1=%{y}<extra></extra>\",\"legendgroup\":\"HOD0085\",\"marker\":{\"color\":\"#FF97FF\",\"symbol\":\"circle\"},\"mode\":\"markers\",\"name\":\"HOD0085\",\"orientation\":\"v\",\"showlegend\":true,\"x\":[4.22192907333374],\"xaxis\":\"x\",\"y\":[-1.1939994096755981],\"yaxis\":\"y\",\"type\":\"scatter\"},{\"hovertemplate\":\"Variant SKU=HOD0289<br>0=%{x}<br>1=%{y}<extra></extra>\",\"legendgroup\":\"HOD0289\",\"marker\":{\"color\":\"#FECB52\",\"symbol\":\"circle\"},\"mode\":\"markers\",\"name\":\"HOD0289\",\"orientation\":\"v\",\"showlegend\":true,\"x\":[-8.011000633239746],\"xaxis\":\"x\",\"y\":[-4.336683750152588],\"yaxis\":\"y\",\"type\":\"scatter\"},{\"hovertemplate\":\"Variant SKU=HOD0079<br>0=%{x}<br>1=%{y}<extra></extra>\",\"legendgroup\":\"HOD0079\",\"marker\":{\"color\":\"#636efa\",\"symbol\":\"circle\"},\"mode\":\"markers\",\"name\":\"HOD0079\",\"orientation\":\"v\",\"showlegend\":true,\"x\":[3.6372272968292236],\"xaxis\":\"x\",\"y\":[0.0294659286737442],\"yaxis\":\"y\",\"type\":\"scatter\"},{\"hovertemplate\":\"Variant SKU=HOD0073<br>0=%{x}<br>1=%{y}<extra></extra>\",\"legendgroup\":\"HOD0073\",\"marker\":{\"color\":\"#EF553B\",\"symbol\":\"circle\"},\"mode\":\"markers\",\"name\":\"HOD0073\",\"orientation\":\"v\",\"showlegend\":true,\"x\":[1.8701821565628052],\"xaxis\":\"x\",\"y\":[-2.0825254917144775],\"yaxis\":\"y\",\"type\":\"scatter\"},{\"hovertemplate\":\"Variant SKU=HOD0067<br>0=%{x}<br>1=%{y}<extra></extra>\",\"legendgroup\":\"HOD0067\",\"marker\":{\"color\":\"#00cc96\",\"symbol\":\"circle\"},\"mode\":\"markers\",\"name\":\"HOD0067\",\"orientation\":\"v\",\"showlegend\":true,\"x\":[4.047370910644531],\"xaxis\":\"x\",\"y\":[1.4718587398529053],\"yaxis\":\"y\",\"type\":\"scatter\"},{\"hovertemplate\":\"Variant SKU=HOD0061<br>0=%{x}<br>1=%{y}<extra></extra>\",\"legendgroup\":\"HOD0061\",\"marker\":{\"color\":\"#ab63fa\",\"symbol\":\"circle\"},\"mode\":\"markers\",\"name\":\"HOD0061\",\"orientation\":\"v\",\"showlegend\":true,\"x\":[7.084655284881592],\"xaxis\":\"x\",\"y\":[-1.0370533466339111],\"yaxis\":\"y\",\"type\":\"scatter\"},{\"hovertemplate\":\"Variant SKU=HOD0055<br>0=%{x}<br>1=%{y}<extra></extra>\",\"legendgroup\":\"HOD0055\",\"marker\":{\"color\":\"#FFA15A\",\"symbol\":\"circle\"},\"mode\":\"markers\",\"name\":\"HOD0055\",\"orientation\":\"v\",\"showlegend\":true,\"x\":[3.860945224761963],\"xaxis\":\"x\",\"y\":[-0.615688681602478],\"yaxis\":\"y\",\"type\":\"scatter\"},{\"hovertemplate\":\"Variant SKU=HOD0049<br>0=%{x}<br>1=%{y}<extra></extra>\",\"legendgroup\":\"HOD0049\",\"marker\":{\"color\":\"#19d3f3\",\"symbol\":\"circle\"},\"mode\":\"markers\",\"name\":\"HOD0049\",\"orientation\":\"v\",\"showlegend\":true,\"x\":[2.9134161472320557],\"xaxis\":\"x\",\"y\":[0.28152328729629517],\"yaxis\":\"y\",\"type\":\"scatter\"},{\"hovertemplate\":\"Variant SKU=HOD0043<br>0=%{x}<br>1=%{y}<extra></extra>\",\"legendgroup\":\"HOD0043\",\"marker\":{\"color\":\"#FF6692\",\"symbol\":\"circle\"},\"mode\":\"markers\",\"name\":\"HOD0043\",\"orientation\":\"v\",\"showlegend\":true,\"x\":[0.899848461151123],\"xaxis\":\"x\",\"y\":[0.23291443288326263],\"yaxis\":\"y\",\"type\":\"scatter\"},{\"hovertemplate\":\"Variant SKU=HOD0037<br>0=%{x}<br>1=%{y}<extra></extra>\",\"legendgroup\":\"HOD0037\",\"marker\":{\"color\":\"#B6E880\",\"symbol\":\"circle\"},\"mode\":\"markers\",\"name\":\"HOD0037\",\"orientation\":\"v\",\"showlegend\":true,\"x\":[0.6900476813316345],\"xaxis\":\"x\",\"y\":[-0.7054110765457153],\"yaxis\":\"y\",\"type\":\"scatter\"},{\"hovertemplate\":\"Variant SKU=HOD0031<br>0=%{x}<br>1=%{y}<extra></extra>\",\"legendgroup\":\"HOD0031\",\"marker\":{\"color\":\"#FF97FF\",\"symbol\":\"circle\"},\"mode\":\"markers\",\"name\":\"HOD0031\",\"orientation\":\"v\",\"showlegend\":true,\"x\":[0.3955126106739044],\"xaxis\":\"x\",\"y\":[-2.0307233333587646],\"yaxis\":\"y\",\"type\":\"scatter\"},{\"hovertemplate\":\"Variant SKU=HOD0025<br>0=%{x}<br>1=%{y}<extra></extra>\",\"legendgroup\":\"HOD0025\",\"marker\":{\"color\":\"#FECB52\",\"symbol\":\"circle\"},\"mode\":\"markers\",\"name\":\"HOD0025\",\"orientation\":\"v\",\"showlegend\":true,\"x\":[2.2029385566711426],\"xaxis\":\"x\",\"y\":[-2.376790761947632],\"yaxis\":\"y\",\"type\":\"scatter\"},{\"hovertemplate\":\"Variant SKU=HOD0019<br>0=%{x}<br>1=%{y}<extra></extra>\",\"legendgroup\":\"HOD0019\",\"marker\":{\"color\":\"#636efa\",\"symbol\":\"circle\"},\"mode\":\"markers\",\"name\":\"HOD0019\",\"orientation\":\"v\",\"showlegend\":true,\"x\":[-1.9392849206924438],\"xaxis\":\"x\",\"y\":[-3.5962717533111572],\"yaxis\":\"y\",\"type\":\"scatter\"},{\"hovertemplate\":\"Variant SKU=HOD0013<br>0=%{x}<br>1=%{y}<extra></extra>\",\"legendgroup\":\"HOD0013\",\"marker\":{\"color\":\"#EF553B\",\"symbol\":\"circle\"},\"mode\":\"markers\",\"name\":\"HOD0013\",\"orientation\":\"v\",\"showlegend\":true,\"x\":[-0.41577261686325073],\"xaxis\":\"x\",\"y\":[-2.0875630378723145],\"yaxis\":\"y\",\"type\":\"scatter\"},{\"hovertemplate\":\"Variant SKU=HOD0007<br>0=%{x}<br>1=%{y}<extra></extra>\",\"legendgroup\":\"HOD0007\",\"marker\":{\"color\":\"#00cc96\",\"symbol\":\"circle\"},\"mode\":\"markers\",\"name\":\"HOD0007\",\"orientation\":\"v\",\"showlegend\":true,\"x\":[-0.7379193305969238],\"xaxis\":\"x\",\"y\":[-2.591902017593384],\"yaxis\":\"y\",\"type\":\"scatter\"},{\"hovertemplate\":\"Variant SKU=HOD0001<br>0=%{x}<br>1=%{y}<extra></extra>\",\"legendgroup\":\"HOD0001\",\"marker\":{\"color\":\"#ab63fa\",\"symbol\":\"circle\"},\"mode\":\"markers\",\"name\":\"HOD0001\",\"orientation\":\"v\",\"showlegend\":true,\"x\":[-0.015459361486136913],\"xaxis\":\"x\",\"y\":[-1.8160501718521118],\"yaxis\":\"y\",\"type\":\"scatter\"}],                        {\"template\":{\"data\":{\"bar\":[{\"error_x\":{\"color\":\"#2a3f5f\"},\"error_y\":{\"color\":\"#2a3f5f\"},\"marker\":{\"line\":{\"color\":\"#E5ECF6\",\"width\":0.5},\"pattern\":{\"fillmode\":\"overlay\",\"size\":10,\"solidity\":0.2}},\"type\":\"bar\"}],\"barpolar\":[{\"marker\":{\"line\":{\"color\":\"#E5ECF6\",\"width\":0.5},\"pattern\":{\"fillmode\":\"overlay\",\"size\":10,\"solidity\":0.2}},\"type\":\"barpolar\"}],\"carpet\":[{\"aaxis\":{\"endlinecolor\":\"#2a3f5f\",\"gridcolor\":\"white\",\"linecolor\":\"white\",\"minorgridcolor\":\"white\",\"startlinecolor\":\"#2a3f5f\"},\"baxis\":{\"endlinecolor\":\"#2a3f5f\",\"gridcolor\":\"white\",\"linecolor\":\"white\",\"minorgridcolor\":\"white\",\"startlinecolor\":\"#2a3f5f\"},\"type\":\"carpet\"}],\"choropleth\":[{\"colorbar\":{\"outlinewidth\":0,\"ticks\":\"\"},\"type\":\"choropleth\"}],\"contour\":[{\"colorbar\":{\"outlinewidth\":0,\"ticks\":\"\"},\"colorscale\":[[0.0,\"#0d0887\"],[0.1111111111111111,\"#46039f\"],[0.2222222222222222,\"#7201a8\"],[0.3333333333333333,\"#9c179e\"],[0.4444444444444444,\"#bd3786\"],[0.5555555555555556,\"#d8576b\"],[0.6666666666666666,\"#ed7953\"],[0.7777777777777778,\"#fb9f3a\"],[0.8888888888888888,\"#fdca26\"],[1.0,\"#f0f921\"]],\"type\":\"contour\"}],\"contourcarpet\":[{\"colorbar\":{\"outlinewidth\":0,\"ticks\":\"\"},\"type\":\"contourcarpet\"}],\"heatmap\":[{\"colorbar\":{\"outlinewidth\":0,\"ticks\":\"\"},\"colorscale\":[[0.0,\"#0d0887\"],[0.1111111111111111,\"#46039f\"],[0.2222222222222222,\"#7201a8\"],[0.3333333333333333,\"#9c179e\"],[0.4444444444444444,\"#bd3786\"],[0.5555555555555556,\"#d8576b\"],[0.6666666666666666,\"#ed7953\"],[0.7777777777777778,\"#fb9f3a\"],[0.8888888888888888,\"#fdca26\"],[1.0,\"#f0f921\"]],\"type\":\"heatmap\"}],\"heatmapgl\":[{\"colorbar\":{\"outlinewidth\":0,\"ticks\":\"\"},\"colorscale\":[[0.0,\"#0d0887\"],[0.1111111111111111,\"#46039f\"],[0.2222222222222222,\"#7201a8\"],[0.3333333333333333,\"#9c179e\"],[0.4444444444444444,\"#bd3786\"],[0.5555555555555556,\"#d8576b\"],[0.6666666666666666,\"#ed7953\"],[0.7777777777777778,\"#fb9f3a\"],[0.8888888888888888,\"#fdca26\"],[1.0,\"#f0f921\"]],\"type\":\"heatmapgl\"}],\"histogram\":[{\"marker\":{\"pattern\":{\"fillmode\":\"overlay\",\"size\":10,\"solidity\":0.2}},\"type\":\"histogram\"}],\"histogram2d\":[{\"colorbar\":{\"outlinewidth\":0,\"ticks\":\"\"},\"colorscale\":[[0.0,\"#0d0887\"],[0.1111111111111111,\"#46039f\"],[0.2222222222222222,\"#7201a8\"],[0.3333333333333333,\"#9c179e\"],[0.4444444444444444,\"#bd3786\"],[0.5555555555555556,\"#d8576b\"],[0.6666666666666666,\"#ed7953\"],[0.7777777777777778,\"#fb9f3a\"],[0.8888888888888888,\"#fdca26\"],[1.0,\"#f0f921\"]],\"type\":\"histogram2d\"}],\"histogram2dcontour\":[{\"colorbar\":{\"outlinewidth\":0,\"ticks\":\"\"},\"colorscale\":[[0.0,\"#0d0887\"],[0.1111111111111111,\"#46039f\"],[0.2222222222222222,\"#7201a8\"],[0.3333333333333333,\"#9c179e\"],[0.4444444444444444,\"#bd3786\"],[0.5555555555555556,\"#d8576b\"],[0.6666666666666666,\"#ed7953\"],[0.7777777777777778,\"#fb9f3a\"],[0.8888888888888888,\"#fdca26\"],[1.0,\"#f0f921\"]],\"type\":\"histogram2dcontour\"}],\"mesh3d\":[{\"colorbar\":{\"outlinewidth\":0,\"ticks\":\"\"},\"type\":\"mesh3d\"}],\"parcoords\":[{\"line\":{\"colorbar\":{\"outlinewidth\":0,\"ticks\":\"\"}},\"type\":\"parcoords\"}],\"pie\":[{\"automargin\":true,\"type\":\"pie\"}],\"scatter\":[{\"marker\":{\"colorbar\":{\"outlinewidth\":0,\"ticks\":\"\"}},\"type\":\"scatter\"}],\"scatter3d\":[{\"line\":{\"colorbar\":{\"outlinewidth\":0,\"ticks\":\"\"}},\"marker\":{\"colorbar\":{\"outlinewidth\":0,\"ticks\":\"\"}},\"type\":\"scatter3d\"}],\"scattercarpet\":[{\"marker\":{\"colorbar\":{\"outlinewidth\":0,\"ticks\":\"\"}},\"type\":\"scattercarpet\"}],\"scattergeo\":[{\"marker\":{\"colorbar\":{\"outlinewidth\":0,\"ticks\":\"\"}},\"type\":\"scattergeo\"}],\"scattergl\":[{\"marker\":{\"colorbar\":{\"outlinewidth\":0,\"ticks\":\"\"}},\"type\":\"scattergl\"}],\"scattermapbox\":[{\"marker\":{\"colorbar\":{\"outlinewidth\":0,\"ticks\":\"\"}},\"type\":\"scattermapbox\"}],\"scatterpolar\":[{\"marker\":{\"colorbar\":{\"outlinewidth\":0,\"ticks\":\"\"}},\"type\":\"scatterpolar\"}],\"scatterpolargl\":[{\"marker\":{\"colorbar\":{\"outlinewidth\":0,\"ticks\":\"\"}},\"type\":\"scatterpolargl\"}],\"scatterternary\":[{\"marker\":{\"colorbar\":{\"outlinewidth\":0,\"ticks\":\"\"}},\"type\":\"scatterternary\"}],\"surface\":[{\"colorbar\":{\"outlinewidth\":0,\"ticks\":\"\"},\"colorscale\":[[0.0,\"#0d0887\"],[0.1111111111111111,\"#46039f\"],[0.2222222222222222,\"#7201a8\"],[0.3333333333333333,\"#9c179e\"],[0.4444444444444444,\"#bd3786\"],[0.5555555555555556,\"#d8576b\"],[0.6666666666666666,\"#ed7953\"],[0.7777777777777778,\"#fb9f3a\"],[0.8888888888888888,\"#fdca26\"],[1.0,\"#f0f921\"]],\"type\":\"surface\"}],\"table\":[{\"cells\":{\"fill\":{\"color\":\"#EBF0F8\"},\"line\":{\"color\":\"white\"}},\"header\":{\"fill\":{\"color\":\"#C8D4E3\"},\"line\":{\"color\":\"white\"}},\"type\":\"table\"}]},\"layout\":{\"annotationdefaults\":{\"arrowcolor\":\"#2a3f5f\",\"arrowhead\":0,\"arrowwidth\":1},\"autotypenumbers\":\"strict\",\"coloraxis\":{\"colorbar\":{\"outlinewidth\":0,\"ticks\":\"\"}},\"colorscale\":{\"diverging\":[[0,\"#8e0152\"],[0.1,\"#c51b7d\"],[0.2,\"#de77ae\"],[0.3,\"#f1b6da\"],[0.4,\"#fde0ef\"],[0.5,\"#f7f7f7\"],[0.6,\"#e6f5d0\"],[0.7,\"#b8e186\"],[0.8,\"#7fbc41\"],[0.9,\"#4d9221\"],[1,\"#276419\"]],\"sequential\":[[0.0,\"#0d0887\"],[0.1111111111111111,\"#46039f\"],[0.2222222222222222,\"#7201a8\"],[0.3333333333333333,\"#9c179e\"],[0.4444444444444444,\"#bd3786\"],[0.5555555555555556,\"#d8576b\"],[0.6666666666666666,\"#ed7953\"],[0.7777777777777778,\"#fb9f3a\"],[0.8888888888888888,\"#fdca26\"],[1.0,\"#f0f921\"]],\"sequentialminus\":[[0.0,\"#0d0887\"],[0.1111111111111111,\"#46039f\"],[0.2222222222222222,\"#7201a8\"],[0.3333333333333333,\"#9c179e\"],[0.4444444444444444,\"#bd3786\"],[0.5555555555555556,\"#d8576b\"],[0.6666666666666666,\"#ed7953\"],[0.7777777777777778,\"#fb9f3a\"],[0.8888888888888888,\"#fdca26\"],[1.0,\"#f0f921\"]]},\"colorway\":[\"#636efa\",\"#EF553B\",\"#00cc96\",\"#ab63fa\",\"#FFA15A\",\"#19d3f3\",\"#FF6692\",\"#B6E880\",\"#FF97FF\",\"#FECB52\"],\"font\":{\"color\":\"#2a3f5f\"},\"geo\":{\"bgcolor\":\"white\",\"lakecolor\":\"white\",\"landcolor\":\"#E5ECF6\",\"showlakes\":true,\"showland\":true,\"subunitcolor\":\"white\"},\"hoverlabel\":{\"align\":\"left\"},\"hovermode\":\"closest\",\"mapbox\":{\"style\":\"light\"},\"paper_bgcolor\":\"white\",\"plot_bgcolor\":\"#E5ECF6\",\"polar\":{\"angularaxis\":{\"gridcolor\":\"white\",\"linecolor\":\"white\",\"ticks\":\"\"},\"bgcolor\":\"#E5ECF6\",\"radialaxis\":{\"gridcolor\":\"white\",\"linecolor\":\"white\",\"ticks\":\"\"}},\"scene\":{\"xaxis\":{\"backgroundcolor\":\"#E5ECF6\",\"gridcolor\":\"white\",\"gridwidth\":2,\"linecolor\":\"white\",\"showbackground\":true,\"ticks\":\"\",\"zerolinecolor\":\"white\"},\"yaxis\":{\"backgroundcolor\":\"#E5ECF6\",\"gridcolor\":\"white\",\"gridwidth\":2,\"linecolor\":\"white\",\"showbackground\":true,\"ticks\":\"\",\"zerolinecolor\":\"white\"},\"zaxis\":{\"backgroundcolor\":\"#E5ECF6\",\"gridcolor\":\"white\",\"gridwidth\":2,\"linecolor\":\"white\",\"showbackground\":true,\"ticks\":\"\",\"zerolinecolor\":\"white\"}},\"shapedefaults\":{\"line\":{\"color\":\"#2a3f5f\"}},\"ternary\":{\"aaxis\":{\"gridcolor\":\"white\",\"linecolor\":\"white\",\"ticks\":\"\"},\"baxis\":{\"gridcolor\":\"white\",\"linecolor\":\"white\",\"ticks\":\"\"},\"bgcolor\":\"#E5ECF6\",\"caxis\":{\"gridcolor\":\"white\",\"linecolor\":\"white\",\"ticks\":\"\"}},\"title\":{\"x\":0.05},\"xaxis\":{\"automargin\":true,\"gridcolor\":\"white\",\"linecolor\":\"white\",\"ticks\":\"\",\"title\":{\"standoff\":15},\"zerolinecolor\":\"white\",\"zerolinewidth\":2},\"yaxis\":{\"automargin\":true,\"gridcolor\":\"white\",\"linecolor\":\"white\",\"ticks\":\"\",\"title\":{\"standoff\":15},\"zerolinecolor\":\"white\",\"zerolinewidth\":2}}},\"xaxis\":{\"anchor\":\"y\",\"domain\":[0.0,1.0],\"title\":{\"text\":\"0\"}},\"yaxis\":{\"anchor\":\"x\",\"domain\":[0.0,1.0],\"title\":{\"text\":\"1\"}},\"legend\":{\"title\":{\"text\":\"Variant SKU\"},\"tracegroupgap\":0},\"margin\":{\"t\":60}},                        {\"responsive\": true}                    ).then(function(){\n",
       "                            \n",
       "var gd = document.getElementById('79747b94-d23d-4c90-bb82-493387332787');\n",
       "var x = new MutationObserver(function (mutations, observer) {{\n",
       "        var display = window.getComputedStyle(gd).display;\n",
       "        if (!display || display === 'none') {{\n",
       "            console.log([gd, 'removed!']);\n",
       "            Plotly.purge(gd);\n",
       "            observer.disconnect();\n",
       "        }}\n",
       "}});\n",
       "\n",
       "// Listen for the removal of the full notebook cells\n",
       "var notebookContainer = gd.closest('#notebook-container');\n",
       "if (notebookContainer) {{\n",
       "    x.observe(notebookContainer, {childList: true});\n",
       "}}\n",
       "\n",
       "// Listen for the clearing of the current output cell\n",
       "var outputEl = gd.closest('.output');\n",
       "if (outputEl) {{\n",
       "    x.observe(outputEl, {childList: true});\n",
       "}}\n",
       "\n",
       "                        })                };                });            </script>        </div>"
      ]
     },
     "metadata": {},
     "output_type": "display_data"
    }
   ],
   "source": [
    "fig = px.scatter(product_df_pca, x='0', y='1', color='Variant SKU')\n",
    "fig.show()"
   ]
  },
  {
   "cell_type": "code",
   "execution_count": 188,
   "id": "5f3398c6",
   "metadata": {},
   "outputs": [
    {
     "data": {
      "text/html": [
       "<div>\n",
       "<style scoped>\n",
       "    .dataframe tbody tr th:only-of-type {\n",
       "        vertical-align: middle;\n",
       "    }\n",
       "\n",
       "    .dataframe tbody tr th {\n",
       "        vertical-align: top;\n",
       "    }\n",
       "\n",
       "    .dataframe thead th {\n",
       "        text-align: right;\n",
       "    }\n",
       "</style>\n",
       "<table border=\"1\" class=\"dataframe\">\n",
       "  <thead>\n",
       "    <tr style=\"text-align: right;\">\n",
       "      <th></th>\n",
       "      <th>x</th>\n",
       "      <th>y</th>\n",
       "      <th>Variant SKU</th>\n",
       "      <th>description</th>\n",
       "    </tr>\n",
       "  </thead>\n",
       "  <tbody>\n",
       "    <tr>\n",
       "      <th>0</th>\n",
       "      <td>-8.514889</td>\n",
       "      <td>-8.263968</td>\n",
       "      <td>HOD0772</td>\n",
       "      <td>ishyablockprintedkurtaset,ishyablockprintedkur...</td>\n",
       "    </tr>\n",
       "    <tr>\n",
       "      <th>1</th>\n",
       "      <td>-8.478930</td>\n",
       "      <td>-8.274362</td>\n",
       "      <td>HOD0766</td>\n",
       "      <td>ahaanablockprintedkurtaset,ahaanablockprintedk...</td>\n",
       "    </tr>\n",
       "    <tr>\n",
       "      <th>2</th>\n",
       "      <td>-8.538480</td>\n",
       "      <td>-8.287774</td>\n",
       "      <td>HOD0760</td>\n",
       "      <td>seherblockprintedkurtaset,seherblockprintedkur...</td>\n",
       "    </tr>\n",
       "    <tr>\n",
       "      <th>3</th>\n",
       "      <td>-8.481536</td>\n",
       "      <td>-8.304050</td>\n",
       "      <td>HOD0754</td>\n",
       "      <td>mihirablockprintedkurtaset,mihirablockprintedk...</td>\n",
       "    </tr>\n",
       "    <tr>\n",
       "      <th>4</th>\n",
       "      <td>-8.424252</td>\n",
       "      <td>-8.310059</td>\n",
       "      <td>HOD0748</td>\n",
       "      <td>baharblockprintedkurtaset,baharblockprintedkur...</td>\n",
       "    </tr>\n",
       "  </tbody>\n",
       "</table>\n",
       "</div>"
      ],
      "text/plain": [
       "          x         y Variant SKU  \\\n",
       "0 -8.514889 -8.263968     HOD0772   \n",
       "1 -8.478930 -8.274362     HOD0766   \n",
       "2 -8.538480 -8.287774     HOD0760   \n",
       "3 -8.481536 -8.304050     HOD0754   \n",
       "4 -8.424252 -8.310059     HOD0748   \n",
       "\n",
       "                                         description  \n",
       "0  ishyablockprintedkurtaset,ishyablockprintedkur...  \n",
       "1  ahaanablockprintedkurtaset,ahaanablockprintedk...  \n",
       "2  seherblockprintedkurtaset,seherblockprintedkur...  \n",
       "3  mihirablockprintedkurtaset,mihirablockprintedk...  \n",
       "4  baharblockprintedkurtaset,baharblockprintedkur...  "
      ]
     },
     "execution_count": 188,
     "metadata": {},
     "output_type": "execute_result"
    }
   ],
   "source": [
    "import matplotlib.pyplot as plt\n",
    "from sklearn.manifold import TSNE\n",
    "\n",
    "tsne = TSNE(n_components=2).fit_transform(embedded_products_df)\n",
    "tsne_df = pd.DataFrame({'x': tsne[:, 0], 'y':tsne[:, 1]})\n",
    "tsne_df = pd.concat([tsne_df, products_tags_df[\"Variant SKU\"]], axis=1)\n",
    "tsne_df = pd.concat([tsne_df, products_tags_df[\"description\"]], axis=1)\n",
    "tsne_df.head()"
   ]
  },
  {
   "cell_type": "code",
   "execution_count": 189,
   "id": "76b150a3",
   "metadata": {},
   "outputs": [
    {
     "data": {
      "application/vnd.plotly.v1+json": {
       "config": {
        "plotlyServerURL": "https://plot.ly"
       },
       "data": [
        {
         "hovertemplate": "Variant SKU=HOD0772<br>x=%{x}<br>y=%{y}<extra></extra>",
         "legendgroup": "HOD0772",
         "marker": {
          "color": "#636efa",
          "symbol": "circle"
         },
         "mode": "markers",
         "name": "HOD0772",
         "orientation": "v",
         "showlegend": true,
         "type": "scatter",
         "x": [
          -8.514888763427734
         ],
         "xaxis": "x",
         "y": [
          -8.263967514038086
         ],
         "yaxis": "y"
        },
        {
         "hovertemplate": "Variant SKU=HOD0766<br>x=%{x}<br>y=%{y}<extra></extra>",
         "legendgroup": "HOD0766",
         "marker": {
          "color": "#EF553B",
          "symbol": "circle"
         },
         "mode": "markers",
         "name": "HOD0766",
         "orientation": "v",
         "showlegend": true,
         "type": "scatter",
         "x": [
          -8.47892951965332
         ],
         "xaxis": "x",
         "y": [
          -8.274361610412598
         ],
         "yaxis": "y"
        },
        {
         "hovertemplate": "Variant SKU=HOD0760<br>x=%{x}<br>y=%{y}<extra></extra>",
         "legendgroup": "HOD0760",
         "marker": {
          "color": "#00cc96",
          "symbol": "circle"
         },
         "mode": "markers",
         "name": "HOD0760",
         "orientation": "v",
         "showlegend": true,
         "type": "scatter",
         "x": [
          -8.538479804992676
         ],
         "xaxis": "x",
         "y": [
          -8.287774085998535
         ],
         "yaxis": "y"
        },
        {
         "hovertemplate": "Variant SKU=HOD0754<br>x=%{x}<br>y=%{y}<extra></extra>",
         "legendgroup": "HOD0754",
         "marker": {
          "color": "#ab63fa",
          "symbol": "circle"
         },
         "mode": "markers",
         "name": "HOD0754",
         "orientation": "v",
         "showlegend": true,
         "type": "scatter",
         "x": [
          -8.481535911560059
         ],
         "xaxis": "x",
         "y": [
          -8.30405044555664
         ],
         "yaxis": "y"
        },
        {
         "hovertemplate": "Variant SKU=HOD0748<br>x=%{x}<br>y=%{y}<extra></extra>",
         "legendgroup": "HOD0748",
         "marker": {
          "color": "#FFA15A",
          "symbol": "circle"
         },
         "mode": "markers",
         "name": "HOD0748",
         "orientation": "v",
         "showlegend": true,
         "type": "scatter",
         "x": [
          -8.424251556396484
         ],
         "xaxis": "x",
         "y": [
          -8.31005859375
         ],
         "yaxis": "y"
        },
        {
         "hovertemplate": "Variant SKU=HOD0742<br>x=%{x}<br>y=%{y}<extra></extra>",
         "legendgroup": "HOD0742",
         "marker": {
          "color": "#19d3f3",
          "symbol": "circle"
         },
         "mode": "markers",
         "name": "HOD0742",
         "orientation": "v",
         "showlegend": true,
         "type": "scatter",
         "x": [
          -8.56904411315918
         ],
         "xaxis": "x",
         "y": [
          -8.271360397338867
         ],
         "yaxis": "y"
        },
        {
         "hovertemplate": "Variant SKU=HOD0727<br>x=%{x}<br>y=%{y}<extra></extra>",
         "legendgroup": "HOD0727",
         "marker": {
          "color": "#FF6692",
          "symbol": "circle"
         },
         "mode": "markers",
         "name": "HOD0727",
         "orientation": "v",
         "showlegend": true,
         "type": "scatter",
         "x": [
          -3.77911114692688
         ],
         "xaxis": "x",
         "y": [
          -6.622363090515137
         ],
         "yaxis": "y"
        },
        {
         "hovertemplate": "Variant SKU=HOD0721<br>x=%{x}<br>y=%{y}<extra></extra>",
         "legendgroup": "HOD0721",
         "marker": {
          "color": "#B6E880",
          "symbol": "circle"
         },
         "mode": "markers",
         "name": "HOD0721",
         "orientation": "v",
         "showlegend": true,
         "type": "scatter",
         "x": [
          -3.9101722240448
         ],
         "xaxis": "x",
         "y": [
          -7.7961812019348145
         ],
         "yaxis": "y"
        },
        {
         "hovertemplate": "Variant SKU=HOD0715<br>x=%{x}<br>y=%{y}<extra></extra>",
         "legendgroup": "HOD0715",
         "marker": {
          "color": "#FF97FF",
          "symbol": "circle"
         },
         "mode": "markers",
         "name": "HOD0715",
         "orientation": "v",
         "showlegend": true,
         "type": "scatter",
         "x": [
          -3.553349256515503
         ],
         "xaxis": "x",
         "y": [
          -7.621500492095947
         ],
         "yaxis": "y"
        },
        {
         "hovertemplate": "Variant SKU=HOD0709<br>x=%{x}<br>y=%{y}<extra></extra>",
         "legendgroup": "HOD0709",
         "marker": {
          "color": "#FECB52",
          "symbol": "circle"
         },
         "mode": "markers",
         "name": "HOD0709",
         "orientation": "v",
         "showlegend": true,
         "type": "scatter",
         "x": [
          -4.467413425445557
         ],
         "xaxis": "x",
         "y": [
          -7.294970512390137
         ],
         "yaxis": "y"
        },
        {
         "hovertemplate": "Variant SKU=HOD0703<br>x=%{x}<br>y=%{y}<extra></extra>",
         "legendgroup": "HOD0703",
         "marker": {
          "color": "#636efa",
          "symbol": "circle"
         },
         "mode": "markers",
         "name": "HOD0703",
         "orientation": "v",
         "showlegend": true,
         "type": "scatter",
         "x": [
          -3.7220144271850586
         ],
         "xaxis": "x",
         "y": [
          -8.322717666625977
         ],
         "yaxis": "y"
        },
        {
         "hovertemplate": "Variant SKU=HOD0697<br>x=%{x}<br>y=%{y}<extra></extra>",
         "legendgroup": "HOD0697",
         "marker": {
          "color": "#EF553B",
          "symbol": "circle"
         },
         "mode": "markers",
         "name": "HOD0697",
         "orientation": "v",
         "showlegend": true,
         "type": "scatter",
         "x": [
          -4.319881439208984
         ],
         "xaxis": "x",
         "y": [
          -8.016530990600586
         ],
         "yaxis": "y"
        },
        {
         "hovertemplate": "Variant SKU=HOD0691<br>x=%{x}<br>y=%{y}<extra></extra>",
         "legendgroup": "HOD0691",
         "marker": {
          "color": "#00cc96",
          "symbol": "circle"
         },
         "mode": "markers",
         "name": "HOD0691",
         "orientation": "v",
         "showlegend": true,
         "type": "scatter",
         "x": [
          -3.674572706222534
         ],
         "xaxis": "x",
         "y": [
          -7.358790397644043
         ],
         "yaxis": "y"
        },
        {
         "hovertemplate": "Variant SKU=HOD0685<br>x=%{x}<br>y=%{y}<extra></extra>",
         "legendgroup": "HOD0685",
         "marker": {
          "color": "#ab63fa",
          "symbol": "circle"
         },
         "mode": "markers",
         "name": "HOD0685",
         "orientation": "v",
         "showlegend": true,
         "type": "scatter",
         "x": [
          -3.921968936920166
         ],
         "xaxis": "x",
         "y": [
          -7.052628993988037
         ],
         "yaxis": "y"
        },
        {
         "hovertemplate": "Variant SKU=HOD0679<br>x=%{x}<br>y=%{y}<extra></extra>",
         "legendgroup": "HOD0679",
         "marker": {
          "color": "#FFA15A",
          "symbol": "circle"
         },
         "mode": "markers",
         "name": "HOD0679",
         "orientation": "v",
         "showlegend": true,
         "type": "scatter",
         "x": [
          -3.4174742698669434
         ],
         "xaxis": "x",
         "y": [
          -7.815310955047607
         ],
         "yaxis": "y"
        },
        {
         "hovertemplate": "Variant SKU=HOD0673<br>x=%{x}<br>y=%{y}<extra></extra>",
         "legendgroup": "HOD0673",
         "marker": {
          "color": "#19d3f3",
          "symbol": "circle"
         },
         "mode": "markers",
         "name": "HOD0673",
         "orientation": "v",
         "showlegend": true,
         "type": "scatter",
         "x": [
          -3.394913911819458
         ],
         "xaxis": "x",
         "y": [
          -7.124358654022217
         ],
         "yaxis": "y"
        },
        {
         "hovertemplate": "Variant SKU=HOD0667<br>x=%{x}<br>y=%{y}<extra></extra>",
         "legendgroup": "HOD0667",
         "marker": {
          "color": "#FF6692",
          "symbol": "circle"
         },
         "mode": "markers",
         "name": "HOD0667",
         "orientation": "v",
         "showlegend": true,
         "type": "scatter",
         "x": [
          -3.9670186042785645
         ],
         "xaxis": "x",
         "y": [
          -7.62874174118042
         ],
         "yaxis": "y"
        },
        {
         "hovertemplate": "Variant SKU=HOD0663<br>x=%{x}<br>y=%{y}<extra></extra>",
         "legendgroup": "HOD0663",
         "marker": {
          "color": "#B6E880",
          "symbol": "circle"
         },
         "mode": "markers",
         "name": "HOD0663",
         "orientation": "v",
         "showlegend": true,
         "type": "scatter",
         "x": [
          7.627688884735107
         ],
         "xaxis": "x",
         "y": [
          4.247364044189453
         ],
         "yaxis": "y"
        },
        {
         "hovertemplate": "Variant SKU=HOD0659<br>x=%{x}<br>y=%{y}<extra></extra>",
         "legendgroup": "HOD0659",
         "marker": {
          "color": "#FF97FF",
          "symbol": "circle"
         },
         "mode": "markers",
         "name": "HOD0659",
         "orientation": "v",
         "showlegend": true,
         "type": "scatter",
         "x": [
          6.8878302574157715
         ],
         "xaxis": "x",
         "y": [
          2.97440242767334
         ],
         "yaxis": "y"
        },
        {
         "hovertemplate": "Variant SKU=HOD0655<br>x=%{x}<br>y=%{y}<extra></extra>",
         "legendgroup": "HOD0655",
         "marker": {
          "color": "#FECB52",
          "symbol": "circle"
         },
         "mode": "markers",
         "name": "HOD0655",
         "orientation": "v",
         "showlegend": true,
         "type": "scatter",
         "x": [
          6.304309368133545
         ],
         "xaxis": "x",
         "y": [
          4.2039408683776855
         ],
         "yaxis": "y"
        },
        {
         "hovertemplate": "Variant SKU=HOD0651<br>x=%{x}<br>y=%{y}<extra></extra>",
         "legendgroup": "HOD0651",
         "marker": {
          "color": "#636efa",
          "symbol": "circle"
         },
         "mode": "markers",
         "name": "HOD0651",
         "orientation": "v",
         "showlegend": true,
         "type": "scatter",
         "x": [
          4.354778289794922
         ],
         "xaxis": "x",
         "y": [
          4.588587760925293
         ],
         "yaxis": "y"
        },
        {
         "hovertemplate": "Variant SKU=HOD0647<br>x=%{x}<br>y=%{y}<extra></extra>",
         "legendgroup": "HOD0647",
         "marker": {
          "color": "#EF553B",
          "symbol": "circle"
         },
         "mode": "markers",
         "name": "HOD0647",
         "orientation": "v",
         "showlegend": true,
         "type": "scatter",
         "x": [
          5.164315700531006
         ],
         "xaxis": "x",
         "y": [
          3.710505962371826
         ],
         "yaxis": "y"
        },
        {
         "hovertemplate": "Variant SKU=HOD0643<br>x=%{x}<br>y=%{y}<extra></extra>",
         "legendgroup": "HOD0643",
         "marker": {
          "color": "#00cc96",
          "symbol": "circle"
         },
         "mode": "markers",
         "name": "HOD0643",
         "orientation": "v",
         "showlegend": true,
         "type": "scatter",
         "x": [
          7.345335960388184
         ],
         "xaxis": "x",
         "y": [
          3.2439401149749756
         ],
         "yaxis": "y"
        },
        {
         "hovertemplate": "Variant SKU=HOD0639<br>x=%{x}<br>y=%{y}<extra></extra>",
         "legendgroup": "HOD0639",
         "marker": {
          "color": "#ab63fa",
          "symbol": "circle"
         },
         "mode": "markers",
         "name": "HOD0639",
         "orientation": "v",
         "showlegend": true,
         "type": "scatter",
         "x": [
          5.136092662811279
         ],
         "xaxis": "x",
         "y": [
          2.5144171714782715
         ],
         "yaxis": "y"
        },
        {
         "hovertemplate": "Variant SKU=HOD0635<br>x=%{x}<br>y=%{y}<extra></extra>",
         "legendgroup": "HOD0635",
         "marker": {
          "color": "#FFA15A",
          "symbol": "circle"
         },
         "mode": "markers",
         "name": "HOD0635",
         "orientation": "v",
         "showlegend": true,
         "type": "scatter",
         "x": [
          7.473800182342529
         ],
         "xaxis": "x",
         "y": [
          1.9126793146133423
         ],
         "yaxis": "y"
        },
        {
         "hovertemplate": "Variant SKU=HOD0631<br>x=%{x}<br>y=%{y}<extra></extra>",
         "legendgroup": "HOD0631",
         "marker": {
          "color": "#19d3f3",
          "symbol": "circle"
         },
         "mode": "markers",
         "name": "HOD0631",
         "orientation": "v",
         "showlegend": true,
         "type": "scatter",
         "x": [
          6.118260383605957
         ],
         "xaxis": "x",
         "y": [
          2.4075543880462646
         ],
         "yaxis": "y"
        },
        {
         "hovertemplate": "Variant SKU=HOD0627<br>x=%{x}<br>y=%{y}<extra></extra>",
         "legendgroup": "HOD0627",
         "marker": {
          "color": "#FF6692",
          "symbol": "circle"
         },
         "mode": "markers",
         "name": "HOD0627",
         "orientation": "v",
         "showlegend": true,
         "type": "scatter",
         "x": [
          5.717087745666504
         ],
         "xaxis": "x",
         "y": [
          2.982424259185791
         ],
         "yaxis": "y"
        },
        {
         "hovertemplate": "Variant SKU=HOD0623<br>x=%{x}<br>y=%{y}<extra></extra>",
         "legendgroup": "HOD0623",
         "marker": {
          "color": "#B6E880",
          "symbol": "circle"
         },
         "mode": "markers",
         "name": "HOD0623",
         "orientation": "v",
         "showlegend": true,
         "type": "scatter",
         "x": [
          5.034890651702881
         ],
         "xaxis": "x",
         "y": [
          3.1739253997802734
         ],
         "yaxis": "y"
        },
        {
         "hovertemplate": "Variant SKU=HOD0619<br>x=%{x}<br>y=%{y}<extra></extra>",
         "legendgroup": "HOD0619",
         "marker": {
          "color": "#FF97FF",
          "symbol": "circle"
         },
         "mode": "markers",
         "name": "HOD0619",
         "orientation": "v",
         "showlegend": true,
         "type": "scatter",
         "x": [
          6.820352077484131
         ],
         "xaxis": "x",
         "y": [
          4.432972431182861
         ],
         "yaxis": "y"
        },
        {
         "hovertemplate": "Variant SKU=HOD0615<br>x=%{x}<br>y=%{y}<extra></extra>",
         "legendgroup": "HOD0615",
         "marker": {
          "color": "#FECB52",
          "symbol": "circle"
         },
         "mode": "markers",
         "name": "HOD0615",
         "orientation": "v",
         "showlegend": true,
         "type": "scatter",
         "x": [
          5.431237697601318
         ],
         "xaxis": "x",
         "y": [
          3.1735994815826416
         ],
         "yaxis": "y"
        },
        {
         "hovertemplate": "Variant SKU=HOD0611<br>x=%{x}<br>y=%{y}<extra></extra>",
         "legendgroup": "HOD0611",
         "marker": {
          "color": "#636efa",
          "symbol": "circle"
         },
         "mode": "markers",
         "name": "HOD0611",
         "orientation": "v",
         "showlegend": true,
         "type": "scatter",
         "x": [
          6.332366466522217
         ],
         "xaxis": "x",
         "y": [
          3.1281919479370117
         ],
         "yaxis": "y"
        },
        {
         "hovertemplate": "Variant SKU=HOD0607<br>x=%{x}<br>y=%{y}<extra></extra>",
         "legendgroup": "HOD0607",
         "marker": {
          "color": "#EF553B",
          "symbol": "circle"
         },
         "mode": "markers",
         "name": "HOD0607",
         "orientation": "v",
         "showlegend": true,
         "type": "scatter",
         "x": [
          5.854114532470703
         ],
         "xaxis": "x",
         "y": [
          3.592912435531616
         ],
         "yaxis": "y"
        },
        {
         "hovertemplate": "Variant SKU=HOD0603<br>x=%{x}<br>y=%{y}<extra></extra>",
         "legendgroup": "HOD0603",
         "marker": {
          "color": "#00cc96",
          "symbol": "circle"
         },
         "mode": "markers",
         "name": "HOD0603",
         "orientation": "v",
         "showlegend": true,
         "type": "scatter",
         "x": [
          6.457358360290527
         ],
         "xaxis": "x",
         "y": [
          2.157259941101074
         ],
         "yaxis": "y"
        },
        {
         "hovertemplate": "Variant SKU=HOD0599<br>x=%{x}<br>y=%{y}<extra></extra>",
         "legendgroup": "HOD0599",
         "marker": {
          "color": "#ab63fa",
          "symbol": "circle"
         },
         "mode": "markers",
         "name": "HOD0599",
         "orientation": "v",
         "showlegend": true,
         "type": "scatter",
         "x": [
          5.381539821624756
         ],
         "xaxis": "x",
         "y": [
          4.174954891204834
         ],
         "yaxis": "y"
        },
        {
         "hovertemplate": "Variant SKU=HOD0591<br>x=%{x}<br>y=%{y}<extra></extra>",
         "legendgroup": "HOD0591",
         "marker": {
          "color": "#FFA15A",
          "symbol": "circle"
         },
         "mode": "markers",
         "name": "HOD0591",
         "orientation": "v",
         "showlegend": true,
         "type": "scatter",
         "x": [
          5.90865421295166
         ],
         "xaxis": "x",
         "y": [
          3.36116886138916
         ],
         "yaxis": "y"
        },
        {
         "hovertemplate": "Variant SKU=HOD0587<br>x=%{x}<br>y=%{y}<extra></extra>",
         "legendgroup": "HOD0587",
         "marker": {
          "color": "#19d3f3",
          "symbol": "circle"
         },
         "mode": "markers",
         "name": "HOD0587",
         "orientation": "v",
         "showlegend": true,
         "type": "scatter",
         "x": [
          5.692205429077148
         ],
         "xaxis": "x",
         "y": [
          2.670673370361328
         ],
         "yaxis": "y"
        },
        {
         "hovertemplate": "Variant SKU=HOD0583<br>x=%{x}<br>y=%{y}<extra></extra>",
         "legendgroup": "HOD0583",
         "marker": {
          "color": "#FF6692",
          "symbol": "circle"
         },
         "mode": "markers",
         "name": "HOD0583",
         "orientation": "v",
         "showlegend": true,
         "type": "scatter",
         "x": [
          6.481873035430908
         ],
         "xaxis": "x",
         "y": [
          3.8392977714538574
         ],
         "yaxis": "y"
        },
        {
         "hovertemplate": "Variant SKU=HOD0579<br>x=%{x}<br>y=%{y}<extra></extra>",
         "legendgroup": "HOD0579",
         "marker": {
          "color": "#B6E880",
          "symbol": "circle"
         },
         "mode": "markers",
         "name": "HOD0579",
         "orientation": "v",
         "showlegend": true,
         "type": "scatter",
         "x": [
          5.9652276039123535
         ],
         "xaxis": "x",
         "y": [
          4.370762825012207
         ],
         "yaxis": "y"
        },
        {
         "hovertemplate": "Variant SKU=HOD0575<br>x=%{x}<br>y=%{y}<extra></extra>",
         "legendgroup": "HOD0575",
         "marker": {
          "color": "#FF97FF",
          "symbol": "circle"
         },
         "mode": "markers",
         "name": "HOD0575",
         "orientation": "v",
         "showlegend": true,
         "type": "scatter",
         "x": [
          5.8850626945495605
         ],
         "xaxis": "x",
         "y": [
          1.5641876459121704
         ],
         "yaxis": "y"
        },
        {
         "hovertemplate": "Variant SKU=HOD0571<br>x=%{x}<br>y=%{y}<extra></extra>",
         "legendgroup": "HOD0571",
         "marker": {
          "color": "#FECB52",
          "symbol": "circle"
         },
         "mode": "markers",
         "name": "HOD0571",
         "orientation": "v",
         "showlegend": true,
         "type": "scatter",
         "x": [
          6.936913967132568
         ],
         "xaxis": "x",
         "y": [
          3.6381683349609375
         ],
         "yaxis": "y"
        },
        {
         "hovertemplate": "Variant SKU=HOD0567<br>x=%{x}<br>y=%{y}<extra></extra>",
         "legendgroup": "HOD0567",
         "marker": {
          "color": "#636efa",
          "symbol": "circle"
         },
         "mode": "markers",
         "name": "HOD0567",
         "orientation": "v",
         "showlegend": true,
         "type": "scatter",
         "x": [
          4.564085960388184
         ],
         "xaxis": "x",
         "y": [
          2.5852043628692627
         ],
         "yaxis": "y"
        },
        {
         "hovertemplate": "Variant SKU=HOD0563<br>x=%{x}<br>y=%{y}<extra></extra>",
         "legendgroup": "HOD0563",
         "marker": {
          "color": "#EF553B",
          "symbol": "circle"
         },
         "mode": "markers",
         "name": "HOD0563",
         "orientation": "v",
         "showlegend": true,
         "type": "scatter",
         "x": [
          6.6523261070251465
         ],
         "xaxis": "x",
         "y": [
          2.691128730773926
         ],
         "yaxis": "y"
        },
        {
         "hovertemplate": "Variant SKU=HOD0555<br>x=%{x}<br>y=%{y}<extra></extra>",
         "legendgroup": "HOD0555",
         "marker": {
          "color": "#00cc96",
          "symbol": "circle"
         },
         "mode": "markers",
         "name": "HOD0555",
         "orientation": "v",
         "showlegend": true,
         "type": "scatter",
         "x": [
          5.338438510894775
         ],
         "xaxis": "x",
         "y": [
          1.9524887800216675
         ],
         "yaxis": "y"
        },
        {
         "hovertemplate": "Variant SKU=HOD0529<br>x=%{x}<br>y=%{y}<extra></extra>",
         "legendgroup": "HOD0529",
         "marker": {
          "color": "#ab63fa",
          "symbol": "circle"
         },
         "mode": "markers",
         "name": "HOD0529",
         "orientation": "v",
         "showlegend": true,
         "type": "scatter",
         "x": [
          -1.1380672454833984
         ],
         "xaxis": "x",
         "y": [
          -2.6446428298950195
         ],
         "yaxis": "y"
        },
        {
         "hovertemplate": "Variant SKU=HOD0523<br>x=%{x}<br>y=%{y}<extra></extra>",
         "legendgroup": "HOD0523",
         "marker": {
          "color": "#FFA15A",
          "symbol": "circle"
         },
         "mode": "markers",
         "name": "HOD0523",
         "orientation": "v",
         "showlegend": true,
         "type": "scatter",
         "x": [
          -1.1640170812606812
         ],
         "xaxis": "x",
         "y": [
          -2.5391008853912354
         ],
         "yaxis": "y"
        },
        {
         "hovertemplate": "Variant SKU=HOD0517<br>x=%{x}<br>y=%{y}<extra></extra>",
         "legendgroup": "HOD0517",
         "marker": {
          "color": "#19d3f3",
          "symbol": "circle"
         },
         "mode": "markers",
         "name": "HOD0517",
         "orientation": "v",
         "showlegend": true,
         "type": "scatter",
         "x": [
          -3.281745433807373
         ],
         "xaxis": "x",
         "y": [
          -5.832076072692871
         ],
         "yaxis": "y"
        },
        {
         "hovertemplate": "Variant SKU=HOD0511<br>x=%{x}<br>y=%{y}<extra></extra>",
         "legendgroup": "HOD0511",
         "marker": {
          "color": "#FF6692",
          "symbol": "circle"
         },
         "mode": "markers",
         "name": "HOD0511",
         "orientation": "v",
         "showlegend": true,
         "type": "scatter",
         "x": [
          -1.687723159790039
         ],
         "xaxis": "x",
         "y": [
          -2.7835335731506348
         ],
         "yaxis": "y"
        },
        {
         "hovertemplate": "Variant SKU=HOD0505<br>x=%{x}<br>y=%{y}<extra></extra>",
         "legendgroup": "HOD0505",
         "marker": {
          "color": "#B6E880",
          "symbol": "circle"
         },
         "mode": "markers",
         "name": "HOD0505",
         "orientation": "v",
         "showlegend": true,
         "type": "scatter",
         "x": [
          -5.200954437255859
         ],
         "xaxis": "x",
         "y": [
          -6.969487190246582
         ],
         "yaxis": "y"
        },
        {
         "hovertemplate": "Variant SKU=HOD0493<br>x=%{x}<br>y=%{y}<extra></extra>",
         "legendgroup": "HOD0493",
         "marker": {
          "color": "#FF97FF",
          "symbol": "circle"
         },
         "mode": "markers",
         "name": "HOD0493",
         "orientation": "v",
         "showlegend": true,
         "type": "scatter",
         "x": [
          -1.3021807670593262
         ],
         "xaxis": "x",
         "y": [
          -6.863969802856445
         ],
         "yaxis": "y"
        },
        {
         "hovertemplate": "Variant SKU=HOD0487<br>x=%{x}<br>y=%{y}<extra></extra>",
         "legendgroup": "HOD0487",
         "marker": {
          "color": "#FECB52",
          "symbol": "circle"
         },
         "mode": "markers",
         "name": "HOD0487",
         "orientation": "v",
         "showlegend": true,
         "type": "scatter",
         "x": [
          -1.062859058380127
         ],
         "xaxis": "x",
         "y": [
          -7.237143516540527
         ],
         "yaxis": "y"
        },
        {
         "hovertemplate": "Variant SKU=HOD0481<br>x=%{x}<br>y=%{y}<extra></extra>",
         "legendgroup": "HOD0481",
         "marker": {
          "color": "#636efa",
          "symbol": "circle"
         },
         "mode": "markers",
         "name": "HOD0481",
         "orientation": "v",
         "showlegend": true,
         "type": "scatter",
         "x": [
          -1.0922787189483643
         ],
         "xaxis": "x",
         "y": [
          -6.91867208480835
         ],
         "yaxis": "y"
        },
        {
         "hovertemplate": "Variant SKU=HOD0475<br>x=%{x}<br>y=%{y}<extra></extra>",
         "legendgroup": "HOD0475",
         "marker": {
          "color": "#EF553B",
          "symbol": "circle"
         },
         "mode": "markers",
         "name": "HOD0475",
         "orientation": "v",
         "showlegend": true,
         "type": "scatter",
         "x": [
          -1.2065191268920898
         ],
         "xaxis": "x",
         "y": [
          -7.051775932312012
         ],
         "yaxis": "y"
        },
        {
         "hovertemplate": "Variant SKU=HOD0277<br>x=%{x}<br>y=%{y}<extra></extra>",
         "legendgroup": "HOD0277",
         "marker": {
          "color": "#00cc96",
          "symbol": "circle"
         },
         "mode": "markers",
         "name": "HOD0277",
         "orientation": "v",
         "showlegend": true,
         "type": "scatter",
         "x": [
          -2.461109161376953
         ],
         "xaxis": "x",
         "y": [
          -0.09414098411798477
         ],
         "yaxis": "y"
        },
        {
         "hovertemplate": "Variant SKU=HOD0271<br>x=%{x}<br>y=%{y}<extra></extra>",
         "legendgroup": "HOD0271",
         "marker": {
          "color": "#ab63fa",
          "symbol": "circle"
         },
         "mode": "markers",
         "name": "HOD0271",
         "orientation": "v",
         "showlegend": true,
         "type": "scatter",
         "x": [
          -1.9990662336349487
         ],
         "xaxis": "x",
         "y": [
          -0.8586989641189575
         ],
         "yaxis": "y"
        },
        {
         "hovertemplate": "Variant SKU=HOD0265<br>x=%{x}<br>y=%{y}<extra></extra>",
         "legendgroup": "HOD0265",
         "marker": {
          "color": "#FFA15A",
          "symbol": "circle"
         },
         "mode": "markers",
         "name": "HOD0265",
         "orientation": "v",
         "showlegend": true,
         "type": "scatter",
         "x": [
          -2.505401849746704
         ],
         "xaxis": "x",
         "y": [
          0.5476226806640625
         ],
         "yaxis": "y"
        },
        {
         "hovertemplate": "Variant SKU=HOD0259<br>x=%{x}<br>y=%{y}<extra></extra>",
         "legendgroup": "HOD0259",
         "marker": {
          "color": "#19d3f3",
          "symbol": "circle"
         },
         "mode": "markers",
         "name": "HOD0259",
         "orientation": "v",
         "showlegend": true,
         "type": "scatter",
         "x": [
          -1.867253303527832
         ],
         "xaxis": "x",
         "y": [
          0.16631639003753662
         ],
         "yaxis": "y"
        },
        {
         "hovertemplate": "Variant SKU=HOD0253<br>x=%{x}<br>y=%{y}<extra></extra>",
         "legendgroup": "HOD0253",
         "marker": {
          "color": "#FF6692",
          "symbol": "circle"
         },
         "mode": "markers",
         "name": "HOD0253",
         "orientation": "v",
         "showlegend": true,
         "type": "scatter",
         "x": [
          -3.8050575256347656
         ],
         "xaxis": "x",
         "y": [
          -0.11536604166030884
         ],
         "yaxis": "y"
        },
        {
         "hovertemplate": "Variant SKU=HOD0247<br>x=%{x}<br>y=%{y}<extra></extra>",
         "legendgroup": "HOD0247",
         "marker": {
          "color": "#B6E880",
          "symbol": "circle"
         },
         "mode": "markers",
         "name": "HOD0247",
         "orientation": "v",
         "showlegend": true,
         "type": "scatter",
         "x": [
          -3.848127841949463
         ],
         "xaxis": "x",
         "y": [
          -0.27133285999298096
         ],
         "yaxis": "y"
        },
        {
         "hovertemplate": "Variant SKU=HOD0552<br>x=%{x}<br>y=%{y}<extra></extra>",
         "legendgroup": "HOD0552",
         "marker": {
          "color": "#FF97FF",
          "symbol": "circle"
         },
         "mode": "markers",
         "name": "HOD0552",
         "orientation": "v",
         "showlegend": true,
         "type": "scatter",
         "x": [
          3.3665478229522705
         ],
         "xaxis": "x",
         "y": [
          -0.6798590421676636
         ],
         "yaxis": "y"
        },
        {
         "hovertemplate": "Variant SKU=HOD0241<br>x=%{x}<br>y=%{y}<extra></extra>",
         "legendgroup": "HOD0241",
         "marker": {
          "color": "#FECB52",
          "symbol": "circle"
         },
         "mode": "markers",
         "name": "HOD0241",
         "orientation": "v",
         "showlegend": true,
         "type": "scatter",
         "x": [
          -3.638094186782837
         ],
         "xaxis": "x",
         "y": [
          -0.3089997470378876
         ],
         "yaxis": "y"
        },
        {
         "hovertemplate": "Variant SKU=HOD0551<br>x=%{x}<br>y=%{y}<extra></extra>",
         "legendgroup": "HOD0551",
         "marker": {
          "color": "#636efa",
          "symbol": "circle"
         },
         "mode": "markers",
         "name": "HOD0551",
         "orientation": "v",
         "showlegend": true,
         "type": "scatter",
         "x": [
          3.5838425159454346
         ],
         "xaxis": "x",
         "y": [
          -0.7276170253753662
         ],
         "yaxis": "y"
        },
        {
         "hovertemplate": "Variant SKU=HOD0550<br>x=%{x}<br>y=%{y}<extra></extra>",
         "legendgroup": "HOD0550",
         "marker": {
          "color": "#EF553B",
          "symbol": "circle"
         },
         "mode": "markers",
         "name": "HOD0550",
         "orientation": "v",
         "showlegend": true,
         "type": "scatter",
         "x": [
          3.4797682762145996
         ],
         "xaxis": "x",
         "y": [
          -1.5972269773483276
         ],
         "yaxis": "y"
        },
        {
         "hovertemplate": "Variant SKU=HOD0235<br>x=%{x}<br>y=%{y}<extra></extra>",
         "legendgroup": "HOD0235",
         "marker": {
          "color": "#00cc96",
          "symbol": "circle"
         },
         "mode": "markers",
         "name": "HOD0235",
         "orientation": "v",
         "showlegend": true,
         "type": "scatter",
         "x": [
          -4.798255920410156
         ],
         "xaxis": "x",
         "y": [
          -4.330137729644775
         ],
         "yaxis": "y"
        },
        {
         "hovertemplate": "Variant SKU=HOD0548<br>x=%{x}<br>y=%{y}<extra></extra>",
         "legendgroup": "HOD0548",
         "marker": {
          "color": "#ab63fa",
          "symbol": "circle"
         },
         "mode": "markers",
         "name": "HOD0548",
         "orientation": "v",
         "showlegend": true,
         "type": "scatter",
         "x": [
          4.5847883224487305
         ],
         "xaxis": "x",
         "y": [
          -0.39954859018325806
         ],
         "yaxis": "y"
        },
        {
         "hovertemplate": "Variant SKU=HOD0547<br>x=%{x}<br>y=%{y}<extra></extra>",
         "legendgroup": "HOD0547",
         "marker": {
          "color": "#FFA15A",
          "symbol": "circle"
         },
         "mode": "markers",
         "name": "HOD0547",
         "orientation": "v",
         "showlegend": true,
         "type": "scatter",
         "x": [
          4.866583347320557
         ],
         "xaxis": "x",
         "y": [
          -0.5200246572494507
         ],
         "yaxis": "y"
        },
        {
         "hovertemplate": "Variant SKU=HOD0229<br>x=%{x}<br>y=%{y}<extra></extra>",
         "legendgroup": "HOD0229",
         "marker": {
          "color": "#19d3f3",
          "symbol": "circle"
         },
         "mode": "markers",
         "name": "HOD0229",
         "orientation": "v",
         "showlegend": true,
         "type": "scatter",
         "x": [
          -4.144825458526611
         ],
         "xaxis": "x",
         "y": [
          -2.20870041847229
         ],
         "yaxis": "y"
        },
        {
         "hovertemplate": "Variant SKU=HOD0223<br>x=%{x}<br>y=%{y}<extra></extra>",
         "legendgroup": "HOD0223",
         "marker": {
          "color": "#FF6692",
          "symbol": "circle"
         },
         "mode": "markers",
         "name": "HOD0223",
         "orientation": "v",
         "showlegend": true,
         "type": "scatter",
         "x": [
          -5.033584117889404
         ],
         "xaxis": "x",
         "y": [
          -2.090219259262085
         ],
         "yaxis": "y"
        },
        {
         "hovertemplate": "Variant SKU=HOD0545<br>x=%{x}<br>y=%{y}<extra></extra>",
         "legendgroup": "HOD0545",
         "marker": {
          "color": "#B6E880",
          "symbol": "circle"
         },
         "mode": "markers",
         "name": "HOD0545",
         "orientation": "v",
         "showlegend": true,
         "type": "scatter",
         "x": [
          4.4607014656066895
         ],
         "xaxis": "x",
         "y": [
          0.27548614144325256
         ],
         "yaxis": "y"
        },
        {
         "hovertemplate": "Variant SKU=HOD0544<br>x=%{x}<br>y=%{y}<extra></extra>",
         "legendgroup": "HOD0544",
         "marker": {
          "color": "#FF97FF",
          "symbol": "circle"
         },
         "mode": "markers",
         "name": "HOD0544",
         "orientation": "v",
         "showlegend": true,
         "type": "scatter",
         "x": [
          3.8532938957214355
         ],
         "xaxis": "x",
         "y": [
          -0.3507949113845825
         ],
         "yaxis": "y"
        },
        {
         "hovertemplate": "Variant SKU=HOD0543<br>x=%{x}<br>y=%{y}<extra></extra>",
         "legendgroup": "HOD0543",
         "marker": {
          "color": "#FECB52",
          "symbol": "circle"
         },
         "mode": "markers",
         "name": "HOD0543",
         "orientation": "v",
         "showlegend": true,
         "type": "scatter",
         "x": [
          4.088810443878174
         ],
         "xaxis": "x",
         "y": [
          -1.2306220531463623
         ],
         "yaxis": "y"
        },
        {
         "hovertemplate": "Variant SKU=HOD0217<br>x=%{x}<br>y=%{y}<extra></extra>",
         "legendgroup": "HOD0217",
         "marker": {
          "color": "#636efa",
          "symbol": "circle"
         },
         "mode": "markers",
         "name": "HOD0217",
         "orientation": "v",
         "showlegend": true,
         "type": "scatter",
         "x": [
          -4.233691692352295
         ],
         "xaxis": "x",
         "y": [
          -2.229243278503418
         ],
         "yaxis": "y"
        },
        {
         "hovertemplate": "Variant SKU=HOD0542<br>x=%{x}<br>y=%{y}<extra></extra>",
         "legendgroup": "HOD0542",
         "marker": {
          "color": "#EF553B",
          "symbol": "circle"
         },
         "mode": "markers",
         "name": "HOD0542",
         "orientation": "v",
         "showlegend": true,
         "type": "scatter",
         "x": [
          4.320448875427246
         ],
         "xaxis": "x",
         "y": [
          -1.470910668373108
         ],
         "yaxis": "y"
        },
        {
         "hovertemplate": "Variant SKU=HOD0211<br>x=%{x}<br>y=%{y}<extra></extra>",
         "legendgroup": "HOD0211",
         "marker": {
          "color": "#00cc96",
          "symbol": "circle"
         },
         "mode": "markers",
         "name": "HOD0211",
         "orientation": "v",
         "showlegend": true,
         "type": "scatter",
         "x": [
          -3.999967575073242
         ],
         "xaxis": "x",
         "y": [
          -3.514061450958252
         ],
         "yaxis": "y"
        },
        {
         "hovertemplate": "Variant SKU=HOD0538<br>x=%{x}<br>y=%{y}<extra></extra>",
         "legendgroup": "HOD0538",
         "marker": {
          "color": "#ab63fa",
          "symbol": "circle"
         },
         "mode": "markers",
         "name": "HOD0538",
         "orientation": "v",
         "showlegend": true,
         "type": "scatter",
         "x": [
          3.5293195247650146
         ],
         "xaxis": "x",
         "y": [
          -1.5619598627090454
         ],
         "yaxis": "y"
        },
        {
         "hovertemplate": "Variant SKU=HOD0205<br>x=%{x}<br>y=%{y}<extra></extra>",
         "legendgroup": "HOD0205",
         "marker": {
          "color": "#FFA15A",
          "symbol": "circle"
         },
         "mode": "markers",
         "name": "HOD0205",
         "orientation": "v",
         "showlegend": true,
         "type": "scatter",
         "x": [
          -3.9727225303649902
         ],
         "xaxis": "x",
         "y": [
          -2.608532667160034
         ],
         "yaxis": "y"
        },
        {
         "hovertemplate": "Variant SKU=HOD0537<br>x=%{x}<br>y=%{y}<extra></extra>",
         "legendgroup": "HOD0537",
         "marker": {
          "color": "#19d3f3",
          "symbol": "circle"
         },
         "mode": "markers",
         "name": "HOD0537",
         "orientation": "v",
         "showlegend": true,
         "type": "scatter",
         "x": [
          4.368072986602783
         ],
         "xaxis": "x",
         "y": [
          -0.9499255418777466
         ],
         "yaxis": "y"
        },
        {
         "hovertemplate": "Variant SKU=HOD0536<br>x=%{x}<br>y=%{y}<extra></extra>",
         "legendgroup": "HOD0536",
         "marker": {
          "color": "#FF6692",
          "symbol": "circle"
         },
         "mode": "markers",
         "name": "HOD0536",
         "orientation": "v",
         "showlegend": true,
         "type": "scatter",
         "x": [
          3.6341938972473145
         ],
         "xaxis": "x",
         "y": [
          -0.21342062950134277
         ],
         "yaxis": "y"
        },
        {
         "hovertemplate": "Variant SKU=HOD0199<br>x=%{x}<br>y=%{y}<extra></extra>",
         "legendgroup": "HOD0199",
         "marker": {
          "color": "#B6E880",
          "symbol": "circle"
         },
         "mode": "markers",
         "name": "HOD0199",
         "orientation": "v",
         "showlegend": true,
         "type": "scatter",
         "x": [
          -4.641469478607178
         ],
         "xaxis": "x",
         "y": [
          -3.673272132873535
         ],
         "yaxis": "y"
        },
        {
         "hovertemplate": "Variant SKU=HOD0193<br>x=%{x}<br>y=%{y}<extra></extra>",
         "legendgroup": "HOD0193",
         "marker": {
          "color": "#FF97FF",
          "symbol": "circle"
         },
         "mode": "markers",
         "name": "HOD0193",
         "orientation": "v",
         "showlegend": true,
         "type": "scatter",
         "x": [
          -2.4995367527008057
         ],
         "xaxis": "x",
         "y": [
          -0.012432693503797054
         ],
         "yaxis": "y"
        },
        {
         "hovertemplate": "Variant SKU=HOD0187<br>x=%{x}<br>y=%{y}<extra></extra>",
         "legendgroup": "HOD0187",
         "marker": {
          "color": "#FECB52",
          "symbol": "circle"
         },
         "mode": "markers",
         "name": "HOD0187",
         "orientation": "v",
         "showlegend": true,
         "type": "scatter",
         "x": [
          -2.8567681312561035
         ],
         "xaxis": "x",
         "y": [
          -0.025105522945523262
         ],
         "yaxis": "y"
        },
        {
         "hovertemplate": "Variant SKU=HOD0181<br>x=%{x}<br>y=%{y}<extra></extra>",
         "legendgroup": "HOD0181",
         "marker": {
          "color": "#636efa",
          "symbol": "circle"
         },
         "mode": "markers",
         "name": "HOD0181",
         "orientation": "v",
         "showlegend": true,
         "type": "scatter",
         "x": [
          -2.7284770011901855
         ],
         "xaxis": "x",
         "y": [
          0.9514305591583252
         ],
         "yaxis": "y"
        },
        {
         "hovertemplate": "Variant SKU=HOD0469<br>x=%{x}<br>y=%{y}<extra></extra>",
         "legendgroup": "HOD0469",
         "marker": {
          "color": "#EF553B",
          "symbol": "circle"
         },
         "mode": "markers",
         "name": "HOD0469",
         "orientation": "v",
         "showlegend": true,
         "type": "scatter",
         "x": [
          -3.5081231594085693
         ],
         "xaxis": "x",
         "y": [
          8.75783920288086
         ],
         "yaxis": "y"
        },
        {
         "hovertemplate": "Variant SKU=HOD0463<br>x=%{x}<br>y=%{y}<extra></extra>",
         "legendgroup": "HOD0463",
         "marker": {
          "color": "#00cc96",
          "symbol": "circle"
         },
         "mode": "markers",
         "name": "HOD0463",
         "orientation": "v",
         "showlegend": true,
         "type": "scatter",
         "x": [
          -2.410703420639038
         ],
         "xaxis": "x",
         "y": [
          10.420977592468262
         ],
         "yaxis": "y"
        },
        {
         "hovertemplate": "Variant SKU=HOD0457<br>x=%{x}<br>y=%{y}<extra></extra>",
         "legendgroup": "HOD0457",
         "marker": {
          "color": "#ab63fa",
          "symbol": "circle"
         },
         "mode": "markers",
         "name": "HOD0457",
         "orientation": "v",
         "showlegend": true,
         "type": "scatter",
         "x": [
          -1.9758687019348145
         ],
         "xaxis": "x",
         "y": [
          9.309908866882324
         ],
         "yaxis": "y"
        },
        {
         "hovertemplate": "Variant SKU=HOD0451<br>x=%{x}<br>y=%{y}<extra></extra>",
         "legendgroup": "HOD0451",
         "marker": {
          "color": "#FFA15A",
          "symbol": "circle"
         },
         "mode": "markers",
         "name": "HOD0451",
         "orientation": "v",
         "showlegend": true,
         "type": "scatter",
         "x": [
          -2.2832021713256836
         ],
         "xaxis": "x",
         "y": [
          8.944767951965332
         ],
         "yaxis": "y"
        },
        {
         "hovertemplate": "Variant SKU=HOD0445<br>x=%{x}<br>y=%{y}<extra></extra>",
         "legendgroup": "HOD0445",
         "marker": {
          "color": "#19d3f3",
          "symbol": "circle"
         },
         "mode": "markers",
         "name": "HOD0445",
         "orientation": "v",
         "showlegend": true,
         "type": "scatter",
         "x": [
          -1.7922637462615967
         ],
         "xaxis": "x",
         "y": [
          10.987506866455078
         ],
         "yaxis": "y"
        },
        {
         "hovertemplate": "Variant SKU=HOD0439<br>x=%{x}<br>y=%{y}<extra></extra>",
         "legendgroup": "HOD0439",
         "marker": {
          "color": "#FF6692",
          "symbol": "circle"
         },
         "mode": "markers",
         "name": "HOD0439",
         "orientation": "v",
         "showlegend": true,
         "type": "scatter",
         "x": [
          -2.9740493297576904
         ],
         "xaxis": "x",
         "y": [
          9.80371379852295
         ],
         "yaxis": "y"
        },
        {
         "hovertemplate": "Variant SKU=HOD0433<br>x=%{x}<br>y=%{y}<extra></extra>",
         "legendgroup": "HOD0433",
         "marker": {
          "color": "#B6E880",
          "symbol": "circle"
         },
         "mode": "markers",
         "name": "HOD0433",
         "orientation": "v",
         "showlegend": true,
         "type": "scatter",
         "x": [
          -2.87432861328125
         ],
         "xaxis": "x",
         "y": [
          9.718696594238281
         ],
         "yaxis": "y"
        },
        {
         "hovertemplate": "Variant SKU=HOD0427<br>x=%{x}<br>y=%{y}<extra></extra>",
         "legendgroup": "HOD0427",
         "marker": {
          "color": "#FF97FF",
          "symbol": "circle"
         },
         "mode": "markers",
         "name": "HOD0427",
         "orientation": "v",
         "showlegend": true,
         "type": "scatter",
         "x": [
          -2.4376485347747803
         ],
         "xaxis": "x",
         "y": [
          9.216789245605469
         ],
         "yaxis": "y"
        },
        {
         "hovertemplate": "Variant SKU=HOD0421<br>x=%{x}<br>y=%{y}<extra></extra>",
         "legendgroup": "HOD0421",
         "marker": {
          "color": "#FECB52",
          "symbol": "circle"
         },
         "mode": "markers",
         "name": "HOD0421",
         "orientation": "v",
         "showlegend": true,
         "type": "scatter",
         "x": [
          -2.639044761657715
         ],
         "xaxis": "x",
         "y": [
          8.789405822753906
         ],
         "yaxis": "y"
        },
        {
         "hovertemplate": "Variant SKU=HOD0415<br>x=%{x}<br>y=%{y}<extra></extra>",
         "legendgroup": "HOD0415",
         "marker": {
          "color": "#636efa",
          "symbol": "circle"
         },
         "mode": "markers",
         "name": "HOD0415",
         "orientation": "v",
         "showlegend": true,
         "type": "scatter",
         "x": [
          -1.3310298919677734
         ],
         "xaxis": "x",
         "y": [
          10.408479690551758
         ],
         "yaxis": "y"
        },
        {
         "hovertemplate": "Variant SKU=HOD0397<br>x=%{x}<br>y=%{y}<extra></extra>",
         "legendgroup": "HOD0397",
         "marker": {
          "color": "#EF553B",
          "symbol": "circle"
         },
         "mode": "markers",
         "name": "HOD0397",
         "orientation": "v",
         "showlegend": true,
         "type": "scatter",
         "x": [
          -2.7682015895843506
         ],
         "xaxis": "x",
         "y": [
          8.409948348999023
         ],
         "yaxis": "y"
        },
        {
         "hovertemplate": "Variant SKU=HOD0391<br>x=%{x}<br>y=%{y}<extra></extra>",
         "legendgroup": "HOD0391",
         "marker": {
          "color": "#00cc96",
          "symbol": "circle"
         },
         "mode": "markers",
         "name": "HOD0391",
         "orientation": "v",
         "showlegend": true,
         "type": "scatter",
         "x": [
          -2.5301427841186523
         ],
         "xaxis": "x",
         "y": [
          11.156837463378906
         ],
         "yaxis": "y"
        },
        {
         "hovertemplate": "Variant SKU=HOD0385<br>x=%{x}<br>y=%{y}<extra></extra>",
         "legendgroup": "HOD0385",
         "marker": {
          "color": "#ab63fa",
          "symbol": "circle"
         },
         "mode": "markers",
         "name": "HOD0385",
         "orientation": "v",
         "showlegend": true,
         "type": "scatter",
         "x": [
          -1.1689224243164062
         ],
         "xaxis": "x",
         "y": [
          9.94748306274414
         ],
         "yaxis": "y"
        },
        {
         "hovertemplate": "Variant SKU=HOD0373<br>x=%{x}<br>y=%{y}<extra></extra>",
         "legendgroup": "HOD0373",
         "marker": {
          "color": "#FFA15A",
          "symbol": "circle"
         },
         "mode": "markers",
         "name": "HOD0373",
         "orientation": "v",
         "showlegend": true,
         "type": "scatter",
         "x": [
          -1.6150128841400146
         ],
         "xaxis": "x",
         "y": [
          8.319353103637695
         ],
         "yaxis": "y"
        },
        {
         "hovertemplate": "Variant SKU=HOD0175<br>x=%{x}<br>y=%{y}<extra></extra>",
         "legendgroup": "HOD0175",
         "marker": {
          "color": "#19d3f3",
          "symbol": "circle"
         },
         "mode": "markers",
         "name": "HOD0175",
         "orientation": "v",
         "showlegend": true,
         "type": "scatter",
         "x": [
          -4.037735939025879
         ],
         "xaxis": "x",
         "y": [
          -5.728763103485107
         ],
         "yaxis": "y"
        },
        {
         "hovertemplate": "Variant SKU=HOD0169<br>x=%{x}<br>y=%{y}<extra></extra>",
         "legendgroup": "HOD0169",
         "marker": {
          "color": "#FF6692",
          "symbol": "circle"
         },
         "mode": "markers",
         "name": "HOD0169",
         "orientation": "v",
         "showlegend": true,
         "type": "scatter",
         "x": [
          -4.340303897857666
         ],
         "xaxis": "x",
         "y": [
          -5.239706993103027
         ],
         "yaxis": "y"
        },
        {
         "hovertemplate": "Variant SKU=HOD0163<br>x=%{x}<br>y=%{y}<extra></extra>",
         "legendgroup": "HOD0163",
         "marker": {
          "color": "#B6E880",
          "symbol": "circle"
         },
         "mode": "markers",
         "name": "HOD0163",
         "orientation": "v",
         "showlegend": true,
         "type": "scatter",
         "x": [
          -4.321854114532471
         ],
         "xaxis": "x",
         "y": [
          -5.2921671867370605
         ],
         "yaxis": "y"
        },
        {
         "hovertemplate": "Variant SKU=HOD0367<br>x=%{x}<br>y=%{y}<extra></extra>",
         "legendgroup": "HOD0367",
         "marker": {
          "color": "#FF97FF",
          "symbol": "circle"
         },
         "mode": "markers",
         "name": "HOD0367",
         "orientation": "v",
         "showlegend": true,
         "type": "scatter",
         "x": [
          -3.0919947624206543
         ],
         "xaxis": "x",
         "y": [
          10.51063346862793
         ],
         "yaxis": "y"
        },
        {
         "hovertemplate": "Variant SKU=HOD0157<br>x=%{x}<br>y=%{y}<extra></extra>",
         "legendgroup": "HOD0157",
         "marker": {
          "color": "#FECB52",
          "symbol": "circle"
         },
         "mode": "markers",
         "name": "HOD0157",
         "orientation": "v",
         "showlegend": true,
         "type": "scatter",
         "x": [
          -5.17929744720459
         ],
         "xaxis": "x",
         "y": [
          -1.7578285932540894
         ],
         "yaxis": "y"
        },
        {
         "hovertemplate": "Variant SKU=HOD0355<br>x=%{x}<br>y=%{y}<extra></extra>",
         "legendgroup": "HOD0355",
         "marker": {
          "color": "#636efa",
          "symbol": "circle"
         },
         "mode": "markers",
         "name": "HOD0355",
         "orientation": "v",
         "showlegend": true,
         "type": "scatter",
         "x": [
          -3.6522905826568604
         ],
         "xaxis": "x",
         "y": [
          8.519580841064453
         ],
         "yaxis": "y"
        },
        {
         "hovertemplate": "Variant SKU=HOD0151<br>x=%{x}<br>y=%{y}<extra></extra>",
         "legendgroup": "HOD0151",
         "marker": {
          "color": "#EF553B",
          "symbol": "circle"
         },
         "mode": "markers",
         "name": "HOD0151",
         "orientation": "v",
         "showlegend": true,
         "type": "scatter",
         "x": [
          -5.238753795623779
         ],
         "xaxis": "x",
         "y": [
          -1.6180628538131714
         ],
         "yaxis": "y"
        },
        {
         "hovertemplate": "Variant SKU=HOD0145<br>x=%{x}<br>y=%{y}<extra></extra>",
         "legendgroup": "HOD0145",
         "marker": {
          "color": "#00cc96",
          "symbol": "circle"
         },
         "mode": "markers",
         "name": "HOD0145",
         "orientation": "v",
         "showlegend": true,
         "type": "scatter",
         "x": [
          -5.155326843261719
         ],
         "xaxis": "x",
         "y": [
          -1.2792123556137085
         ],
         "yaxis": "y"
        },
        {
         "hovertemplate": "Variant SKU=HOD0139<br>x=%{x}<br>y=%{y}<extra></extra>",
         "legendgroup": "HOD0139",
         "marker": {
          "color": "#ab63fa",
          "symbol": "circle"
         },
         "mode": "markers",
         "name": "HOD0139",
         "orientation": "v",
         "showlegend": true,
         "type": "scatter",
         "x": [
          -1.8162630796432495
         ],
         "xaxis": "x",
         "y": [
          -5.061422348022461
         ],
         "yaxis": "y"
        },
        {
         "hovertemplate": "Variant SKU=HOD0349<br>x=%{x}<br>y=%{y}<extra></extra>",
         "legendgroup": "HOD0349",
         "marker": {
          "color": "#FFA15A",
          "symbol": "circle"
         },
         "mode": "markers",
         "name": "HOD0349",
         "orientation": "v",
         "showlegend": true,
         "type": "scatter",
         "x": [
          -1.8698933124542236
         ],
         "xaxis": "x",
         "y": [
          10.170967102050781
         ],
         "yaxis": "y"
        },
        {
         "hovertemplate": "Variant SKU=HOD0133<br>x=%{x}<br>y=%{y}<extra></extra>",
         "legendgroup": "HOD0133",
         "marker": {
          "color": "#19d3f3",
          "symbol": "circle"
         },
         "mode": "markers",
         "name": "HOD0133",
         "orientation": "v",
         "showlegend": true,
         "type": "scatter",
         "x": [
          -1.869641661643982
         ],
         "xaxis": "x",
         "y": [
          -4.9032368659973145
         ],
         "yaxis": "y"
        },
        {
         "hovertemplate": "Variant SKU=HOD0127<br>x=%{x}<br>y=%{y}<extra></extra>",
         "legendgroup": "HOD0127",
         "marker": {
          "color": "#FF6692",
          "symbol": "circle"
         },
         "mode": "markers",
         "name": "HOD0127",
         "orientation": "v",
         "showlegend": true,
         "type": "scatter",
         "x": [
          -1.8924635648727417
         ],
         "xaxis": "x",
         "y": [
          -4.9264397621154785
         ],
         "yaxis": "y"
        },
        {
         "hovertemplate": "Variant SKU=HOD0337<br>x=%{x}<br>y=%{y}<extra></extra>",
         "legendgroup": "HOD0337",
         "marker": {
          "color": "#B6E880",
          "symbol": "circle"
         },
         "mode": "markers",
         "name": "HOD0337",
         "orientation": "v",
         "showlegend": true,
         "type": "scatter",
         "x": [
          -1.7216601371765137
         ],
         "xaxis": "x",
         "y": [
          9.568228721618652
         ],
         "yaxis": "y"
        },
        {
         "hovertemplate": "Variant SKU=HOD0121<br>x=%{x}<br>y=%{y}<extra></extra>",
         "legendgroup": "HOD0121",
         "marker": {
          "color": "#FF97FF",
          "symbol": "circle"
         },
         "mode": "markers",
         "name": "HOD0121",
         "orientation": "v",
         "showlegend": true,
         "type": "scatter",
         "x": [
          -6.124948024749756
         ],
         "xaxis": "x",
         "y": [
          -1.181555986404419
         ],
         "yaxis": "y"
        },
        {
         "hovertemplate": "Variant SKU=HOD0325<br>x=%{x}<br>y=%{y}<extra></extra>",
         "legendgroup": "HOD0325",
         "marker": {
          "color": "#FECB52",
          "symbol": "circle"
         },
         "mode": "markers",
         "name": "HOD0325",
         "orientation": "v",
         "showlegend": true,
         "type": "scatter",
         "x": [
          -1.1208186149597168
         ],
         "xaxis": "x",
         "y": [
          8.751914978027344
         ],
         "yaxis": "y"
        },
        {
         "hovertemplate": "Variant SKU=HOD0115<br>x=%{x}<br>y=%{y}<extra></extra>",
         "legendgroup": "HOD0115",
         "marker": {
          "color": "#636efa",
          "symbol": "circle"
         },
         "mode": "markers",
         "name": "HOD0115",
         "orientation": "v",
         "showlegend": true,
         "type": "scatter",
         "x": [
          -6.03965950012207
         ],
         "xaxis": "x",
         "y": [
          -1.286596655845642
         ],
         "yaxis": "y"
        },
        {
         "hovertemplate": "Variant SKU=HOD0109<br>x=%{x}<br>y=%{y}<extra></extra>",
         "legendgroup": "HOD0109",
         "marker": {
          "color": "#EF553B",
          "symbol": "circle"
         },
         "mode": "markers",
         "name": "HOD0109",
         "orientation": "v",
         "showlegend": true,
         "type": "scatter",
         "x": [
          -5.865879058837891
         ],
         "xaxis": "x",
         "y": [
          -1.2186775207519531
         ],
         "yaxis": "y"
        },
        {
         "hovertemplate": "Variant SKU=HOD0103<br>x=%{x}<br>y=%{y}<extra></extra>",
         "legendgroup": "HOD0103",
         "marker": {
          "color": "#00cc96",
          "symbol": "circle"
         },
         "mode": "markers",
         "name": "HOD0103",
         "orientation": "v",
         "showlegend": true,
         "type": "scatter",
         "x": [
          -0.2875949740409851
         ],
         "xaxis": "x",
         "y": [
          -1.6464849710464478
         ],
         "yaxis": "y"
        },
        {
         "hovertemplate": "Variant SKU=HOD0097<br>x=%{x}<br>y=%{y}<extra></extra>",
         "legendgroup": "HOD0097",
         "marker": {
          "color": "#ab63fa",
          "symbol": "circle"
         },
         "mode": "markers",
         "name": "HOD0097",
         "orientation": "v",
         "showlegend": true,
         "type": "scatter",
         "x": [
          -0.25389838218688965
         ],
         "xaxis": "x",
         "y": [
          -1.796109914779663
         ],
         "yaxis": "y"
        },
        {
         "hovertemplate": "Variant SKU=HOD0307<br>x=%{x}<br>y=%{y}<extra></extra>",
         "legendgroup": "HOD0307",
         "marker": {
          "color": "#FFA15A",
          "symbol": "circle"
         },
         "mode": "markers",
         "name": "HOD0307",
         "orientation": "v",
         "showlegend": true,
         "type": "scatter",
         "x": [
          -2.5035088062286377
         ],
         "xaxis": "x",
         "y": [
          7.858796119689941
         ],
         "yaxis": "y"
        },
        {
         "hovertemplate": "Variant SKU=HOD0091<br>x=%{x}<br>y=%{y}<extra></extra>",
         "legendgroup": "HOD0091",
         "marker": {
          "color": "#19d3f3",
          "symbol": "circle"
         },
         "mode": "markers",
         "name": "HOD0091",
         "orientation": "v",
         "showlegend": true,
         "type": "scatter",
         "x": [
          -0.306360125541687
         ],
         "xaxis": "x",
         "y": [
          -1.7310432195663452
         ],
         "yaxis": "y"
        },
        {
         "hovertemplate": "Variant SKU=HOD0301<br>x=%{x}<br>y=%{y}<extra></extra>",
         "legendgroup": "HOD0301",
         "marker": {
          "color": "#FF6692",
          "symbol": "circle"
         },
         "mode": "markers",
         "name": "HOD0301",
         "orientation": "v",
         "showlegend": true,
         "type": "scatter",
         "x": [
          -2.9994943141937256
         ],
         "xaxis": "x",
         "y": [
          9.021562576293945
         ],
         "yaxis": "y"
        },
        {
         "hovertemplate": "Variant SKU=HOD0295<br>x=%{x}<br>y=%{y}<extra></extra>",
         "legendgroup": "HOD0295",
         "marker": {
          "color": "#B6E880",
          "symbol": "circle"
         },
         "mode": "markers",
         "name": "HOD0295",
         "orientation": "v",
         "showlegend": true,
         "type": "scatter",
         "x": [
          -1.3329704999923706
         ],
         "xaxis": "x",
         "y": [
          8.867072105407715
         ],
         "yaxis": "y"
        },
        {
         "hovertemplate": "Variant SKU=HOD0085<br>x=%{x}<br>y=%{y}<extra></extra>",
         "legendgroup": "HOD0085",
         "marker": {
          "color": "#FF97FF",
          "symbol": "circle"
         },
         "mode": "markers",
         "name": "HOD0085",
         "orientation": "v",
         "showlegend": true,
         "type": "scatter",
         "x": [
          0.31571370363235474
         ],
         "xaxis": "x",
         "y": [
          -4.755740165710449
         ],
         "yaxis": "y"
        },
        {
         "hovertemplate": "Variant SKU=HOD0289<br>x=%{x}<br>y=%{y}<extra></extra>",
         "legendgroup": "HOD0289",
         "marker": {
          "color": "#FECB52",
          "symbol": "circle"
         },
         "mode": "markers",
         "name": "HOD0289",
         "orientation": "v",
         "showlegend": true,
         "type": "scatter",
         "x": [
          -3.052779197692871
         ],
         "xaxis": "x",
         "y": [
          10.460423469543457
         ],
         "yaxis": "y"
        },
        {
         "hovertemplate": "Variant SKU=HOD0079<br>x=%{x}<br>y=%{y}<extra></extra>",
         "legendgroup": "HOD0079",
         "marker": {
          "color": "#636efa",
          "symbol": "circle"
         },
         "mode": "markers",
         "name": "HOD0079",
         "orientation": "v",
         "showlegend": true,
         "type": "scatter",
         "x": [
          0.37407559156417847
         ],
         "xaxis": "x",
         "y": [
          -4.7967658042907715
         ],
         "yaxis": "y"
        },
        {
         "hovertemplate": "Variant SKU=HOD0073<br>x=%{x}<br>y=%{y}<extra></extra>",
         "legendgroup": "HOD0073",
         "marker": {
          "color": "#EF553B",
          "symbol": "circle"
         },
         "mode": "markers",
         "name": "HOD0073",
         "orientation": "v",
         "showlegend": true,
         "type": "scatter",
         "x": [
          0.5551334023475647
         ],
         "xaxis": "x",
         "y": [
          -4.787350177764893
         ],
         "yaxis": "y"
        },
        {
         "hovertemplate": "Variant SKU=HOD0067<br>x=%{x}<br>y=%{y}<extra></extra>",
         "legendgroup": "HOD0067",
         "marker": {
          "color": "#00cc96",
          "symbol": "circle"
         },
         "mode": "markers",
         "name": "HOD0067",
         "orientation": "v",
         "showlegend": true,
         "type": "scatter",
         "x": [
          -6.073398113250732
         ],
         "xaxis": "x",
         "y": [
          -4.777810573577881
         ],
         "yaxis": "y"
        },
        {
         "hovertemplate": "Variant SKU=HOD0061<br>x=%{x}<br>y=%{y}<extra></extra>",
         "legendgroup": "HOD0061",
         "marker": {
          "color": "#ab63fa",
          "symbol": "circle"
         },
         "mode": "markers",
         "name": "HOD0061",
         "orientation": "v",
         "showlegend": true,
         "type": "scatter",
         "x": [
          -6.465954780578613
         ],
         "xaxis": "x",
         "y": [
          -5.118180751800537
         ],
         "yaxis": "y"
        },
        {
         "hovertemplate": "Variant SKU=HOD0055<br>x=%{x}<br>y=%{y}<extra></extra>",
         "legendgroup": "HOD0055",
         "marker": {
          "color": "#FFA15A",
          "symbol": "circle"
         },
         "mode": "markers",
         "name": "HOD0055",
         "orientation": "v",
         "showlegend": true,
         "type": "scatter",
         "x": [
          -6.331145286560059
         ],
         "xaxis": "x",
         "y": [
          -4.874364376068115
         ],
         "yaxis": "y"
        },
        {
         "hovertemplate": "Variant SKU=HOD0049<br>x=%{x}<br>y=%{y}<extra></extra>",
         "legendgroup": "HOD0049",
         "marker": {
          "color": "#19d3f3",
          "symbol": "circle"
         },
         "mode": "markers",
         "name": "HOD0049",
         "orientation": "v",
         "showlegend": true,
         "type": "scatter",
         "x": [
          -1.0224868059158325
         ],
         "xaxis": "x",
         "y": [
          1.3250137567520142
         ],
         "yaxis": "y"
        },
        {
         "hovertemplate": "Variant SKU=HOD0043<br>x=%{x}<br>y=%{y}<extra></extra>",
         "legendgroup": "HOD0043",
         "marker": {
          "color": "#FF6692",
          "symbol": "circle"
         },
         "mode": "markers",
         "name": "HOD0043",
         "orientation": "v",
         "showlegend": true,
         "type": "scatter",
         "x": [
          -1.0978044271469116
         ],
         "xaxis": "x",
         "y": [
          1.4181863069534302
         ],
         "yaxis": "y"
        },
        {
         "hovertemplate": "Variant SKU=HOD0037<br>x=%{x}<br>y=%{y}<extra></extra>",
         "legendgroup": "HOD0037",
         "marker": {
          "color": "#B6E880",
          "symbol": "circle"
         },
         "mode": "markers",
         "name": "HOD0037",
         "orientation": "v",
         "showlegend": true,
         "type": "scatter",
         "x": [
          -1.0482348203659058
         ],
         "xaxis": "x",
         "y": [
          1.4797414541244507
         ],
         "yaxis": "y"
        },
        {
         "hovertemplate": "Variant SKU=HOD0031<br>x=%{x}<br>y=%{y}<extra></extra>",
         "legendgroup": "HOD0031",
         "marker": {
          "color": "#FF97FF",
          "symbol": "circle"
         },
         "mode": "markers",
         "name": "HOD0031",
         "orientation": "v",
         "showlegend": true,
         "type": "scatter",
         "x": [
          -3.0491693019866943
         ],
         "xaxis": "x",
         "y": [
          -0.7864837646484375
         ],
         "yaxis": "y"
        },
        {
         "hovertemplate": "Variant SKU=HOD0025<br>x=%{x}<br>y=%{y}<extra></extra>",
         "legendgroup": "HOD0025",
         "marker": {
          "color": "#FECB52",
          "symbol": "circle"
         },
         "mode": "markers",
         "name": "HOD0025",
         "orientation": "v",
         "showlegend": true,
         "type": "scatter",
         "x": [
          -3.8863794803619385
         ],
         "xaxis": "x",
         "y": [
          -1.3554404973983765
         ],
         "yaxis": "y"
        },
        {
         "hovertemplate": "Variant SKU=HOD0019<br>x=%{x}<br>y=%{y}<extra></extra>",
         "legendgroup": "HOD0019",
         "marker": {
          "color": "#636efa",
          "symbol": "circle"
         },
         "mode": "markers",
         "name": "HOD0019",
         "orientation": "v",
         "showlegend": true,
         "type": "scatter",
         "x": [
          -2.581143379211426
         ],
         "xaxis": "x",
         "y": [
          2.444530963897705
         ],
         "yaxis": "y"
        },
        {
         "hovertemplate": "Variant SKU=HOD0013<br>x=%{x}<br>y=%{y}<extra></extra>",
         "legendgroup": "HOD0013",
         "marker": {
          "color": "#EF553B",
          "symbol": "circle"
         },
         "mode": "markers",
         "name": "HOD0013",
         "orientation": "v",
         "showlegend": true,
         "type": "scatter",
         "x": [
          -3.591273546218872
         ],
         "xaxis": "x",
         "y": [
          2.124926805496216
         ],
         "yaxis": "y"
        },
        {
         "hovertemplate": "Variant SKU=HOD0007<br>x=%{x}<br>y=%{y}<extra></extra>",
         "legendgroup": "HOD0007",
         "marker": {
          "color": "#00cc96",
          "symbol": "circle"
         },
         "mode": "markers",
         "name": "HOD0007",
         "orientation": "v",
         "showlegend": true,
         "type": "scatter",
         "x": [
          -3.6649582386016846
         ],
         "xaxis": "x",
         "y": [
          2.1561131477355957
         ],
         "yaxis": "y"
        },
        {
         "hovertemplate": "Variant SKU=HOD0001<br>x=%{x}<br>y=%{y}<extra></extra>",
         "legendgroup": "HOD0001",
         "marker": {
          "color": "#ab63fa",
          "symbol": "circle"
         },
         "mode": "markers",
         "name": "HOD0001",
         "orientation": "v",
         "showlegend": true,
         "type": "scatter",
         "x": [
          -3.3059051036834717
         ],
         "xaxis": "x",
         "y": [
          2.3611974716186523
         ],
         "yaxis": "y"
        }
       ],
       "layout": {
        "legend": {
         "title": {
          "text": "Variant SKU"
         },
         "tracegroupgap": 0
        },
        "margin": {
         "t": 60
        },
        "template": {
         "data": {
          "bar": [
           {
            "error_x": {
             "color": "#2a3f5f"
            },
            "error_y": {
             "color": "#2a3f5f"
            },
            "marker": {
             "line": {
              "color": "#E5ECF6",
              "width": 0.5
             },
             "pattern": {
              "fillmode": "overlay",
              "size": 10,
              "solidity": 0.2
             }
            },
            "type": "bar"
           }
          ],
          "barpolar": [
           {
            "marker": {
             "line": {
              "color": "#E5ECF6",
              "width": 0.5
             },
             "pattern": {
              "fillmode": "overlay",
              "size": 10,
              "solidity": 0.2
             }
            },
            "type": "barpolar"
           }
          ],
          "carpet": [
           {
            "aaxis": {
             "endlinecolor": "#2a3f5f",
             "gridcolor": "white",
             "linecolor": "white",
             "minorgridcolor": "white",
             "startlinecolor": "#2a3f5f"
            },
            "baxis": {
             "endlinecolor": "#2a3f5f",
             "gridcolor": "white",
             "linecolor": "white",
             "minorgridcolor": "white",
             "startlinecolor": "#2a3f5f"
            },
            "type": "carpet"
           }
          ],
          "choropleth": [
           {
            "colorbar": {
             "outlinewidth": 0,
             "ticks": ""
            },
            "type": "choropleth"
           }
          ],
          "contour": [
           {
            "colorbar": {
             "outlinewidth": 0,
             "ticks": ""
            },
            "colorscale": [
             [
              0,
              "#0d0887"
             ],
             [
              0.1111111111111111,
              "#46039f"
             ],
             [
              0.2222222222222222,
              "#7201a8"
             ],
             [
              0.3333333333333333,
              "#9c179e"
             ],
             [
              0.4444444444444444,
              "#bd3786"
             ],
             [
              0.5555555555555556,
              "#d8576b"
             ],
             [
              0.6666666666666666,
              "#ed7953"
             ],
             [
              0.7777777777777778,
              "#fb9f3a"
             ],
             [
              0.8888888888888888,
              "#fdca26"
             ],
             [
              1,
              "#f0f921"
             ]
            ],
            "type": "contour"
           }
          ],
          "contourcarpet": [
           {
            "colorbar": {
             "outlinewidth": 0,
             "ticks": ""
            },
            "type": "contourcarpet"
           }
          ],
          "heatmap": [
           {
            "colorbar": {
             "outlinewidth": 0,
             "ticks": ""
            },
            "colorscale": [
             [
              0,
              "#0d0887"
             ],
             [
              0.1111111111111111,
              "#46039f"
             ],
             [
              0.2222222222222222,
              "#7201a8"
             ],
             [
              0.3333333333333333,
              "#9c179e"
             ],
             [
              0.4444444444444444,
              "#bd3786"
             ],
             [
              0.5555555555555556,
              "#d8576b"
             ],
             [
              0.6666666666666666,
              "#ed7953"
             ],
             [
              0.7777777777777778,
              "#fb9f3a"
             ],
             [
              0.8888888888888888,
              "#fdca26"
             ],
             [
              1,
              "#f0f921"
             ]
            ],
            "type": "heatmap"
           }
          ],
          "heatmapgl": [
           {
            "colorbar": {
             "outlinewidth": 0,
             "ticks": ""
            },
            "colorscale": [
             [
              0,
              "#0d0887"
             ],
             [
              0.1111111111111111,
              "#46039f"
             ],
             [
              0.2222222222222222,
              "#7201a8"
             ],
             [
              0.3333333333333333,
              "#9c179e"
             ],
             [
              0.4444444444444444,
              "#bd3786"
             ],
             [
              0.5555555555555556,
              "#d8576b"
             ],
             [
              0.6666666666666666,
              "#ed7953"
             ],
             [
              0.7777777777777778,
              "#fb9f3a"
             ],
             [
              0.8888888888888888,
              "#fdca26"
             ],
             [
              1,
              "#f0f921"
             ]
            ],
            "type": "heatmapgl"
           }
          ],
          "histogram": [
           {
            "marker": {
             "pattern": {
              "fillmode": "overlay",
              "size": 10,
              "solidity": 0.2
             }
            },
            "type": "histogram"
           }
          ],
          "histogram2d": [
           {
            "colorbar": {
             "outlinewidth": 0,
             "ticks": ""
            },
            "colorscale": [
             [
              0,
              "#0d0887"
             ],
             [
              0.1111111111111111,
              "#46039f"
             ],
             [
              0.2222222222222222,
              "#7201a8"
             ],
             [
              0.3333333333333333,
              "#9c179e"
             ],
             [
              0.4444444444444444,
              "#bd3786"
             ],
             [
              0.5555555555555556,
              "#d8576b"
             ],
             [
              0.6666666666666666,
              "#ed7953"
             ],
             [
              0.7777777777777778,
              "#fb9f3a"
             ],
             [
              0.8888888888888888,
              "#fdca26"
             ],
             [
              1,
              "#f0f921"
             ]
            ],
            "type": "histogram2d"
           }
          ],
          "histogram2dcontour": [
           {
            "colorbar": {
             "outlinewidth": 0,
             "ticks": ""
            },
            "colorscale": [
             [
              0,
              "#0d0887"
             ],
             [
              0.1111111111111111,
              "#46039f"
             ],
             [
              0.2222222222222222,
              "#7201a8"
             ],
             [
              0.3333333333333333,
              "#9c179e"
             ],
             [
              0.4444444444444444,
              "#bd3786"
             ],
             [
              0.5555555555555556,
              "#d8576b"
             ],
             [
              0.6666666666666666,
              "#ed7953"
             ],
             [
              0.7777777777777778,
              "#fb9f3a"
             ],
             [
              0.8888888888888888,
              "#fdca26"
             ],
             [
              1,
              "#f0f921"
             ]
            ],
            "type": "histogram2dcontour"
           }
          ],
          "mesh3d": [
           {
            "colorbar": {
             "outlinewidth": 0,
             "ticks": ""
            },
            "type": "mesh3d"
           }
          ],
          "parcoords": [
           {
            "line": {
             "colorbar": {
              "outlinewidth": 0,
              "ticks": ""
             }
            },
            "type": "parcoords"
           }
          ],
          "pie": [
           {
            "automargin": true,
            "type": "pie"
           }
          ],
          "scatter": [
           {
            "marker": {
             "colorbar": {
              "outlinewidth": 0,
              "ticks": ""
             }
            },
            "type": "scatter"
           }
          ],
          "scatter3d": [
           {
            "line": {
             "colorbar": {
              "outlinewidth": 0,
              "ticks": ""
             }
            },
            "marker": {
             "colorbar": {
              "outlinewidth": 0,
              "ticks": ""
             }
            },
            "type": "scatter3d"
           }
          ],
          "scattercarpet": [
           {
            "marker": {
             "colorbar": {
              "outlinewidth": 0,
              "ticks": ""
             }
            },
            "type": "scattercarpet"
           }
          ],
          "scattergeo": [
           {
            "marker": {
             "colorbar": {
              "outlinewidth": 0,
              "ticks": ""
             }
            },
            "type": "scattergeo"
           }
          ],
          "scattergl": [
           {
            "marker": {
             "colorbar": {
              "outlinewidth": 0,
              "ticks": ""
             }
            },
            "type": "scattergl"
           }
          ],
          "scattermapbox": [
           {
            "marker": {
             "colorbar": {
              "outlinewidth": 0,
              "ticks": ""
             }
            },
            "type": "scattermapbox"
           }
          ],
          "scatterpolar": [
           {
            "marker": {
             "colorbar": {
              "outlinewidth": 0,
              "ticks": ""
             }
            },
            "type": "scatterpolar"
           }
          ],
          "scatterpolargl": [
           {
            "marker": {
             "colorbar": {
              "outlinewidth": 0,
              "ticks": ""
             }
            },
            "type": "scatterpolargl"
           }
          ],
          "scatterternary": [
           {
            "marker": {
             "colorbar": {
              "outlinewidth": 0,
              "ticks": ""
             }
            },
            "type": "scatterternary"
           }
          ],
          "surface": [
           {
            "colorbar": {
             "outlinewidth": 0,
             "ticks": ""
            },
            "colorscale": [
             [
              0,
              "#0d0887"
             ],
             [
              0.1111111111111111,
              "#46039f"
             ],
             [
              0.2222222222222222,
              "#7201a8"
             ],
             [
              0.3333333333333333,
              "#9c179e"
             ],
             [
              0.4444444444444444,
              "#bd3786"
             ],
             [
              0.5555555555555556,
              "#d8576b"
             ],
             [
              0.6666666666666666,
              "#ed7953"
             ],
             [
              0.7777777777777778,
              "#fb9f3a"
             ],
             [
              0.8888888888888888,
              "#fdca26"
             ],
             [
              1,
              "#f0f921"
             ]
            ],
            "type": "surface"
           }
          ],
          "table": [
           {
            "cells": {
             "fill": {
              "color": "#EBF0F8"
             },
             "line": {
              "color": "white"
             }
            },
            "header": {
             "fill": {
              "color": "#C8D4E3"
             },
             "line": {
              "color": "white"
             }
            },
            "type": "table"
           }
          ]
         },
         "layout": {
          "annotationdefaults": {
           "arrowcolor": "#2a3f5f",
           "arrowhead": 0,
           "arrowwidth": 1
          },
          "autotypenumbers": "strict",
          "coloraxis": {
           "colorbar": {
            "outlinewidth": 0,
            "ticks": ""
           }
          },
          "colorscale": {
           "diverging": [
            [
             0,
             "#8e0152"
            ],
            [
             0.1,
             "#c51b7d"
            ],
            [
             0.2,
             "#de77ae"
            ],
            [
             0.3,
             "#f1b6da"
            ],
            [
             0.4,
             "#fde0ef"
            ],
            [
             0.5,
             "#f7f7f7"
            ],
            [
             0.6,
             "#e6f5d0"
            ],
            [
             0.7,
             "#b8e186"
            ],
            [
             0.8,
             "#7fbc41"
            ],
            [
             0.9,
             "#4d9221"
            ],
            [
             1,
             "#276419"
            ]
           ],
           "sequential": [
            [
             0,
             "#0d0887"
            ],
            [
             0.1111111111111111,
             "#46039f"
            ],
            [
             0.2222222222222222,
             "#7201a8"
            ],
            [
             0.3333333333333333,
             "#9c179e"
            ],
            [
             0.4444444444444444,
             "#bd3786"
            ],
            [
             0.5555555555555556,
             "#d8576b"
            ],
            [
             0.6666666666666666,
             "#ed7953"
            ],
            [
             0.7777777777777778,
             "#fb9f3a"
            ],
            [
             0.8888888888888888,
             "#fdca26"
            ],
            [
             1,
             "#f0f921"
            ]
           ],
           "sequentialminus": [
            [
             0,
             "#0d0887"
            ],
            [
             0.1111111111111111,
             "#46039f"
            ],
            [
             0.2222222222222222,
             "#7201a8"
            ],
            [
             0.3333333333333333,
             "#9c179e"
            ],
            [
             0.4444444444444444,
             "#bd3786"
            ],
            [
             0.5555555555555556,
             "#d8576b"
            ],
            [
             0.6666666666666666,
             "#ed7953"
            ],
            [
             0.7777777777777778,
             "#fb9f3a"
            ],
            [
             0.8888888888888888,
             "#fdca26"
            ],
            [
             1,
             "#f0f921"
            ]
           ]
          },
          "colorway": [
           "#636efa",
           "#EF553B",
           "#00cc96",
           "#ab63fa",
           "#FFA15A",
           "#19d3f3",
           "#FF6692",
           "#B6E880",
           "#FF97FF",
           "#FECB52"
          ],
          "font": {
           "color": "#2a3f5f"
          },
          "geo": {
           "bgcolor": "white",
           "lakecolor": "white",
           "landcolor": "#E5ECF6",
           "showlakes": true,
           "showland": true,
           "subunitcolor": "white"
          },
          "hoverlabel": {
           "align": "left"
          },
          "hovermode": "closest",
          "mapbox": {
           "style": "light"
          },
          "paper_bgcolor": "white",
          "plot_bgcolor": "#E5ECF6",
          "polar": {
           "angularaxis": {
            "gridcolor": "white",
            "linecolor": "white",
            "ticks": ""
           },
           "bgcolor": "#E5ECF6",
           "radialaxis": {
            "gridcolor": "white",
            "linecolor": "white",
            "ticks": ""
           }
          },
          "scene": {
           "xaxis": {
            "backgroundcolor": "#E5ECF6",
            "gridcolor": "white",
            "gridwidth": 2,
            "linecolor": "white",
            "showbackground": true,
            "ticks": "",
            "zerolinecolor": "white"
           },
           "yaxis": {
            "backgroundcolor": "#E5ECF6",
            "gridcolor": "white",
            "gridwidth": 2,
            "linecolor": "white",
            "showbackground": true,
            "ticks": "",
            "zerolinecolor": "white"
           },
           "zaxis": {
            "backgroundcolor": "#E5ECF6",
            "gridcolor": "white",
            "gridwidth": 2,
            "linecolor": "white",
            "showbackground": true,
            "ticks": "",
            "zerolinecolor": "white"
           }
          },
          "shapedefaults": {
           "line": {
            "color": "#2a3f5f"
           }
          },
          "ternary": {
           "aaxis": {
            "gridcolor": "white",
            "linecolor": "white",
            "ticks": ""
           },
           "baxis": {
            "gridcolor": "white",
            "linecolor": "white",
            "ticks": ""
           },
           "bgcolor": "#E5ECF6",
           "caxis": {
            "gridcolor": "white",
            "linecolor": "white",
            "ticks": ""
           }
          },
          "title": {
           "x": 0.05
          },
          "xaxis": {
           "automargin": true,
           "gridcolor": "white",
           "linecolor": "white",
           "ticks": "",
           "title": {
            "standoff": 15
           },
           "zerolinecolor": "white",
           "zerolinewidth": 2
          },
          "yaxis": {
           "automargin": true,
           "gridcolor": "white",
           "linecolor": "white",
           "ticks": "",
           "title": {
            "standoff": 15
           },
           "zerolinecolor": "white",
           "zerolinewidth": 2
          }
         }
        },
        "xaxis": {
         "anchor": "y",
         "domain": [
          0,
          1
         ],
         "title": {
          "text": "x"
         }
        },
        "yaxis": {
         "anchor": "x",
         "domain": [
          0,
          1
         ],
         "title": {
          "text": "y"
         }
        }
       }
      },
      "text/html": [
       "<div>                            <div id=\"f68ed371-fd35-4f3c-9b87-bb7486e6a45d\" class=\"plotly-graph-div\" style=\"height:525px; width:100%;\"></div>            <script type=\"text/javascript\">                require([\"plotly\"], function(Plotly) {                    window.PLOTLYENV=window.PLOTLYENV || {};                                    if (document.getElementById(\"f68ed371-fd35-4f3c-9b87-bb7486e6a45d\")) {                    Plotly.newPlot(                        \"f68ed371-fd35-4f3c-9b87-bb7486e6a45d\",                        [{\"hovertemplate\":\"Variant SKU=HOD0772<br>x=%{x}<br>y=%{y}<extra></extra>\",\"legendgroup\":\"HOD0772\",\"marker\":{\"color\":\"#636efa\",\"symbol\":\"circle\"},\"mode\":\"markers\",\"name\":\"HOD0772\",\"orientation\":\"v\",\"showlegend\":true,\"x\":[-8.514888763427734],\"xaxis\":\"x\",\"y\":[-8.263967514038086],\"yaxis\":\"y\",\"type\":\"scatter\"},{\"hovertemplate\":\"Variant SKU=HOD0766<br>x=%{x}<br>y=%{y}<extra></extra>\",\"legendgroup\":\"HOD0766\",\"marker\":{\"color\":\"#EF553B\",\"symbol\":\"circle\"},\"mode\":\"markers\",\"name\":\"HOD0766\",\"orientation\":\"v\",\"showlegend\":true,\"x\":[-8.47892951965332],\"xaxis\":\"x\",\"y\":[-8.274361610412598],\"yaxis\":\"y\",\"type\":\"scatter\"},{\"hovertemplate\":\"Variant SKU=HOD0760<br>x=%{x}<br>y=%{y}<extra></extra>\",\"legendgroup\":\"HOD0760\",\"marker\":{\"color\":\"#00cc96\",\"symbol\":\"circle\"},\"mode\":\"markers\",\"name\":\"HOD0760\",\"orientation\":\"v\",\"showlegend\":true,\"x\":[-8.538479804992676],\"xaxis\":\"x\",\"y\":[-8.287774085998535],\"yaxis\":\"y\",\"type\":\"scatter\"},{\"hovertemplate\":\"Variant SKU=HOD0754<br>x=%{x}<br>y=%{y}<extra></extra>\",\"legendgroup\":\"HOD0754\",\"marker\":{\"color\":\"#ab63fa\",\"symbol\":\"circle\"},\"mode\":\"markers\",\"name\":\"HOD0754\",\"orientation\":\"v\",\"showlegend\":true,\"x\":[-8.481535911560059],\"xaxis\":\"x\",\"y\":[-8.30405044555664],\"yaxis\":\"y\",\"type\":\"scatter\"},{\"hovertemplate\":\"Variant SKU=HOD0748<br>x=%{x}<br>y=%{y}<extra></extra>\",\"legendgroup\":\"HOD0748\",\"marker\":{\"color\":\"#FFA15A\",\"symbol\":\"circle\"},\"mode\":\"markers\",\"name\":\"HOD0748\",\"orientation\":\"v\",\"showlegend\":true,\"x\":[-8.424251556396484],\"xaxis\":\"x\",\"y\":[-8.31005859375],\"yaxis\":\"y\",\"type\":\"scatter\"},{\"hovertemplate\":\"Variant SKU=HOD0742<br>x=%{x}<br>y=%{y}<extra></extra>\",\"legendgroup\":\"HOD0742\",\"marker\":{\"color\":\"#19d3f3\",\"symbol\":\"circle\"},\"mode\":\"markers\",\"name\":\"HOD0742\",\"orientation\":\"v\",\"showlegend\":true,\"x\":[-8.56904411315918],\"xaxis\":\"x\",\"y\":[-8.271360397338867],\"yaxis\":\"y\",\"type\":\"scatter\"},{\"hovertemplate\":\"Variant SKU=HOD0727<br>x=%{x}<br>y=%{y}<extra></extra>\",\"legendgroup\":\"HOD0727\",\"marker\":{\"color\":\"#FF6692\",\"symbol\":\"circle\"},\"mode\":\"markers\",\"name\":\"HOD0727\",\"orientation\":\"v\",\"showlegend\":true,\"x\":[-3.77911114692688],\"xaxis\":\"x\",\"y\":[-6.622363090515137],\"yaxis\":\"y\",\"type\":\"scatter\"},{\"hovertemplate\":\"Variant SKU=HOD0721<br>x=%{x}<br>y=%{y}<extra></extra>\",\"legendgroup\":\"HOD0721\",\"marker\":{\"color\":\"#B6E880\",\"symbol\":\"circle\"},\"mode\":\"markers\",\"name\":\"HOD0721\",\"orientation\":\"v\",\"showlegend\":true,\"x\":[-3.9101722240448],\"xaxis\":\"x\",\"y\":[-7.7961812019348145],\"yaxis\":\"y\",\"type\":\"scatter\"},{\"hovertemplate\":\"Variant SKU=HOD0715<br>x=%{x}<br>y=%{y}<extra></extra>\",\"legendgroup\":\"HOD0715\",\"marker\":{\"color\":\"#FF97FF\",\"symbol\":\"circle\"},\"mode\":\"markers\",\"name\":\"HOD0715\",\"orientation\":\"v\",\"showlegend\":true,\"x\":[-3.553349256515503],\"xaxis\":\"x\",\"y\":[-7.621500492095947],\"yaxis\":\"y\",\"type\":\"scatter\"},{\"hovertemplate\":\"Variant SKU=HOD0709<br>x=%{x}<br>y=%{y}<extra></extra>\",\"legendgroup\":\"HOD0709\",\"marker\":{\"color\":\"#FECB52\",\"symbol\":\"circle\"},\"mode\":\"markers\",\"name\":\"HOD0709\",\"orientation\":\"v\",\"showlegend\":true,\"x\":[-4.467413425445557],\"xaxis\":\"x\",\"y\":[-7.294970512390137],\"yaxis\":\"y\",\"type\":\"scatter\"},{\"hovertemplate\":\"Variant SKU=HOD0703<br>x=%{x}<br>y=%{y}<extra></extra>\",\"legendgroup\":\"HOD0703\",\"marker\":{\"color\":\"#636efa\",\"symbol\":\"circle\"},\"mode\":\"markers\",\"name\":\"HOD0703\",\"orientation\":\"v\",\"showlegend\":true,\"x\":[-3.7220144271850586],\"xaxis\":\"x\",\"y\":[-8.322717666625977],\"yaxis\":\"y\",\"type\":\"scatter\"},{\"hovertemplate\":\"Variant SKU=HOD0697<br>x=%{x}<br>y=%{y}<extra></extra>\",\"legendgroup\":\"HOD0697\",\"marker\":{\"color\":\"#EF553B\",\"symbol\":\"circle\"},\"mode\":\"markers\",\"name\":\"HOD0697\",\"orientation\":\"v\",\"showlegend\":true,\"x\":[-4.319881439208984],\"xaxis\":\"x\",\"y\":[-8.016530990600586],\"yaxis\":\"y\",\"type\":\"scatter\"},{\"hovertemplate\":\"Variant SKU=HOD0691<br>x=%{x}<br>y=%{y}<extra></extra>\",\"legendgroup\":\"HOD0691\",\"marker\":{\"color\":\"#00cc96\",\"symbol\":\"circle\"},\"mode\":\"markers\",\"name\":\"HOD0691\",\"orientation\":\"v\",\"showlegend\":true,\"x\":[-3.674572706222534],\"xaxis\":\"x\",\"y\":[-7.358790397644043],\"yaxis\":\"y\",\"type\":\"scatter\"},{\"hovertemplate\":\"Variant SKU=HOD0685<br>x=%{x}<br>y=%{y}<extra></extra>\",\"legendgroup\":\"HOD0685\",\"marker\":{\"color\":\"#ab63fa\",\"symbol\":\"circle\"},\"mode\":\"markers\",\"name\":\"HOD0685\",\"orientation\":\"v\",\"showlegend\":true,\"x\":[-3.921968936920166],\"xaxis\":\"x\",\"y\":[-7.052628993988037],\"yaxis\":\"y\",\"type\":\"scatter\"},{\"hovertemplate\":\"Variant SKU=HOD0679<br>x=%{x}<br>y=%{y}<extra></extra>\",\"legendgroup\":\"HOD0679\",\"marker\":{\"color\":\"#FFA15A\",\"symbol\":\"circle\"},\"mode\":\"markers\",\"name\":\"HOD0679\",\"orientation\":\"v\",\"showlegend\":true,\"x\":[-3.4174742698669434],\"xaxis\":\"x\",\"y\":[-7.815310955047607],\"yaxis\":\"y\",\"type\":\"scatter\"},{\"hovertemplate\":\"Variant SKU=HOD0673<br>x=%{x}<br>y=%{y}<extra></extra>\",\"legendgroup\":\"HOD0673\",\"marker\":{\"color\":\"#19d3f3\",\"symbol\":\"circle\"},\"mode\":\"markers\",\"name\":\"HOD0673\",\"orientation\":\"v\",\"showlegend\":true,\"x\":[-3.394913911819458],\"xaxis\":\"x\",\"y\":[-7.124358654022217],\"yaxis\":\"y\",\"type\":\"scatter\"},{\"hovertemplate\":\"Variant SKU=HOD0667<br>x=%{x}<br>y=%{y}<extra></extra>\",\"legendgroup\":\"HOD0667\",\"marker\":{\"color\":\"#FF6692\",\"symbol\":\"circle\"},\"mode\":\"markers\",\"name\":\"HOD0667\",\"orientation\":\"v\",\"showlegend\":true,\"x\":[-3.9670186042785645],\"xaxis\":\"x\",\"y\":[-7.62874174118042],\"yaxis\":\"y\",\"type\":\"scatter\"},{\"hovertemplate\":\"Variant SKU=HOD0663<br>x=%{x}<br>y=%{y}<extra></extra>\",\"legendgroup\":\"HOD0663\",\"marker\":{\"color\":\"#B6E880\",\"symbol\":\"circle\"},\"mode\":\"markers\",\"name\":\"HOD0663\",\"orientation\":\"v\",\"showlegend\":true,\"x\":[7.627688884735107],\"xaxis\":\"x\",\"y\":[4.247364044189453],\"yaxis\":\"y\",\"type\":\"scatter\"},{\"hovertemplate\":\"Variant SKU=HOD0659<br>x=%{x}<br>y=%{y}<extra></extra>\",\"legendgroup\":\"HOD0659\",\"marker\":{\"color\":\"#FF97FF\",\"symbol\":\"circle\"},\"mode\":\"markers\",\"name\":\"HOD0659\",\"orientation\":\"v\",\"showlegend\":true,\"x\":[6.8878302574157715],\"xaxis\":\"x\",\"y\":[2.97440242767334],\"yaxis\":\"y\",\"type\":\"scatter\"},{\"hovertemplate\":\"Variant SKU=HOD0655<br>x=%{x}<br>y=%{y}<extra></extra>\",\"legendgroup\":\"HOD0655\",\"marker\":{\"color\":\"#FECB52\",\"symbol\":\"circle\"},\"mode\":\"markers\",\"name\":\"HOD0655\",\"orientation\":\"v\",\"showlegend\":true,\"x\":[6.304309368133545],\"xaxis\":\"x\",\"y\":[4.2039408683776855],\"yaxis\":\"y\",\"type\":\"scatter\"},{\"hovertemplate\":\"Variant SKU=HOD0651<br>x=%{x}<br>y=%{y}<extra></extra>\",\"legendgroup\":\"HOD0651\",\"marker\":{\"color\":\"#636efa\",\"symbol\":\"circle\"},\"mode\":\"markers\",\"name\":\"HOD0651\",\"orientation\":\"v\",\"showlegend\":true,\"x\":[4.354778289794922],\"xaxis\":\"x\",\"y\":[4.588587760925293],\"yaxis\":\"y\",\"type\":\"scatter\"},{\"hovertemplate\":\"Variant SKU=HOD0647<br>x=%{x}<br>y=%{y}<extra></extra>\",\"legendgroup\":\"HOD0647\",\"marker\":{\"color\":\"#EF553B\",\"symbol\":\"circle\"},\"mode\":\"markers\",\"name\":\"HOD0647\",\"orientation\":\"v\",\"showlegend\":true,\"x\":[5.164315700531006],\"xaxis\":\"x\",\"y\":[3.710505962371826],\"yaxis\":\"y\",\"type\":\"scatter\"},{\"hovertemplate\":\"Variant SKU=HOD0643<br>x=%{x}<br>y=%{y}<extra></extra>\",\"legendgroup\":\"HOD0643\",\"marker\":{\"color\":\"#00cc96\",\"symbol\":\"circle\"},\"mode\":\"markers\",\"name\":\"HOD0643\",\"orientation\":\"v\",\"showlegend\":true,\"x\":[7.345335960388184],\"xaxis\":\"x\",\"y\":[3.2439401149749756],\"yaxis\":\"y\",\"type\":\"scatter\"},{\"hovertemplate\":\"Variant SKU=HOD0639<br>x=%{x}<br>y=%{y}<extra></extra>\",\"legendgroup\":\"HOD0639\",\"marker\":{\"color\":\"#ab63fa\",\"symbol\":\"circle\"},\"mode\":\"markers\",\"name\":\"HOD0639\",\"orientation\":\"v\",\"showlegend\":true,\"x\":[5.136092662811279],\"xaxis\":\"x\",\"y\":[2.5144171714782715],\"yaxis\":\"y\",\"type\":\"scatter\"},{\"hovertemplate\":\"Variant SKU=HOD0635<br>x=%{x}<br>y=%{y}<extra></extra>\",\"legendgroup\":\"HOD0635\",\"marker\":{\"color\":\"#FFA15A\",\"symbol\":\"circle\"},\"mode\":\"markers\",\"name\":\"HOD0635\",\"orientation\":\"v\",\"showlegend\":true,\"x\":[7.473800182342529],\"xaxis\":\"x\",\"y\":[1.9126793146133423],\"yaxis\":\"y\",\"type\":\"scatter\"},{\"hovertemplate\":\"Variant SKU=HOD0631<br>x=%{x}<br>y=%{y}<extra></extra>\",\"legendgroup\":\"HOD0631\",\"marker\":{\"color\":\"#19d3f3\",\"symbol\":\"circle\"},\"mode\":\"markers\",\"name\":\"HOD0631\",\"orientation\":\"v\",\"showlegend\":true,\"x\":[6.118260383605957],\"xaxis\":\"x\",\"y\":[2.4075543880462646],\"yaxis\":\"y\",\"type\":\"scatter\"},{\"hovertemplate\":\"Variant SKU=HOD0627<br>x=%{x}<br>y=%{y}<extra></extra>\",\"legendgroup\":\"HOD0627\",\"marker\":{\"color\":\"#FF6692\",\"symbol\":\"circle\"},\"mode\":\"markers\",\"name\":\"HOD0627\",\"orientation\":\"v\",\"showlegend\":true,\"x\":[5.717087745666504],\"xaxis\":\"x\",\"y\":[2.982424259185791],\"yaxis\":\"y\",\"type\":\"scatter\"},{\"hovertemplate\":\"Variant SKU=HOD0623<br>x=%{x}<br>y=%{y}<extra></extra>\",\"legendgroup\":\"HOD0623\",\"marker\":{\"color\":\"#B6E880\",\"symbol\":\"circle\"},\"mode\":\"markers\",\"name\":\"HOD0623\",\"orientation\":\"v\",\"showlegend\":true,\"x\":[5.034890651702881],\"xaxis\":\"x\",\"y\":[3.1739253997802734],\"yaxis\":\"y\",\"type\":\"scatter\"},{\"hovertemplate\":\"Variant SKU=HOD0619<br>x=%{x}<br>y=%{y}<extra></extra>\",\"legendgroup\":\"HOD0619\",\"marker\":{\"color\":\"#FF97FF\",\"symbol\":\"circle\"},\"mode\":\"markers\",\"name\":\"HOD0619\",\"orientation\":\"v\",\"showlegend\":true,\"x\":[6.820352077484131],\"xaxis\":\"x\",\"y\":[4.432972431182861],\"yaxis\":\"y\",\"type\":\"scatter\"},{\"hovertemplate\":\"Variant SKU=HOD0615<br>x=%{x}<br>y=%{y}<extra></extra>\",\"legendgroup\":\"HOD0615\",\"marker\":{\"color\":\"#FECB52\",\"symbol\":\"circle\"},\"mode\":\"markers\",\"name\":\"HOD0615\",\"orientation\":\"v\",\"showlegend\":true,\"x\":[5.431237697601318],\"xaxis\":\"x\",\"y\":[3.1735994815826416],\"yaxis\":\"y\",\"type\":\"scatter\"},{\"hovertemplate\":\"Variant SKU=HOD0611<br>x=%{x}<br>y=%{y}<extra></extra>\",\"legendgroup\":\"HOD0611\",\"marker\":{\"color\":\"#636efa\",\"symbol\":\"circle\"},\"mode\":\"markers\",\"name\":\"HOD0611\",\"orientation\":\"v\",\"showlegend\":true,\"x\":[6.332366466522217],\"xaxis\":\"x\",\"y\":[3.1281919479370117],\"yaxis\":\"y\",\"type\":\"scatter\"},{\"hovertemplate\":\"Variant SKU=HOD0607<br>x=%{x}<br>y=%{y}<extra></extra>\",\"legendgroup\":\"HOD0607\",\"marker\":{\"color\":\"#EF553B\",\"symbol\":\"circle\"},\"mode\":\"markers\",\"name\":\"HOD0607\",\"orientation\":\"v\",\"showlegend\":true,\"x\":[5.854114532470703],\"xaxis\":\"x\",\"y\":[3.592912435531616],\"yaxis\":\"y\",\"type\":\"scatter\"},{\"hovertemplate\":\"Variant SKU=HOD0603<br>x=%{x}<br>y=%{y}<extra></extra>\",\"legendgroup\":\"HOD0603\",\"marker\":{\"color\":\"#00cc96\",\"symbol\":\"circle\"},\"mode\":\"markers\",\"name\":\"HOD0603\",\"orientation\":\"v\",\"showlegend\":true,\"x\":[6.457358360290527],\"xaxis\":\"x\",\"y\":[2.157259941101074],\"yaxis\":\"y\",\"type\":\"scatter\"},{\"hovertemplate\":\"Variant SKU=HOD0599<br>x=%{x}<br>y=%{y}<extra></extra>\",\"legendgroup\":\"HOD0599\",\"marker\":{\"color\":\"#ab63fa\",\"symbol\":\"circle\"},\"mode\":\"markers\",\"name\":\"HOD0599\",\"orientation\":\"v\",\"showlegend\":true,\"x\":[5.381539821624756],\"xaxis\":\"x\",\"y\":[4.174954891204834],\"yaxis\":\"y\",\"type\":\"scatter\"},{\"hovertemplate\":\"Variant SKU=HOD0591<br>x=%{x}<br>y=%{y}<extra></extra>\",\"legendgroup\":\"HOD0591\",\"marker\":{\"color\":\"#FFA15A\",\"symbol\":\"circle\"},\"mode\":\"markers\",\"name\":\"HOD0591\",\"orientation\":\"v\",\"showlegend\":true,\"x\":[5.90865421295166],\"xaxis\":\"x\",\"y\":[3.36116886138916],\"yaxis\":\"y\",\"type\":\"scatter\"},{\"hovertemplate\":\"Variant SKU=HOD0587<br>x=%{x}<br>y=%{y}<extra></extra>\",\"legendgroup\":\"HOD0587\",\"marker\":{\"color\":\"#19d3f3\",\"symbol\":\"circle\"},\"mode\":\"markers\",\"name\":\"HOD0587\",\"orientation\":\"v\",\"showlegend\":true,\"x\":[5.692205429077148],\"xaxis\":\"x\",\"y\":[2.670673370361328],\"yaxis\":\"y\",\"type\":\"scatter\"},{\"hovertemplate\":\"Variant SKU=HOD0583<br>x=%{x}<br>y=%{y}<extra></extra>\",\"legendgroup\":\"HOD0583\",\"marker\":{\"color\":\"#FF6692\",\"symbol\":\"circle\"},\"mode\":\"markers\",\"name\":\"HOD0583\",\"orientation\":\"v\",\"showlegend\":true,\"x\":[6.481873035430908],\"xaxis\":\"x\",\"y\":[3.8392977714538574],\"yaxis\":\"y\",\"type\":\"scatter\"},{\"hovertemplate\":\"Variant SKU=HOD0579<br>x=%{x}<br>y=%{y}<extra></extra>\",\"legendgroup\":\"HOD0579\",\"marker\":{\"color\":\"#B6E880\",\"symbol\":\"circle\"},\"mode\":\"markers\",\"name\":\"HOD0579\",\"orientation\":\"v\",\"showlegend\":true,\"x\":[5.9652276039123535],\"xaxis\":\"x\",\"y\":[4.370762825012207],\"yaxis\":\"y\",\"type\":\"scatter\"},{\"hovertemplate\":\"Variant SKU=HOD0575<br>x=%{x}<br>y=%{y}<extra></extra>\",\"legendgroup\":\"HOD0575\",\"marker\":{\"color\":\"#FF97FF\",\"symbol\":\"circle\"},\"mode\":\"markers\",\"name\":\"HOD0575\",\"orientation\":\"v\",\"showlegend\":true,\"x\":[5.8850626945495605],\"xaxis\":\"x\",\"y\":[1.5641876459121704],\"yaxis\":\"y\",\"type\":\"scatter\"},{\"hovertemplate\":\"Variant SKU=HOD0571<br>x=%{x}<br>y=%{y}<extra></extra>\",\"legendgroup\":\"HOD0571\",\"marker\":{\"color\":\"#FECB52\",\"symbol\":\"circle\"},\"mode\":\"markers\",\"name\":\"HOD0571\",\"orientation\":\"v\",\"showlegend\":true,\"x\":[6.936913967132568],\"xaxis\":\"x\",\"y\":[3.6381683349609375],\"yaxis\":\"y\",\"type\":\"scatter\"},{\"hovertemplate\":\"Variant SKU=HOD0567<br>x=%{x}<br>y=%{y}<extra></extra>\",\"legendgroup\":\"HOD0567\",\"marker\":{\"color\":\"#636efa\",\"symbol\":\"circle\"},\"mode\":\"markers\",\"name\":\"HOD0567\",\"orientation\":\"v\",\"showlegend\":true,\"x\":[4.564085960388184],\"xaxis\":\"x\",\"y\":[2.5852043628692627],\"yaxis\":\"y\",\"type\":\"scatter\"},{\"hovertemplate\":\"Variant SKU=HOD0563<br>x=%{x}<br>y=%{y}<extra></extra>\",\"legendgroup\":\"HOD0563\",\"marker\":{\"color\":\"#EF553B\",\"symbol\":\"circle\"},\"mode\":\"markers\",\"name\":\"HOD0563\",\"orientation\":\"v\",\"showlegend\":true,\"x\":[6.6523261070251465],\"xaxis\":\"x\",\"y\":[2.691128730773926],\"yaxis\":\"y\",\"type\":\"scatter\"},{\"hovertemplate\":\"Variant SKU=HOD0555<br>x=%{x}<br>y=%{y}<extra></extra>\",\"legendgroup\":\"HOD0555\",\"marker\":{\"color\":\"#00cc96\",\"symbol\":\"circle\"},\"mode\":\"markers\",\"name\":\"HOD0555\",\"orientation\":\"v\",\"showlegend\":true,\"x\":[5.338438510894775],\"xaxis\":\"x\",\"y\":[1.9524887800216675],\"yaxis\":\"y\",\"type\":\"scatter\"},{\"hovertemplate\":\"Variant SKU=HOD0529<br>x=%{x}<br>y=%{y}<extra></extra>\",\"legendgroup\":\"HOD0529\",\"marker\":{\"color\":\"#ab63fa\",\"symbol\":\"circle\"},\"mode\":\"markers\",\"name\":\"HOD0529\",\"orientation\":\"v\",\"showlegend\":true,\"x\":[-1.1380672454833984],\"xaxis\":\"x\",\"y\":[-2.6446428298950195],\"yaxis\":\"y\",\"type\":\"scatter\"},{\"hovertemplate\":\"Variant SKU=HOD0523<br>x=%{x}<br>y=%{y}<extra></extra>\",\"legendgroup\":\"HOD0523\",\"marker\":{\"color\":\"#FFA15A\",\"symbol\":\"circle\"},\"mode\":\"markers\",\"name\":\"HOD0523\",\"orientation\":\"v\",\"showlegend\":true,\"x\":[-1.1640170812606812],\"xaxis\":\"x\",\"y\":[-2.5391008853912354],\"yaxis\":\"y\",\"type\":\"scatter\"},{\"hovertemplate\":\"Variant SKU=HOD0517<br>x=%{x}<br>y=%{y}<extra></extra>\",\"legendgroup\":\"HOD0517\",\"marker\":{\"color\":\"#19d3f3\",\"symbol\":\"circle\"},\"mode\":\"markers\",\"name\":\"HOD0517\",\"orientation\":\"v\",\"showlegend\":true,\"x\":[-3.281745433807373],\"xaxis\":\"x\",\"y\":[-5.832076072692871],\"yaxis\":\"y\",\"type\":\"scatter\"},{\"hovertemplate\":\"Variant SKU=HOD0511<br>x=%{x}<br>y=%{y}<extra></extra>\",\"legendgroup\":\"HOD0511\",\"marker\":{\"color\":\"#FF6692\",\"symbol\":\"circle\"},\"mode\":\"markers\",\"name\":\"HOD0511\",\"orientation\":\"v\",\"showlegend\":true,\"x\":[-1.687723159790039],\"xaxis\":\"x\",\"y\":[-2.7835335731506348],\"yaxis\":\"y\",\"type\":\"scatter\"},{\"hovertemplate\":\"Variant SKU=HOD0505<br>x=%{x}<br>y=%{y}<extra></extra>\",\"legendgroup\":\"HOD0505\",\"marker\":{\"color\":\"#B6E880\",\"symbol\":\"circle\"},\"mode\":\"markers\",\"name\":\"HOD0505\",\"orientation\":\"v\",\"showlegend\":true,\"x\":[-5.200954437255859],\"xaxis\":\"x\",\"y\":[-6.969487190246582],\"yaxis\":\"y\",\"type\":\"scatter\"},{\"hovertemplate\":\"Variant SKU=HOD0493<br>x=%{x}<br>y=%{y}<extra></extra>\",\"legendgroup\":\"HOD0493\",\"marker\":{\"color\":\"#FF97FF\",\"symbol\":\"circle\"},\"mode\":\"markers\",\"name\":\"HOD0493\",\"orientation\":\"v\",\"showlegend\":true,\"x\":[-1.3021807670593262],\"xaxis\":\"x\",\"y\":[-6.863969802856445],\"yaxis\":\"y\",\"type\":\"scatter\"},{\"hovertemplate\":\"Variant SKU=HOD0487<br>x=%{x}<br>y=%{y}<extra></extra>\",\"legendgroup\":\"HOD0487\",\"marker\":{\"color\":\"#FECB52\",\"symbol\":\"circle\"},\"mode\":\"markers\",\"name\":\"HOD0487\",\"orientation\":\"v\",\"showlegend\":true,\"x\":[-1.062859058380127],\"xaxis\":\"x\",\"y\":[-7.237143516540527],\"yaxis\":\"y\",\"type\":\"scatter\"},{\"hovertemplate\":\"Variant SKU=HOD0481<br>x=%{x}<br>y=%{y}<extra></extra>\",\"legendgroup\":\"HOD0481\",\"marker\":{\"color\":\"#636efa\",\"symbol\":\"circle\"},\"mode\":\"markers\",\"name\":\"HOD0481\",\"orientation\":\"v\",\"showlegend\":true,\"x\":[-1.0922787189483643],\"xaxis\":\"x\",\"y\":[-6.91867208480835],\"yaxis\":\"y\",\"type\":\"scatter\"},{\"hovertemplate\":\"Variant SKU=HOD0475<br>x=%{x}<br>y=%{y}<extra></extra>\",\"legendgroup\":\"HOD0475\",\"marker\":{\"color\":\"#EF553B\",\"symbol\":\"circle\"},\"mode\":\"markers\",\"name\":\"HOD0475\",\"orientation\":\"v\",\"showlegend\":true,\"x\":[-1.2065191268920898],\"xaxis\":\"x\",\"y\":[-7.051775932312012],\"yaxis\":\"y\",\"type\":\"scatter\"},{\"hovertemplate\":\"Variant SKU=HOD0277<br>x=%{x}<br>y=%{y}<extra></extra>\",\"legendgroup\":\"HOD0277\",\"marker\":{\"color\":\"#00cc96\",\"symbol\":\"circle\"},\"mode\":\"markers\",\"name\":\"HOD0277\",\"orientation\":\"v\",\"showlegend\":true,\"x\":[-2.461109161376953],\"xaxis\":\"x\",\"y\":[-0.09414098411798477],\"yaxis\":\"y\",\"type\":\"scatter\"},{\"hovertemplate\":\"Variant SKU=HOD0271<br>x=%{x}<br>y=%{y}<extra></extra>\",\"legendgroup\":\"HOD0271\",\"marker\":{\"color\":\"#ab63fa\",\"symbol\":\"circle\"},\"mode\":\"markers\",\"name\":\"HOD0271\",\"orientation\":\"v\",\"showlegend\":true,\"x\":[-1.9990662336349487],\"xaxis\":\"x\",\"y\":[-0.8586989641189575],\"yaxis\":\"y\",\"type\":\"scatter\"},{\"hovertemplate\":\"Variant SKU=HOD0265<br>x=%{x}<br>y=%{y}<extra></extra>\",\"legendgroup\":\"HOD0265\",\"marker\":{\"color\":\"#FFA15A\",\"symbol\":\"circle\"},\"mode\":\"markers\",\"name\":\"HOD0265\",\"orientation\":\"v\",\"showlegend\":true,\"x\":[-2.505401849746704],\"xaxis\":\"x\",\"y\":[0.5476226806640625],\"yaxis\":\"y\",\"type\":\"scatter\"},{\"hovertemplate\":\"Variant SKU=HOD0259<br>x=%{x}<br>y=%{y}<extra></extra>\",\"legendgroup\":\"HOD0259\",\"marker\":{\"color\":\"#19d3f3\",\"symbol\":\"circle\"},\"mode\":\"markers\",\"name\":\"HOD0259\",\"orientation\":\"v\",\"showlegend\":true,\"x\":[-1.867253303527832],\"xaxis\":\"x\",\"y\":[0.16631639003753662],\"yaxis\":\"y\",\"type\":\"scatter\"},{\"hovertemplate\":\"Variant SKU=HOD0253<br>x=%{x}<br>y=%{y}<extra></extra>\",\"legendgroup\":\"HOD0253\",\"marker\":{\"color\":\"#FF6692\",\"symbol\":\"circle\"},\"mode\":\"markers\",\"name\":\"HOD0253\",\"orientation\":\"v\",\"showlegend\":true,\"x\":[-3.8050575256347656],\"xaxis\":\"x\",\"y\":[-0.11536604166030884],\"yaxis\":\"y\",\"type\":\"scatter\"},{\"hovertemplate\":\"Variant SKU=HOD0247<br>x=%{x}<br>y=%{y}<extra></extra>\",\"legendgroup\":\"HOD0247\",\"marker\":{\"color\":\"#B6E880\",\"symbol\":\"circle\"},\"mode\":\"markers\",\"name\":\"HOD0247\",\"orientation\":\"v\",\"showlegend\":true,\"x\":[-3.848127841949463],\"xaxis\":\"x\",\"y\":[-0.27133285999298096],\"yaxis\":\"y\",\"type\":\"scatter\"},{\"hovertemplate\":\"Variant SKU=HOD0552<br>x=%{x}<br>y=%{y}<extra></extra>\",\"legendgroup\":\"HOD0552\",\"marker\":{\"color\":\"#FF97FF\",\"symbol\":\"circle\"},\"mode\":\"markers\",\"name\":\"HOD0552\",\"orientation\":\"v\",\"showlegend\":true,\"x\":[3.3665478229522705],\"xaxis\":\"x\",\"y\":[-0.6798590421676636],\"yaxis\":\"y\",\"type\":\"scatter\"},{\"hovertemplate\":\"Variant SKU=HOD0241<br>x=%{x}<br>y=%{y}<extra></extra>\",\"legendgroup\":\"HOD0241\",\"marker\":{\"color\":\"#FECB52\",\"symbol\":\"circle\"},\"mode\":\"markers\",\"name\":\"HOD0241\",\"orientation\":\"v\",\"showlegend\":true,\"x\":[-3.638094186782837],\"xaxis\":\"x\",\"y\":[-0.3089997470378876],\"yaxis\":\"y\",\"type\":\"scatter\"},{\"hovertemplate\":\"Variant SKU=HOD0551<br>x=%{x}<br>y=%{y}<extra></extra>\",\"legendgroup\":\"HOD0551\",\"marker\":{\"color\":\"#636efa\",\"symbol\":\"circle\"},\"mode\":\"markers\",\"name\":\"HOD0551\",\"orientation\":\"v\",\"showlegend\":true,\"x\":[3.5838425159454346],\"xaxis\":\"x\",\"y\":[-0.7276170253753662],\"yaxis\":\"y\",\"type\":\"scatter\"},{\"hovertemplate\":\"Variant SKU=HOD0550<br>x=%{x}<br>y=%{y}<extra></extra>\",\"legendgroup\":\"HOD0550\",\"marker\":{\"color\":\"#EF553B\",\"symbol\":\"circle\"},\"mode\":\"markers\",\"name\":\"HOD0550\",\"orientation\":\"v\",\"showlegend\":true,\"x\":[3.4797682762145996],\"xaxis\":\"x\",\"y\":[-1.5972269773483276],\"yaxis\":\"y\",\"type\":\"scatter\"},{\"hovertemplate\":\"Variant SKU=HOD0235<br>x=%{x}<br>y=%{y}<extra></extra>\",\"legendgroup\":\"HOD0235\",\"marker\":{\"color\":\"#00cc96\",\"symbol\":\"circle\"},\"mode\":\"markers\",\"name\":\"HOD0235\",\"orientation\":\"v\",\"showlegend\":true,\"x\":[-4.798255920410156],\"xaxis\":\"x\",\"y\":[-4.330137729644775],\"yaxis\":\"y\",\"type\":\"scatter\"},{\"hovertemplate\":\"Variant SKU=HOD0548<br>x=%{x}<br>y=%{y}<extra></extra>\",\"legendgroup\":\"HOD0548\",\"marker\":{\"color\":\"#ab63fa\",\"symbol\":\"circle\"},\"mode\":\"markers\",\"name\":\"HOD0548\",\"orientation\":\"v\",\"showlegend\":true,\"x\":[4.5847883224487305],\"xaxis\":\"x\",\"y\":[-0.39954859018325806],\"yaxis\":\"y\",\"type\":\"scatter\"},{\"hovertemplate\":\"Variant SKU=HOD0547<br>x=%{x}<br>y=%{y}<extra></extra>\",\"legendgroup\":\"HOD0547\",\"marker\":{\"color\":\"#FFA15A\",\"symbol\":\"circle\"},\"mode\":\"markers\",\"name\":\"HOD0547\",\"orientation\":\"v\",\"showlegend\":true,\"x\":[4.866583347320557],\"xaxis\":\"x\",\"y\":[-0.5200246572494507],\"yaxis\":\"y\",\"type\":\"scatter\"},{\"hovertemplate\":\"Variant SKU=HOD0229<br>x=%{x}<br>y=%{y}<extra></extra>\",\"legendgroup\":\"HOD0229\",\"marker\":{\"color\":\"#19d3f3\",\"symbol\":\"circle\"},\"mode\":\"markers\",\"name\":\"HOD0229\",\"orientation\":\"v\",\"showlegend\":true,\"x\":[-4.144825458526611],\"xaxis\":\"x\",\"y\":[-2.20870041847229],\"yaxis\":\"y\",\"type\":\"scatter\"},{\"hovertemplate\":\"Variant SKU=HOD0223<br>x=%{x}<br>y=%{y}<extra></extra>\",\"legendgroup\":\"HOD0223\",\"marker\":{\"color\":\"#FF6692\",\"symbol\":\"circle\"},\"mode\":\"markers\",\"name\":\"HOD0223\",\"orientation\":\"v\",\"showlegend\":true,\"x\":[-5.033584117889404],\"xaxis\":\"x\",\"y\":[-2.090219259262085],\"yaxis\":\"y\",\"type\":\"scatter\"},{\"hovertemplate\":\"Variant SKU=HOD0545<br>x=%{x}<br>y=%{y}<extra></extra>\",\"legendgroup\":\"HOD0545\",\"marker\":{\"color\":\"#B6E880\",\"symbol\":\"circle\"},\"mode\":\"markers\",\"name\":\"HOD0545\",\"orientation\":\"v\",\"showlegend\":true,\"x\":[4.4607014656066895],\"xaxis\":\"x\",\"y\":[0.27548614144325256],\"yaxis\":\"y\",\"type\":\"scatter\"},{\"hovertemplate\":\"Variant SKU=HOD0544<br>x=%{x}<br>y=%{y}<extra></extra>\",\"legendgroup\":\"HOD0544\",\"marker\":{\"color\":\"#FF97FF\",\"symbol\":\"circle\"},\"mode\":\"markers\",\"name\":\"HOD0544\",\"orientation\":\"v\",\"showlegend\":true,\"x\":[3.8532938957214355],\"xaxis\":\"x\",\"y\":[-0.3507949113845825],\"yaxis\":\"y\",\"type\":\"scatter\"},{\"hovertemplate\":\"Variant SKU=HOD0543<br>x=%{x}<br>y=%{y}<extra></extra>\",\"legendgroup\":\"HOD0543\",\"marker\":{\"color\":\"#FECB52\",\"symbol\":\"circle\"},\"mode\":\"markers\",\"name\":\"HOD0543\",\"orientation\":\"v\",\"showlegend\":true,\"x\":[4.088810443878174],\"xaxis\":\"x\",\"y\":[-1.2306220531463623],\"yaxis\":\"y\",\"type\":\"scatter\"},{\"hovertemplate\":\"Variant SKU=HOD0217<br>x=%{x}<br>y=%{y}<extra></extra>\",\"legendgroup\":\"HOD0217\",\"marker\":{\"color\":\"#636efa\",\"symbol\":\"circle\"},\"mode\":\"markers\",\"name\":\"HOD0217\",\"orientation\":\"v\",\"showlegend\":true,\"x\":[-4.233691692352295],\"xaxis\":\"x\",\"y\":[-2.229243278503418],\"yaxis\":\"y\",\"type\":\"scatter\"},{\"hovertemplate\":\"Variant SKU=HOD0542<br>x=%{x}<br>y=%{y}<extra></extra>\",\"legendgroup\":\"HOD0542\",\"marker\":{\"color\":\"#EF553B\",\"symbol\":\"circle\"},\"mode\":\"markers\",\"name\":\"HOD0542\",\"orientation\":\"v\",\"showlegend\":true,\"x\":[4.320448875427246],\"xaxis\":\"x\",\"y\":[-1.470910668373108],\"yaxis\":\"y\",\"type\":\"scatter\"},{\"hovertemplate\":\"Variant SKU=HOD0211<br>x=%{x}<br>y=%{y}<extra></extra>\",\"legendgroup\":\"HOD0211\",\"marker\":{\"color\":\"#00cc96\",\"symbol\":\"circle\"},\"mode\":\"markers\",\"name\":\"HOD0211\",\"orientation\":\"v\",\"showlegend\":true,\"x\":[-3.999967575073242],\"xaxis\":\"x\",\"y\":[-3.514061450958252],\"yaxis\":\"y\",\"type\":\"scatter\"},{\"hovertemplate\":\"Variant SKU=HOD0538<br>x=%{x}<br>y=%{y}<extra></extra>\",\"legendgroup\":\"HOD0538\",\"marker\":{\"color\":\"#ab63fa\",\"symbol\":\"circle\"},\"mode\":\"markers\",\"name\":\"HOD0538\",\"orientation\":\"v\",\"showlegend\":true,\"x\":[3.5293195247650146],\"xaxis\":\"x\",\"y\":[-1.5619598627090454],\"yaxis\":\"y\",\"type\":\"scatter\"},{\"hovertemplate\":\"Variant SKU=HOD0205<br>x=%{x}<br>y=%{y}<extra></extra>\",\"legendgroup\":\"HOD0205\",\"marker\":{\"color\":\"#FFA15A\",\"symbol\":\"circle\"},\"mode\":\"markers\",\"name\":\"HOD0205\",\"orientation\":\"v\",\"showlegend\":true,\"x\":[-3.9727225303649902],\"xaxis\":\"x\",\"y\":[-2.608532667160034],\"yaxis\":\"y\",\"type\":\"scatter\"},{\"hovertemplate\":\"Variant SKU=HOD0537<br>x=%{x}<br>y=%{y}<extra></extra>\",\"legendgroup\":\"HOD0537\",\"marker\":{\"color\":\"#19d3f3\",\"symbol\":\"circle\"},\"mode\":\"markers\",\"name\":\"HOD0537\",\"orientation\":\"v\",\"showlegend\":true,\"x\":[4.368072986602783],\"xaxis\":\"x\",\"y\":[-0.9499255418777466],\"yaxis\":\"y\",\"type\":\"scatter\"},{\"hovertemplate\":\"Variant SKU=HOD0536<br>x=%{x}<br>y=%{y}<extra></extra>\",\"legendgroup\":\"HOD0536\",\"marker\":{\"color\":\"#FF6692\",\"symbol\":\"circle\"},\"mode\":\"markers\",\"name\":\"HOD0536\",\"orientation\":\"v\",\"showlegend\":true,\"x\":[3.6341938972473145],\"xaxis\":\"x\",\"y\":[-0.21342062950134277],\"yaxis\":\"y\",\"type\":\"scatter\"},{\"hovertemplate\":\"Variant SKU=HOD0199<br>x=%{x}<br>y=%{y}<extra></extra>\",\"legendgroup\":\"HOD0199\",\"marker\":{\"color\":\"#B6E880\",\"symbol\":\"circle\"},\"mode\":\"markers\",\"name\":\"HOD0199\",\"orientation\":\"v\",\"showlegend\":true,\"x\":[-4.641469478607178],\"xaxis\":\"x\",\"y\":[-3.673272132873535],\"yaxis\":\"y\",\"type\":\"scatter\"},{\"hovertemplate\":\"Variant SKU=HOD0193<br>x=%{x}<br>y=%{y}<extra></extra>\",\"legendgroup\":\"HOD0193\",\"marker\":{\"color\":\"#FF97FF\",\"symbol\":\"circle\"},\"mode\":\"markers\",\"name\":\"HOD0193\",\"orientation\":\"v\",\"showlegend\":true,\"x\":[-2.4995367527008057],\"xaxis\":\"x\",\"y\":[-0.012432693503797054],\"yaxis\":\"y\",\"type\":\"scatter\"},{\"hovertemplate\":\"Variant SKU=HOD0187<br>x=%{x}<br>y=%{y}<extra></extra>\",\"legendgroup\":\"HOD0187\",\"marker\":{\"color\":\"#FECB52\",\"symbol\":\"circle\"},\"mode\":\"markers\",\"name\":\"HOD0187\",\"orientation\":\"v\",\"showlegend\":true,\"x\":[-2.8567681312561035],\"xaxis\":\"x\",\"y\":[-0.025105522945523262],\"yaxis\":\"y\",\"type\":\"scatter\"},{\"hovertemplate\":\"Variant SKU=HOD0181<br>x=%{x}<br>y=%{y}<extra></extra>\",\"legendgroup\":\"HOD0181\",\"marker\":{\"color\":\"#636efa\",\"symbol\":\"circle\"},\"mode\":\"markers\",\"name\":\"HOD0181\",\"orientation\":\"v\",\"showlegend\":true,\"x\":[-2.7284770011901855],\"xaxis\":\"x\",\"y\":[0.9514305591583252],\"yaxis\":\"y\",\"type\":\"scatter\"},{\"hovertemplate\":\"Variant SKU=HOD0469<br>x=%{x}<br>y=%{y}<extra></extra>\",\"legendgroup\":\"HOD0469\",\"marker\":{\"color\":\"#EF553B\",\"symbol\":\"circle\"},\"mode\":\"markers\",\"name\":\"HOD0469\",\"orientation\":\"v\",\"showlegend\":true,\"x\":[-3.5081231594085693],\"xaxis\":\"x\",\"y\":[8.75783920288086],\"yaxis\":\"y\",\"type\":\"scatter\"},{\"hovertemplate\":\"Variant SKU=HOD0463<br>x=%{x}<br>y=%{y}<extra></extra>\",\"legendgroup\":\"HOD0463\",\"marker\":{\"color\":\"#00cc96\",\"symbol\":\"circle\"},\"mode\":\"markers\",\"name\":\"HOD0463\",\"orientation\":\"v\",\"showlegend\":true,\"x\":[-2.410703420639038],\"xaxis\":\"x\",\"y\":[10.420977592468262],\"yaxis\":\"y\",\"type\":\"scatter\"},{\"hovertemplate\":\"Variant SKU=HOD0457<br>x=%{x}<br>y=%{y}<extra></extra>\",\"legendgroup\":\"HOD0457\",\"marker\":{\"color\":\"#ab63fa\",\"symbol\":\"circle\"},\"mode\":\"markers\",\"name\":\"HOD0457\",\"orientation\":\"v\",\"showlegend\":true,\"x\":[-1.9758687019348145],\"xaxis\":\"x\",\"y\":[9.309908866882324],\"yaxis\":\"y\",\"type\":\"scatter\"},{\"hovertemplate\":\"Variant SKU=HOD0451<br>x=%{x}<br>y=%{y}<extra></extra>\",\"legendgroup\":\"HOD0451\",\"marker\":{\"color\":\"#FFA15A\",\"symbol\":\"circle\"},\"mode\":\"markers\",\"name\":\"HOD0451\",\"orientation\":\"v\",\"showlegend\":true,\"x\":[-2.2832021713256836],\"xaxis\":\"x\",\"y\":[8.944767951965332],\"yaxis\":\"y\",\"type\":\"scatter\"},{\"hovertemplate\":\"Variant SKU=HOD0445<br>x=%{x}<br>y=%{y}<extra></extra>\",\"legendgroup\":\"HOD0445\",\"marker\":{\"color\":\"#19d3f3\",\"symbol\":\"circle\"},\"mode\":\"markers\",\"name\":\"HOD0445\",\"orientation\":\"v\",\"showlegend\":true,\"x\":[-1.7922637462615967],\"xaxis\":\"x\",\"y\":[10.987506866455078],\"yaxis\":\"y\",\"type\":\"scatter\"},{\"hovertemplate\":\"Variant SKU=HOD0439<br>x=%{x}<br>y=%{y}<extra></extra>\",\"legendgroup\":\"HOD0439\",\"marker\":{\"color\":\"#FF6692\",\"symbol\":\"circle\"},\"mode\":\"markers\",\"name\":\"HOD0439\",\"orientation\":\"v\",\"showlegend\":true,\"x\":[-2.9740493297576904],\"xaxis\":\"x\",\"y\":[9.80371379852295],\"yaxis\":\"y\",\"type\":\"scatter\"},{\"hovertemplate\":\"Variant SKU=HOD0433<br>x=%{x}<br>y=%{y}<extra></extra>\",\"legendgroup\":\"HOD0433\",\"marker\":{\"color\":\"#B6E880\",\"symbol\":\"circle\"},\"mode\":\"markers\",\"name\":\"HOD0433\",\"orientation\":\"v\",\"showlegend\":true,\"x\":[-2.87432861328125],\"xaxis\":\"x\",\"y\":[9.718696594238281],\"yaxis\":\"y\",\"type\":\"scatter\"},{\"hovertemplate\":\"Variant SKU=HOD0427<br>x=%{x}<br>y=%{y}<extra></extra>\",\"legendgroup\":\"HOD0427\",\"marker\":{\"color\":\"#FF97FF\",\"symbol\":\"circle\"},\"mode\":\"markers\",\"name\":\"HOD0427\",\"orientation\":\"v\",\"showlegend\":true,\"x\":[-2.4376485347747803],\"xaxis\":\"x\",\"y\":[9.216789245605469],\"yaxis\":\"y\",\"type\":\"scatter\"},{\"hovertemplate\":\"Variant SKU=HOD0421<br>x=%{x}<br>y=%{y}<extra></extra>\",\"legendgroup\":\"HOD0421\",\"marker\":{\"color\":\"#FECB52\",\"symbol\":\"circle\"},\"mode\":\"markers\",\"name\":\"HOD0421\",\"orientation\":\"v\",\"showlegend\":true,\"x\":[-2.639044761657715],\"xaxis\":\"x\",\"y\":[8.789405822753906],\"yaxis\":\"y\",\"type\":\"scatter\"},{\"hovertemplate\":\"Variant SKU=HOD0415<br>x=%{x}<br>y=%{y}<extra></extra>\",\"legendgroup\":\"HOD0415\",\"marker\":{\"color\":\"#636efa\",\"symbol\":\"circle\"},\"mode\":\"markers\",\"name\":\"HOD0415\",\"orientation\":\"v\",\"showlegend\":true,\"x\":[-1.3310298919677734],\"xaxis\":\"x\",\"y\":[10.408479690551758],\"yaxis\":\"y\",\"type\":\"scatter\"},{\"hovertemplate\":\"Variant SKU=HOD0397<br>x=%{x}<br>y=%{y}<extra></extra>\",\"legendgroup\":\"HOD0397\",\"marker\":{\"color\":\"#EF553B\",\"symbol\":\"circle\"},\"mode\":\"markers\",\"name\":\"HOD0397\",\"orientation\":\"v\",\"showlegend\":true,\"x\":[-2.7682015895843506],\"xaxis\":\"x\",\"y\":[8.409948348999023],\"yaxis\":\"y\",\"type\":\"scatter\"},{\"hovertemplate\":\"Variant SKU=HOD0391<br>x=%{x}<br>y=%{y}<extra></extra>\",\"legendgroup\":\"HOD0391\",\"marker\":{\"color\":\"#00cc96\",\"symbol\":\"circle\"},\"mode\":\"markers\",\"name\":\"HOD0391\",\"orientation\":\"v\",\"showlegend\":true,\"x\":[-2.5301427841186523],\"xaxis\":\"x\",\"y\":[11.156837463378906],\"yaxis\":\"y\",\"type\":\"scatter\"},{\"hovertemplate\":\"Variant SKU=HOD0385<br>x=%{x}<br>y=%{y}<extra></extra>\",\"legendgroup\":\"HOD0385\",\"marker\":{\"color\":\"#ab63fa\",\"symbol\":\"circle\"},\"mode\":\"markers\",\"name\":\"HOD0385\",\"orientation\":\"v\",\"showlegend\":true,\"x\":[-1.1689224243164062],\"xaxis\":\"x\",\"y\":[9.94748306274414],\"yaxis\":\"y\",\"type\":\"scatter\"},{\"hovertemplate\":\"Variant SKU=HOD0373<br>x=%{x}<br>y=%{y}<extra></extra>\",\"legendgroup\":\"HOD0373\",\"marker\":{\"color\":\"#FFA15A\",\"symbol\":\"circle\"},\"mode\":\"markers\",\"name\":\"HOD0373\",\"orientation\":\"v\",\"showlegend\":true,\"x\":[-1.6150128841400146],\"xaxis\":\"x\",\"y\":[8.319353103637695],\"yaxis\":\"y\",\"type\":\"scatter\"},{\"hovertemplate\":\"Variant SKU=HOD0175<br>x=%{x}<br>y=%{y}<extra></extra>\",\"legendgroup\":\"HOD0175\",\"marker\":{\"color\":\"#19d3f3\",\"symbol\":\"circle\"},\"mode\":\"markers\",\"name\":\"HOD0175\",\"orientation\":\"v\",\"showlegend\":true,\"x\":[-4.037735939025879],\"xaxis\":\"x\",\"y\":[-5.728763103485107],\"yaxis\":\"y\",\"type\":\"scatter\"},{\"hovertemplate\":\"Variant SKU=HOD0169<br>x=%{x}<br>y=%{y}<extra></extra>\",\"legendgroup\":\"HOD0169\",\"marker\":{\"color\":\"#FF6692\",\"symbol\":\"circle\"},\"mode\":\"markers\",\"name\":\"HOD0169\",\"orientation\":\"v\",\"showlegend\":true,\"x\":[-4.340303897857666],\"xaxis\":\"x\",\"y\":[-5.239706993103027],\"yaxis\":\"y\",\"type\":\"scatter\"},{\"hovertemplate\":\"Variant SKU=HOD0163<br>x=%{x}<br>y=%{y}<extra></extra>\",\"legendgroup\":\"HOD0163\",\"marker\":{\"color\":\"#B6E880\",\"symbol\":\"circle\"},\"mode\":\"markers\",\"name\":\"HOD0163\",\"orientation\":\"v\",\"showlegend\":true,\"x\":[-4.321854114532471],\"xaxis\":\"x\",\"y\":[-5.2921671867370605],\"yaxis\":\"y\",\"type\":\"scatter\"},{\"hovertemplate\":\"Variant SKU=HOD0367<br>x=%{x}<br>y=%{y}<extra></extra>\",\"legendgroup\":\"HOD0367\",\"marker\":{\"color\":\"#FF97FF\",\"symbol\":\"circle\"},\"mode\":\"markers\",\"name\":\"HOD0367\",\"orientation\":\"v\",\"showlegend\":true,\"x\":[-3.0919947624206543],\"xaxis\":\"x\",\"y\":[10.51063346862793],\"yaxis\":\"y\",\"type\":\"scatter\"},{\"hovertemplate\":\"Variant SKU=HOD0157<br>x=%{x}<br>y=%{y}<extra></extra>\",\"legendgroup\":\"HOD0157\",\"marker\":{\"color\":\"#FECB52\",\"symbol\":\"circle\"},\"mode\":\"markers\",\"name\":\"HOD0157\",\"orientation\":\"v\",\"showlegend\":true,\"x\":[-5.17929744720459],\"xaxis\":\"x\",\"y\":[-1.7578285932540894],\"yaxis\":\"y\",\"type\":\"scatter\"},{\"hovertemplate\":\"Variant SKU=HOD0355<br>x=%{x}<br>y=%{y}<extra></extra>\",\"legendgroup\":\"HOD0355\",\"marker\":{\"color\":\"#636efa\",\"symbol\":\"circle\"},\"mode\":\"markers\",\"name\":\"HOD0355\",\"orientation\":\"v\",\"showlegend\":true,\"x\":[-3.6522905826568604],\"xaxis\":\"x\",\"y\":[8.519580841064453],\"yaxis\":\"y\",\"type\":\"scatter\"},{\"hovertemplate\":\"Variant SKU=HOD0151<br>x=%{x}<br>y=%{y}<extra></extra>\",\"legendgroup\":\"HOD0151\",\"marker\":{\"color\":\"#EF553B\",\"symbol\":\"circle\"},\"mode\":\"markers\",\"name\":\"HOD0151\",\"orientation\":\"v\",\"showlegend\":true,\"x\":[-5.238753795623779],\"xaxis\":\"x\",\"y\":[-1.6180628538131714],\"yaxis\":\"y\",\"type\":\"scatter\"},{\"hovertemplate\":\"Variant SKU=HOD0145<br>x=%{x}<br>y=%{y}<extra></extra>\",\"legendgroup\":\"HOD0145\",\"marker\":{\"color\":\"#00cc96\",\"symbol\":\"circle\"},\"mode\":\"markers\",\"name\":\"HOD0145\",\"orientation\":\"v\",\"showlegend\":true,\"x\":[-5.155326843261719],\"xaxis\":\"x\",\"y\":[-1.2792123556137085],\"yaxis\":\"y\",\"type\":\"scatter\"},{\"hovertemplate\":\"Variant SKU=HOD0139<br>x=%{x}<br>y=%{y}<extra></extra>\",\"legendgroup\":\"HOD0139\",\"marker\":{\"color\":\"#ab63fa\",\"symbol\":\"circle\"},\"mode\":\"markers\",\"name\":\"HOD0139\",\"orientation\":\"v\",\"showlegend\":true,\"x\":[-1.8162630796432495],\"xaxis\":\"x\",\"y\":[-5.061422348022461],\"yaxis\":\"y\",\"type\":\"scatter\"},{\"hovertemplate\":\"Variant SKU=HOD0349<br>x=%{x}<br>y=%{y}<extra></extra>\",\"legendgroup\":\"HOD0349\",\"marker\":{\"color\":\"#FFA15A\",\"symbol\":\"circle\"},\"mode\":\"markers\",\"name\":\"HOD0349\",\"orientation\":\"v\",\"showlegend\":true,\"x\":[-1.8698933124542236],\"xaxis\":\"x\",\"y\":[10.170967102050781],\"yaxis\":\"y\",\"type\":\"scatter\"},{\"hovertemplate\":\"Variant SKU=HOD0133<br>x=%{x}<br>y=%{y}<extra></extra>\",\"legendgroup\":\"HOD0133\",\"marker\":{\"color\":\"#19d3f3\",\"symbol\":\"circle\"},\"mode\":\"markers\",\"name\":\"HOD0133\",\"orientation\":\"v\",\"showlegend\":true,\"x\":[-1.869641661643982],\"xaxis\":\"x\",\"y\":[-4.9032368659973145],\"yaxis\":\"y\",\"type\":\"scatter\"},{\"hovertemplate\":\"Variant SKU=HOD0127<br>x=%{x}<br>y=%{y}<extra></extra>\",\"legendgroup\":\"HOD0127\",\"marker\":{\"color\":\"#FF6692\",\"symbol\":\"circle\"},\"mode\":\"markers\",\"name\":\"HOD0127\",\"orientation\":\"v\",\"showlegend\":true,\"x\":[-1.8924635648727417],\"xaxis\":\"x\",\"y\":[-4.9264397621154785],\"yaxis\":\"y\",\"type\":\"scatter\"},{\"hovertemplate\":\"Variant SKU=HOD0337<br>x=%{x}<br>y=%{y}<extra></extra>\",\"legendgroup\":\"HOD0337\",\"marker\":{\"color\":\"#B6E880\",\"symbol\":\"circle\"},\"mode\":\"markers\",\"name\":\"HOD0337\",\"orientation\":\"v\",\"showlegend\":true,\"x\":[-1.7216601371765137],\"xaxis\":\"x\",\"y\":[9.568228721618652],\"yaxis\":\"y\",\"type\":\"scatter\"},{\"hovertemplate\":\"Variant SKU=HOD0121<br>x=%{x}<br>y=%{y}<extra></extra>\",\"legendgroup\":\"HOD0121\",\"marker\":{\"color\":\"#FF97FF\",\"symbol\":\"circle\"},\"mode\":\"markers\",\"name\":\"HOD0121\",\"orientation\":\"v\",\"showlegend\":true,\"x\":[-6.124948024749756],\"xaxis\":\"x\",\"y\":[-1.181555986404419],\"yaxis\":\"y\",\"type\":\"scatter\"},{\"hovertemplate\":\"Variant SKU=HOD0325<br>x=%{x}<br>y=%{y}<extra></extra>\",\"legendgroup\":\"HOD0325\",\"marker\":{\"color\":\"#FECB52\",\"symbol\":\"circle\"},\"mode\":\"markers\",\"name\":\"HOD0325\",\"orientation\":\"v\",\"showlegend\":true,\"x\":[-1.1208186149597168],\"xaxis\":\"x\",\"y\":[8.751914978027344],\"yaxis\":\"y\",\"type\":\"scatter\"},{\"hovertemplate\":\"Variant SKU=HOD0115<br>x=%{x}<br>y=%{y}<extra></extra>\",\"legendgroup\":\"HOD0115\",\"marker\":{\"color\":\"#636efa\",\"symbol\":\"circle\"},\"mode\":\"markers\",\"name\":\"HOD0115\",\"orientation\":\"v\",\"showlegend\":true,\"x\":[-6.03965950012207],\"xaxis\":\"x\",\"y\":[-1.286596655845642],\"yaxis\":\"y\",\"type\":\"scatter\"},{\"hovertemplate\":\"Variant SKU=HOD0109<br>x=%{x}<br>y=%{y}<extra></extra>\",\"legendgroup\":\"HOD0109\",\"marker\":{\"color\":\"#EF553B\",\"symbol\":\"circle\"},\"mode\":\"markers\",\"name\":\"HOD0109\",\"orientation\":\"v\",\"showlegend\":true,\"x\":[-5.865879058837891],\"xaxis\":\"x\",\"y\":[-1.2186775207519531],\"yaxis\":\"y\",\"type\":\"scatter\"},{\"hovertemplate\":\"Variant SKU=HOD0103<br>x=%{x}<br>y=%{y}<extra></extra>\",\"legendgroup\":\"HOD0103\",\"marker\":{\"color\":\"#00cc96\",\"symbol\":\"circle\"},\"mode\":\"markers\",\"name\":\"HOD0103\",\"orientation\":\"v\",\"showlegend\":true,\"x\":[-0.2875949740409851],\"xaxis\":\"x\",\"y\":[-1.6464849710464478],\"yaxis\":\"y\",\"type\":\"scatter\"},{\"hovertemplate\":\"Variant SKU=HOD0097<br>x=%{x}<br>y=%{y}<extra></extra>\",\"legendgroup\":\"HOD0097\",\"marker\":{\"color\":\"#ab63fa\",\"symbol\":\"circle\"},\"mode\":\"markers\",\"name\":\"HOD0097\",\"orientation\":\"v\",\"showlegend\":true,\"x\":[-0.25389838218688965],\"xaxis\":\"x\",\"y\":[-1.796109914779663],\"yaxis\":\"y\",\"type\":\"scatter\"},{\"hovertemplate\":\"Variant SKU=HOD0307<br>x=%{x}<br>y=%{y}<extra></extra>\",\"legendgroup\":\"HOD0307\",\"marker\":{\"color\":\"#FFA15A\",\"symbol\":\"circle\"},\"mode\":\"markers\",\"name\":\"HOD0307\",\"orientation\":\"v\",\"showlegend\":true,\"x\":[-2.5035088062286377],\"xaxis\":\"x\",\"y\":[7.858796119689941],\"yaxis\":\"y\",\"type\":\"scatter\"},{\"hovertemplate\":\"Variant SKU=HOD0091<br>x=%{x}<br>y=%{y}<extra></extra>\",\"legendgroup\":\"HOD0091\",\"marker\":{\"color\":\"#19d3f3\",\"symbol\":\"circle\"},\"mode\":\"markers\",\"name\":\"HOD0091\",\"orientation\":\"v\",\"showlegend\":true,\"x\":[-0.306360125541687],\"xaxis\":\"x\",\"y\":[-1.7310432195663452],\"yaxis\":\"y\",\"type\":\"scatter\"},{\"hovertemplate\":\"Variant SKU=HOD0301<br>x=%{x}<br>y=%{y}<extra></extra>\",\"legendgroup\":\"HOD0301\",\"marker\":{\"color\":\"#FF6692\",\"symbol\":\"circle\"},\"mode\":\"markers\",\"name\":\"HOD0301\",\"orientation\":\"v\",\"showlegend\":true,\"x\":[-2.9994943141937256],\"xaxis\":\"x\",\"y\":[9.021562576293945],\"yaxis\":\"y\",\"type\":\"scatter\"},{\"hovertemplate\":\"Variant SKU=HOD0295<br>x=%{x}<br>y=%{y}<extra></extra>\",\"legendgroup\":\"HOD0295\",\"marker\":{\"color\":\"#B6E880\",\"symbol\":\"circle\"},\"mode\":\"markers\",\"name\":\"HOD0295\",\"orientation\":\"v\",\"showlegend\":true,\"x\":[-1.3329704999923706],\"xaxis\":\"x\",\"y\":[8.867072105407715],\"yaxis\":\"y\",\"type\":\"scatter\"},{\"hovertemplate\":\"Variant SKU=HOD0085<br>x=%{x}<br>y=%{y}<extra></extra>\",\"legendgroup\":\"HOD0085\",\"marker\":{\"color\":\"#FF97FF\",\"symbol\":\"circle\"},\"mode\":\"markers\",\"name\":\"HOD0085\",\"orientation\":\"v\",\"showlegend\":true,\"x\":[0.31571370363235474],\"xaxis\":\"x\",\"y\":[-4.755740165710449],\"yaxis\":\"y\",\"type\":\"scatter\"},{\"hovertemplate\":\"Variant SKU=HOD0289<br>x=%{x}<br>y=%{y}<extra></extra>\",\"legendgroup\":\"HOD0289\",\"marker\":{\"color\":\"#FECB52\",\"symbol\":\"circle\"},\"mode\":\"markers\",\"name\":\"HOD0289\",\"orientation\":\"v\",\"showlegend\":true,\"x\":[-3.052779197692871],\"xaxis\":\"x\",\"y\":[10.460423469543457],\"yaxis\":\"y\",\"type\":\"scatter\"},{\"hovertemplate\":\"Variant SKU=HOD0079<br>x=%{x}<br>y=%{y}<extra></extra>\",\"legendgroup\":\"HOD0079\",\"marker\":{\"color\":\"#636efa\",\"symbol\":\"circle\"},\"mode\":\"markers\",\"name\":\"HOD0079\",\"orientation\":\"v\",\"showlegend\":true,\"x\":[0.37407559156417847],\"xaxis\":\"x\",\"y\":[-4.7967658042907715],\"yaxis\":\"y\",\"type\":\"scatter\"},{\"hovertemplate\":\"Variant SKU=HOD0073<br>x=%{x}<br>y=%{y}<extra></extra>\",\"legendgroup\":\"HOD0073\",\"marker\":{\"color\":\"#EF553B\",\"symbol\":\"circle\"},\"mode\":\"markers\",\"name\":\"HOD0073\",\"orientation\":\"v\",\"showlegend\":true,\"x\":[0.5551334023475647],\"xaxis\":\"x\",\"y\":[-4.787350177764893],\"yaxis\":\"y\",\"type\":\"scatter\"},{\"hovertemplate\":\"Variant SKU=HOD0067<br>x=%{x}<br>y=%{y}<extra></extra>\",\"legendgroup\":\"HOD0067\",\"marker\":{\"color\":\"#00cc96\",\"symbol\":\"circle\"},\"mode\":\"markers\",\"name\":\"HOD0067\",\"orientation\":\"v\",\"showlegend\":true,\"x\":[-6.073398113250732],\"xaxis\":\"x\",\"y\":[-4.777810573577881],\"yaxis\":\"y\",\"type\":\"scatter\"},{\"hovertemplate\":\"Variant SKU=HOD0061<br>x=%{x}<br>y=%{y}<extra></extra>\",\"legendgroup\":\"HOD0061\",\"marker\":{\"color\":\"#ab63fa\",\"symbol\":\"circle\"},\"mode\":\"markers\",\"name\":\"HOD0061\",\"orientation\":\"v\",\"showlegend\":true,\"x\":[-6.465954780578613],\"xaxis\":\"x\",\"y\":[-5.118180751800537],\"yaxis\":\"y\",\"type\":\"scatter\"},{\"hovertemplate\":\"Variant SKU=HOD0055<br>x=%{x}<br>y=%{y}<extra></extra>\",\"legendgroup\":\"HOD0055\",\"marker\":{\"color\":\"#FFA15A\",\"symbol\":\"circle\"},\"mode\":\"markers\",\"name\":\"HOD0055\",\"orientation\":\"v\",\"showlegend\":true,\"x\":[-6.331145286560059],\"xaxis\":\"x\",\"y\":[-4.874364376068115],\"yaxis\":\"y\",\"type\":\"scatter\"},{\"hovertemplate\":\"Variant SKU=HOD0049<br>x=%{x}<br>y=%{y}<extra></extra>\",\"legendgroup\":\"HOD0049\",\"marker\":{\"color\":\"#19d3f3\",\"symbol\":\"circle\"},\"mode\":\"markers\",\"name\":\"HOD0049\",\"orientation\":\"v\",\"showlegend\":true,\"x\":[-1.0224868059158325],\"xaxis\":\"x\",\"y\":[1.3250137567520142],\"yaxis\":\"y\",\"type\":\"scatter\"},{\"hovertemplate\":\"Variant SKU=HOD0043<br>x=%{x}<br>y=%{y}<extra></extra>\",\"legendgroup\":\"HOD0043\",\"marker\":{\"color\":\"#FF6692\",\"symbol\":\"circle\"},\"mode\":\"markers\",\"name\":\"HOD0043\",\"orientation\":\"v\",\"showlegend\":true,\"x\":[-1.0978044271469116],\"xaxis\":\"x\",\"y\":[1.4181863069534302],\"yaxis\":\"y\",\"type\":\"scatter\"},{\"hovertemplate\":\"Variant SKU=HOD0037<br>x=%{x}<br>y=%{y}<extra></extra>\",\"legendgroup\":\"HOD0037\",\"marker\":{\"color\":\"#B6E880\",\"symbol\":\"circle\"},\"mode\":\"markers\",\"name\":\"HOD0037\",\"orientation\":\"v\",\"showlegend\":true,\"x\":[-1.0482348203659058],\"xaxis\":\"x\",\"y\":[1.4797414541244507],\"yaxis\":\"y\",\"type\":\"scatter\"},{\"hovertemplate\":\"Variant SKU=HOD0031<br>x=%{x}<br>y=%{y}<extra></extra>\",\"legendgroup\":\"HOD0031\",\"marker\":{\"color\":\"#FF97FF\",\"symbol\":\"circle\"},\"mode\":\"markers\",\"name\":\"HOD0031\",\"orientation\":\"v\",\"showlegend\":true,\"x\":[-3.0491693019866943],\"xaxis\":\"x\",\"y\":[-0.7864837646484375],\"yaxis\":\"y\",\"type\":\"scatter\"},{\"hovertemplate\":\"Variant SKU=HOD0025<br>x=%{x}<br>y=%{y}<extra></extra>\",\"legendgroup\":\"HOD0025\",\"marker\":{\"color\":\"#FECB52\",\"symbol\":\"circle\"},\"mode\":\"markers\",\"name\":\"HOD0025\",\"orientation\":\"v\",\"showlegend\":true,\"x\":[-3.8863794803619385],\"xaxis\":\"x\",\"y\":[-1.3554404973983765],\"yaxis\":\"y\",\"type\":\"scatter\"},{\"hovertemplate\":\"Variant SKU=HOD0019<br>x=%{x}<br>y=%{y}<extra></extra>\",\"legendgroup\":\"HOD0019\",\"marker\":{\"color\":\"#636efa\",\"symbol\":\"circle\"},\"mode\":\"markers\",\"name\":\"HOD0019\",\"orientation\":\"v\",\"showlegend\":true,\"x\":[-2.581143379211426],\"xaxis\":\"x\",\"y\":[2.444530963897705],\"yaxis\":\"y\",\"type\":\"scatter\"},{\"hovertemplate\":\"Variant SKU=HOD0013<br>x=%{x}<br>y=%{y}<extra></extra>\",\"legendgroup\":\"HOD0013\",\"marker\":{\"color\":\"#EF553B\",\"symbol\":\"circle\"},\"mode\":\"markers\",\"name\":\"HOD0013\",\"orientation\":\"v\",\"showlegend\":true,\"x\":[-3.591273546218872],\"xaxis\":\"x\",\"y\":[2.124926805496216],\"yaxis\":\"y\",\"type\":\"scatter\"},{\"hovertemplate\":\"Variant SKU=HOD0007<br>x=%{x}<br>y=%{y}<extra></extra>\",\"legendgroup\":\"HOD0007\",\"marker\":{\"color\":\"#00cc96\",\"symbol\":\"circle\"},\"mode\":\"markers\",\"name\":\"HOD0007\",\"orientation\":\"v\",\"showlegend\":true,\"x\":[-3.6649582386016846],\"xaxis\":\"x\",\"y\":[2.1561131477355957],\"yaxis\":\"y\",\"type\":\"scatter\"},{\"hovertemplate\":\"Variant SKU=HOD0001<br>x=%{x}<br>y=%{y}<extra></extra>\",\"legendgroup\":\"HOD0001\",\"marker\":{\"color\":\"#ab63fa\",\"symbol\":\"circle\"},\"mode\":\"markers\",\"name\":\"HOD0001\",\"orientation\":\"v\",\"showlegend\":true,\"x\":[-3.3059051036834717],\"xaxis\":\"x\",\"y\":[2.3611974716186523],\"yaxis\":\"y\",\"type\":\"scatter\"}],                        {\"template\":{\"data\":{\"bar\":[{\"error_x\":{\"color\":\"#2a3f5f\"},\"error_y\":{\"color\":\"#2a3f5f\"},\"marker\":{\"line\":{\"color\":\"#E5ECF6\",\"width\":0.5},\"pattern\":{\"fillmode\":\"overlay\",\"size\":10,\"solidity\":0.2}},\"type\":\"bar\"}],\"barpolar\":[{\"marker\":{\"line\":{\"color\":\"#E5ECF6\",\"width\":0.5},\"pattern\":{\"fillmode\":\"overlay\",\"size\":10,\"solidity\":0.2}},\"type\":\"barpolar\"}],\"carpet\":[{\"aaxis\":{\"endlinecolor\":\"#2a3f5f\",\"gridcolor\":\"white\",\"linecolor\":\"white\",\"minorgridcolor\":\"white\",\"startlinecolor\":\"#2a3f5f\"},\"baxis\":{\"endlinecolor\":\"#2a3f5f\",\"gridcolor\":\"white\",\"linecolor\":\"white\",\"minorgridcolor\":\"white\",\"startlinecolor\":\"#2a3f5f\"},\"type\":\"carpet\"}],\"choropleth\":[{\"colorbar\":{\"outlinewidth\":0,\"ticks\":\"\"},\"type\":\"choropleth\"}],\"contour\":[{\"colorbar\":{\"outlinewidth\":0,\"ticks\":\"\"},\"colorscale\":[[0.0,\"#0d0887\"],[0.1111111111111111,\"#46039f\"],[0.2222222222222222,\"#7201a8\"],[0.3333333333333333,\"#9c179e\"],[0.4444444444444444,\"#bd3786\"],[0.5555555555555556,\"#d8576b\"],[0.6666666666666666,\"#ed7953\"],[0.7777777777777778,\"#fb9f3a\"],[0.8888888888888888,\"#fdca26\"],[1.0,\"#f0f921\"]],\"type\":\"contour\"}],\"contourcarpet\":[{\"colorbar\":{\"outlinewidth\":0,\"ticks\":\"\"},\"type\":\"contourcarpet\"}],\"heatmap\":[{\"colorbar\":{\"outlinewidth\":0,\"ticks\":\"\"},\"colorscale\":[[0.0,\"#0d0887\"],[0.1111111111111111,\"#46039f\"],[0.2222222222222222,\"#7201a8\"],[0.3333333333333333,\"#9c179e\"],[0.4444444444444444,\"#bd3786\"],[0.5555555555555556,\"#d8576b\"],[0.6666666666666666,\"#ed7953\"],[0.7777777777777778,\"#fb9f3a\"],[0.8888888888888888,\"#fdca26\"],[1.0,\"#f0f921\"]],\"type\":\"heatmap\"}],\"heatmapgl\":[{\"colorbar\":{\"outlinewidth\":0,\"ticks\":\"\"},\"colorscale\":[[0.0,\"#0d0887\"],[0.1111111111111111,\"#46039f\"],[0.2222222222222222,\"#7201a8\"],[0.3333333333333333,\"#9c179e\"],[0.4444444444444444,\"#bd3786\"],[0.5555555555555556,\"#d8576b\"],[0.6666666666666666,\"#ed7953\"],[0.7777777777777778,\"#fb9f3a\"],[0.8888888888888888,\"#fdca26\"],[1.0,\"#f0f921\"]],\"type\":\"heatmapgl\"}],\"histogram\":[{\"marker\":{\"pattern\":{\"fillmode\":\"overlay\",\"size\":10,\"solidity\":0.2}},\"type\":\"histogram\"}],\"histogram2d\":[{\"colorbar\":{\"outlinewidth\":0,\"ticks\":\"\"},\"colorscale\":[[0.0,\"#0d0887\"],[0.1111111111111111,\"#46039f\"],[0.2222222222222222,\"#7201a8\"],[0.3333333333333333,\"#9c179e\"],[0.4444444444444444,\"#bd3786\"],[0.5555555555555556,\"#d8576b\"],[0.6666666666666666,\"#ed7953\"],[0.7777777777777778,\"#fb9f3a\"],[0.8888888888888888,\"#fdca26\"],[1.0,\"#f0f921\"]],\"type\":\"histogram2d\"}],\"histogram2dcontour\":[{\"colorbar\":{\"outlinewidth\":0,\"ticks\":\"\"},\"colorscale\":[[0.0,\"#0d0887\"],[0.1111111111111111,\"#46039f\"],[0.2222222222222222,\"#7201a8\"],[0.3333333333333333,\"#9c179e\"],[0.4444444444444444,\"#bd3786\"],[0.5555555555555556,\"#d8576b\"],[0.6666666666666666,\"#ed7953\"],[0.7777777777777778,\"#fb9f3a\"],[0.8888888888888888,\"#fdca26\"],[1.0,\"#f0f921\"]],\"type\":\"histogram2dcontour\"}],\"mesh3d\":[{\"colorbar\":{\"outlinewidth\":0,\"ticks\":\"\"},\"type\":\"mesh3d\"}],\"parcoords\":[{\"line\":{\"colorbar\":{\"outlinewidth\":0,\"ticks\":\"\"}},\"type\":\"parcoords\"}],\"pie\":[{\"automargin\":true,\"type\":\"pie\"}],\"scatter\":[{\"marker\":{\"colorbar\":{\"outlinewidth\":0,\"ticks\":\"\"}},\"type\":\"scatter\"}],\"scatter3d\":[{\"line\":{\"colorbar\":{\"outlinewidth\":0,\"ticks\":\"\"}},\"marker\":{\"colorbar\":{\"outlinewidth\":0,\"ticks\":\"\"}},\"type\":\"scatter3d\"}],\"scattercarpet\":[{\"marker\":{\"colorbar\":{\"outlinewidth\":0,\"ticks\":\"\"}},\"type\":\"scattercarpet\"}],\"scattergeo\":[{\"marker\":{\"colorbar\":{\"outlinewidth\":0,\"ticks\":\"\"}},\"type\":\"scattergeo\"}],\"scattergl\":[{\"marker\":{\"colorbar\":{\"outlinewidth\":0,\"ticks\":\"\"}},\"type\":\"scattergl\"}],\"scattermapbox\":[{\"marker\":{\"colorbar\":{\"outlinewidth\":0,\"ticks\":\"\"}},\"type\":\"scattermapbox\"}],\"scatterpolar\":[{\"marker\":{\"colorbar\":{\"outlinewidth\":0,\"ticks\":\"\"}},\"type\":\"scatterpolar\"}],\"scatterpolargl\":[{\"marker\":{\"colorbar\":{\"outlinewidth\":0,\"ticks\":\"\"}},\"type\":\"scatterpolargl\"}],\"scatterternary\":[{\"marker\":{\"colorbar\":{\"outlinewidth\":0,\"ticks\":\"\"}},\"type\":\"scatterternary\"}],\"surface\":[{\"colorbar\":{\"outlinewidth\":0,\"ticks\":\"\"},\"colorscale\":[[0.0,\"#0d0887\"],[0.1111111111111111,\"#46039f\"],[0.2222222222222222,\"#7201a8\"],[0.3333333333333333,\"#9c179e\"],[0.4444444444444444,\"#bd3786\"],[0.5555555555555556,\"#d8576b\"],[0.6666666666666666,\"#ed7953\"],[0.7777777777777778,\"#fb9f3a\"],[0.8888888888888888,\"#fdca26\"],[1.0,\"#f0f921\"]],\"type\":\"surface\"}],\"table\":[{\"cells\":{\"fill\":{\"color\":\"#EBF0F8\"},\"line\":{\"color\":\"white\"}},\"header\":{\"fill\":{\"color\":\"#C8D4E3\"},\"line\":{\"color\":\"white\"}},\"type\":\"table\"}]},\"layout\":{\"annotationdefaults\":{\"arrowcolor\":\"#2a3f5f\",\"arrowhead\":0,\"arrowwidth\":1},\"autotypenumbers\":\"strict\",\"coloraxis\":{\"colorbar\":{\"outlinewidth\":0,\"ticks\":\"\"}},\"colorscale\":{\"diverging\":[[0,\"#8e0152\"],[0.1,\"#c51b7d\"],[0.2,\"#de77ae\"],[0.3,\"#f1b6da\"],[0.4,\"#fde0ef\"],[0.5,\"#f7f7f7\"],[0.6,\"#e6f5d0\"],[0.7,\"#b8e186\"],[0.8,\"#7fbc41\"],[0.9,\"#4d9221\"],[1,\"#276419\"]],\"sequential\":[[0.0,\"#0d0887\"],[0.1111111111111111,\"#46039f\"],[0.2222222222222222,\"#7201a8\"],[0.3333333333333333,\"#9c179e\"],[0.4444444444444444,\"#bd3786\"],[0.5555555555555556,\"#d8576b\"],[0.6666666666666666,\"#ed7953\"],[0.7777777777777778,\"#fb9f3a\"],[0.8888888888888888,\"#fdca26\"],[1.0,\"#f0f921\"]],\"sequentialminus\":[[0.0,\"#0d0887\"],[0.1111111111111111,\"#46039f\"],[0.2222222222222222,\"#7201a8\"],[0.3333333333333333,\"#9c179e\"],[0.4444444444444444,\"#bd3786\"],[0.5555555555555556,\"#d8576b\"],[0.6666666666666666,\"#ed7953\"],[0.7777777777777778,\"#fb9f3a\"],[0.8888888888888888,\"#fdca26\"],[1.0,\"#f0f921\"]]},\"colorway\":[\"#636efa\",\"#EF553B\",\"#00cc96\",\"#ab63fa\",\"#FFA15A\",\"#19d3f3\",\"#FF6692\",\"#B6E880\",\"#FF97FF\",\"#FECB52\"],\"font\":{\"color\":\"#2a3f5f\"},\"geo\":{\"bgcolor\":\"white\",\"lakecolor\":\"white\",\"landcolor\":\"#E5ECF6\",\"showlakes\":true,\"showland\":true,\"subunitcolor\":\"white\"},\"hoverlabel\":{\"align\":\"left\"},\"hovermode\":\"closest\",\"mapbox\":{\"style\":\"light\"},\"paper_bgcolor\":\"white\",\"plot_bgcolor\":\"#E5ECF6\",\"polar\":{\"angularaxis\":{\"gridcolor\":\"white\",\"linecolor\":\"white\",\"ticks\":\"\"},\"bgcolor\":\"#E5ECF6\",\"radialaxis\":{\"gridcolor\":\"white\",\"linecolor\":\"white\",\"ticks\":\"\"}},\"scene\":{\"xaxis\":{\"backgroundcolor\":\"#E5ECF6\",\"gridcolor\":\"white\",\"gridwidth\":2,\"linecolor\":\"white\",\"showbackground\":true,\"ticks\":\"\",\"zerolinecolor\":\"white\"},\"yaxis\":{\"backgroundcolor\":\"#E5ECF6\",\"gridcolor\":\"white\",\"gridwidth\":2,\"linecolor\":\"white\",\"showbackground\":true,\"ticks\":\"\",\"zerolinecolor\":\"white\"},\"zaxis\":{\"backgroundcolor\":\"#E5ECF6\",\"gridcolor\":\"white\",\"gridwidth\":2,\"linecolor\":\"white\",\"showbackground\":true,\"ticks\":\"\",\"zerolinecolor\":\"white\"}},\"shapedefaults\":{\"line\":{\"color\":\"#2a3f5f\"}},\"ternary\":{\"aaxis\":{\"gridcolor\":\"white\",\"linecolor\":\"white\",\"ticks\":\"\"},\"baxis\":{\"gridcolor\":\"white\",\"linecolor\":\"white\",\"ticks\":\"\"},\"bgcolor\":\"#E5ECF6\",\"caxis\":{\"gridcolor\":\"white\",\"linecolor\":\"white\",\"ticks\":\"\"}},\"title\":{\"x\":0.05},\"xaxis\":{\"automargin\":true,\"gridcolor\":\"white\",\"linecolor\":\"white\",\"ticks\":\"\",\"title\":{\"standoff\":15},\"zerolinecolor\":\"white\",\"zerolinewidth\":2},\"yaxis\":{\"automargin\":true,\"gridcolor\":\"white\",\"linecolor\":\"white\",\"ticks\":\"\",\"title\":{\"standoff\":15},\"zerolinecolor\":\"white\",\"zerolinewidth\":2}}},\"xaxis\":{\"anchor\":\"y\",\"domain\":[0.0,1.0],\"title\":{\"text\":\"x\"}},\"yaxis\":{\"anchor\":\"x\",\"domain\":[0.0,1.0],\"title\":{\"text\":\"y\"}},\"legend\":{\"title\":{\"text\":\"Variant SKU\"},\"tracegroupgap\":0},\"margin\":{\"t\":60}},                        {\"responsive\": true}                    ).then(function(){\n",
       "                            \n",
       "var gd = document.getElementById('f68ed371-fd35-4f3c-9b87-bb7486e6a45d');\n",
       "var x = new MutationObserver(function (mutations, observer) {{\n",
       "        var display = window.getComputedStyle(gd).display;\n",
       "        if (!display || display === 'none') {{\n",
       "            console.log([gd, 'removed!']);\n",
       "            Plotly.purge(gd);\n",
       "            observer.disconnect();\n",
       "        }}\n",
       "}});\n",
       "\n",
       "// Listen for the removal of the full notebook cells\n",
       "var notebookContainer = gd.closest('#notebook-container');\n",
       "if (notebookContainer) {{\n",
       "    x.observe(notebookContainer, {childList: true});\n",
       "}}\n",
       "\n",
       "// Listen for the clearing of the current output cell\n",
       "var outputEl = gd.closest('.output');\n",
       "if (outputEl) {{\n",
       "    x.observe(outputEl, {childList: true});\n",
       "}}\n",
       "\n",
       "                        })                };                });            </script>        </div>"
      ]
     },
     "metadata": {},
     "output_type": "display_data"
    }
   ],
   "source": [
    "fig = px.scatter(tsne_df, x='x', y='y', color='Variant SKU')\n",
    "fig.show()"
   ]
  },
  {
   "cell_type": "code",
   "execution_count": 192,
   "id": "a6461d3e",
   "metadata": {},
   "outputs": [
    {
     "data": {
      "text/plain": [
       "(134, 100)"
      ]
     },
     "execution_count": 192,
     "metadata": {},
     "output_type": "execute_result"
    }
   ],
   "source": [
    "product_layer = p_t_model.get_layer('product_embedding')\n",
    "product_weights = product_layer.get_weights()[0]\n",
    "product_weights.shape\n"
   ]
  },
  {
   "cell_type": "code",
   "execution_count": 194,
   "id": "9a0abb9e",
   "metadata": {},
   "outputs": [
    {
     "data": {
      "text/plain": [
       "array([ 0.0885025 , -0.14846888,  0.09637884,  0.06947589,  0.2373914 ,\n",
       "        0.14875515, -0.18951847, -0.0912651 ,  0.05528521, -0.09575997],\n",
       "      dtype=float32)"
      ]
     },
     "execution_count": 194,
     "metadata": {},
     "output_type": "execute_result"
    }
   ],
   "source": [
    "product_weights = product_weights / np.linalg.norm(product_weights, axis = 1).reshape((-1, 1))\n",
    "product_weights[0][:10]"
   ]
  },
  {
   "cell_type": "code",
   "execution_count": 195,
   "id": "c7f5de2b",
   "metadata": {},
   "outputs": [
    {
     "data": {
      "text/plain": [
       "1.0"
      ]
     },
     "execution_count": 195,
     "metadata": {},
     "output_type": "execute_result"
    }
   ],
   "source": [
    "np.sum(np.square(product_weights[0]))"
   ]
  },
  {
   "cell_type": "code",
   "execution_count": 198,
   "id": "3881920a",
   "metadata": {},
   "outputs": [
    {
     "data": {
      "text/html": [
       "<div>\n",
       "<style scoped>\n",
       "    .dataframe tbody tr th:only-of-type {\n",
       "        vertical-align: middle;\n",
       "    }\n",
       "\n",
       "    .dataframe tbody tr th {\n",
       "        vertical-align: top;\n",
       "    }\n",
       "\n",
       "    .dataframe thead th {\n",
       "        text-align: right;\n",
       "    }\n",
       "</style>\n",
       "<table border=\"1\" class=\"dataframe\">\n",
       "  <thead>\n",
       "    <tr style=\"text-align: right;\">\n",
       "      <th></th>\n",
       "      <th>Variant SKU</th>\n",
       "      <th>description</th>\n",
       "      <th>product_id_num</th>\n",
       "      <th>tags</th>\n",
       "    </tr>\n",
       "  </thead>\n",
       "  <tbody>\n",
       "    <tr>\n",
       "      <th>0</th>\n",
       "      <td>HOD0772</td>\n",
       "      <td>ishyablockprintedkurtaset,ishyablockprintedkur...</td>\n",
       "      <td>0</td>\n",
       "      <td>[0, 1, 2, 3, 4, 5, 6, 7]</td>\n",
       "    </tr>\n",
       "    <tr>\n",
       "      <th>1</th>\n",
       "      <td>HOD0766</td>\n",
       "      <td>ahaanablockprintedkurtaset,ahaanablockprintedk...</td>\n",
       "      <td>1</td>\n",
       "      <td>[8, 9, 2, 3, 4, 5, 6, 7]</td>\n",
       "    </tr>\n",
       "    <tr>\n",
       "      <th>2</th>\n",
       "      <td>HOD0760</td>\n",
       "      <td>seherblockprintedkurtaset,seherblockprintedkur...</td>\n",
       "      <td>2</td>\n",
       "      <td>[10, 11, 2, 3, 4, 5, 6, 7]</td>\n",
       "    </tr>\n",
       "    <tr>\n",
       "      <th>3</th>\n",
       "      <td>HOD0754</td>\n",
       "      <td>mihirablockprintedkurtaset,mihirablockprintedk...</td>\n",
       "      <td>3</td>\n",
       "      <td>[12, 13, 2, 3, 4, 5, 6, 7]</td>\n",
       "    </tr>\n",
       "    <tr>\n",
       "      <th>4</th>\n",
       "      <td>HOD0748</td>\n",
       "      <td>baharblockprintedkurtaset,baharblockprintedkur...</td>\n",
       "      <td>4</td>\n",
       "      <td>[14, 15, 2, 3, 4, 5, 6, 7]</td>\n",
       "    </tr>\n",
       "  </tbody>\n",
       "</table>\n",
       "</div>"
      ],
      "text/plain": [
       "  Variant SKU                                        description  \\\n",
       "0     HOD0772  ishyablockprintedkurtaset,ishyablockprintedkur...   \n",
       "1     HOD0766  ahaanablockprintedkurtaset,ahaanablockprintedk...   \n",
       "2     HOD0760  seherblockprintedkurtaset,seherblockprintedkur...   \n",
       "3     HOD0754  mihirablockprintedkurtaset,mihirablockprintedk...   \n",
       "4     HOD0748  baharblockprintedkurtaset,baharblockprintedkur...   \n",
       "\n",
       "   product_id_num                        tags  \n",
       "0               0    [0, 1, 2, 3, 4, 5, 6, 7]  \n",
       "1               1    [8, 9, 2, 3, 4, 5, 6, 7]  \n",
       "2               2  [10, 11, 2, 3, 4, 5, 6, 7]  \n",
       "3               3  [12, 13, 2, 3, 4, 5, 6, 7]  \n",
       "4               4  [14, 15, 2, 3, 4, 5, 6, 7]  "
      ]
     },
     "execution_count": 198,
     "metadata": {},
     "output_type": "execute_result"
    }
   ],
   "source": [
    "products_tags_df.head()"
   ]
  },
  {
   "cell_type": "code",
   "execution_count": 199,
   "id": "5d374b09",
   "metadata": {},
   "outputs": [
    {
     "name": "stdout",
     "output_type": "stream",
     "text": [
      "['HOD0772', 'HOD0766', 'HOD0760', 'HOD0754', 'HOD0748', 'HOD0742', 'HOD0727', 'HOD0721', 'HOD0715', 'HOD0709', 'HOD0703', 'HOD0697', 'HOD0691', 'HOD0685', 'HOD0679', 'HOD0673', 'HOD0667', 'HOD0663', 'HOD0659', 'HOD0655', 'HOD0651', 'HOD0647', 'HOD0643', 'HOD0639', 'HOD0635', 'HOD0631', 'HOD0627', 'HOD0623', 'HOD0619', 'HOD0615', 'HOD0611', 'HOD0607', 'HOD0603', 'HOD0599', 'HOD0591', 'HOD0587', 'HOD0583', 'HOD0579', 'HOD0575', 'HOD0571', 'HOD0567', 'HOD0563', 'HOD0555', 'HOD0529', 'HOD0523', 'HOD0517', 'HOD0511', 'HOD0505', 'HOD0493', 'HOD0487', 'HOD0481', 'HOD0475', 'HOD0277', 'HOD0271', 'HOD0265', 'HOD0259', 'HOD0253', 'HOD0247', 'HOD0552', 'HOD0241', 'HOD0551', 'HOD0550', 'HOD0235', 'HOD0548', 'HOD0547', 'HOD0229', 'HOD0223', 'HOD0545', 'HOD0544', 'HOD0543', 'HOD0217', 'HOD0542', 'HOD0211', 'HOD0538', 'HOD0205', 'HOD0537', 'HOD0536', 'HOD0199', 'HOD0193', 'HOD0187', 'HOD0181', 'HOD0469', 'HOD0463', 'HOD0457', 'HOD0451', 'HOD0445', 'HOD0439', 'HOD0433', 'HOD0427', 'HOD0421', 'HOD0415', 'HOD0397', 'HOD0391', 'HOD0385', 'HOD0373', 'HOD0175', 'HOD0169', 'HOD0163', 'HOD0367', 'HOD0157', 'HOD0355', 'HOD0151', 'HOD0145', 'HOD0139', 'HOD0349', 'HOD0133', 'HOD0127', 'HOD0337', 'HOD0121', 'HOD0325', 'HOD0115', 'HOD0109', 'HOD0103', 'HOD0097', 'HOD0307', 'HOD0091', 'HOD0301', 'HOD0295', 'HOD0085', 'HOD0289', 'HOD0079', 'HOD0073', 'HOD0067', 'HOD0061', 'HOD0055', 'HOD0049', 'HOD0043', 'HOD0037', 'HOD0031', 'HOD0025', 'HOD0019', 'HOD0013', 'HOD0007', 'HOD0001']\n"
     ]
    }
   ],
   "source": [
    "skulist = products_tags_df['Variant SKU'].tolist()\n",
    "print(skulist)"
   ]
  },
  {
   "cell_type": "code",
   "execution_count": 201,
   "id": "169d16e5",
   "metadata": {},
   "outputs": [],
   "source": [
    "product_index = {sku: idx for idx, sku in enumerate(skulist)}"
   ]
  },
  {
   "cell_type": "code",
   "execution_count": 203,
   "id": "cf3ef90c",
   "metadata": {},
   "outputs": [
    {
     "data": {
      "text/plain": [
       "14"
      ]
     },
     "execution_count": 203,
     "metadata": {},
     "output_type": "execute_result"
    }
   ],
   "source": [
    "product_index['HOD0679']"
   ]
  },
  {
   "cell_type": "code",
   "execution_count": 205,
   "id": "44e1a565",
   "metadata": {},
   "outputs": [],
   "source": [
    "index_product = {idx: sku for sku, idx in product_index.items()}"
   ]
  },
  {
   "cell_type": "code",
   "execution_count": 207,
   "id": "442f8c25",
   "metadata": {},
   "outputs": [
    {
     "data": {
      "text/plain": [
       "'HOD0679'"
      ]
     },
     "execution_count": 207,
     "metadata": {},
     "output_type": "execute_result"
    }
   ],
   "source": [
    "index_product[14]"
   ]
  },
  {
   "cell_type": "code",
   "execution_count": 212,
   "id": "7e1ec00b",
   "metadata": {},
   "outputs": [],
   "source": [
    "import pandas as pd\n",
    "import matplotlib.pyplot as plt\n",
    "%matplotlib inline\n",
    "plt.style.use('fivethirtyeight')\n",
    "plt.rcParams['font.size'] = 15\n",
    "\n",
    "def find_similar(name, weights, index_name = 'sku', n = 10):\n",
    "    \"\"\"Find n most similar items (or least) to name based on embeddings.\"\"\"\n",
    "    \n",
    "    if index_name == 'sku':\n",
    "        index = product_index\n",
    "        rindex = index_product\n",
    "\n",
    "    # Check to make sure `name` is in index\n",
    "    try:\n",
    "        # Calculate dot product between book and all others\n",
    "        dists = np.dot(weights, weights[index[name]])\n",
    "    except KeyError:\n",
    "        print(f'{name} Not Found.')\n",
    "        return\n",
    "    \n",
    "    # Sort distance indexes from smallest to largest\n",
    "    sorted_dists = np.argsort(dists)\n",
    "    \n",
    "    \n",
    "    \n",
    "   \n",
    "    # Take the last n sorted distances\n",
    "    closest = sorted_dists[-n:]\n",
    "\n",
    "    print(f'{index_name.capitalize()}s closest to {name}.\\n')\n",
    "        \n",
    "   \n",
    "    \n",
    "    # Print formatting\n",
    "    max_width = max([len(rindex[c]) for c in closest])\n",
    "    \n",
    "    # Print the most similar and distances\n",
    "    for c in reversed(closest):\n",
    "        print(f'{index_name.capitalize()}: {rindex[c]:{max_width + 2}} Similarity: {dists[c]:.{2}}')\n",
    "        "
   ]
  },
  {
   "cell_type": "code",
   "execution_count": 213,
   "id": "adcd0a0c",
   "metadata": {},
   "outputs": [
    {
     "name": "stdout",
     "output_type": "stream",
     "text": [
      "Skus closest to HOD0679.\n",
      "\n",
      "Sku: HOD0679   Similarity: 1.0\n",
      "Sku: HOD0667   Similarity: 0.95\n",
      "Sku: HOD0691   Similarity: 0.95\n",
      "Sku: HOD0715   Similarity: 0.95\n",
      "Sku: HOD0721   Similarity: 0.95\n",
      "Sku: HOD0685   Similarity: 0.93\n",
      "Sku: HOD0673   Similarity: 0.92\n",
      "Sku: HOD0727   Similarity: 0.92\n",
      "Sku: HOD0709   Similarity: 0.91\n",
      "Sku: HOD0697   Similarity: 0.91\n"
     ]
    }
   ],
   "source": [
    "find_similar('HOD0679', product_weights)"
   ]
  },
  {
   "cell_type": "code",
   "execution_count": null,
   "id": "70dbd4a9",
   "metadata": {},
   "outputs": [],
   "source": []
  }
 ],
 "metadata": {
  "kernelspec": {
   "display_name": "Python 3 (ipykernel)",
   "language": "python",
   "name": "python3"
  },
  "language_info": {
   "codemirror_mode": {
    "name": "ipython",
    "version": 3
   },
   "file_extension": ".py",
   "mimetype": "text/x-python",
   "name": "python",
   "nbconvert_exporter": "python",
   "pygments_lexer": "ipython3",
   "version": "3.9.7"
  }
 },
 "nbformat": 4,
 "nbformat_minor": 5
}
