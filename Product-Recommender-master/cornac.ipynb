{
 "cells": [
  {
   "cell_type": "code",
   "execution_count": 296,
   "id": "027a1a91",
   "metadata": {},
   "outputs": [],
   "source": [
    "# !pip3 install cornac"
   ]
  },
  {
   "cell_type": "code",
   "execution_count": 297,
   "id": "f34aa2a0",
   "metadata": {},
   "outputs": [],
   "source": [
    "import cornac\n",
    "from cornac.datasets import amazon_clothing\n",
    "from cornac.data import ImageModality\n",
    "from cornac.eval_methods import RatioSplit"
   ]
  },
  {
   "cell_type": "code",
   "execution_count": 298,
   "id": "7a33562b",
   "metadata": {},
   "outputs": [],
   "source": [
    "import numpy as np\n",
    "import pandas as pd\n",
    "import matplotlib.pyplot as plt\n",
    "import seaborn as sns\n",
    "\n",
    "# we will ignore pandas warning \n",
    "import warnings\n",
    "warnings.filterwarnings('ignore')"
   ]
  },
  {
   "cell_type": "code",
   "execution_count": 299,
   "id": "963ab7e0",
   "metadata": {},
   "outputs": [],
   "source": [
    "ordersExport = pd.read_csv('orders_export_1.csv')\n",
    "# productsExport = pd.read_csv('products_export.csv')"
   ]
  },
  {
   "cell_type": "code",
   "execution_count": 300,
   "id": "d43c25c1",
   "metadata": {},
   "outputs": [
    {
     "name": "stdout",
     "output_type": "stream",
     "text": [
      "(3588, 4)\n"
     ]
    },
    {
     "data": {
      "text/html": [
       "<div>\n",
       "<style scoped>\n",
       "    .dataframe tbody tr th:only-of-type {\n",
       "        vertical-align: middle;\n",
       "    }\n",
       "\n",
       "    .dataframe tbody tr th {\n",
       "        vertical-align: top;\n",
       "    }\n",
       "\n",
       "    .dataframe thead th {\n",
       "        text-align: right;\n",
       "    }\n",
       "</style>\n",
       "<table border=\"1\" class=\"dataframe\">\n",
       "  <thead>\n",
       "    <tr style=\"text-align: right;\">\n",
       "      <th></th>\n",
       "      <th>Name</th>\n",
       "      <th>Lineitem quantity</th>\n",
       "      <th>Lineitem name</th>\n",
       "      <th>Lineitem sku</th>\n",
       "    </tr>\n",
       "  </thead>\n",
       "  <tbody>\n",
       "    <tr>\n",
       "      <th>0</th>\n",
       "      <td>#2962</td>\n",
       "      <td>1</td>\n",
       "      <td>Pink Cotton Shirt - M</td>\n",
       "      <td>HOD0632</td>\n",
       "    </tr>\n",
       "    <tr>\n",
       "      <th>1</th>\n",
       "      <td>#2962</td>\n",
       "      <td>1</td>\n",
       "      <td>Dark Blue Cotton Shirt - L</td>\n",
       "      <td>HOD0573</td>\n",
       "    </tr>\n",
       "    <tr>\n",
       "      <th>2</th>\n",
       "      <td>#2962</td>\n",
       "      <td>1</td>\n",
       "      <td>Triangular Cotton Shirt - L</td>\n",
       "      <td>HOD0585</td>\n",
       "    </tr>\n",
       "    <tr>\n",
       "      <th>3</th>\n",
       "      <td>#2962</td>\n",
       "      <td>1</td>\n",
       "      <td>Red Flower Cotton Shirt - M</td>\n",
       "      <td>HOD0616</td>\n",
       "    </tr>\n",
       "    <tr>\n",
       "      <th>4</th>\n",
       "      <td>#2961</td>\n",
       "      <td>1</td>\n",
       "      <td>Suru Kurta - XXL</td>\n",
       "      <td>HOD0282</td>\n",
       "    </tr>\n",
       "  </tbody>\n",
       "</table>\n",
       "</div>"
      ],
      "text/plain": [
       "    Name  Lineitem quantity                Lineitem name Lineitem sku\n",
       "0  #2962                  1        Pink Cotton Shirt - M      HOD0632\n",
       "1  #2962                  1   Dark Blue Cotton Shirt - L      HOD0573\n",
       "2  #2962                  1  Triangular Cotton Shirt - L      HOD0585\n",
       "3  #2962                  1  Red Flower Cotton Shirt - M      HOD0616\n",
       "4  #2961                  1             Suru Kurta - XXL      HOD0282"
      ]
     },
     "execution_count": 300,
     "metadata": {},
     "output_type": "execute_result"
    }
   ],
   "source": [
    "df_order = ordersExport[['Name', 'Lineitem quantity', 'Lineitem name', 'Lineitem sku']]\n",
    "print(df_order.shape)\n",
    "df_order.head()"
   ]
  },
  {
   "cell_type": "code",
   "execution_count": 301,
   "id": "3bad8a9f",
   "metadata": {},
   "outputs": [],
   "source": [
    "final= df_order[['Name', 'Lineitem sku', 'Lineitem quantity']]"
   ]
  },
  {
   "cell_type": "code",
   "execution_count": 302,
   "id": "be398cae",
   "metadata": {},
   "outputs": [],
   "source": [
    "final['Name'] = final['Name'].str.replace('#', '')"
   ]
  },
  {
   "cell_type": "code",
   "execution_count": 303,
   "id": "1464d98d",
   "metadata": {},
   "outputs": [
    {
     "data": {
      "text/html": [
       "<div>\n",
       "<style scoped>\n",
       "    .dataframe tbody tr th:only-of-type {\n",
       "        vertical-align: middle;\n",
       "    }\n",
       "\n",
       "    .dataframe tbody tr th {\n",
       "        vertical-align: top;\n",
       "    }\n",
       "\n",
       "    .dataframe thead th {\n",
       "        text-align: right;\n",
       "    }\n",
       "</style>\n",
       "<table border=\"1\" class=\"dataframe\">\n",
       "  <thead>\n",
       "    <tr style=\"text-align: right;\">\n",
       "      <th></th>\n",
       "      <th>Name</th>\n",
       "      <th>Lineitem sku</th>\n",
       "      <th>Lineitem quantity</th>\n",
       "    </tr>\n",
       "  </thead>\n",
       "  <tbody>\n",
       "    <tr>\n",
       "      <th>0</th>\n",
       "      <td>2962</td>\n",
       "      <td>HOD0632</td>\n",
       "      <td>1</td>\n",
       "    </tr>\n",
       "    <tr>\n",
       "      <th>1</th>\n",
       "      <td>2962</td>\n",
       "      <td>HOD0573</td>\n",
       "      <td>1</td>\n",
       "    </tr>\n",
       "    <tr>\n",
       "      <th>2</th>\n",
       "      <td>2962</td>\n",
       "      <td>HOD0585</td>\n",
       "      <td>1</td>\n",
       "    </tr>\n",
       "    <tr>\n",
       "      <th>3</th>\n",
       "      <td>2962</td>\n",
       "      <td>HOD0616</td>\n",
       "      <td>1</td>\n",
       "    </tr>\n",
       "    <tr>\n",
       "      <th>4</th>\n",
       "      <td>2961</td>\n",
       "      <td>HOD0282</td>\n",
       "      <td>1</td>\n",
       "    </tr>\n",
       "  </tbody>\n",
       "</table>\n",
       "</div>"
      ],
      "text/plain": [
       "   Name Lineitem sku  Lineitem quantity\n",
       "0  2962      HOD0632                  1\n",
       "1  2962      HOD0573                  1\n",
       "2  2962      HOD0585                  1\n",
       "3  2962      HOD0616                  1\n",
       "4  2961      HOD0282                  1"
      ]
     },
     "execution_count": 303,
     "metadata": {},
     "output_type": "execute_result"
    }
   ],
   "source": [
    "final.head()"
   ]
  },
  {
   "cell_type": "code",
   "execution_count": 304,
   "id": "69cb2672",
   "metadata": {},
   "outputs": [
    {
     "name": "stdout",
     "output_type": "stream",
     "text": [
      "(54, 3)\n"
     ]
    }
   ],
   "source": [
    "dele = final[final['Lineitem quantity'] != 1]\n",
    "print(dele.shape)"
   ]
  },
  {
   "cell_type": "code",
   "execution_count": 305,
   "id": "fa882677",
   "metadata": {},
   "outputs": [
    {
     "name": "stdout",
     "output_type": "stream",
     "text": [
      "(3472, 3)\n"
     ]
    },
    {
     "data": {
      "text/html": [
       "<div>\n",
       "<style scoped>\n",
       "    .dataframe tbody tr th:only-of-type {\n",
       "        vertical-align: middle;\n",
       "    }\n",
       "\n",
       "    .dataframe tbody tr th {\n",
       "        vertical-align: top;\n",
       "    }\n",
       "\n",
       "    .dataframe thead th {\n",
       "        text-align: right;\n",
       "    }\n",
       "</style>\n",
       "<table border=\"1\" class=\"dataframe\">\n",
       "  <thead>\n",
       "    <tr style=\"text-align: right;\">\n",
       "      <th></th>\n",
       "      <th>Name</th>\n",
       "      <th>Lineitem sku</th>\n",
       "      <th>Lineitem quantity</th>\n",
       "    </tr>\n",
       "  </thead>\n",
       "  <tbody>\n",
       "    <tr>\n",
       "      <th>0</th>\n",
       "      <td>1002</td>\n",
       "      <td>H0D-K-0001</td>\n",
       "      <td>1</td>\n",
       "    </tr>\n",
       "    <tr>\n",
       "      <th>1</th>\n",
       "      <td>1002</td>\n",
       "      <td>H0D-K-0003</td>\n",
       "      <td>1</td>\n",
       "    </tr>\n",
       "    <tr>\n",
       "      <th>2</th>\n",
       "      <td>1002</td>\n",
       "      <td>H0D-K-0005</td>\n",
       "      <td>1</td>\n",
       "    </tr>\n",
       "    <tr>\n",
       "      <th>3</th>\n",
       "      <td>1002</td>\n",
       "      <td>H0D-K-0010</td>\n",
       "      <td>1</td>\n",
       "    </tr>\n",
       "    <tr>\n",
       "      <th>4</th>\n",
       "      <td>1002</td>\n",
       "      <td>HOD-D-0001</td>\n",
       "      <td>1</td>\n",
       "    </tr>\n",
       "  </tbody>\n",
       "</table>\n",
       "</div>"
      ],
      "text/plain": [
       "   Name Lineitem sku  Lineitem quantity\n",
       "0  1002   H0D-K-0001                  1\n",
       "1  1002   H0D-K-0003                  1\n",
       "2  1002   H0D-K-0005                  1\n",
       "3  1002   H0D-K-0010                  1\n",
       "4  1002   HOD-D-0001                  1"
      ]
     },
     "execution_count": 305,
     "metadata": {},
     "output_type": "execute_result"
    }
   ],
   "source": [
    "group = final.groupby(['Name', 'Lineitem sku']).sum().reset_index()\n",
    "print(group.shape)\n",
    "group.head()"
   ]
  },
  {
   "cell_type": "code",
   "execution_count": 307,
   "id": "3fc095fc",
   "metadata": {},
   "outputs": [],
   "source": [
    "group['Lineitem quantity'] = group['Lineitem quantity'] / 7"
   ]
  },
  {
   "cell_type": "code",
   "execution_count": 308,
   "id": "d457e8f8",
   "metadata": {},
   "outputs": [
    {
     "data": {
      "text/html": [
       "<div>\n",
       "<style scoped>\n",
       "    .dataframe tbody tr th:only-of-type {\n",
       "        vertical-align: middle;\n",
       "    }\n",
       "\n",
       "    .dataframe tbody tr th {\n",
       "        vertical-align: top;\n",
       "    }\n",
       "\n",
       "    .dataframe thead th {\n",
       "        text-align: right;\n",
       "    }\n",
       "</style>\n",
       "<table border=\"1\" class=\"dataframe\">\n",
       "  <thead>\n",
       "    <tr style=\"text-align: right;\">\n",
       "      <th></th>\n",
       "      <th>Name</th>\n",
       "      <th>Lineitem sku</th>\n",
       "      <th>Lineitem quantity</th>\n",
       "    </tr>\n",
       "  </thead>\n",
       "  <tbody>\n",
       "    <tr>\n",
       "      <th>3467</th>\n",
       "      <td>2961</td>\n",
       "      <td>HOD0282</td>\n",
       "      <td>0.142857</td>\n",
       "    </tr>\n",
       "    <tr>\n",
       "      <th>3468</th>\n",
       "      <td>2962</td>\n",
       "      <td>HOD0573</td>\n",
       "      <td>0.142857</td>\n",
       "    </tr>\n",
       "    <tr>\n",
       "      <th>3469</th>\n",
       "      <td>2962</td>\n",
       "      <td>HOD0585</td>\n",
       "      <td>0.142857</td>\n",
       "    </tr>\n",
       "    <tr>\n",
       "      <th>3470</th>\n",
       "      <td>2962</td>\n",
       "      <td>HOD0616</td>\n",
       "      <td>0.142857</td>\n",
       "    </tr>\n",
       "    <tr>\n",
       "      <th>3471</th>\n",
       "      <td>2962</td>\n",
       "      <td>HOD0632</td>\n",
       "      <td>0.142857</td>\n",
       "    </tr>\n",
       "  </tbody>\n",
       "</table>\n",
       "</div>"
      ],
      "text/plain": [
       "      Name Lineitem sku  Lineitem quantity\n",
       "3467  2961      HOD0282           0.142857\n",
       "3468  2962      HOD0573           0.142857\n",
       "3469  2962      HOD0585           0.142857\n",
       "3470  2962      HOD0616           0.142857\n",
       "3471  2962      HOD0632           0.142857"
      ]
     },
     "execution_count": 308,
     "metadata": {},
     "output_type": "execute_result"
    }
   ],
   "source": [
    "group.tail()"
   ]
  },
  {
   "cell_type": "code",
   "execution_count": 316,
   "id": "4f16291b",
   "metadata": {
    "scrolled": true
   },
   "outputs": [],
   "source": [
    "records = group.to_records(index=False)\n",
    "result = list(records)\n",
    "# print(result)"
   ]
  },
  {
   "cell_type": "code",
   "execution_count": 310,
   "id": "fee781bf",
   "metadata": {},
   "outputs": [
    {
     "name": "stdout",
     "output_type": "stream",
     "text": [
      "rating_threshold = 0.1\n",
      "exclude_unknowns = True\n",
      "---\n",
      "Training data:\n",
      "Number of users = 1834\n",
      "Number of items = 540\n",
      "Number of ratings = 3124\n",
      "Max rating = 1.0\n",
      "Min rating = 0.1\n",
      "Global mean = 0.2\n",
      "---\n",
      "Test data:\n",
      "Number of users = 179\n",
      "Number of items = 121\n",
      "Number of ratings = 205\n",
      "Number of unknown users = 0\n",
      "Number of unknown items = 0\n",
      "---\n",
      "Total users = 1834\n",
      "Total items = 540\n"
     ]
    }
   ],
   "source": [
    "# Define an evaluation method to split feedback into train and test sets\n",
    "ratio_split = RatioSplit(\n",
    "    data=records,\n",
    "    test_size=0.1,\n",
    "    rating_threshold=0.1,\n",
    "    exclude_unknowns=True,\n",
    "    verbose=True,\n",
    ")"
   ]
  },
  {
   "cell_type": "code",
   "execution_count": 311,
   "id": "57a281a9",
   "metadata": {},
   "outputs": [],
   "source": [
    "most_pop = cornac.models.MostPop()"
   ]
  },
  {
   "cell_type": "code",
   "execution_count": 312,
   "id": "fd1dba39",
   "metadata": {},
   "outputs": [],
   "source": [
    "bpr = cornac.models.BPR(\n",
    "    k=50, max_iter=200, learning_rate=0.001, lambda_reg=0.001, verbose=True\n",
    ")"
   ]
  },
  {
   "cell_type": "code",
   "execution_count": 313,
   "id": "8f2b82ca",
   "metadata": {},
   "outputs": [],
   "source": [
    "wbpr = cornac.models.WBPR(\n",
    "    k=50, max_iter=200, learning_rate=0.001, lambda_reg=0.001, verbose=True\n",
    ")"
   ]
  },
  {
   "cell_type": "code",
   "execution_count": 314,
   "id": "38a0742a",
   "metadata": {},
   "outputs": [],
   "source": [
    "# Use AUC and Recall@20 for evaluation\n",
    "auc = cornac.metrics.AUC()\n",
    "rec_20 = cornac.metrics.Recall(k=20)"
   ]
  },
  {
   "cell_type": "code",
   "execution_count": 315,
   "id": "9ea1b588",
   "metadata": {},
   "outputs": [
    {
     "name": "stdout",
     "output_type": "stream",
     "text": [
      "\n",
      "[MostPop] Training started!\n",
      "\n",
      "[MostPop] Evaluation started!\n"
     ]
    },
    {
     "data": {
      "application/vnd.jupyter.widget-view+json": {
       "model_id": "babb3b6480ce46f79a4673ab501879e8",
       "version_major": 2,
       "version_minor": 0
      },
      "text/plain": [
       "Ranking:   0%|          | 0/179 [00:00<?, ?it/s]"
      ]
     },
     "metadata": {},
     "output_type": "display_data"
    },
    {
     "name": "stdout",
     "output_type": "stream",
     "text": [
      "\n",
      "[BPR] Training started!\n"
     ]
    },
    {
     "data": {
      "application/vnd.jupyter.widget-view+json": {
       "model_id": "2cc952a3fbf8454786936ec71aae191a",
       "version_major": 2,
       "version_minor": 0
      },
      "text/plain": [
       "  0%|          | 0/200 [00:00<?, ?it/s]"
      ]
     },
     "metadata": {},
     "output_type": "display_data"
    },
    {
     "name": "stdout",
     "output_type": "stream",
     "text": [
      "Optimization finished!\n",
      "\n",
      "[BPR] Evaluation started!\n"
     ]
    },
    {
     "data": {
      "application/vnd.jupyter.widget-view+json": {
       "model_id": "182a69fa6a074df3bb6441efa9499599",
       "version_major": 2,
       "version_minor": 0
      },
      "text/plain": [
       "Ranking:   0%|          | 0/179 [00:00<?, ?it/s]"
      ]
     },
     "metadata": {},
     "output_type": "display_data"
    },
    {
     "name": "stdout",
     "output_type": "stream",
     "text": [
      "\n",
      "[WBPR] Training started!\n"
     ]
    },
    {
     "data": {
      "application/vnd.jupyter.widget-view+json": {
       "model_id": "2aa2c84c1a9544d08c144bc69f638861",
       "version_major": 2,
       "version_minor": 0
      },
      "text/plain": [
       "  0%|          | 0/200 [00:00<?, ?it/s]"
      ]
     },
     "metadata": {},
     "output_type": "display_data"
    },
    {
     "name": "stdout",
     "output_type": "stream",
     "text": [
      "Optimization finished!\n",
      "\n",
      "[WBPR] Evaluation started!\n"
     ]
    },
    {
     "data": {
      "application/vnd.jupyter.widget-view+json": {
       "model_id": "ae9cf3b6c37d4c0cb6dee764e7cbc1c0",
       "version_major": 2,
       "version_minor": 0
      },
      "text/plain": [
       "Ranking:   0%|          | 0/179 [00:00<?, ?it/s]"
      ]
     },
     "metadata": {},
     "output_type": "display_data"
    },
    {
     "name": "stdout",
     "output_type": "stream",
     "text": [
      "\n",
      "TEST:\n",
      "...\n",
      "        |    AUC | Recall@20 | Train (s) | Test (s)\n",
      "------- + ------ + --------- + --------- + --------\n",
      "MostPop | 0.8041 |    0.2291 |    0.0009 |   0.0615\n",
      "BPR     | 0.8227 |    0.2291 |    0.1846 |   0.0677\n",
      "WBPR    | 0.5698 |    0.0698 |    0.1888 |   0.0687\n",
      "\n"
     ]
    }
   ],
   "source": [
    "# Put everything together into an experiment and run it\n",
    "cornac.Experiment(\n",
    "    eval_method=ratio_split,\n",
    "    models=[most_pop, bpr, wbpr],\n",
    "    metrics=[auc, rec_20],\n",
    "    user_based=True,\n",
    ").run()"
   ]
  },
  {
   "cell_type": "code",
   "execution_count": null,
   "id": "6b193ad4",
   "metadata": {},
   "outputs": [],
   "source": []
  }
 ],
 "metadata": {
  "kernelspec": {
   "display_name": "Python 3 (ipykernel)",
   "language": "python",
   "name": "python3"
  },
  "language_info": {
   "codemirror_mode": {
    "name": "ipython",
    "version": 3
   },
   "file_extension": ".py",
   "mimetype": "text/x-python",
   "name": "python",
   "nbconvert_exporter": "python",
   "pygments_lexer": "ipython3",
   "version": "3.9.7"
  }
 },
 "nbformat": 4,
 "nbformat_minor": 5
}
